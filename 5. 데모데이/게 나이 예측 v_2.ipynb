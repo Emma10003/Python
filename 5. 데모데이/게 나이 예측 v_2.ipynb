{
 "cells": [
  {
   "cell_type": "markdown",
   "metadata": {},
   "source": [
    "*ChatGPT의 검토에 따라 불필요한 부분 및 오류사항 수정:  \n",
    "    - # 5. 최적 하이퍼파라미터 변수에 저장  \n",
    "    - # 8. 선택된 변수만 사용하여 모델 학습 및 평가  \n",
    "    - # 9. test data 예측  "
   ]
  },
  {
   "cell_type": "markdown",
   "metadata": {},
   "source": [
    "## 1. EDA"
   ]
  },
  {
   "cell_type": "code",
   "execution_count": 1,
   "metadata": {},
   "outputs": [],
   "source": [
    "import pandas as pd\n",
    "import numpy as np\n",
    "from sklearn.model_selection import train_test_split, GridSearchCV\n",
    "from sklearn.ensemble import RandomForestRegressor\n",
    "from sklearn.preprocessing import LabelEncoder, MinMaxScaler\n",
    "from sklearn.metrics import mean_absolute_error"
   ]
  },
  {
   "cell_type": "code",
   "execution_count": 2,
   "metadata": {},
   "outputs": [],
   "source": [
    "# 1. 데이터 로드\n",
    "train_df = pd.read_csv(\"data/train.csv\")\n",
    "test_df = pd.read_csv(\"data/test.csv\")  # 최종 검증용, 목표변수('Age') 없음.\n",
    "submission_df = pd.read_csv(\"data/sample_submission.csv\")"
   ]
  },
  {
   "cell_type": "code",
   "execution_count": 3,
   "metadata": {},
   "outputs": [
    {
     "data": {
      "text/html": [
       "<div>\n",
       "<style scoped>\n",
       "    .dataframe tbody tr th:only-of-type {\n",
       "        vertical-align: middle;\n",
       "    }\n",
       "\n",
       "    .dataframe tbody tr th {\n",
       "        vertical-align: top;\n",
       "    }\n",
       "\n",
       "    .dataframe thead th {\n",
       "        text-align: right;\n",
       "    }\n",
       "</style>\n",
       "<table border=\"1\" class=\"dataframe\">\n",
       "  <thead>\n",
       "    <tr style=\"text-align: right;\">\n",
       "      <th></th>\n",
       "      <th>id</th>\n",
       "      <th>Sex</th>\n",
       "      <th>Length</th>\n",
       "      <th>Diameter</th>\n",
       "      <th>Height</th>\n",
       "      <th>Weight</th>\n",
       "      <th>Shucked Weight</th>\n",
       "      <th>Viscera Weight</th>\n",
       "      <th>Shell Weight</th>\n",
       "      <th>Age</th>\n",
       "    </tr>\n",
       "  </thead>\n",
       "  <tbody>\n",
       "    <tr>\n",
       "      <th>0</th>\n",
       "      <td>0</td>\n",
       "      <td>F</td>\n",
       "      <td>1.5250</td>\n",
       "      <td>1.2375</td>\n",
       "      <td>0.4125</td>\n",
       "      <td>32.630274</td>\n",
       "      <td>12.743100</td>\n",
       "      <td>6.577084</td>\n",
       "      <td>10.446791</td>\n",
       "      <td>10.0</td>\n",
       "    </tr>\n",
       "    <tr>\n",
       "      <th>1</th>\n",
       "      <td>1</td>\n",
       "      <td>M</td>\n",
       "      <td>1.8625</td>\n",
       "      <td>1.4250</td>\n",
       "      <td>0.5125</td>\n",
       "      <td>62.397250</td>\n",
       "      <td>28.335325</td>\n",
       "      <td>10.872033</td>\n",
       "      <td>18.852418</td>\n",
       "      <td>16.0</td>\n",
       "    </tr>\n",
       "    <tr>\n",
       "      <th>2</th>\n",
       "      <td>2</td>\n",
       "      <td>F</td>\n",
       "      <td>1.5500</td>\n",
       "      <td>1.2500</td>\n",
       "      <td>0.3875</td>\n",
       "      <td>31.808139</td>\n",
       "      <td>11.495722</td>\n",
       "      <td>7.271647</td>\n",
       "      <td>9.355335</td>\n",
       "      <td>14.0</td>\n",
       "    </tr>\n",
       "    <tr>\n",
       "      <th>3</th>\n",
       "      <td>3</td>\n",
       "      <td>M</td>\n",
       "      <td>1.4375</td>\n",
       "      <td>1.1125</td>\n",
       "      <td>0.3375</td>\n",
       "      <td>28.066005</td>\n",
       "      <td>13.877080</td>\n",
       "      <td>6.194366</td>\n",
       "      <td>7.796112</td>\n",
       "      <td>9.0</td>\n",
       "    </tr>\n",
       "    <tr>\n",
       "      <th>4</th>\n",
       "      <td>4</td>\n",
       "      <td>I</td>\n",
       "      <td>1.2875</td>\n",
       "      <td>1.0250</td>\n",
       "      <td>0.3000</td>\n",
       "      <td>15.748147</td>\n",
       "      <td>6.137667</td>\n",
       "      <td>3.472814</td>\n",
       "      <td>4.677668</td>\n",
       "      <td>8.0</td>\n",
       "    </tr>\n",
       "  </tbody>\n",
       "</table>\n",
       "</div>"
      ],
      "text/plain": [
       "   id Sex  Length  Diameter  Height     Weight  Shucked Weight  \\\n",
       "0   0   F  1.5250    1.2375  0.4125  32.630274       12.743100   \n",
       "1   1   M  1.8625    1.4250  0.5125  62.397250       28.335325   \n",
       "2   2   F  1.5500    1.2500  0.3875  31.808139       11.495722   \n",
       "3   3   M  1.4375    1.1125  0.3375  28.066005       13.877080   \n",
       "4   4   I  1.2875    1.0250  0.3000  15.748147        6.137667   \n",
       "\n",
       "   Viscera Weight  Shell Weight   Age  \n",
       "0        6.577084     10.446791  10.0  \n",
       "1       10.872033     18.852418  16.0  \n",
       "2        7.271647      9.355335  14.0  \n",
       "3        6.194366      7.796112   9.0  \n",
       "4        3.472814      4.677668   8.0  "
      ]
     },
     "execution_count": 3,
     "metadata": {},
     "output_type": "execute_result"
    }
   ],
   "source": [
    "train_df.head()"
   ]
  },
  {
   "cell_type": "code",
   "execution_count": 4,
   "metadata": {},
   "outputs": [
    {
     "data": {
      "text/html": [
       "<div>\n",
       "<style scoped>\n",
       "    .dataframe tbody tr th:only-of-type {\n",
       "        vertical-align: middle;\n",
       "    }\n",
       "\n",
       "    .dataframe tbody tr th {\n",
       "        vertical-align: top;\n",
       "    }\n",
       "\n",
       "    .dataframe thead th {\n",
       "        text-align: right;\n",
       "    }\n",
       "</style>\n",
       "<table border=\"1\" class=\"dataframe\">\n",
       "  <thead>\n",
       "    <tr style=\"text-align: right;\">\n",
       "      <th></th>\n",
       "      <th>id</th>\n",
       "      <th>Length</th>\n",
       "      <th>Diameter</th>\n",
       "      <th>Height</th>\n",
       "      <th>Weight</th>\n",
       "      <th>Shucked Weight</th>\n",
       "      <th>Viscera Weight</th>\n",
       "      <th>Shell Weight</th>\n",
       "      <th>Age</th>\n",
       "    </tr>\n",
       "  </thead>\n",
       "  <tbody>\n",
       "    <tr>\n",
       "      <th>count</th>\n",
       "      <td>15000.000000</td>\n",
       "      <td>15000.000000</td>\n",
       "      <td>15000.000000</td>\n",
       "      <td>15000.000000</td>\n",
       "      <td>15000.000000</td>\n",
       "      <td>15000.000000</td>\n",
       "      <td>15000.000000</td>\n",
       "      <td>15000.000000</td>\n",
       "      <td>15000.000000</td>\n",
       "    </tr>\n",
       "    <tr>\n",
       "      <th>mean</th>\n",
       "      <td>7499.500000</td>\n",
       "      <td>1.316742</td>\n",
       "      <td>1.023813</td>\n",
       "      <td>0.347326</td>\n",
       "      <td>23.372701</td>\n",
       "      <td>10.104499</td>\n",
       "      <td>5.040622</td>\n",
       "      <td>6.704216</td>\n",
       "      <td>9.966800</td>\n",
       "    </tr>\n",
       "    <tr>\n",
       "      <th>std</th>\n",
       "      <td>4330.271354</td>\n",
       "      <td>0.287869</td>\n",
       "      <td>0.237697</td>\n",
       "      <td>0.091335</td>\n",
       "      <td>12.754705</td>\n",
       "      <td>5.691158</td>\n",
       "      <td>2.805236</td>\n",
       "      <td>3.598253</td>\n",
       "      <td>3.238065</td>\n",
       "    </tr>\n",
       "    <tr>\n",
       "      <th>min</th>\n",
       "      <td>0.000000</td>\n",
       "      <td>0.187500</td>\n",
       "      <td>0.150000</td>\n",
       "      <td>0.000000</td>\n",
       "      <td>0.056699</td>\n",
       "      <td>0.028349</td>\n",
       "      <td>0.014175</td>\n",
       "      <td>0.042524</td>\n",
       "      <td>1.000000</td>\n",
       "    </tr>\n",
       "    <tr>\n",
       "      <th>25%</th>\n",
       "      <td>3749.750000</td>\n",
       "      <td>1.150000</td>\n",
       "      <td>0.887500</td>\n",
       "      <td>0.287500</td>\n",
       "      <td>13.377420</td>\n",
       "      <td>5.698250</td>\n",
       "      <td>2.820775</td>\n",
       "      <td>3.827183</td>\n",
       "      <td>8.000000</td>\n",
       "    </tr>\n",
       "    <tr>\n",
       "      <th>50%</th>\n",
       "      <td>7499.500000</td>\n",
       "      <td>1.375000</td>\n",
       "      <td>1.075000</td>\n",
       "      <td>0.362500</td>\n",
       "      <td>23.657658</td>\n",
       "      <td>9.879801</td>\n",
       "      <td>4.904464</td>\n",
       "      <td>6.803880</td>\n",
       "      <td>10.000000</td>\n",
       "    </tr>\n",
       "    <tr>\n",
       "      <th>75%</th>\n",
       "      <td>11249.250000</td>\n",
       "      <td>1.537500</td>\n",
       "      <td>1.200000</td>\n",
       "      <td>0.412500</td>\n",
       "      <td>32.205032</td>\n",
       "      <td>14.033003</td>\n",
       "      <td>7.002326</td>\n",
       "      <td>9.071840</td>\n",
       "      <td>11.000000</td>\n",
       "    </tr>\n",
       "    <tr>\n",
       "      <th>max</th>\n",
       "      <td>14999.000000</td>\n",
       "      <td>1.950000</td>\n",
       "      <td>1.575000</td>\n",
       "      <td>0.700000</td>\n",
       "      <td>80.101512</td>\n",
       "      <td>48.477645</td>\n",
       "      <td>19.220961</td>\n",
       "      <td>24.564842</td>\n",
       "      <td>29.000000</td>\n",
       "    </tr>\n",
       "  </tbody>\n",
       "</table>\n",
       "</div>"
      ],
      "text/plain": [
       "                 id        Length      Diameter        Height        Weight  \\\n",
       "count  15000.000000  15000.000000  15000.000000  15000.000000  15000.000000   \n",
       "mean    7499.500000      1.316742      1.023813      0.347326     23.372701   \n",
       "std     4330.271354      0.287869      0.237697      0.091335     12.754705   \n",
       "min        0.000000      0.187500      0.150000      0.000000      0.056699   \n",
       "25%     3749.750000      1.150000      0.887500      0.287500     13.377420   \n",
       "50%     7499.500000      1.375000      1.075000      0.362500     23.657658   \n",
       "75%    11249.250000      1.537500      1.200000      0.412500     32.205032   \n",
       "max    14999.000000      1.950000      1.575000      0.700000     80.101512   \n",
       "\n",
       "       Shucked Weight  Viscera Weight  Shell Weight           Age  \n",
       "count    15000.000000    15000.000000  15000.000000  15000.000000  \n",
       "mean        10.104499        5.040622      6.704216      9.966800  \n",
       "std          5.691158        2.805236      3.598253      3.238065  \n",
       "min          0.028349        0.014175      0.042524      1.000000  \n",
       "25%          5.698250        2.820775      3.827183      8.000000  \n",
       "50%          9.879801        4.904464      6.803880     10.000000  \n",
       "75%         14.033003        7.002326      9.071840     11.000000  \n",
       "max         48.477645       19.220961     24.564842     29.000000  "
      ]
     },
     "execution_count": 4,
     "metadata": {},
     "output_type": "execute_result"
    }
   ],
   "source": [
    "train_df.describe()"
   ]
  },
  {
   "cell_type": "markdown",
   "metadata": {},
   "source": [
    "- Shucked Weight: 껍질을 제외한 무게\n",
    "- Viscera Weight: 내장 무게\n",
    "- Shell Weight: 껍질 무게\n",
    "- `Age`가 목표변수"
   ]
  },
  {
   "cell_type": "code",
   "execution_count": 5,
   "metadata": {},
   "outputs": [],
   "source": [
    "# test.csv에서 원본 id 저장\n",
    "test_ids = test_df[\"id\"].copy()\n",
    "test_df = test_df.drop(columns=[\"id\"])  # 이후 분석을 위해 삭제"
   ]
  },
  {
   "cell_type": "markdown",
   "metadata": {},
   "source": [
    "## 2. 데이터 전처리"
   ]
  },
  {
   "cell_type": "markdown",
   "metadata": {},
   "source": [
    "- 주의: 데이터 전처리 시 train data와 test data에서 동일한 특성이 유지되어야 한다."
   ]
  },
  {
   "cell_type": "code",
   "execution_count": 6,
   "metadata": {},
   "outputs": [],
   "source": [
    "# 'Sex' 라벨 인코딩\n",
    "label_encoder = LabelEncoder()\n",
    "train_df[\"Sex\"] = label_encoder.fit_transform(train_df[\"Sex\"])\n",
    "test_df[\"Sex\"] = label_encoder.transform(test_df[\"Sex\"])"
   ]
  },
  {
   "cell_type": "markdown",
   "metadata": {},
   "source": [
    "- LableEncoder() : 범주형 데이터를 수치형으로 인코딩(변환)."
   ]
  },
  {
   "cell_type": "markdown",
   "metadata": {},
   "source": [
    "- `fit()` : 데이터를 학습시키는 메서드\n",
    "- `transform()` : fit을 기준으로 얻은 mean, variance에 맞춰 데이터 변형하는 메서드\n",
    "    - 실제로 학습시킨 것을 적용하는 메서드라고 생각하면 된다.\n",
    "- `fit_transform()` : `fit()`과 `transform()`을 합쳐놓은 것.\n",
    "\n",
    "주의: 이건 train dataset에 대해서만 해야 하고, test dataset에는 fit/transform을 하면 안 된다!  \n",
    "+) 데이터 전처리 단계(sklearn의 preprocessing 패키지!)에서 사용하는 함수들."
   ]
  },
  {
   "cell_type": "code",
   "execution_count": 7,
   "metadata": {},
   "outputs": [],
   "source": [
    "# Height가 0인 경우 평균값으로 대체\n",
    "height_mean = train_df.loc[train_df[\"Height\"] > 0, \"Height\"].mean()\n",
    "train_df.loc[train_df[\"Height\"] == 0, \"Height\"] = height_mean\n",
    "test_df.loc[test_df[\"Height\"] == 0, \"Height\"] = height_mean"
   ]
  },
  {
   "cell_type": "code",
   "execution_count": 8,
   "metadata": {},
   "outputs": [],
   "source": [
    "# 새로운 특성 추가\n",
    "train_df[\"Volume\"] = train_df[\"Length\"] * train_df[\"Diameter\"] * train_df[\"Height\"]\n",
    "test_df[\"Volume\"] = test_df[\"Length\"] * test_df[\"Diameter\"] * test_df[\"Height\"]\n",
    "\n",
    "train_df[\"Shucked Weight Ratio\"] = train_df[\"Shucked Weight\"] / train_df[\"Weight\"]\n",
    "test_df[\"Shucked Weight Ratio\"] = test_df[\"Shucked Weight\"] / test_df[\"Weight\"]\n",
    "\n",
    "train_df[\"Viscera Weight Ratio\"] = train_df[\"Viscera Weight\"] / train_df[\"Weight\"]\n",
    "test_df[\"Viscera Weight Ratio\"] = test_df[\"Viscera Weight\"] / test_df[\"Weight\"]\n",
    "\n",
    "train_df[\"Density\"] = train_df[\"Weight\"] / train_df[\"Volume\"]\n",
    "test_df[\"Density\"] = test_df[\"Weight\"] / test_df[\"Volume\"]\n",
    "\n",
    "train_df[\"Edible Weight Ratio\"] = (train_df[\"Shucked Weight\"] + train_df[\"Viscera Weight\"]) / train_df[\"Weight\"]\n",
    "test_df[\"Edible Weight Ratio\"] = (test_df[\"Shucked Weight\"] + test_df[\"Viscera Weight\"]) / test_df[\"Weight\"]"
   ]
  },
  {
   "cell_type": "code",
   "execution_count": 9,
   "metadata": {},
   "outputs": [],
   "source": [
    "# IQR 기반 이상치 제거 함수 정의 및 적용\n",
    "def remove_outliers_iqr(df, cols):\n",
    "    Q1 = df[cols].quantile(0.25)\n",
    "    Q3 = df[cols].quantile(0.75)\n",
    "    IQR = Q3 - Q1\n",
    "    lower_bound = Q1 - 1.5 * IQR\n",
    "    upper_bound = Q3 + 1.5 * IQR\n",
    "    return df[~((df[cols] < lower_bound) | (df[cols] > upper_bound)).any(axis=1)]\n",
    "\n",
    "num_cols = train_df.select_dtypes(include=[\"float64\"]).columns\n",
    "train_df = remove_outliers_iqr(train_df, num_cols)"
   ]
  },
  {
   "cell_type": "code",
   "execution_count": 10,
   "metadata": {},
   "outputs": [],
   "source": [
    "# 중복 데이터 제거 및 'id' 컬럼 삭제\n",
    "train_df = train_df.drop_duplicates().drop(columns=[\"id\"])"
   ]
  },
  {
   "cell_type": "markdown",
   "metadata": {},
   "source": [
    "### Train data -> train / valid 분리"
   ]
  },
  {
   "cell_type": "code",
   "execution_count": 11,
   "metadata": {},
   "outputs": [],
   "source": [
    "# X, y 분리\n",
    "X = train_df.drop(columns=[\"Age\"])\n",
    "y = train_df[\"Age\"]"
   ]
  },
  {
   "cell_type": "code",
   "execution_count": 12,
   "metadata": {},
   "outputs": [],
   "source": [
    "# Train/Validation Split (8:2 비율)\n",
    "X_train, X_valid, y_train, y_valid = train_test_split(X, y, test_size=0.1, random_state=42)"
   ]
  },
  {
   "cell_type": "markdown",
   "metadata": {},
   "source": [
    "### 데이터 정규화"
   ]
  },
  {
   "cell_type": "code",
   "execution_count": 13,
   "metadata": {},
   "outputs": [],
   "source": [
    "# 3. 데이터 정규화 (MinMaxScaler)\n",
    "scaler = MinMaxScaler()"
   ]
  },
  {
   "cell_type": "code",
   "execution_count": 14,
   "metadata": {},
   "outputs": [],
   "source": [
    "# 훈련 데이터와 검증 데이터를 스케일링\n",
    "X_train_scaled = scaler.fit_transform(X_train)\n",
    "X_valid_scaled = scaler.transform(X_valid)"
   ]
  },
  {
   "cell_type": "markdown",
   "metadata": {},
   "source": [
    "### 최적의 하이퍼파라미터 찾기"
   ]
  },
  {
   "cell_type": "code",
   "execution_count": 15,
   "metadata": {},
   "outputs": [
    {
     "name": "stdout",
     "output_type": "stream",
     "text": [
      "Fitting 5 folds for each of 54 candidates, totalling 270 fits\n",
      "Best Parameters: {'max_depth': 10, 'min_samples_leaf': 4, 'min_samples_split': 2, 'n_estimators': 200}\n"
     ]
    }
   ],
   "source": [
    "# 4. GridSearch를 이용한 최적 하이퍼파라미터 찾기 (교차 검증 cv=5)\n",
    "param_grid = {\n",
    "    \"n_estimators\": [50, 100, 200],\n",
    "    \"max_depth\": [None, 5, 10],\n",
    "    \"min_samples_split\": [2, 5],\n",
    "    \"min_samples_leaf\": [1, 2, 4],\n",
    "}\n",
    "\n",
    "# 모델 정의\n",
    "rf = RandomForestRegressor(random_state=42, n_jobs=-1)  \n",
    "grid_search = GridSearchCV(rf, param_grid, cv=5, scoring=\"neg_mean_absolute_error\", n_jobs=-1, verbose=1)\n",
    "grid_search.fit(X_train_scaled, y_train)\n",
    "\n",
    "best_params = grid_search.best_params_\n",
    "print(\"Best Parameters:\", best_params)"
   ]
  },
  {
   "cell_type": "markdown",
   "metadata": {},
   "source": [
    "- `GridSearchCV()` : 머신러닝 모델의 하이퍼파라미터 튜닝을 자동화하는 방법 중 하나.\n",
    "    - 하이퍼파라미터 튜닝\n",
    "    - 그리드 탐색\n",
    "    - 교차검증(Cross Validation) 적용\n",
    "    - 최적의 하이퍼파라미터 선택\n",
    "\n",
    "- 'Best Parameters:{}' 결과로 도출된 하이퍼파라미터의 값들이 최적의 조합."
   ]
  },
  {
   "cell_type": "code",
   "execution_count": 16,
   "metadata": {},
   "outputs": [],
   "source": [
    "# 5. 최적 하이퍼파라미터 변수에 저장\n",
    "best_rf = RandomForestRegressor(**best_params, random_state=42, n_jobs=-1)  # 수정-밑의 모델 학습 코드 삭제"
   ]
  },
  {
   "cell_type": "markdown",
   "metadata": {},
   "source": [
    "#### 이 밑으로는 ChatGPT의 도움을 받아서 작성됨"
   ]
  },
  {
   "cell_type": "code",
   "execution_count": 17,
   "metadata": {},
   "outputs": [],
   "source": [
    "from sklearn.model_selection import train_test_split, KFold\n",
    "from sklearn.metrics import mean_absolute_error\n",
    "\n",
    "from sklearn.feature_selection import SequentialFeatureSelector as SFS\n",
    "\n",
    "# 6. Cross Validation 설정 (KFold 사용)\n",
    "cv = KFold(n_splits=5, shuffle=True, random_state=42)"
   ]
  },
  {
   "cell_type": "code",
   "execution_count": 18,
   "metadata": {},
   "outputs": [
    {
     "name": "stdout",
     "output_type": "stream",
     "text": [
      "선택된 변수 인덱스: [ 0  7  8  9 11 12]\n",
      "변수명:  ['Sex', 'Shell Weight', 'Volume', 'Shucked Weight Ratio', 'Density', 'Edible Weight Ratio']\n"
     ]
    }
   ],
   "source": [
    "# 7. MAE를 가장 작게 하는 변수 선택(전진선택법)\n",
    "# \n",
    "sfs = SFS(\n",
    "    rf,\n",
    "    n_features_to_select=\"auto\",  # 자동으로 최적의 변수 개수 선택\n",
    "    direction=\"forward\",  # 전진 선택법 (\"backward\"로 하면 후진 제거법)\n",
    "    scoring=\"neg_mean_absolute_error\",\n",
    "    cv=5,\n",
    "    n_jobs=-1\n",
    ")\n",
    "\n",
    "# 훈련 데이터로 속성(변수) 선택 실행\n",
    "sfs = sfs.fit(X_train_scaled, y_train)\n",
    "\n",
    "# 선택된 변수 출력\n",
    "selected_idx = sfs.get_support(indices=True)\n",
    "print(\"선택된 변수 인덱스:\", selected_idx)\n",
    "print(\"변수명: \", X.columns[[0, 7, 8, 9, 11, 12]].tolist())  # 선택된 컬럼명"
   ]
  },
  {
   "cell_type": "markdown",
   "metadata": {},
   "source": [
    "- forward=True: 전진선택법, forward=False로 변경하면 후진제거법 \n",
    "- floating=False는 순수한 단계별 선택을 의미"
   ]
  },
  {
   "cell_type": "markdown",
   "metadata": {},
   "source": [
    "- `.get_support()`: SFS에서 특성 선택 결과를 Boolean 마스크 또는 선택된 특성의 인덱스로 반환하는 역할."
   ]
  },
  {
   "cell_type": "code",
   "execution_count": 19,
   "metadata": {},
   "outputs": [
    {
     "name": "stdout",
     "output_type": "stream",
     "text": [
      "Validation Data MAE: 1.1286\n"
     ]
    }
   ],
   "source": [
    "# 8. 선택된 변수만 사용하여 모델 학습 및 평가\n",
    "selected_idx_list = list(sfs.get_support(indices=True))  ## 수정(indices=True)\n",
    "\n",
    "X_train_selected = X_train_scaled[:, selected_idx_list]\n",
    "X_valid_selected = X_valid_scaled[:, selected_idx_list]\n",
    "\n",
    "# RandomForest 모델 학습\n",
    "best_rf.fit(X_train_selected, y_train)\n",
    "\n",
    "# valid data에 대한 예측\n",
    "y_pred = best_rf.predict(X_valid_selected)\n",
    "\n",
    "# mae 계산\n",
    "valid_mae = mean_absolute_error(y_valid, y_pred)\n",
    "print(\"Validation Data MAE: {:.4f}\".format(valid_mae))"
   ]
  },
  {
   "cell_type": "code",
   "execution_count": null,
   "metadata": {},
   "outputs": [
    {
     "ename": "KeyError",
     "evalue": "\"None of [Index([0, 7, 8, 9, 11, 12], dtype='int64')] are in the [columns]\"",
     "output_type": "error",
     "traceback": [
      "\u001b[1;31m---------------------------------------------------------------------------\u001b[0m",
      "\u001b[1;31mKeyError\u001b[0m                                  Traceback (most recent call last)",
      "Cell \u001b[1;32mIn[22], line 3\u001b[0m\n\u001b[0;32m      1\u001b[0m \u001b[38;5;66;03m# 9. test data 예측\u001b[39;00m\n\u001b[0;32m      2\u001b[0m \u001b[38;5;66;03m# test_df = test_df[test_df.columns[[0, 7, 8, 9, 11, 12]]]  # 적합하지 않음. 실제로 test data는 특성이 다르기 때문에 무슨 컬럼이 인덱싱 될 지 모르니까!\u001b[39;00m\n\u001b[1;32m----> 3\u001b[0m selected_columns \u001b[38;5;241m=\u001b[39m test_df[selected_idx_list]\n\u001b[0;32m      4\u001b[0m test_df_scaled \u001b[38;5;241m=\u001b[39m scaler\u001b[38;5;241m.\u001b[39mtransform(test_df[selected_columns])  \u001b[38;5;66;03m# 선택된 특성만 스케일링.\u001b[39;00m\n\u001b[0;32m      5\u001b[0m test_preds \u001b[38;5;241m=\u001b[39m best_rf\u001b[38;5;241m.\u001b[39mpredict(test_df_scaled)\n",
      "File \u001b[1;32mc:\\Users\\emma1\\anaconda3\\Lib\\site-packages\\pandas\\core\\frame.py:4108\u001b[0m, in \u001b[0;36mDataFrame.__getitem__\u001b[1;34m(self, key)\u001b[0m\n\u001b[0;32m   4106\u001b[0m     \u001b[38;5;28;01mif\u001b[39;00m is_iterator(key):\n\u001b[0;32m   4107\u001b[0m         key \u001b[38;5;241m=\u001b[39m \u001b[38;5;28mlist\u001b[39m(key)\n\u001b[1;32m-> 4108\u001b[0m     indexer \u001b[38;5;241m=\u001b[39m \u001b[38;5;28mself\u001b[39m\u001b[38;5;241m.\u001b[39mcolumns\u001b[38;5;241m.\u001b[39m_get_indexer_strict(key, \u001b[38;5;124m\"\u001b[39m\u001b[38;5;124mcolumns\u001b[39m\u001b[38;5;124m\"\u001b[39m)[\u001b[38;5;241m1\u001b[39m]\n\u001b[0;32m   4110\u001b[0m \u001b[38;5;66;03m# take() does not accept boolean indexers\u001b[39;00m\n\u001b[0;32m   4111\u001b[0m \u001b[38;5;28;01mif\u001b[39;00m \u001b[38;5;28mgetattr\u001b[39m(indexer, \u001b[38;5;124m\"\u001b[39m\u001b[38;5;124mdtype\u001b[39m\u001b[38;5;124m\"\u001b[39m, \u001b[38;5;28;01mNone\u001b[39;00m) \u001b[38;5;241m==\u001b[39m \u001b[38;5;28mbool\u001b[39m:\n",
      "File \u001b[1;32mc:\\Users\\emma1\\anaconda3\\Lib\\site-packages\\pandas\\core\\indexes\\base.py:6200\u001b[0m, in \u001b[0;36mIndex._get_indexer_strict\u001b[1;34m(self, key, axis_name)\u001b[0m\n\u001b[0;32m   6197\u001b[0m \u001b[38;5;28;01melse\u001b[39;00m:\n\u001b[0;32m   6198\u001b[0m     keyarr, indexer, new_indexer \u001b[38;5;241m=\u001b[39m \u001b[38;5;28mself\u001b[39m\u001b[38;5;241m.\u001b[39m_reindex_non_unique(keyarr)\n\u001b[1;32m-> 6200\u001b[0m \u001b[38;5;28mself\u001b[39m\u001b[38;5;241m.\u001b[39m_raise_if_missing(keyarr, indexer, axis_name)\n\u001b[0;32m   6202\u001b[0m keyarr \u001b[38;5;241m=\u001b[39m \u001b[38;5;28mself\u001b[39m\u001b[38;5;241m.\u001b[39mtake(indexer)\n\u001b[0;32m   6203\u001b[0m \u001b[38;5;28;01mif\u001b[39;00m \u001b[38;5;28misinstance\u001b[39m(key, Index):\n\u001b[0;32m   6204\u001b[0m     \u001b[38;5;66;03m# GH 42790 - Preserve name from an Index\u001b[39;00m\n",
      "File \u001b[1;32mc:\\Users\\emma1\\anaconda3\\Lib\\site-packages\\pandas\\core\\indexes\\base.py:6249\u001b[0m, in \u001b[0;36mIndex._raise_if_missing\u001b[1;34m(self, key, indexer, axis_name)\u001b[0m\n\u001b[0;32m   6247\u001b[0m \u001b[38;5;28;01mif\u001b[39;00m nmissing:\n\u001b[0;32m   6248\u001b[0m     \u001b[38;5;28;01mif\u001b[39;00m nmissing \u001b[38;5;241m==\u001b[39m \u001b[38;5;28mlen\u001b[39m(indexer):\n\u001b[1;32m-> 6249\u001b[0m         \u001b[38;5;28;01mraise\u001b[39;00m \u001b[38;5;167;01mKeyError\u001b[39;00m(\u001b[38;5;124mf\u001b[39m\u001b[38;5;124m\"\u001b[39m\u001b[38;5;124mNone of [\u001b[39m\u001b[38;5;132;01m{\u001b[39;00mkey\u001b[38;5;132;01m}\u001b[39;00m\u001b[38;5;124m] are in the [\u001b[39m\u001b[38;5;132;01m{\u001b[39;00maxis_name\u001b[38;5;132;01m}\u001b[39;00m\u001b[38;5;124m]\u001b[39m\u001b[38;5;124m\"\u001b[39m)\n\u001b[0;32m   6251\u001b[0m     not_found \u001b[38;5;241m=\u001b[39m \u001b[38;5;28mlist\u001b[39m(ensure_index(key)[missing_mask\u001b[38;5;241m.\u001b[39mnonzero()[\u001b[38;5;241m0\u001b[39m]]\u001b[38;5;241m.\u001b[39munique())\n\u001b[0;32m   6252\u001b[0m     \u001b[38;5;28;01mraise\u001b[39;00m \u001b[38;5;167;01mKeyError\u001b[39;00m(\u001b[38;5;124mf\u001b[39m\u001b[38;5;124m\"\u001b[39m\u001b[38;5;132;01m{\u001b[39;00mnot_found\u001b[38;5;132;01m}\u001b[39;00m\u001b[38;5;124m not in index\u001b[39m\u001b[38;5;124m\"\u001b[39m)\n",
      "\u001b[1;31mKeyError\u001b[0m: \"None of [Index([0, 7, 8, 9, 11, 12], dtype='int64')] are in the [columns]\""
     ]
    }
   ],
   "source": [
    "# 9. test data 예측\n",
    "# 해결 못 함ㅜ\n",
    "# test_df = test_df[test_df.columns[[0, 7, 8, 9, 11, 12]]]  # 적합하지 않음. 실제로 test data는 특성이 다르기 때문에 무슨 컬럼이 인덱싱 될 지 모르니까!\n",
    "selected_columns = test_df[selected_idx_list]\n",
    "test_df_scaled = scaler.transform(test_df[selected_columns])  # 선택된 특성만 스케일링.\n",
    "test_preds = best_rf.predict(test_df_scaled)"
   ]
  },
  {
   "cell_type": "markdown",
   "metadata": {},
   "source": [
    "- 주의: test data에서는 `fit`이 아니라 `transform`만 해 주어야 한다."
   ]
  },
  {
   "cell_type": "code",
   "execution_count": 89,
   "metadata": {},
   "outputs": [
    {
     "name": "stdout",
     "output_type": "stream",
     "text": [
      "sample_submission.csv 파일 생성 완료!\n"
     ]
    }
   ],
   "source": [
    "# 제출 파일 생성 (원래 id 유지)\n",
    "submission = pd.DataFrame({\"id\": test_ids, \"Age\": test_preds})\n",
    "submission.to_csv(\"download/sample_submission.csv\", index=False)\n",
    "print(\"sample_submission.csv 파일 생성 완료!\")"
   ]
  }
 ],
 "metadata": {
  "kernelspec": {
   "display_name": "base",
   "language": "python",
   "name": "python3"
  },
  "language_info": {
   "codemirror_mode": {
    "name": "ipython",
    "version": 3
   },
   "file_extension": ".py",
   "mimetype": "text/x-python",
   "name": "python",
   "nbconvert_exporter": "python",
   "pygments_lexer": "ipython3",
   "version": "3.12.4"
  }
 },
 "nbformat": 4,
 "nbformat_minor": 2
}
