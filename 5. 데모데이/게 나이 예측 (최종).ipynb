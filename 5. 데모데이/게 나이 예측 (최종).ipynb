{
 "cells": [
  {
   "cell_type": "markdown",
   "metadata": {},
   "source": [
    "### Overfitting 완화 전체 코드 - 2번 페이지"
   ]
  },
  {
   "cell_type": "code",
   "execution_count": null,
   "metadata": {},
   "outputs": [],
   "source": [
    "import pandas as pd\n",
    "import numpy as np\n",
    "from sklearn.model_selection import train_test_split, GridSearchCV\n",
    "from sklearn.ensemble import RandomForestRegressor\n",
    "from sklearn.preprocessing import LabelEncoder, MinMaxScaler\n",
    "from sklearn.metrics import mean_absolute_error\n",
    "\n",
    "# 1. 데이터 로드\n",
    "train_df = pd.read_csv(\"downloads/train.csv\")\n",
    "test_df = pd.read_csv(\"downloads/test.csv\")\n",
    "submission_df = pd.read_csv(\"downloads/sample_submission.csv\")\n",
    "\n",
    "# test.csv에서 원본 id 저장\n",
    "test_ids = test_df[\"id\"].copy()\n",
    "test_df = test_df.drop(columns=[\"id\"])  # 이후 분석을 위해 삭제"
   ]
  },
  {
   "cell_type": "code",
   "execution_count": null,
   "metadata": {},
   "outputs": [],
   "source": [
    "# 2. 데이터 전처리\n",
    "# 'Sex' 라벨 인코딩\n",
    "label_encoder = LabelEncoder()\n",
    "train_df[\"Sex\"] = label_encoder.fit_transform(train_df[\"Sex\"])\n",
    "test_df[\"Sex\"] = label_encoder.transform(test_df[\"Sex\"])\n",
    "\n",
    "# Height가 0인 경우 평균값으로 대체\n",
    "height_mean = train_df.loc[train_df[\"Height\"] > 0, \"Height\"].mean()\n",
    "train_df.loc[train_df[\"Height\"] == 0, \"Height\"] = height_mean\n",
    "test_df.loc[test_df[\"Height\"] == 0, \"Height\"] = height_mean\n",
    "\n",
    "# 새로운 특성 추가\n",
    "train_df[\"Volume\"] = train_df[\"Length\"] * train_df[\"Diameter\"] * train_df[\"Height\"]\n",
    "test_df[\"Volume\"] = test_df[\"Length\"] * test_df[\"Diameter\"] * test_df[\"Height\"]\n",
    "\n",
    "train_df[\"Shucked Weight Ratio\"] = train_df[\"Shucked Weight\"] / train_df[\"Weight\"]\n",
    "test_df[\"Shucked Weight Ratio\"] = test_df[\"Shucked Weight\"] / test_df[\"Weight\"]\n",
    "\n",
    "train_df[\"Viscera Weight Ratio\"] = train_df[\"Viscera Weight\"] / train_df[\"Weight\"]\n",
    "test_df[\"Viscera Weight Ratio\"] = test_df[\"Viscera Weight\"] / test_df[\"Weight\"]\n",
    "\n",
    "train_df[\"Density\"] = train_df[\"Weight\"] / train_df[\"Volume\"]\n",
    "test_df[\"Density\"] = test_df[\"Weight\"] / test_df[\"Volume\"]\n",
    "\n",
    "train_df[\"Edible Weight Ratio\"] = (train_df[\"Shucked Weight\"] + train_df[\"Viscera Weight\"]) / train_df[\"Weight\"]\n",
    "test_df[\"Edible Weight Ratio\"] = (test_df[\"Shucked Weight\"] + test_df[\"Viscera Weight\"]) / test_df[\"Weight\"]\n",
    "\n",
    "# IQR 기반 이상치 제거 함수 정의 및 적용\n",
    "def remove_outliers_iqr(df, cols, threshold=3.0):\n",
    "    Q1 = df[cols].quantile(0.25)\n",
    "    Q3 = df[cols].quantile(0.75)\n",
    "    IQR = Q3 - Q1\n",
    "    lower_bound = Q1 - threshold * IQR\n",
    "    upper_bound = Q3 + threshold * IQR\n",
    "    return df[~((df[cols] < lower_bound) | (df[cols] > upper_bound)).any(axis=1)]\n",
    "\n",
    "num_cols = train_df.select_dtypes(include=[\"float64\"]).columns\n",
    "train_df = remove_outliers_iqr(train_df, num_cols, threshold=3.0)\n",
    "\n",
    "# 중복 데이터 제거 및 'id' 컬럼 삭제\n",
    "train_df = train_df.drop_duplicates().drop(columns=[\"id\"])\n",
    "\n",
    "# X, y 분리\n",
    "X = train_df.drop(columns=[\"Age\"])\n",
    "y = train_df[\"Age\"]\n",
    "\n",
    "# Train/Validation Split (8:2 비율)\n",
    "X_train, X_valid, y_train, y_valid = train_test_split(X, y, test_size = 0.2, random_state=42)"
   ]
  },
  {
   "cell_type": "code",
   "execution_count": null,
   "metadata": {},
   "outputs": [],
   "source": [
    "# 3. 스케일링 (정규화)\n",
    "scaler = MinMaxScaler()\n",
    "X_train_scaled = scaler.fit_transform(X_train)\n",
    "X_valid_scaled = scaler.transform(X_valid)"
   ]
  },
  {
   "cell_type": "code",
   "execution_count": null,
   "metadata": {},
   "outputs": [],
   "source": [
    "# 4. GridSearch를 이용한 최적 하이퍼파라미터 찾기 (교차 검증 cv=5)\n",
    "param_grid = {\n",
    "    \"n_estimators\": [200, 500],\n",
    "    \"max_depth\": [5, 10, 15, 20],\n",
    "    \"min_samples_split\": [2, 5, 10],\n",
    "    \"min_samples_leaf\": [4, 6, 8, 10]\n",
    "}\n",
    "\n",
    "rf = RandomForestRegressor(random_state=42, n_jobs=-1)\n",
    "grid_search = GridSearchCV(rf, param_grid, cv=5, scoring=\"neg_mean_absolute_error\", n_jobs=-1, verbose=1)\n",
    "grid_search.fit(X_train_scaled, y_train)\n",
    "\n",
    "best_params = grid_search.best_params_\n",
    "print(\"Best Parameters:\", best_params)"
   ]
  },
  {
   "cell_type": "code",
   "execution_count": null,
   "metadata": {},
   "outputs": [],
   "source": [
    "# 5. 최적 하이퍼파라미터로 모델 학습\n",
    "best_rf = RandomForestRegressor(**best_params, random_state=42, n_jobs=-1)\n",
    "best_rf.fit(X_train_scaled, y_train)\n",
    "\n",
    "# 6. Feature Importance 분석하여 중요도가 0.01 이하인 특성 제거\n",
    "feature_importances = best_rf.feature_importances_\n",
    "feature_names = X.columns\n",
    "\n",
    "# 중요도가 0.01 이하인 특성 찾기\n",
    "low_importance_features = [feature_names[i] for i in range(len(feature_importances)) if feature_importances[i] < 0.01]\n",
    "print(\"Removing Features with Importance < 0.01:\", low_importance_features)\n",
    "\n",
    "# 중요도가 낮은 특성 제거\n",
    "X_train = X_train.drop(columns=low_importance_features)\n",
    "X_valid = X_valid.drop(columns=low_importance_features)\n",
    "test_df = test_df.drop(columns=low_importance_features)\n",
    "\n",
    "# 다시 스케일링\n",
    "X_train_scaled = scaler.fit_transform(X_train)\n",
    "X_valid_scaled = scaler.transform(X_valid)\n",
    "test_scaled = scaler.transform(test_df)\n",
    "\n",
    "# 7. 다시 모델 학습 및 예측\n",
    "best_rf.fit(X_train_scaled, y_train)\n",
    "y_pred = best_rf.predict(X_valid_scaled)\n",
    "mae = mean_absolute_error(y_valid, y_pred)\n",
    "print(f\"Validation MAE: {mae:.4f}\")"
   ]
  },
  {
   "cell_type": "code",
   "execution_count": null,
   "metadata": {},
   "outputs": [],
   "source": [
    "# 8. 테스트 데이터 예측\n",
    "test_preds = best_rf.predict(test_scaled)\n",
    "\n",
    "# 9. 제출 파일 생성 (원래 id 유지)\n",
    "submission = pd.DataFrame({\"id\": test_ids, \"Age\": np.round(test_preds, 3)})\n",
    "submission.to_csv(\"downloads/sample_submission.csv\", index=False)\n",
    "print(\"sample_submission.csv 파일 생성 완료!\")"
   ]
  }
 ],
 "metadata": {
  "kernelspec": {
   "display_name": "base",
   "language": "python",
   "name": "python3"
  },
  "language_info": {
   "name": "python",
   "version": "3.12.4"
  }
 },
 "nbformat": 4,
 "nbformat_minor": 2
}
