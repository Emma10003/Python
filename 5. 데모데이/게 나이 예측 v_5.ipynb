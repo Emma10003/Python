{
 "cells": [
  {
   "cell_type": "markdown",
   "metadata": {},
   "source": [
    "선형회귀 시도, 변수선택법 적용  \n",
    "mae = 1.559"
   ]
  },
  {
   "cell_type": "markdown",
   "metadata": {},
   "source": [
    "## 1. EDA"
   ]
  },
  {
   "cell_type": "code",
   "execution_count": 124,
   "metadata": {},
   "outputs": [],
   "source": [
    "import pandas as pd\n",
    "import numpy as np\n",
    "from sklearn.model_selection import train_test_split, GridSearchCV\n",
    "from sklearn.ensemble import RandomForestRegressor\n",
    "from sklearn.preprocessing import LabelEncoder, MinMaxScaler\n",
    "from sklearn.metrics import mean_absolute_error\n",
    "\n",
    "from sklearn.linear_model import LinearRegression\n",
    "import matplotlib.pyplot as plt"
   ]
  },
  {
   "cell_type": "code",
   "execution_count": 125,
   "metadata": {},
   "outputs": [],
   "source": [
    "# 1. 데이터 로드\n",
    "train_df = pd.read_csv(\"data/train.csv\")\n",
    "test_df = pd.read_csv(\"data/test.csv\")\n",
    "submission_df = pd.read_csv(\"data/sample_submission.csv\")\n",
    "\n",
    "# test.csv에서 원본 id 저장\n",
    "test_ids = test_df[\"id\"].copy()\n",
    "test_df = test_df.drop(columns=[\"id\"])  # 이후 분석을 위해 삭제"
   ]
  },
  {
   "cell_type": "code",
   "execution_count": 126,
   "metadata": {},
   "outputs": [
    {
     "data": {
      "text/html": [
       "<div>\n",
       "<style scoped>\n",
       "    .dataframe tbody tr th:only-of-type {\n",
       "        vertical-align: middle;\n",
       "    }\n",
       "\n",
       "    .dataframe tbody tr th {\n",
       "        vertical-align: top;\n",
       "    }\n",
       "\n",
       "    .dataframe thead th {\n",
       "        text-align: right;\n",
       "    }\n",
       "</style>\n",
       "<table border=\"1\" class=\"dataframe\">\n",
       "  <thead>\n",
       "    <tr style=\"text-align: right;\">\n",
       "      <th></th>\n",
       "      <th>id</th>\n",
       "      <th>Length</th>\n",
       "      <th>Diameter</th>\n",
       "      <th>Height</th>\n",
       "      <th>Weight</th>\n",
       "      <th>Shucked Weight</th>\n",
       "      <th>Viscera Weight</th>\n",
       "      <th>Shell Weight</th>\n",
       "      <th>Age</th>\n",
       "    </tr>\n",
       "  </thead>\n",
       "  <tbody>\n",
       "    <tr>\n",
       "      <th>count</th>\n",
       "      <td>15000.000000</td>\n",
       "      <td>15000.000000</td>\n",
       "      <td>15000.000000</td>\n",
       "      <td>15000.000000</td>\n",
       "      <td>15000.000000</td>\n",
       "      <td>15000.000000</td>\n",
       "      <td>15000.000000</td>\n",
       "      <td>15000.000000</td>\n",
       "      <td>15000.000000</td>\n",
       "    </tr>\n",
       "    <tr>\n",
       "      <th>mean</th>\n",
       "      <td>7499.500000</td>\n",
       "      <td>1.316742</td>\n",
       "      <td>1.023813</td>\n",
       "      <td>0.347326</td>\n",
       "      <td>23.372701</td>\n",
       "      <td>10.104499</td>\n",
       "      <td>5.040622</td>\n",
       "      <td>6.704216</td>\n",
       "      <td>9.966800</td>\n",
       "    </tr>\n",
       "    <tr>\n",
       "      <th>std</th>\n",
       "      <td>4330.271354</td>\n",
       "      <td>0.287869</td>\n",
       "      <td>0.237697</td>\n",
       "      <td>0.091335</td>\n",
       "      <td>12.754705</td>\n",
       "      <td>5.691158</td>\n",
       "      <td>2.805236</td>\n",
       "      <td>3.598253</td>\n",
       "      <td>3.238065</td>\n",
       "    </tr>\n",
       "    <tr>\n",
       "      <th>min</th>\n",
       "      <td>0.000000</td>\n",
       "      <td>0.187500</td>\n",
       "      <td>0.150000</td>\n",
       "      <td>0.000000</td>\n",
       "      <td>0.056699</td>\n",
       "      <td>0.028349</td>\n",
       "      <td>0.014175</td>\n",
       "      <td>0.042524</td>\n",
       "      <td>1.000000</td>\n",
       "    </tr>\n",
       "    <tr>\n",
       "      <th>25%</th>\n",
       "      <td>3749.750000</td>\n",
       "      <td>1.150000</td>\n",
       "      <td>0.887500</td>\n",
       "      <td>0.287500</td>\n",
       "      <td>13.377420</td>\n",
       "      <td>5.698250</td>\n",
       "      <td>2.820775</td>\n",
       "      <td>3.827183</td>\n",
       "      <td>8.000000</td>\n",
       "    </tr>\n",
       "    <tr>\n",
       "      <th>50%</th>\n",
       "      <td>7499.500000</td>\n",
       "      <td>1.375000</td>\n",
       "      <td>1.075000</td>\n",
       "      <td>0.362500</td>\n",
       "      <td>23.657658</td>\n",
       "      <td>9.879801</td>\n",
       "      <td>4.904464</td>\n",
       "      <td>6.803880</td>\n",
       "      <td>10.000000</td>\n",
       "    </tr>\n",
       "    <tr>\n",
       "      <th>75%</th>\n",
       "      <td>11249.250000</td>\n",
       "      <td>1.537500</td>\n",
       "      <td>1.200000</td>\n",
       "      <td>0.412500</td>\n",
       "      <td>32.205032</td>\n",
       "      <td>14.033003</td>\n",
       "      <td>7.002326</td>\n",
       "      <td>9.071840</td>\n",
       "      <td>11.000000</td>\n",
       "    </tr>\n",
       "    <tr>\n",
       "      <th>max</th>\n",
       "      <td>14999.000000</td>\n",
       "      <td>1.950000</td>\n",
       "      <td>1.575000</td>\n",
       "      <td>0.700000</td>\n",
       "      <td>80.101512</td>\n",
       "      <td>48.477645</td>\n",
       "      <td>19.220961</td>\n",
       "      <td>24.564842</td>\n",
       "      <td>29.000000</td>\n",
       "    </tr>\n",
       "  </tbody>\n",
       "</table>\n",
       "</div>"
      ],
      "text/plain": [
       "                 id        Length      Diameter        Height        Weight  \\\n",
       "count  15000.000000  15000.000000  15000.000000  15000.000000  15000.000000   \n",
       "mean    7499.500000      1.316742      1.023813      0.347326     23.372701   \n",
       "std     4330.271354      0.287869      0.237697      0.091335     12.754705   \n",
       "min        0.000000      0.187500      0.150000      0.000000      0.056699   \n",
       "25%     3749.750000      1.150000      0.887500      0.287500     13.377420   \n",
       "50%     7499.500000      1.375000      1.075000      0.362500     23.657658   \n",
       "75%    11249.250000      1.537500      1.200000      0.412500     32.205032   \n",
       "max    14999.000000      1.950000      1.575000      0.700000     80.101512   \n",
       "\n",
       "       Shucked Weight  Viscera Weight  Shell Weight           Age  \n",
       "count    15000.000000    15000.000000  15000.000000  15000.000000  \n",
       "mean        10.104499        5.040622      6.704216      9.966800  \n",
       "std          5.691158        2.805236      3.598253      3.238065  \n",
       "min          0.028349        0.014175      0.042524      1.000000  \n",
       "25%          5.698250        2.820775      3.827183      8.000000  \n",
       "50%          9.879801        4.904464      6.803880     10.000000  \n",
       "75%         14.033003        7.002326      9.071840     11.000000  \n",
       "max         48.477645       19.220961     24.564842     29.000000  "
      ]
     },
     "execution_count": 126,
     "metadata": {},
     "output_type": "execute_result"
    }
   ],
   "source": [
    "train_df.describe()"
   ]
  },
  {
   "cell_type": "markdown",
   "metadata": {},
   "source": [
    "## 2. 데이터 전처리"
   ]
  },
  {
   "cell_type": "code",
   "execution_count": 127,
   "metadata": {},
   "outputs": [],
   "source": [
    "# 'Sex' 라벨 인코딩\n",
    "label_encoder = LabelEncoder()\n",
    "train_df[\"Sex\"] = label_encoder.fit_transform(train_df[\"Sex\"])\n",
    "test_df[\"Sex\"] = label_encoder.transform(test_df[\"Sex\"])"
   ]
  },
  {
   "cell_type": "code",
   "execution_count": 128,
   "metadata": {},
   "outputs": [],
   "source": [
    "# Height가 0인 경우 평균값으로 대체\n",
    "height_mean = train_df.loc[train_df[\"Height\"] > 0, \"Height\"].mean()\n",
    "train_df.loc[train_df[\"Height\"] == 0, \"Height\"] = height_mean\n",
    "test_df.loc[test_df[\"Height\"] == 0, \"Height\"] = height_mean"
   ]
  },
  {
   "cell_type": "code",
   "execution_count": 129,
   "metadata": {},
   "outputs": [],
   "source": [
    "# IQR 기반 이상치 제거 함수 정의 및 적용\n",
    "def remove_outliers_iqr(df, cols, threshold=1.5):  # threshold=3.0에서 변경\n",
    "    Q1 = df[cols].quantile(0.25)\n",
    "    Q3 = df[cols].quantile(0.75)\n",
    "    IQR = Q3 - Q1\n",
    "    lower_bound = Q1 - threshold * IQR\n",
    "    upper_bound = Q3 + threshold * IQR\n",
    "    return df[~((df[cols] < lower_bound) | (df[cols] > upper_bound)).any(axis=1)]\n",
    "\n",
    "num_cols = train_df.select_dtypes(include=[\"float64\"]).columns\n",
    "train_df = remove_outliers_iqr(train_df, num_cols, threshold=1.5)"
   ]
  },
  {
   "cell_type": "code",
   "execution_count": 130,
   "metadata": {},
   "outputs": [],
   "source": [
    "# 중복 데이터 제거 및 'id' 컬럼 삭제\n",
    "train_df = train_df.drop_duplicates().drop(columns=[\"id\"])"
   ]
  },
  {
   "cell_type": "markdown",
   "metadata": {},
   "source": [
    "#### X, y 분리 / train-valid 분리"
   ]
  },
  {
   "cell_type": "code",
   "execution_count": 131,
   "metadata": {},
   "outputs": [],
   "source": [
    "# X, y 분리\n",
    "X = train_df.drop(columns=[\"Age\"])\n",
    "y = train_df[\"Age\"]"
   ]
  },
  {
   "cell_type": "code",
   "execution_count": 132,
   "metadata": {},
   "outputs": [],
   "source": [
    "# Train/Validation Split (8:2 비율)\n",
    "X_train, X_valid, y_train, y_valid = train_test_split(X, y, test_size=0.2, random_state=42)"
   ]
  },
  {
   "cell_type": "code",
   "execution_count": 133,
   "metadata": {},
   "outputs": [],
   "source": [
    "# 3. 스케일링\n",
    "scaler = MinMaxScaler()\n",
    "X_train_scaled = scaler.fit_transform(X_train)\n",
    "X_valid_scaled = scaler.transform(X_valid)"
   ]
  },
  {
   "cell_type": "markdown",
   "metadata": {},
   "source": [
    "## 3. 머신러닝"
   ]
  },
  {
   "cell_type": "code",
   "execution_count": 134,
   "metadata": {},
   "outputs": [],
   "source": [
    "def separate_train(df): # 'count' 피쳐를 y로 구분\n",
    "    X = df.drop(['Age', 'Sex'], axis=1)\n",
    "    y = df['Age']\n",
    "    return X, y"
   ]
  },
  {
   "cell_type": "code",
   "execution_count": 135,
   "metadata": {},
   "outputs": [
    {
     "data": {
      "text/plain": [
       "1.1451920891579899"
      ]
     },
     "execution_count": 135,
     "metadata": {},
     "output_type": "execute_result"
    }
   ],
   "source": [
    "# 4. 선형회귀 1\n",
    "X, y = separate_train(train_df)\n",
    "\n",
    "X_train, X_valid, y_train, y_valid = train_test_split(X, y, test_size=0.2, random_state=42)\n",
    "\n",
    "model = LinearRegression()\n",
    "model.fit(X_train, y_train)\n",
    "\n",
    "y_prediction = model.predict(X_valid)\n",
    "mean_absolute_error(y_valid, y_prediction)"
   ]
  },
  {
   "cell_type": "markdown",
   "metadata": {},
   "source": [
    "#### 변수 선택"
   ]
  },
  {
   "cell_type": "code",
   "execution_count": 136,
   "metadata": {},
   "outputs": [],
   "source": [
    "from sklearn.model_selection import train_test_split, KFold\n",
    "from sklearn.metrics import mean_absolute_error\n",
    "\n",
    "from sklearn.feature_selection import SequentialFeatureSelector as SFS\n",
    "\n",
    "# 5. Cross Validation 설정 (KFold 사용)\n",
    "cv = KFold(n_splits=5, shuffle=True, random_state=42)"
   ]
  },
  {
   "cell_type": "code",
   "execution_count": 137,
   "metadata": {},
   "outputs": [
    {
     "name": "stdout",
     "output_type": "stream",
     "text": [
      "선택된 변수 인덱스: [2 3 5 7]\n"
     ]
    }
   ],
   "source": [
    "# MAE를 가장 작게 하는 변수 선택(전진선택법)\n",
    "sfs = SFS(\n",
    "    model,\n",
    "    n_features_to_select=\"auto\",  # 자동으로 최적의 변수 개수 선택(auto) - best는 안 됨|\n",
    "    direction=\"backward\",  # 전진 선택법 (\"backward\"로 하면 후진 제거법)\n",
    "    scoring=\"neg_mean_absolute_error\",\n",
    "    cv=5,\n",
    "    n_jobs=-1\n",
    ")\n",
    "\n",
    "# 훈련 데이터로 속성(변수) 선택 실행\n",
    "sfs = sfs.fit(X_train_scaled, y_train)\n",
    "\n",
    "# 선택된 변수 인덱스 가져오기\n",
    "selected_idx = sfs.get_support(indices=True)\n",
    "\n",
    "# 선택된 변수 인덱스\n",
    "print(\"선택된 변수 인덱스:\", selected_idx)"
   ]
  },
  {
   "cell_type": "markdown",
   "metadata": {},
   "source": [
    "- `model` : 주어진 모델을 이용해 학습을 진행한다는 뜻. SequentialFeatureSelector의 입력으로 제공됨.\n",
    "\n",
    "- `n_features_to_select` : 선택할 변수(특성)의 개수 지정\n",
    "    - auto: 자동으로 최적의 변수 개수 선택\n",
    "    - int값(정수)을 주면 그 숫자만큼 특성 선택\n",
    "\n",
    "- `direction` : 특성 선택 방법을 결정\n",
    "    - forward: 전진선택법\n",
    "    - backward: 후진선택법\n",
    "\n",
    "- `scoring` : 모델 평가 시 사용할 성능지표 지정\n",
    "    - `neg_mean_absolute_error` : MAE(평균절대오차) 기준으로 성능 평가.\n",
    "    - SFS는 변수 조합에서 `scoring`값이 최대가 되는 특성 조합 선택.\n",
    "    - 다른 성능 지표로도 사용될 수 있고, 회귀에서는 `neg_mean_squared_error`, 분류에서는 `accuracy`를 주로 사용.\n",
    "\n",
    "- `cv` : 교차검증을 위한 KFold 분할 수 지정.\n",
    "    - `cv=5` : 데이터를 5개 폴드로 나눠서 5개의 교차검증 진행."
   ]
  },
  {
   "cell_type": "code",
   "execution_count": 138,
   "metadata": {},
   "outputs": [
    {
     "name": "stdout",
     "output_type": "stream",
     "text": [
      "Validation MAE (선택된 변수 사용): 1.1559\n"
     ]
    }
   ],
   "source": [
    "# 선택된 변수만을 사용하여 선형 회귀 모델 다시 학습\n",
    "X_train_selected = X_train_scaled[:, selected_idx]  # 선택된 변수만 사용\n",
    "X_valid_selected = X_valid_scaled[:, selected_idx]  # 검증 데이터도 동일하게 변환\n",
    "\n",
    "# 새로운 선형 회귀 모델 학습\n",
    "model.fit(X_train_selected, y_train)\n",
    "\n",
    "# 검증 데이터 예측 및 MAE 계산\n",
    "y_pred = model.predict(X_valid_selected)\n",
    "mae = mean_absolute_error(y_valid, y_pred)\n",
    "print(f\"Validation MAE (선택된 변수 사용): {mae:.4f}\")"
   ]
  }
 ],
 "metadata": {
  "kernelspec": {
   "display_name": "base",
   "language": "python",
   "name": "python3"
  },
  "language_info": {
   "codemirror_mode": {
    "name": "ipython",
    "version": 3
   },
   "file_extension": ".py",
   "mimetype": "text/x-python",
   "name": "python",
   "nbconvert_exporter": "python",
   "pygments_lexer": "ipython3",
   "version": "3.12.4"
  }
 },
 "nbformat": 4,
 "nbformat_minor": 2
}
