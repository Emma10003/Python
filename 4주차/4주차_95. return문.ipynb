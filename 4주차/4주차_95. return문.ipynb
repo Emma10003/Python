{
 "cells": [
  {
   "cell_type": "markdown",
   "metadata": {},
   "source": [
    "### 1. return문"
   ]
  },
  {
   "cell_type": "code",
   "execution_count": null,
   "metadata": {},
   "outputs": [],
   "source": [
    "''' \n",
    "return문의 역할\n",
    "1. 함수를 호출한 위치에 값을 돌려줌 \n",
    "2. 함수를 즉시 종료시킴.\n",
    "'''\n",
    "def square(x):\n",
    "    print(\"함수 시작\")\n",
    "    return x * x\n",
    "    print(\"함수 끝\")\t# return문을 만나 8번 라인에서 함수가 끝나기 때문에 이 print()함수는 실행되지 X; dead code\n",
    "\n",
    "print(square(3))\n",
    "print(\"Hello World\")"
   ]
  },
  {
   "cell_type": "markdown",
   "metadata": {},
   "source": [
    "### 2. return문 vs. print문"
   ]
  },
  {
   "cell_type": "code",
   "execution_count": null,
   "metadata": {},
   "outputs": [],
   "source": [
    "# print문\n",
    "def print_square(x):\n",
    "    print(x * x)\n",
    "\n",
    "# return문\n",
    "def get_square(x):\n",
    "    return x * x\n",
    "\n",
    "print_square(3)\t# print_square()를 실행한 값이 출력됨.\n",
    "get_square(3)\t# get_square()을 호출한 자리에 9가 리턴되지만,\n",
    "\t\t\t\t# 따로 print()를 하지 않았기 때문에 콘솔창에는 결과값이 출력되지 않음. (원래는..)\n",
    "\n",
    "print(get_square(3))\t\n",
    "print(print_square(3))\t# print_squre()에는 return문이 없기 때문에 함수를 호출한 해당 자리에 리턴할 값이 없음.\n",
    "\t\t\t\t\t\t# -> 리턴값이 없다는 의미에서 None을 리턴함"
   ]
  },
  {
   "cell_type": "markdown",
   "metadata": {},
   "source": [
    "### 3. Optional Parameter"
   ]
  },
  {
   "cell_type": "code",
   "execution_count": null,
   "metadata": {},
   "outputs": [],
   "source": [
    "'''\n",
    "옵셔널 파라미터(Optional Parameter)\n",
    "- 파라미터에 기본값(defualt value)을 설정하는 것.\n",
    "- 함수를 호출할 때 파라미터에 값을 넘겨주지 않아도 기본값으로 설정된 값이 나옴.\n",
    "'''\n",
    "\n",
    "'''\n",
    "옵셔널 파라미터는 모두 마지막에 있어야 함. 중간에 넣으면 오류 발생!\n",
    "\n",
    "def myself(name, nationality=\"한국\", age):\n",
    "\tprint...\n",
    "이런 식으로 작성하면 SyntaxError 발생.\n",
    "* 옵셔널 파라미터의 개수는 상관 없고, 일반 파라미터가 옵셔널 파라미터 뒤에만 쓰여있지 않으면 된다.\n",
    "'''"
   ]
  },
  {
   "cell_type": "code",
   "execution_count": null,
   "metadata": {},
   "outputs": [],
   "source": [
    "# 예시\n",
    "def myself(name, age, nationality=\"한국\"):\n",
    "    print(f\"내 이름은 {name}\")\n",
    "    print(f\"나이는 {age}살\")\n",
    "    print(f\"국적은 {nationality}\")\n",
    "\n",
    "print(\"-\"*5 + \"Case 1\" + \"-\"*5)\n",
    "myself(\"Emma\", 20, \"캐나다\")\n",
    "print()\n",
    "print(\"-\"*5 + \"Case 2\" + \"-\"*5)\n",
    "myself(\"Emma\", 20)\t# 파라미터에 들어갈 값을 넘기지 않았기 때문에 기본값인 '한국'이 호출됨."
   ]
  }
 ],
 "metadata": {
  "language_info": {
   "name": "python"
  }
 },
 "nbformat": 4,
 "nbformat_minor": 2
}
