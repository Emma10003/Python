{
 "cells": [
  {
   "cell_type": "markdown",
   "metadata": {},
   "source": [
    "### 변수의 Scope(범위)"
   ]
  },
  {
   "cell_type": "code",
   "execution_count": null,
   "metadata": {},
   "outputs": [],
   "source": [
    "'''\n",
    "함수 내에서 정의한 변수는 '로컬 변수(local variable)'\n",
    "->  로컬 변수의 스코프, 즉 해당 변수가 유효한 범위는 함수 내에서 뿐이다.\n",
    "따라서 아래 '예시 1'의 num1 변수는 함수 밖(변수가 유효하지 않은 위치)에서 호출했을 때 \n",
    "정의되지 않았다는 에러가 발생하게 됨.\n",
    "\n",
    "* 함수의 파라미터 역시 로컬 변수에 해당함.\n",
    "'''"
   ]
  },
  {
   "cell_type": "code",
   "execution_count": null,
   "metadata": {},
   "outputs": [],
   "source": [
    "# 예시 1 - 로컬 변수\n",
    "def my_function1():\n",
    "    num1 = 3\n",
    "    print(x)\n",
    "\n",
    "my_function1()\n",
    "# print(num1) ~> NameError: name 'num1' is not defined"
   ]
  },
  {
   "cell_type": "code",
   "execution_count": null,
   "metadata": {},
   "outputs": [],
   "source": [
    "'''\n",
    "함수 밖에서 정의한 변수는 '글로벌 변수(global variable)'\n",
    "-> 글로벌 변수는 함수 안/밖 상관 없이 해당 문서 내에서 사용할 수 있다.\n",
    "따라서 아래 '예시 2'의 num2 변수는 함수 밖에서 호출해도 에러가 발생하지 X.\n",
    "'''"
   ]
  },
  {
   "cell_type": "code",
   "execution_count": null,
   "metadata": {},
   "outputs": [],
   "source": [
    "# 예시 2 - 글로벌 변수\n",
    "num2 = 2\n",
    "\n",
    "def my_function2():\n",
    "    print(num2)\n",
    "\n",
    "my_function2()\n",
    "print(x)"
   ]
  },
  {
   "cell_type": "code",
   "execution_count": null,
   "metadata": {},
   "outputs": [],
   "source": [
    "# 예시 3\n",
    "num3 = 2\n",
    "\n",
    "def my_function3():\n",
    "    num3 = 3\n",
    "    print(num3)\n",
    "\n",
    "my_function3()\t# 3이 출력됨\n",
    "print(num3)\t# 2가 출력됨 ~> 함수에서 정의된 num3의 값은 로컬 변수이기 때문에 여기서 호출된 변수는 글로벌 변수."
   ]
  }
 ],
 "metadata": {
  "language_info": {
   "name": "python"
  }
 },
 "nbformat": 4,
 "nbformat_minor": 2
}
