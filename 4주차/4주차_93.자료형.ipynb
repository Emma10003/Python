{
 "cells": [
  {
   "cell_type": "markdown",
   "metadata": {},
   "source": [
    "## 자료형"
   ]
  },
  {
   "cell_type": "markdown",
   "metadata": {},
   "source": [
    "### 1. 숫자형"
   ]
  },
  {
   "cell_type": "code",
   "execution_count": null,
   "metadata": {},
   "outputs": [
    {
     "name": "stdout",
     "output_type": "stream",
     "text": [
      "11\n",
      "-2\n",
      "15\n",
      "3.5\n",
      "1\n",
      "8\n",
      "3\n",
      "3.0\n",
      "3\n",
      "3.14\n"
     ]
    },
    {
     "data": {
      "text/plain": [
       "' 소수점 n번째 자리까지 반올림하는 경우,\\n\\t두 번째 파라미터에 숫자를 넣어주명 된다. '"
      ]
     },
     "execution_count": 29,
     "metadata": {},
     "output_type": "execute_result"
    }
   ],
   "source": [
    "'''\n",
    "- 정수형 간의 연산은 결과값도 정수형.\n",
    "- 소수형 간의 연산도 결과값이 소수형.\n",
    "- 정수형과 소수형의 연산은 결과값이 소수형.\n",
    "'''\n",
    "# 덧셈\n",
    "print(4 + 7)\n",
    "\n",
    "# 뺄셈\n",
    "print(2 - 4)\n",
    "\n",
    "# 곱셈\n",
    "print(5 * 3)\n",
    "\n",
    "# 나눗셈\n",
    "print(7 / 2)\n",
    "''' 나눗셈은 나누는 숫자에 관계없이 결과가 소수형으로 나온다.'''\n",
    "\n",
    "# 나머지\n",
    "print(7 % 3)\n",
    "\n",
    "# 거듭제곱\n",
    "print(2 ** 3)\n",
    "\n",
    "# floor division (버림 나눗셈) = 나눗셈의 몫 구하기\n",
    "print(7 // 2)\n",
    "print(7.0 // 2)\n",
    "''' 소수점 아래를 버림하고 정수 부분만 출력됨.\n",
    "\t둘 중 하나가 소수형이면 결과값도 소수형으로 나온다. '''\n",
    " \n",
    "# round (반올림)\n",
    "print(round(3.1415926535))\n",
    "print(round(3.1415926535, 2))\n",
    "''' 소수점 n번째 자리까지 반올림하는 경우,\n",
    "\t두 번째 파라미터에 숫자를 넣어주명 된다. '''"
   ]
  },
  {
   "cell_type": "markdown",
   "metadata": {},
   "source": [
    "### 2. 문자형"
   ]
  },
  {
   "cell_type": "code",
   "execution_count": null,
   "metadata": {},
   "outputs": [
    {
     "name": "stdout",
     "output_type": "stream",
     "text": [
      "코드잇\n",
      "유재석\n",
      "I'm excited to learn Python\n",
      "HelloWorld\n",
      "HelloHelloHello\n"
     ]
    }
   ],
   "source": [
    "'''\n",
    "키보드로 쓸 수 있는 문자들을 표현하는 자료형\n",
    "형식: '문자열' (따옴표로 감싸준다. 작은따옴표와 큰따옴표 둘 다 상관 X.)\n",
    "'''\n",
    "print(\"코드잇\")\n",
    "print(\"유재석\")\n",
    "print('I\\'m excited to learn Python') \n",
    "\t# 문자열 내에서 작은 따옴표를 쓸 때는 큰따옴표로 문자열을 둘러주던가 역슬래쉬(\\)를 사용\n",
    "\n",
    "# 문자열의 덧셈 = 문자열을 연결하라. (String Concatenation)\n",
    "print(\"Hello\" + \"World\")\n",
    "\n",
    "# 문자열의 곱셈 = 문자열을 반복하라.\n",
    "print(\"Hello\" * 3)"
   ]
  },
  {
   "cell_type": "markdown",
   "metadata": {},
   "source": [
    "### 3. 형 변환 (Type Conversion, Type Casting)"
   ]
  },
  {
   "cell_type": "code",
   "execution_count": 28,
   "metadata": {},
   "outputs": [
    {
     "name": "stdout",
     "output_type": "stream",
     "text": [
      "3\n",
      "3.0\n",
      "7\n",
      "7.5\n",
      "25\n",
      "제 나이는 7살입니다.\n"
     ]
    }
   ],
   "source": [
    "'''형 변환: 값을 한 자료형에서 다른 자료형으로 바꾸는 것'''\n",
    "print(int(3.8)) # 소수형의 소수점자리를 버리고 정수형으로 형 변환\n",
    "print(float(3)) # 정수형을 소수형으로 형 변환\n",
    "print(int(\"2\") + int(\"5\")) # 문자형을 정수형으로 형 변환 ~> 2 + 5의 값이 출력됨.\n",
    "print(float(\"2\") + float(\"5.5\")) # 문자열을 실수형으로 형 변환\n",
    "\n",
    "print(str(2) + str(5)) # 정수형을 문자열로 형 변환\n",
    "\n",
    "age = 7\n",
    "# print(\"제 나이는 \" + age + \"살입니다.\") ~> 문자열과 정수형을 연산할 수 없으므로 에러 (TypeError)\n",
    "print(\"제 나이는 \" + str(age) + \"살입니다.\")"
   ]
  },
  {
   "cell_type": "markdown",
   "metadata": {},
   "source": [
    "### 4. 문자열 포맷 (String Format)"
   ]
  },
  {
   "cell_type": "code",
   "execution_count": null,
   "metadata": {},
   "outputs": [
    {
     "name": "stdout",
     "output_type": "stream",
     "text": [
      "오늘은 2024년11월3일입니다.\n",
      "오늘은 2024년 11월 3일입니다.\n",
      "오늘은 2024년 11월 3일입니다.\n",
      "저는 윈터, 카리나, 지젤, 닝닝을(를) 좋아합니다.\n",
      "1 나누기 3은 0.33입니다.\n",
      "제 이름은 오유성이고 24살입니다.\n",
      "제 이름은 오유성이고 24살입니다.\n"
     ]
    }
   ],
   "source": [
    "# 오늘은 2024년 11월 3일입니다.\n",
    "year = 2024\n",
    "month = 11\n",
    "day = 3\n",
    "\n",
    "# 포맷하지 않은 코드\n",
    "print(\"오늘은 \" + str(year) + \"년\" + str(month) + \"월\" + str(day) + \"일입니다.\") #너무 번거로운 코드\n",
    "\n",
    "\n",
    "# format 메서드를 사용해서 문자열 포맷하기\n",
    "print(\"오늘은 {}년 {}월 {}일입니다.\".format(year, month, day)) #문자열 뒤에 .format() 작성 후 파라미터를 순서대로 작성.\n",
    "\n",
    "# - 응용1\n",
    "date_string = \"오늘은 {}년 {}월 {}일입니다.\"\n",
    "print(date_string.format(year, month, day)) #포맷 형식을 하고 있는 문자열을 변수에 저장해도 결과는 동일함.\n",
    "\n",
    "# - 응용2\n",
    "print(\"저는 {1}, {0}, {3}, {2}을(를) 좋아합니다.\".format(\"카리나\", \"윈터\", \"닝닝\", \"지젤\"))\n",
    "\t# format() 파라미터 값의 순서를 {}안에 지정하여 출력 순서를 바꿀 수 있다. (0번부터 시작.)\n",
    "\n",
    "# - 응용3\n",
    "num_1 = 1\n",
    "num_2 = 3\n",
    "print(\"{0} 나누기 {1}은 {2:.2f}입니다.\".format(num_1, num_2, num_1 / num_2))\n",
    "\t# 문자열 포맷 시 실수형 결과값의 소수점 자리를 반올림하고 싶을 때에는 위와 같이 사용. 소수점 둘째자리로 반올림.\n",
    "\t# 정수로 바꾸고 싶은 경우에는 .0f 사용하면 됨.\n",
    "\n",
    "\n",
    "# 다른 포맷팅 방법\n",
    "# % 기호 - 포맷 스트링(이제는 잘 안 쓰는 오래된 방식이래..)\n",
    "name = \"오유성\"\n",
    "age = 24\n",
    "print(\"제 이름은 %s이고 %d살입니다.\" % (name, age))\n",
    "\n",
    "# f-string (최근 많이 사용하는 방식, 파이썬 3.6에서 추가된 문법) <= 이거 내가 좋아하는 방식\n",
    "name = \"오유성\"\n",
    "age = 24\n",
    "print(f\"제 이름은 {name}이고 {age}살입니다.\")\n"
   ]
  },
  {
   "cell_type": "markdown",
   "metadata": {},
   "source": [
    "### 5. 불 대수와 불린형(Boolean)"
   ]
  },
  {
   "cell_type": "code",
   "execution_count": null,
   "metadata": {},
   "outputs": [],
   "source": [
    "''' 불 대수의 값: 진리값(True, False)'''\n",
    "# AND 연산 (x AND y): x와 y가 모두 참인 경우에만 참\n",
    "# OR 연산 (x OR y): x와 y 중 하나라도 참인 경우에 참\n",
    "# NOT 연산 (NOT x): 거짓이면 참으로, 참이면 거짓으로 논리 반전"
   ]
  },
  {
   "cell_type": "code",
   "execution_count": null,
   "metadata": {},
   "outputs": [],
   "source": [
    "\n",
    "print(True)\n",
    "print(False)\n",
    "\n",
    "# 불린 연산1: and, or, not\n",
    "print(\"-\" * 5 + \" and 연산 \" + \"-\" * 5)\n",
    "print(True and True)\n",
    "print(True and False)\n",
    "print(False and True)\n",
    "print(False and False)\n",
    "\n",
    "print(\"-\" * 5 + \" or 연산 \" + \"-\" * 5)\n",
    "print(True or True)\n",
    "print(True or False)\n",
    "print(False or True)\n",
    "print(False or False)\n",
    "\n",
    "print(\"-\" * 5 + \" not 연산 \" + \"-\" * 5)\n",
    "print(not True)\n",
    "print(not False)"
   ]
  },
  {
   "cell_type": "code",
   "execution_count": null,
   "metadata": {},
   "outputs": [],
   "source": [
    "# 불린 연산2\n",
    "print(2 > 1)\n",
    "print(2 < 1)\n",
    "print(3 >= 2)\n",
    "print(3 <= 3)\n",
    "print(2 == 2)\t#같다\n",
    "print(2 != 2)\t#같지 않다\n",
    "\n",
    "print(2 != 3 and \"Hello\" == \"Hello\")\t# True and True와 같음\n",
    "print(not not True)\t# not False\n",
    "print(not not False)\t# not True"
   ]
  },
  {
   "cell_type": "markdown",
   "metadata": {},
   "source": [
    "### 6. type 함수"
   ]
  },
  {
   "cell_type": "code",
   "execution_count": null,
   "metadata": {},
   "outputs": [
    {
     "name": "stdout",
     "output_type": "stream",
     "text": [
      "<class 'int'>\n",
      "<class 'float'>\n",
      "<class 'str'>\n",
      "<class 'str'>\n",
      "<class 'bool'>\n",
      "<class 'builtin_function_or_method'>\n"
     ]
    }
   ],
   "source": [
    "''' 자료형을 반환해주는 함수. '''\n",
    "\n",
    "print(type(3))\n",
    "print(type(3.0))\n",
    "print(type(\"3\"))\n",
    "\n",
    "print(type(\"True\"))\n",
    "print(type(True))\n",
    "\n",
    "print(type(print))\t# 내장 함수. 함수도 자료형이다!"
   ]
  }
 ],
 "metadata": {
  "kernelspec": {
   "display_name": "Python 3",
   "language": "python",
   "name": "python3"
  },
  "language_info": {
   "codemirror_mode": {
    "name": "ipython",
    "version": 3
   },
   "file_extension": ".py",
   "mimetype": "text/x-python",
   "name": "python",
   "nbconvert_exporter": "python",
   "pygments_lexer": "ipython3",
   "version": "3.13.0"
  }
 },
 "nbformat": 4,
 "nbformat_minor": 2
}
