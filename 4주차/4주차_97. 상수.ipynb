{
 "cells": [
  {
   "cell_type": "code",
   "execution_count": null,
   "metadata": {},
   "outputs": [],
   "source": [
    "'''\n",
    "상수(constant): 값이 절대로 바뀌지 않는 수.\n",
    "\tex) 원주율\n",
    "- 상수의 이름을 지을 때 규칙: 모든 글자를 대문자로 사용.\n",
    "\t-> 일반 변수와 상수를 구분지음.\n",
    "\t-> 대문자로 사용하는 것은 해당 변수를 수정하지 않겠다는 표시이기도 함.\n",
    "- 상수를 바꿔도 에러가 발생하지는 않음. but 안 좋은 코드가 되겠죠..\n",
    "'''"
   ]
  },
  {
   "cell_type": "code",
   "execution_count": null,
   "metadata": {},
   "outputs": [],
   "source": [
    "# 예시\n",
    "PI = 3.14\t# 원주율\n",
    "\n",
    "# 반지름을 받아서 원의 넓이 계산\n",
    "def calculate_area(r):\n",
    "    return PI * r * r\n",
    "\n",
    "radius = 4\t# 반지름\n",
    "print(f\"반지름이 {radius}면, 넓이는 {calculate_area(radius)}\")\n",
    "\n",
    "radius = 5\t# 반지름\n",
    "print(f\"반지름이 {radius}면, 넓이는 {calculate_area(radius)}\")"
   ]
  }
 ],
 "metadata": {
  "kernelspec": {
   "display_name": "Python 3",
   "language": "python",
   "name": "python3"
  },
  "language_info": {
   "codemirror_mode": {
    "name": "ipython",
    "version": 3
   },
   "file_extension": ".py",
   "mimetype": "text/x-python",
   "name": "python",
   "nbconvert_exporter": "python",
   "pygments_lexer": "ipython3",
   "version": "3.13.0"
  }
 },
 "nbformat": 4,
 "nbformat_minor": 2
}
