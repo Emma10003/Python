{
 "cells": [
  {
   "cell_type": "markdown",
   "metadata": {},
   "source": [
    "## for 반복문"
   ]
  },
  {
   "cell_type": "code",
   "execution_count": null,
   "metadata": {},
   "outputs": [],
   "source": [
    "my_list = [2, 3, 5, 7, 11]\n",
    "\n",
    "for number in my_list:  # number은 for문 안에서 사용되는 변수. 해당 변수에 순서대로 리스트의 요소가 대입된다.\n",
    "    print(number)\n",
    "\n",
    "\n",
    "# 위의 for문과 동일한 코드의 while문. ~> 이 경우 for문을 사용하는 게 더 깔끔하다!\n",
    "i = 0\n",
    "while i < len(my_list):\n",
    "    print(my_list[i])\n",
    "    i += 1"
   ]
  },
  {
   "cell_type": "markdown",
   "metadata": {},
   "source": [
    "### range() 함수 - for문의 반복 범위를 설정"
   ]
  },
  {
   "cell_type": "code",
   "execution_count": null,
   "metadata": {},
   "outputs": [],
   "source": [
    "'''\n",
    "range 함수의 장점\n",
    "- 간편함 (리스트의 요소를 전부 입력하지 않아도 됨)\n",
    "- 코드가 깔끔함\n",
    "- 컴퓨터 메모리를 효율적으로 사용함.\n",
    "'''"
   ]
  },
  {
   "cell_type": "code",
   "execution_count": null,
   "metadata": {},
   "outputs": [],
   "source": [
    "for i in [1, 2, 3, 4, 5, 6, 7, 8, 9, 10]:\n",
    "    print(i)"
   ]
  },
  {
   "cell_type": "markdown",
   "metadata": {},
   "source": [
    "##### 1. 파라미터 2개"
   ]
  },
  {
   "cell_type": "code",
   "execution_count": null,
   "metadata": {},
   "outputs": [],
   "source": [
    "'''\n",
    "for i in range(start, stop):  # start 숫자부터 (stop-1)까지의 범위.\n",
    "    print(i)\n",
    "'''\n",
    "\n",
    "for i in range(3, 11):   # 3부터 10까지 출력됨\n",
    "    print(i)\n",
    "\n",
    "\n",
    "# 동일한 코드\n",
    "for i in [3, 4, 5, 6, 7, 8, 9, 10]:\n",
    "    print(i)"
   ]
  },
  {
   "cell_type": "markdown",
   "metadata": {},
   "source": [
    "##### 2. 파라미터 1개"
   ]
  },
  {
   "cell_type": "code",
   "execution_count": null,
   "metadata": {},
   "outputs": [],
   "source": [
    "'''\n",
    "for i in range(stop):   # 0부터 (stop-1)까지의 범위.\n",
    "    print(i)\n",
    "'''\n",
    "\n",
    "for i in range(10):   # 0부터 9까지 출력됨\n",
    "    print(i)\n",
    "\n",
    "\n",
    "# 동일한 코드\n",
    "for i in [0, 1, 2, 3, 4, 5, 6, 7, 8, 9]:\n",
    "    print(i)"
   ]
  },
  {
   "cell_type": "markdown",
   "metadata": {},
   "source": [
    "##### 3. 파라미터 3개"
   ]
  },
  {
   "cell_type": "code",
   "execution_count": null,
   "metadata": {},
   "outputs": [],
   "source": [
    "'''\n",
    "for i in range(start, stop, step):   # start부터 (stop-1)까지의 범위, 숫자들 간의 간격(step)\n",
    "    print(i)\n",
    "'''\n",
    "\n",
    "for i in range(3, 17, 3):\n",
    "    print(i)"
   ]
  }
 ],
 "metadata": {
  "kernelspec": {
   "display_name": "Python (emma1)",
   "language": "python",
   "name": "myenv"
  },
  "language_info": {
   "codemirror_mode": {
    "name": "ipython",
    "version": 3
   },
   "file_extension": ".py",
   "mimetype": "text/x-python",
   "name": "python",
   "nbconvert_exporter": "python",
   "pygments_lexer": "ipython3",
   "version": "3.13.0"
  }
 },
 "nbformat": 4,
 "nbformat_minor": 2
}
