{
 "cells": [
  {
   "cell_type": "markdown",
   "metadata": {},
   "source": [
    "### 문제 1"
   ]
  },
  {
   "cell_type": "code",
   "execution_count": null,
   "metadata": {},
   "outputs": [],
   "source": [
    "'''\n",
    "numbers라는 리스트가 주어졌습니다.\n",
    "for문과 range 함수를 사용하여, numbers의 인덱스와 원소를 출력해 보세요.\n",
    "\n",
    "numbers = [2, 3, 4, 7, 11, 13, 17, 19, 23, 29, 31]\n",
    "'''\n",
    "\n",
    "numbers = [2, 3, 4, 7, 11, 13, 17, 19, 23, 29, 31]\n",
    "\n",
    "for i in range(0, 11):\n",
    "    print(i, numbers[i])"
   ]
  },
  {
   "cell_type": "markdown",
   "metadata": {},
   "source": [
    "### 문제 2"
   ]
  },
  {
   "cell_type": "code",
   "execution_count": null,
   "metadata": {},
   "outputs": [],
   "source": [
    "'''\n",
    "\"2의 n제곱\"을 출력하는 프로그램을 만들려고 합니다.\n",
    "코드를 실행하면 2^0 = 1 부터 2^10 = 1024 까지 출력되어야 합니다.\n",
    "'''\n",
    "\n",
    "for i in range(11):\n",
    "    print(f\"2^{i} = {2**i}\")  # 헷갈려서 거듭제곱을 2^i로 작성함...정신체리"
   ]
  },
  {
   "cell_type": "markdown",
   "metadata": {},
   "source": [
    "### 문제 3"
   ]
  },
  {
   "cell_type": "code",
   "execution_count": null,
   "metadata": {},
   "outputs": [],
   "source": [
    "'''\n",
    "구구단 프로그램을 while문이 아닌 for문을 사용해서 만들어 보세요.\n",
    "'''\n",
    "\n",
    "for i in range(1, 10):\n",
    "    for j in range(1, 10):\n",
    "        print(f\"{i} * {j} = {i*j}\")"
   ]
  },
  {
   "cell_type": "markdown",
   "metadata": {},
   "source": [
    "### 문제 4"
   ]
  },
  {
   "cell_type": "code",
   "execution_count": null,
   "metadata": {},
   "outputs": [],
   "source": [
    "'''\n",
    "'피타고라스 정리'라고 들어 보셨나요? 직각삼각형에서, 빗변의 제곱이 두 직각변의 제곱의 합과 같다는 정리입니다.\n",
    "\n",
    "거기서 나온 '피타고라스 삼조'라는 개념이 있는데요, 피타고라스 삼조란, 피타고라스 정리를 만족하는 세 자연수 쌍입니다.\n",
    "예를 들어, 3^2 + 4^2 = 5^2 이기 때문에 (3,4,5)는 피타고라스 삼조입니다.\n",
    "\n",
    "a < b < c라고 가정할 때, a + b + c = 400을 만족하는 피타고라스 삼조(a, b, c)는 단 하나인데요,\n",
    "이 경우 a * b * c는 얼마인가요?\n",
    "\n",
    "(힌트 1번 사용)\n",
    "'''\n",
    "\n",
    "# 처음에는 for num in range(1, 400): 구문을 세 번 쓸까 고민했다가 포기했는데,\n",
    "# 힌트 보니까 비효율적인 코드라고 함...\n",
    "\n",
    "for a in range(1, 400):\n",
    "    for b in range(a, 400):\n",
    "        c = 400 - (a+b)\n",
    "        if a**2 + b**2 == c**2:\n",
    "            print(a * b * c)"
   ]
  },
  {
   "cell_type": "markdown",
   "metadata": {},
   "source": [
    "### 문제 5"
   ]
  },
  {
   "cell_type": "code",
   "execution_count": null,
   "metadata": {},
   "outputs": [],
   "source": [
    "'''\n",
    "리스트 내 요소들의 순서를 거꾸로 뒤집으려고 합니다.\n",
    "\n",
    "예를 들면 다음과 같습니다.\n",
    "- [1, 4, 7]이 있으면 1과 7의 위치를 바꾸어서 [7, 4, 1]로 만듭니다.\n",
    "- [1, 4, 7, 11]이 있으면 1과 11의 위치를 바꾸고, 4와 7의 위치를 바꾸어서 [11, 7, 4, 1]로 만듭니다.\n",
    "\n",
    "아래와 같이 numbers라는 리스트가 주어졌을 때, for문을 사용하여 리스트를 거꾸로 뒤집어 보세요!\n",
    "numbers = [2, 3, 5, 7, 11, 13, 17, 19]\n",
    "'''\n",
    "numbers = [2, 3, 5, 7, 11, 13, 17, 19]\n",
    "\n",
    "# 리스트 뒤집기\n",
    "for i in range(0, 4):\n",
    "    # numbers[i]는 numbers[-(i+1)]을 저장한 뒤에는 사라지므로 temp_number 변수에 원래 값을 임시저장.\n",
    "    temp_number = numbers[i]\n",
    "    numbers[i] = numbers[-(i+1)]\n",
    "    numbers[-(i+1)] = temp_number\n",
    "\n",
    "print(\"뒤집어진 리스트: {}\".format(numbers))"
   ]
  }
 ],
 "metadata": {
  "kernelspec": {
   "display_name": "Python (emma1)",
   "language": "python",
   "name": "myenv"
  },
  "language_info": {
   "codemirror_mode": {
    "name": "ipython",
    "version": 3
   },
   "file_extension": ".py",
   "mimetype": "text/x-python",
   "name": "python",
   "nbconvert_exporter": "python",
   "pygments_lexer": "ipython3",
   "version": "3.13.0"
  }
 },
 "nbformat": 4,
 "nbformat_minor": 2
}
