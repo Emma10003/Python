{
 "cells": [
  {
   "cell_type": "markdown",
   "metadata": {},
   "source": [
    "## k-means 동작 방식"
   ]
  },
  {
   "cell_type": "markdown",
   "metadata": {},
   "source": [
    "k-means의 기본 아이디어는 다음과 같습니다.\n",
    "> 유사한 데이터는 Centroid(중심점)으로부터 가까이에 모여있다.  \n",
    "\n",
    "여기서 Centroid는 무엇을 의미할까요? 그리고, 얼마나 가까운 데이터들이 하나의 클러스터로 묶이는 걸까요?  \n",
    "k-means가 동작하는 과정을 차례대로 살펴보면서 한 번 알아볼게요."
   ]
  },
  {
   "cell_type": "markdown",
   "metadata": {},
   "source": [
    "#### 1단계: Centroid 배치\n",
    "먼저, 클러스터의 개수를 의미하는 k를 정해줘야 합니다. 예시에서는 2로 설정할게요.  \n",
    "그리고, k의 값만큼 Centroid를 생성하여 임의로 배치합니다.\n"
   ]
  },
  {
   "cell_type": "markdown",
   "metadata": {},
   "source": [
    "#### 2단계: 클러스터 형성\n",
    "생성한 Centroid와 각 데이터 사이의 거리를 계산하여 가까이에 있는 데이터들을 하나의 클러스터로 묶어줍니다."
   ]
  },
  {
   "cell_type": "markdown",
   "metadata": {},
   "source": [
    "#### 3단계: Centroid 위치 갱신\n",
    "클러스터에 속해있는 데이터들의 중심으로 Centroid의 위치를 이동합니다.  \n",
    "이 때, 데이터들 사이의 중심을 찾기 위하여 평균값(means)를 사용합니다."
   ]
  },
  {
   "cell_type": "markdown",
   "metadata": {},
   "source": [
    "#### 4단계: 클러스터 재형성\n",
    "새롭게 위치한 Centroid를 기준으로 각 데이터와의 거리를 다시 계산하여 가까운 데이터들을 하나의 클러스터로 묶습니다."
   ]
  },
  {
   "cell_type": "markdown",
   "metadata": {},
   "source": [
    "#### 5단계: Centroid 위치 갱신\n",
    "새롭게 형성된 클러스터의 중심으로 Centroid를 다시 이동시킵니다."
   ]
  },
  {
   "cell_type": "markdown",
   "metadata": {},
   "source": [
    "위의 과정을 여러 단계 반복하면서 Centroid의 위치를 계속 옮기다가,  \n",
    "**k개의 Centroid가 더 이상 위치를 갱신하지 않게 될 때**  \n",
    "그 위치에서 가장 가까운 거리에 있는 데이터들이 하나의 클러스터가 됩니다.\n",
    "\n",
    "이것이 k-means가 클러스터를 나누는 방식입니다."
   ]
  }
 ],
 "metadata": {
  "language_info": {
   "name": "python"
  }
 },
 "nbformat": 4,
 "nbformat_minor": 2
}
