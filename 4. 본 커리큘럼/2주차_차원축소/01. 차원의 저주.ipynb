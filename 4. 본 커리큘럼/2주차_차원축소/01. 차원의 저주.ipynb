{
 "cells": [
  {
   "cell_type": "markdown",
   "metadata": {},
   "source": [
    "## 차원이 많은 데이터의 장점\n",
    "\n",
    "데이터에서 '차원'이란 변수의 개수를 의미합니다. 변수가 1개인 데이터는 1차원 데이터, 2개인 데이터는 2차원 데이터,  \n",
    "n개인 데이터는 n차원 데이터라고 부릅니다. 예를 들어서, 아래와 같은 고객 정보 데이터가 있다고 해 볼게요."
   ]
  },
  {
   "cell_type": "code",
   "execution_count": 7,
   "metadata": {},
   "outputs": [
    {
     "data": {
      "text/html": [
       "<div>\n",
       "<style scoped>\n",
       "    .dataframe tbody tr th:only-of-type {\n",
       "        vertical-align: middle;\n",
       "    }\n",
       "\n",
       "    .dataframe tbody tr th {\n",
       "        vertical-align: top;\n",
       "    }\n",
       "\n",
       "    .dataframe thead th {\n",
       "        text-align: right;\n",
       "    }\n",
       "</style>\n",
       "<table border=\"1\" class=\"dataframe\">\n",
       "  <thead>\n",
       "    <tr style=\"text-align: right;\">\n",
       "      <th></th>\n",
       "      <th>recency</th>\n",
       "      <th>age</th>\n",
       "      <th>children</th>\n",
       "      <th>spent_all</th>\n",
       "      <th>purchase_num_all</th>\n",
       "      <th>family_size</th>\n",
       "    </tr>\n",
       "  </thead>\n",
       "  <tbody>\n",
       "    <tr>\n",
       "      <th>0</th>\n",
       "      <td>58</td>\n",
       "      <td>66</td>\n",
       "      <td>0</td>\n",
       "      <td>1617</td>\n",
       "      <td>25</td>\n",
       "      <td>1</td>\n",
       "    </tr>\n",
       "    <tr>\n",
       "      <th>1</th>\n",
       "      <td>38</td>\n",
       "      <td>69</td>\n",
       "      <td>2</td>\n",
       "      <td>27</td>\n",
       "      <td>6</td>\n",
       "      <td>3</td>\n",
       "    </tr>\n",
       "    <tr>\n",
       "      <th>2</th>\n",
       "      <td>26</td>\n",
       "      <td>58</td>\n",
       "      <td>0</td>\n",
       "      <td>776</td>\n",
       "      <td>21</td>\n",
       "      <td>2</td>\n",
       "    </tr>\n",
       "    <tr>\n",
       "      <th>3</th>\n",
       "      <td>26</td>\n",
       "      <td>39</td>\n",
       "      <td>1</td>\n",
       "      <td>53</td>\n",
       "      <td>8</td>\n",
       "      <td>3</td>\n",
       "    </tr>\n",
       "    <tr>\n",
       "      <th>4</th>\n",
       "      <td>94</td>\n",
       "      <td>42</td>\n",
       "      <td>1</td>\n",
       "      <td>422</td>\n",
       "      <td>19</td>\n",
       "      <td>3</td>\n",
       "    </tr>\n",
       "    <tr>\n",
       "      <th>5</th>\n",
       "      <td>16</td>\n",
       "      <td>56</td>\n",
       "      <td>1</td>\n",
       "      <td>716</td>\n",
       "      <td>22</td>\n",
       "      <td>3</td>\n",
       "    </tr>\n",
       "    <tr>\n",
       "      <th>6</th>\n",
       "      <td>34</td>\n",
       "      <td>52</td>\n",
       "      <td>1</td>\n",
       "      <td>590</td>\n",
       "      <td>21</td>\n",
       "      <td>2</td>\n",
       "    </tr>\n",
       "    <tr>\n",
       "      <th>7</th>\n",
       "      <td>32</td>\n",
       "      <td>38</td>\n",
       "      <td>1</td>\n",
       "      <td>169</td>\n",
       "      <td>10</td>\n",
       "      <td>3</td>\n",
       "    </tr>\n",
       "    <tr>\n",
       "      <th>8</th>\n",
       "      <td>19</td>\n",
       "      <td>49</td>\n",
       "      <td>1</td>\n",
       "      <td>46</td>\n",
       "      <td>6</td>\n",
       "      <td>3</td>\n",
       "    </tr>\n",
       "    <tr>\n",
       "      <th>9</th>\n",
       "      <td>68</td>\n",
       "      <td>73</td>\n",
       "      <td>2</td>\n",
       "      <td>49</td>\n",
       "      <td>2</td>\n",
       "      <td>4</td>\n",
       "    </tr>\n",
       "  </tbody>\n",
       "</table>\n",
       "</div>"
      ],
      "text/plain": [
       "   recency  age  children  spent_all  purchase_num_all  family_size\n",
       "0       58   66         0       1617                25            1\n",
       "1       38   69         2         27                 6            3\n",
       "2       26   58         0        776                21            2\n",
       "3       26   39         1         53                 8            3\n",
       "4       94   42         1        422                19            3\n",
       "5       16   56         1        716                22            3\n",
       "6       34   52         1        590                21            2\n",
       "7       32   38         1        169                10            3\n",
       "8       19   49         1         46                 6            3\n",
       "9       68   73         2         49                 2            4"
      ]
     },
     "execution_count": 7,
     "metadata": {},
     "output_type": "execute_result"
    }
   ],
   "source": [
    "import pandas as pd\n",
    "\n",
    "user = pd.read_csv('data/custom_data.csv')\n",
    "user.head(10)"
   ]
  },
  {
   "cell_type": "markdown",
   "metadata": {},
   "source": [
    "위의 데이터는 변수가 6개이기 때문에 6차원 데이터입니다. 각 차원은 아래와 같은 정보를 가지고 있습니다.  \n",
    "- `recency`: 최근 구매일로부터 경과일\n",
    "- `age`: 나이\n",
    "- `children`: 자녀 수\n",
    "- `spent_all`: 총 구매 금액\n",
    "- `purchase_num_all`: 총 구매 횟수\n",
    "- `family_size`: 총 가족 구성원 수  \n",
    "\n",
    "만약에 `recency`와 `age`라는 2개의 변수만 가지고 있는 2차원 데이터라면 자녀 수, 총 구매 금액, 총 구매 횟수, 총 가족 구성원 수 등의  \n",
    "정보가 누락됩니다. `recency`, `age`, `children`, `spent_all`까지 4차원으로 구성된 데이터는  \n",
    "총 구매 횟수, 총 가족 구성원 수 정보가 없죠. 반면, 6개의 변수가 모두 포함된 6차원의 데이터라면 차원이 낮은 데이터보다  \n",
    "좀 더 많은 정보를 가지게 됩니다. 따라서, 차원이 높은 데이터를 분석에 활용하면 더 많은 정보를 반영한 결과를 얻을 수 있습니다."
   ]
  },
  {
   "cell_type": "markdown",
   "metadata": {},
   "source": [
    "## 차원의 저주란?\n",
    "데이터의 차원이 높아지면 좀 더 많은 정보를 나타낼 수 있습니다. 때문에, 데이터에 있는 변수가 많으면 많을수록 무조건 좋은 거라고  \n",
    "생각할 수 있는데요, 그렇지 않습니다. 오히려 데이터의 차원이 너무 많아지면 분석의 정확도가 떨어지는 경우도 있습니다.  \n",
    "이런 현상을 차원의 저주라고 합니다.\n",
    "\n",
    "차원의 저주가 발생하는 상황을 직접 확인하기 위해 `user` 데이터의 클러스터링 결과를 차원의 수에 따라 비교해 보겠습니다.\n",
    "\n",
    "먼저, 6차원 데이터로 클러스터 개수 k를 1부터 9까지 바꿔가며 모델을 학습시킨 결과의 성능 지표인 inertia를 시각화한 그래프입니다."
   ]
  },
  {
   "cell_type": "code",
   "execution_count": 9,
   "metadata": {},
   "outputs": [
    {
     "data": {
      "text/plain": [
       "<Axes: >"
      ]
     },
     "execution_count": 9,
     "metadata": {},
     "output_type": "execute_result"
    },
    {
     "data": {
      "image/png": "[encoded data removed]",
      "text/plain": [
       "<Figure size 640x480 with 1 Axes>"
      ]
     },
     "metadata": {},
     "output_type": "display_data"
    }
   ],
   "source": [
    "from sklearn.cluster import KMeans\n",
    "import seaborn as sns\n",
    "from matplotlib import pyplot as plt\n",
    "\n",
    "# 데이터 스케일링\n",
    "user_mean = user.mean()  # 각 컬럼의 평균값\n",
    "user_std = user.std()    # 각 컬럼의 표준편차\n",
    "scaled_df = (user - user_mean) / user_std  # 컬럼별 표준화\n",
    "\n",
    "# 클러스터링\n",
    "ks = range(1,10)\n",
    "inertias = []\n",
    "\n",
    "for k in ks:\n",
    "    model = KMeans(n_clusters=k)  # 1~10까지 k의 개수를 지정하여 모델 생성\n",
    "    model.fit(scaled_df)  # 모델 학습\n",
    "    inertias.append(model.inertia_)\n",
    "\n",
    "# 시각화\n",
    "sns.lineplot(x=ks, y=inertias, marker='o')"
   ]
  },
  {
   "cell_type": "markdown",
   "metadata": {},
   "source": [
    "다음으로, 6개의 차원을 2개 차원 축소시킨 후에 다시 k-means를 적용해 보겠습니다. 차원을 줄이는 데에는  \n",
    "PCA라는 방법을 쓸 건데요. 그냥 고차원의 데이터를 저차원으로 바꾸는 데 사용되는 방법이라는 것이라고 이해하면 됩니다."
   ]
  },
  {
   "cell_type": "code",
   "execution_count": 11,
   "metadata": {},
   "outputs": [
    {
     "data": {
      "text/plain": [
       "<Axes: >"
      ]
     },
     "execution_count": 11,
     "metadata": {},
     "output_type": "execute_result"
    },
    {
     "data": {
      "image/png": "[encoded data removed]",
      "text/plain": [
       "<Figure size 640x480 with 1 Axes>"
      ]
     },
     "metadata": {},
     "output_type": "display_data"
    }
   ],
   "source": [
    "from sklearn.decomposition import PCA\n",
    "\n",
    "pca = PCA(n_components=2)  # n_components: 유지할 차원의 개수\n",
    "\n",
    "# PCA 적용\n",
    "pca.fit(scaled_df)\n",
    "scaled_df_pca = pca.transform(scaled_df)\n",
    "pca_df = pd.DataFrame(scaled_df_pca)\n",
    "\n",
    "# 클러스터링\n",
    "ks = range(1,10)\n",
    "inertias = []\n",
    "\n",
    "for k in ks:\n",
    "    model = KMeans(n_clusters=k)\n",
    "    model.fit(pca_df)\n",
    "    inertias.append(model.inertia_)\n",
    "\n",
    "# 시각화\n",
    "sns.lineplot(x=ks, y=inertias, marker='o')"
   ]
  },
  {
   "cell_type": "markdown",
   "metadata": {},
   "source": [
    "두 그래프를 비교해 보면, 차원이 2개인 데이터로 클러스터링 한 결과가 차원이 6개인 데이터로 클러스터링 한 결과보다 모든 클러스터 개수 k에서  \n",
    "inertia 값이 작은 것을 알 수 있습니다. 즉, 차원의 개수가 더 작을수록 클러스터링의 결과로 모인 데이터들이  \n",
    "더 많이 유사하고, 성능이 좋게 나오는 것이죠.  \n",
    "\n",
    "이렇게 차원이 커지면 분석의 성능이 떨어지는 차원의 저주 문제가 발생합니다. 해당 문제를 해결하기 위해서는  \n",
    "여러 방법이 있는데요, 이번 토픽에서는 여러 방법들 중 하나인 차원 축소에 대해서 알아보도록 합시다."
   ]
  }
 ],
 "metadata": {
  "kernelspec": {
   "display_name": "base",
   "language": "python",
   "name": "python3"
  },
  "language_info": {
   "codemirror_mode": {
    "name": "ipython",
    "version": 3
   },
   "file_extension": ".py",
   "mimetype": "text/x-python",
   "name": "python",
   "nbconvert_exporter": "python",
   "pygments_lexer": "ipython3",
   "version": "3.12.4"
  }
 },
 "nbformat": 4,
 "nbformat_minor": 2
}
