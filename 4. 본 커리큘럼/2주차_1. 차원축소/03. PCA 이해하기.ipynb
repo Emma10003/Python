{
 "cells": [
  {
   "cell_type": "markdown",
   "metadata": {},
   "source": [
    "PCA(Principal Component Analysis)는 대표적인 차원 축소 기법 중 하나입니다.  \n",
    "여러 차원들의 특징을 가장 잘 설명해 주는 차원인 주성분(Principal Component)을 이용하여 차원을 축소하는 방법인데요.  \n",
    "구체적으로 어떻게 동작하는지 한 번 살펴보도록 할게요."
   ]
  },
  {
   "cell_type": "markdown",
   "metadata": {},
   "source": [
    "## PCA의 동작 과정\n",
    "### 데이터 표준화 및 원점 이동\n",
    "PCA가 동작하는 과정을 살펴보기 위하여 가상의 데이터를 활용해 볼게요. 아래는 일반인 6명의 키와 신발 사이즈 데이터를  \n",
    "2차원 좌표 평면에 표시한 그림입니다."
   ]
  },
  {
   "cell_type": "markdown",
   "metadata": {},
   "source": [
    "![이미지](image/03-이미지1.png)"
   ]
  },
  {
   "cell_type": "markdown",
   "metadata": {},
   "source": [
    "먼저, PCA를 하기 위해선 <span style='color:yellowgreen'>데이터의 단위를 통일</span>해야 합니다. 위의 예시에서, 키를 표시한 단위는 m이고,  \n",
    "신발의 단위는 mm인데요. 이렇게 변수의 단위가 다르면 두 변수의 영향이 PCA 결과에 고르게 반영되는 것이 아니라,  \n",
    "상대적으로 큰 값이 들어간 변수의 영향이 더 많이 반영됩니다.  \n",
    "예를 들어서, 위 예시에서는 신발 사이즈가 키보다 실제로는 작은 값이지만 숫자 자체는 더 크기 때문에 결과에넌 더 큰 영향을 미칠 수 있게 됩니다.\n",
    "\n",
    "따라서, PCA를 적용하기 전에는 반드시 변수 간 단위를 통일해 주는 과정이 필요합니다.  \n",
    "보통은 <span style='color:yellowgreen'>데이터의 값을 평균에서 빼서 표준편차로 나눠</span>주는 <span style='color:yellowgreen'>표준화</span>를 사용합니다.  \n",
    "위 데이터에 적용하면 아래와 같이 각 축의 단위와 데이터의 위치가 바뀌게 됩니다."
   ]
  },
  {
   "cell_type": "markdown",
   "metadata": {},
   "source": [
    "![이미지](image/03-이미지2.png)"
   ]
  },
  {
   "cell_type": "markdown",
   "metadata": {},
   "source": [
    "데이터를 표준화하면 단순히 변수의 단위만 통일되는 것이 아니라 <span style='color:yellowgreen'>데이터의 중심 지점이 원점이 되도록 위치가 이동되는 효과</span>가 있습니다."
   ]
  },
  {
   "cell_type": "markdown",
   "metadata": {},
   "source": [
    "### 주성분 찾기\n",
    "다음으로, 두 개의 차원(키, 신발 사이즈)으로 표현되는 데이터들을 가장 잘 설명해 주는 주성분을 찾아야 합니다.  \n",
    "주성분은 <span style='color:yellowgreen'>데이터들의 중심(원점)을 지나면서 모든 데이터들에서의 수직 거리의 합이 가장 가깝도록 하는 선</span>인데요.  \n",
    "실제로 주성분을 찾는 과정에 대해서는 이후 레슨을 통해 좀 더 자세하게 안내해 드릴게요.  \n",
    "일단은, 아래 이미지와 같이 데이터들과 선의 거리의 합이 가장 작아지도록 한 주성분을 표시해 둘게요."
   ]
  },
  {
   "cell_type": "markdown",
   "metadata": {},
   "source": [
    "![이미지](image/03-이미지3.png)"
   ]
  },
  {
   "cell_type": "markdown",
   "metadata": {},
   "source": [
    "다음으로, 두 번째 주성분을 찾아볼게요. 참고로, n차원의 데이터에서는 총 n개의 주성분이 존재할 수 있습니다.  \n",
    "저희가 살펴보는 예시는 변수가 2개인 2차원의 데이터였죠? 따라서, 위의 예시에서는 두 번째 주성분을 찾아서 그릴 수 있습니다.\n",
    "\n",
    "<span style='color:yellowgreen'>두 번째 주성분</span>은 <span style='color:yellowgreen'>첫 번째로 찾은 메인 주성분에 수직이면서 원점을 지나고, 데이터들과의 거리 합이 가장 작은 선</span>을  \n",
    "찾으면 됩니다. 이미지에서는 아래와 같이 표현되겠네요."
   ]
  },
  {
   "cell_type": "markdown",
   "metadata": {},
   "source": [
    "![이미지](image/03-이미지4.png)"
   ]
  },
  {
   "cell_type": "markdown",
   "metadata": {},
   "source": [
    "### 데이터 투영하기\n",
    "이제, 찾아진 주성분으로 데이터를 투영(Projection)합니다. 투영이란, 쉽게 얘기해서 <span style='color:yellowgreen'>데이터들을 주성분 위로 옮기는 과정</span>을  \n",
    "의미합니다. 투영을 하면 모든 데이터들은 아래 이미지처럼 주성분 위에 위치하게 됩니다."
   ]
  },
  {
   "cell_type": "markdown",
   "metadata": {},
   "source": [
    "![이미지](image/03-이미지5.png)"
   ]
  },
  {
   "cell_type": "markdown",
   "metadata": {},
   "source": [
    "### 새로운 축 기준으로 데이터 회전하기\n",
    "마지막으로, 새롭게 만들어진 변수인 첫 번째 주성분(PC1)과 두 번째 주성분(PC2)이 각각 x축과 y축이 될 수 있도록  \n",
    "축과 데이터 전체를 회전시킵니다. 그러면 아래 이미지처럼 데이터들의 분포도 함께 변하게 되는데요."
   ]
  },
  {
   "cell_type": "markdown",
   "metadata": {},
   "source": [
    "![이미지](image/03-이미지6.png)"
   ]
  },
  {
   "cell_type": "markdown",
   "metadata": {},
   "source": [
    "이제, 키와 신발 사이즈라는 2개의 변수는 사라지고, PC1과 PC2라는 새로운 변수로 데이터를 표현할 수 있게 되었습니다.  \n",
    "PC1과 PC2가 각각 무엇인지는 모르지만, 그래도 해당 축이 데이터의 특성을 가장 잘 설명한다고 할 수 있는 축이  \n",
    "찾아진 것이죠.\n",
    "\n",
    "이렇게 주성분이 찾아지면, 차원을 축소하는 것은 쉽습니다.  \n",
    "만약에 2차원인 데이터를 1차원으로 줄이고 싶다면 PC1만을 사용해서 데이터를 나타내면 됩니다."
   ]
  },
  {
   "cell_type": "markdown",
   "metadata": {},
   "source": [
    "![image](image/03-이미지7.png)"
   ]
  },
  {
   "cell_type": "markdown",
   "metadata": {},
   "source": [
    "만약에 2차원으로 나타내려면 PC1과 PC2 두 개의 축으로 이루어진 좌표 평면에 데이터들을 아래와 같이 표현하면 됩니다."
   ]
  },
  {
   "cell_type": "markdown",
   "metadata": {},
   "source": [
    "![image](image/03-이미지8.png)"
   ]
  }
 ],
 "metadata": {
  "language_info": {
   "name": "python"
  }
 },
 "nbformat": 4,
 "nbformat_minor": 2
}
