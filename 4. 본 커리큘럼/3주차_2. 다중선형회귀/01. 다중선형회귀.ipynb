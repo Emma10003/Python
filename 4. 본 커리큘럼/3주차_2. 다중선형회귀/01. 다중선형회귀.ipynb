{
 "cells": [
  {
   "cell_type": "markdown",
   "metadata": {},
   "source": [
    "## 다중선형회귀"
   ]
  },
  {
   "cell_type": "markdown",
   "metadata": {},
   "source": [
    "다중선형회귀는 <span style='color:yellowgreen'>**입력변수가 여러 개**</span>, 목표변수는 1개  \n",
    "\n",
    "- 입력변수 = 속성, feature  \n",
    ": x₁, x₂, x₃, x₄ ...  \n",
    "입력변수의 개수는 **n**으로 표현.  \n",
    "- 목표변수  \n",
    ": y  \n",
    "- 학습 데이터 개수: m\n",
    "\n",
    "- 첫 번째 데이터의 입력변수는 x⁽¹⁾, 목표변수는 y⁽¹⁾로 나타냄.\n",
    "    - 여기서 x⁽¹⁾는 하나의 값(스칼라)가 아니라, <span style='color:yellowgreen'>**벡터**</span>."
   ]
  },
  {
   "cell_type": "markdown",
   "metadata": {},
   "source": [
    "<img src=\"image/01-1.png\" width=\"700px\"/>"
   ]
  },
  {
   "cell_type": "markdown",
   "metadata": {},
   "source": [
    "3번째 데이터의 두 번째 속성을 나타내고 싶다면? : $x_2^{(3)}$\n",
    "\n",
    "**i번째 데이터의 j번째 속성**: $x_j^{(i)}$"
   ]
  }
 ],
 "metadata": {
  "language_info": {
   "name": "python"
  }
 },
 "nbformat": 4,
 "nbformat_minor": 2
}
