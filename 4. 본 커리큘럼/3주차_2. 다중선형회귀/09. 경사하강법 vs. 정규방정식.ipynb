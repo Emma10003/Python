{
 "cells": [
  {
   "cell_type": "markdown",
   "metadata": {},
   "source": [
    "이번 챕터에서는 선형 회귀의 손실함수 $J(\\theta)$를 최소화하는 $\\theta$를 찾는 두 가지 방법,  \n",
    "경사하강법과 정규방정식을 봤는데요. 이 두 가지 방법을 비교해보도록 하겠습니다."
   ]
  },
  {
   "cell_type": "markdown",
   "metadata": {},
   "source": [
    "<img src=\"image/09-1.png\" width=\"700px\"/>"
   ]
  },
  {
   "cell_type": "markdown",
   "metadata": {},
   "source": [
    "이런 차이가 있습니다.\n",
    "\n",
    "그렇다면 둘 중 어떤 걸 선택해야 할까요?\n",
    "\n",
    "절대적으로 정해진 건 없습니다. 입력 변수(속성)의 수가 엄청 많을 때는(1000개 이상을 기준으로 사용할 때가 많습니다)  \n",
    "경사하강법을, 비교적 입력변수의 수가 적을 때는 정규방정식을 사용합니다."
   ]
  }
 ],
 "metadata": {
  "language_info": {
   "name": "python"
  }
 },
 "nbformat": 4,
 "nbformat_minor": 2
}
