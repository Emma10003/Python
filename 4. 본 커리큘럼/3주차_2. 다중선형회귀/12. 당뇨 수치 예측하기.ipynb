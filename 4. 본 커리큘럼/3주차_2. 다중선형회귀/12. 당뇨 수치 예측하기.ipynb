{
 "cells": [
  {
   "cell_type": "markdown",
   "metadata": {},
   "source": [
    "## 실습 설명\n",
    "이번 과제에서는 scikit-learn 라이브러리에 있는 또 다른 데이터셋인 당뇨병 수치 데이터를 이용해서  \n",
    "선형 모델을 학습시켜 보겠습니다.\n",
    "\n",
    "당뇨병 데이터셋을 가지고 와서 각각 입력변수와 목표변수를 dataframe으로 바꾸는 코드까지는 이미 작성되어 있어요.  \n",
    "앞에서 배운 것처럼 이번 실습에서는 아래 내용들을 작성해 보겠습니다.\n",
    "\n",
    "1. 데이터를 training/test 셋으로 나누기\n",
    "2. 선형 회귀 모델을 학습\n",
    "3. 학습 데이터를 이용한 예측\n",
    "\n",
    "(과제를 하기 전 꼭 `print(diabetes_dataset.DESCR)`을 써서 데이터셋 내용을 살펴보세요!)\n",
    "\n",
    "### 조건\n",
    "- `train_test_split` 함수의 옵셔널 파라미터는 `test_size=0.2`, `random_state=5` 이렇게 설정해 주세요.\n",
    "- testing set의 예측값들은 꼭 변수 `y_test_predict`에 저장해 주세요."
   ]
  },
  {
   "cell_type": "code",
   "execution_count": 2,
   "metadata": {},
   "outputs": [],
   "source": [
    "# 필요한 라이브러리 import\n",
    "from sklearn import datasets\n",
    "from sklearn.model_selection import train_test_split\n",
    "from sklearn.linear_model import LinearRegression\n",
    "from sklearn.metrics import mean_squared_error\n",
    "\n",
    "import pandas as pd"
   ]
  },
  {
   "cell_type": "code",
   "execution_count": 8,
   "metadata": {},
   "outputs": [],
   "source": [
    "# 당뇨병 데이터 갖고 오기\n",
    "diabetes_dataset = datasets.load_diabetes()\n",
    "\n",
    "# 입력 변수를 사용하기 편하게 pandas dataframe으로 변환\n",
    "X = pd.DataFrame(diabetes_dataset.data, columns=diabetes_dataset.feature_names)\n",
    "\n",
    "# 목표 변수를 사용하기 편하게 pandas dataframe으로 변환\n",
    "y = pd.DataFrame(diabetes_dataset.target, columns=['diabetes'])\n",
    "\n",
    "# 여기에 코드를 작성하세요\n",
    "X_train, X_test, y_train, y_test = train_test_split(X, y, test_size=0.2, random_state=5)\n",
    "\n",
    "model = LinearRegression()\n",
    "model.fit(X_train, y_train)\n",
    "\n",
    "y_test_predict = model.predict(X_test)"
   ]
  },
  {
   "cell_type": "code",
   "execution_count": 9,
   "metadata": {},
   "outputs": [
    {
     "data": {
      "text/plain": [
       "54.60391290294691"
      ]
     },
     "execution_count": 9,
     "metadata": {},
     "output_type": "execute_result"
    }
   ],
   "source": [
    "# 평균 제곱 오차의 루트를 통해서 테스트 데이터에서의 모델 성능 판단\n",
    "mse = mean_squared_error(y_test, y_test_predict)\n",
    "\n",
    "mse ** 0.5"
   ]
  }
 ],
 "metadata": {
  "kernelspec": {
   "display_name": "base",
   "language": "python",
   "name": "python3"
  },
  "language_info": {
   "codemirror_mode": {
    "name": "ipython",
    "version": 3
   },
   "file_extension": ".py",
   "mimetype": "text/x-python",
   "name": "python",
   "nbconvert_exporter": "python",
   "pygments_lexer": "ipython3",
   "version": "3.12.4"
  }
 },
 "nbformat": 4,
 "nbformat_minor": 2
}
