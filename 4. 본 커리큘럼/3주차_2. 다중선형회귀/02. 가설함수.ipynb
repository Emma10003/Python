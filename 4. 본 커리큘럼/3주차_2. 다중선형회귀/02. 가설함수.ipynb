{
 "cells": [
  {
   "cell_type": "markdown",
   "metadata": {},
   "source": [
    "## 가설함수\n",
    "가설함수는 입력변수를 받고 목표변수를 예측하는 역할.  \n",
    "다중선형회귀에서의 가설함수: $\\textcolor{yellowgreen}{h_\\theta(x) = \\theta_0 + \\theta_1x_1 + \\theta_2x_2 + \\, ··· + \\theta_nx_n}$"
   ]
  },
  {
   "cell_type": "markdown",
   "metadata": {},
   "source": [
    "<img src=\"image/02-1.png\" width=\"700px\"/>"
   ]
  },
  {
   "cell_type": "markdown",
   "metadata": {},
   "source": [
    "<img src=\"image/02-2.png\" width=\"700px\"/>"
   ]
  },
  {
   "cell_type": "markdown",
   "metadata": {},
   "source": [
    "$x_n$은 <span style='color:yellowgreen'>입력변수</span>를 나타내고,  \n",
    "$\\theta_n$은 <span style='color:yellowgreen'>각각의 입력변수(독립변수)가 목표변수(종속변수)에 미치는 영향</span>을 나타냄.\n",
    "\n",
    "$\\theta$값을 잘 조율해서 최적의 값을 구하는 것이 다중선형회귀의 목표!"
   ]
  },
  {
   "cell_type": "markdown",
   "metadata": {},
   "source": [
    "### 더 단순하게 표현하기"
   ]
  },
  {
   "cell_type": "markdown",
   "metadata": {},
   "source": [
    "<img src=\"image/02-3.png\" width=\"700px\"/>"
   ]
  },
  {
   "cell_type": "markdown",
   "metadata": {},
   "source": [
    "벡터의 내적곱을 생각하면 된다!  \n",
    "\n",
    "$\\theta^T$인 이유는, 행렬 곱셈을 하기 위해서는 앞 행렬의 열 개수와 뒤 행렬의 행 개수가 같아야 하기 때문.  \n",
    "그냥 스칼라곱을 해도 $h_\\theta(x)$와 같은 수식이 되기는 하지만, 계산과 수학적 표현의 간결성을 위해  \n",
    "$\\theta$ 벡터를 전치시켜서 계산."
   ]
  }
 ],
 "metadata": {
  "language_info": {
   "name": "python"
  }
 },
 "nbformat": 4,
 "nbformat_minor": 2
}
