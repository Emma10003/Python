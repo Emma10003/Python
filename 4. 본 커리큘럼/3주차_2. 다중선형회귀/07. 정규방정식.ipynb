{
 "cells": [
  {
   "cell_type": "markdown",
   "metadata": {},
   "source": [
    "손실함수가 \n",
    "$$\n",
    "J(\\theta) = \\theta^2 - 2\\theta + 1\n",
    "$$\n",
    "인 2차함수일 때,  \n",
    "경사하강법은 특정 지점을 선택 후 아래로 내려가면서 극소점을 찾는 것.  \n",
    "\n",
    "이렇게 조금씩 찾아가는 게 아니라, 한 번에 극소점을 찾는 방법은 없을까?\n",
    "\n",
    "극소점인 부분은 기울기가 0이므로, $J(\\theta)$를 미분하여 값이 0이 되는 $\\theta$값을 찾으면 된다!  \n",
    "$$\n",
    "J'(\\theta) = 2\\theta - 2 = 0\n",
    "$$\n",
    "이 방정식을 풀면 된다. (위에서는 $\\theta$ = 1)\n",
    "---\n",
    "실제 선형회귀의 손실함수는 위처럼 간단한 이차함수가 아니라,\n",
    "$$\n",
    "J(\\theta) = frac{1}{2m}\\sum_{i=1}^{m}(h_\\theta(x^{(i)}) - y^{(i)})^2\n",
    "$$\n",
    "이렇게 생겼고, 이를 미분하면\n",
    "$$\n",
    "\\nabla J(\\theta) = 0\n",
    "$$\n",
    "가 된다. 이 방정식을 풀면 최적의 $\\theta$값을 구할 수 있다.  \n",
    "\n",
    "이렇게 경사하강법이 아닌 방정식을 통해 극소점을 찾는 방식을 '**정규방정식**(normal equation)'이라고 한다."
   ]
  },
  {
   "cell_type": "markdown",
   "metadata": {},
   "source": [
    "위의 식을 쉽게 계산하는 방법:\n",
    "$$\n",
    "\\theta = (X^TX)^{-1} \\cdot X^Ty\n",
    "$$\n",
    "이 식에 x와 y를 대입하면 된다. 위의 식을 계산하면 <span style='color:lightblue'>손실함수의 기울기가 0이 되는</span> $\\textcolor{lightblue}{\\theta}$<span style='color:lightblue'>값을 구할 수 있다</span>! \n",
    "- X : 입력변수 전체를 나타내는 행렬.\n",
    "- y : 목표변수 전체를 나타내는 벡터.\n",
    "- $\\theta$ : 모든 $\\theta$값들을 저장하고 있는 벡터.\n",
    "\n",
    "- $^T$ : 전치행렬\n",
    "- $^{-1}$ : 역행렬  \n",
    "\n",
    "위의 식을 도출하는 방법은 복잡해서 생략... '12. (선택)정규 방정식 도출하기' 레슨 참고"
   ]
  }
 ],
 "metadata": {
  "language_info": {
   "name": "python"
  }
 },
 "nbformat": 4,
 "nbformat_minor": 2
}
