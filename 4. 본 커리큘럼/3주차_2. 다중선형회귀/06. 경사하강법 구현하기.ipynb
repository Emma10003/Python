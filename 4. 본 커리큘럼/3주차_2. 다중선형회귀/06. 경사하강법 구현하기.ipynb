{
 "cells": [
  {
   "cell_type": "markdown",
   "metadata": {},
   "source": [
    "## 실습설명\n",
    "$$\n",
    "X=\n",
    "\\begin{bmatrix}\n",
    "x_0^{(1)} & x_1^{(1)} & \\cdots & x_n^{(1)} \\\\\n",
    "x_0^{(2)} & x_1^{(2)} & \\cdots & x_n^{(2)} \\\\\n",
    "\\vdots \\\\\n",
    "x_0^{(m)} & x_1^{(m)} & \\cdots & x_n^{(m)}\n",
    "\\end{bmatrix}\n",
    ",\n",
    "\\theta =\n",
    "\\begin{bmatrix}\n",
    "\\theta_0 \\\\\n",
    "\\theta_1 \\\\\n",
    "\\theta_2 \\\\\n",
    "\\vdots \\\\\n",
    "\\theta_n \\\\\n",
    "\\end{bmatrix}\n",
    ",\n",
    "y = \n",
    "\\begin{bmatrix}\n",
    "y^{(1)} \\\\\n",
    "y^{(2)} \\\\\n",
    "\\vdots \\\\\n",
    "y^{(n)}\n",
    "\\end{bmatrix}\n",
    "$$\n",
    "\n",
    "일 때, 다중선형회귀 경사하강법을 행렬연산으로\n",
    "\n",
    "$$\n",
    "손실함수 \\, J(\\theta)\\, 최소점을\\, 찾을\\, 때\\, 까지(또는\\, 미리\\, 정한\\, 횟수\\, 만큼):\\\\\n",
    "\\\\[10pt]\n",
    "\\theta \\leftarrow \\theta - a\\frac{1}{m}X^T(X\\theta - y)\n",
    "$$\n",
    "\n",
    "이렇게 표현할 수 있다고 했는데요, 이번 레슨에서는 이 내용을 한번 코드로 구현해 보겠습니다."
   ]
  },
  {
   "cell_type": "markdown",
   "metadata": {},
   "source": [
    "## `gradient_descent` 함수\n",
    "`gradient_descent` 함수는 경사하강법을 구현하는 함수입니다.  \n",
    "파라미터로는 설계행렬 `X`, 파라미터 `theta`, 목표변수 `y`, 경사하강법을 실행하는 횟수 `iterations`,  \n",
    "그리고 학습률 `alpha`를 받습니다.\n",
    "\n",
    "`iterations`번 만큼 경사하강법을 진행하고, 그 결과(`theta`)를 리턴합니다."
   ]
  },
  {
   "cell_type": "code",
   "execution_count": 1,
   "metadata": {},
   "outputs": [],
   "source": [
    "import numpy as np"
   ]
  },
  {
   "cell_type": "code",
   "execution_count": 8,
   "metadata": {},
   "outputs": [],
   "source": [
    "def prediction(X, theta):\n",
    "    \"\"\"다중 선형 회귀 가정 함수. 모든 데이터에 대한 예측 값을 numpy 배열로 리턴한다\"\"\"\n",
    "    # 지난 실습의 코드를 여기에 붙여 넣으세요\n",
    "    return X @ theta  # hθ(x⁽¹⁾), hθ(x⁽²⁾), ... hθ(x⁽ᵐ⁾) 벡터.\n",
    "    \n",
    "\n",
    "def gradient_descent(X, theta, y, iterations, alpha):\n",
    "    \"\"\"다중 선형 회귀 경사 하강법을 구현한 함수\"\"\"\n",
    "    m = len(X)  # 입력 변수 개수 저장\n",
    "    \n",
    "    for i in range(iterations):\n",
    "        # 일단 오류를 구함\n",
    "        error = prediction(X, theta) - y  # 오차값의 벡터 -- hθ(x⁽ᵐ⁾) - y⁽ᵐ⁾ 벡터\n",
    "        # X @ error을 계산 -- ∑(hθ(x⁽ᵐ⁾) - y⁽ᵐ⁾)을 구하기 위해.\n",
    "        # X는 행렬이고 error는 벡터니까 행렬곱 연산자 사용 (X는 전치시켜야 함.)\n",
    "        # 공식 적용\n",
    "        theta = theta - alpha / m * (X.T@error)  # 기존 theta 업데이트\n",
    "        \n",
    "    return theta"
   ]
  },
  {
   "cell_type": "code",
   "execution_count": 9,
   "metadata": {},
   "outputs": [
    {
     "data": {
      "text/plain": [
       "array([0.11484521, 1.21120425, 0.18270523, 0.30060782])"
      ]
     },
     "execution_count": 9,
     "metadata": {},
     "output_type": "execute_result"
    }
   ],
   "source": [
    "# 입력 변수\n",
    "house_size = np.array([1.0, 1.5, 1.8, 5, 2.0, 2.5, 3.0, 3.5, 4.0, 5.0, 6.0, 7.0, 8.0, 8.5, 9.0, 10.0])  # 집 크기\n",
    "distance_from_station = np.array([5, 4.6, 4.2, 3.9, 3.9, 3.6, 3.5, 3.4, 2.9, 2.8, 2.7, 2.3, 2.0, 1.8, 1.5, 1.0])  # 지하철역으로부터의 거리 (km)\n",
    "number_of_rooms = np.array([1, 1, 1, 1, 2, 2, 2, 2, 3, 3, 3, 3, 4, 4, 4, 4])  # 방 수\n",
    "\n",
    "# 목표 변수\n",
    "house_price = np.array([3, 3.2, 3.6 , 8, 3.4, 4.5, 5, 5.8, 6, 6.5, 9, 9, 10, 12, 13, 15])  # 집 가격\n",
    "\n",
    "# 설계 행렬 X 정의\n",
    "X = np.array([\n",
    "    np.ones(16),\n",
    "    house_size,\n",
    "    distance_from_station,\n",
    "    number_of_rooms\n",
    "]).T\n",
    "\n",
    "# 목표 변수 y 정의\n",
    "y = house_price\n",
    "\n",
    "# 파라미터 theta 초기화\n",
    "theta = np.array([0, 0, 0, 0])\n",
    "\n",
    "# 학습률 0.01로 100번 경사 하강\n",
    "theta = gradient_descent(X, theta, y, 100, 0.01)\n",
    "\n",
    "theta"
   ]
  }
 ],
 "metadata": {
  "kernelspec": {
   "display_name": "base",
   "language": "python",
   "name": "python3"
  },
  "language_info": {
   "codemirror_mode": {
    "name": "ipython",
    "version": 3
   },
   "file_extension": ".py",
   "mimetype": "text/x-python",
   "name": "python",
   "nbconvert_exporter": "python",
   "pygments_lexer": "ipython3",
   "version": "3.12.4"
  }
 },
 "nbformat": 4,
 "nbformat_minor": 2
}
