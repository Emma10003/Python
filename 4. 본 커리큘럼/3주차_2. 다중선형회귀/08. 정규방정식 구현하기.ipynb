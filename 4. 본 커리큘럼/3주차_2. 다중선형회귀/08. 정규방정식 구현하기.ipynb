{
 "cells": [
  {
   "cell_type": "markdown",
   "metadata": {},
   "source": [
    "## 실습 설명\n",
    "이번 과제에서는 정규 방정식을 구현해서 선형 회귀 문제를 해결해보겠습니다. \n",
    "\n",
    "정규 방정식은 손실함수 $J(\\theta)$의 경사를 0으로 정의해서 $(\\nabla J(\\theta) = 0) J$의 최소 지점을  \n",
    "찾는 방법이었는데요.\n",
    "$$\n",
    "X = \n",
    "\\begin{bmatrix}\n",
    "x_0^{(1)} & x_1^{(1)} & \\cdots & x_n^{(1)} \\\\\n",
    "x_0^{(2)} & x_1^{(2)} & \\cdots & x_n^{(2)} \\\\\n",
    "\\vdots \\\\\n",
    "x_0^{(m)} & x_1^{(m)} & \\cdots & x_n^{(m)} \\\\\n",
    "\\end{bmatrix}\n",
    ",\n",
    "\\theta = \n",
    "\\begin{bmatrix}\n",
    "\\theta_0 \\\\\n",
    "\\theta_1 \\\\\n",
    "\\vdots \\\\\n",
    "\\theta_n \\\\\n",
    "\\end{bmatrix}\n",
    ",\n",
    "y=\n",
    "\\begin{bmatrix}\n",
    "y^{(1)} \\\\\n",
    "y^{(2)} \\\\\n",
    "\\vdots \\\\\n",
    "y^{(m)} \\\\\n",
    "\\end{bmatrix}\n",
    "$$\n",
    "일 때:\n",
    "$$\n",
    "\\theta = (X^TX)^{-1}X^Ty\n",
    "$$\n",
    "이렇게 단순 행렬 계산만으로도 최적의 $\\theta$값들을 구할 수 있습니다.  \n",
    "이번 과제에서는 numpy를 이용해서 이 식을 한 번 직접 구현해보겠습니다."
   ]
  },
  {
   "cell_type": "markdown",
   "metadata": {},
   "source": [
    "## `normal_equation` 함수\n",
    "`normal_equation` 함수는 파라미터로 설계행렬 `X`, 모든 목표 변수 벡터 `y`를 받아서  \n",
    "정규 방정식을 계산해 최적의 `theta`값들을 numpy 배열로 리턴합니다."
   ]
  },
  {
   "cell_type": "code",
   "execution_count": 1,
   "metadata": {},
   "outputs": [],
   "source": [
    "import numpy as np"
   ]
  },
  {
   "cell_type": "code",
   "execution_count": 2,
   "metadata": {},
   "outputs": [],
   "source": [
    "def normal_equation(X, y):\n",
    "    \"\"\"설계 행렬 X와 목표 변수 벡터 y를 받아 정규 방정식으로 최적의 theta를 구하는 함수\"\"\"\n",
    "    # 여기에 코드를 작성하세요\n",
    "    return np.linalg.inv(X.T @ X) @ X.T @ y  # np.linalg.pinv도 가능."
   ]
  },
  {
   "cell_type": "markdown",
   "metadata": {},
   "source": [
    "- 원래 행렬이 역함수가 존재하는 경우에는 .inv()와 .pinv() 모두 같은 결과를 내지만,  \n",
    "역행렬이 없는 경우에는 .pinv()만 결과를 낼 수 있다."
   ]
  },
  {
   "cell_type": "code",
   "execution_count": 3,
   "metadata": {},
   "outputs": [
    {
     "data": {
      "text/plain": [
       "array([ 5.24706322,  1.30727421, -0.68881811, -0.8709494 ])"
      ]
     },
     "execution_count": 3,
     "metadata": {},
     "output_type": "execute_result"
    }
   ],
   "source": [
    "# 입력 변수\n",
    "house_size = np.array([1.0, 1.5, 1.8, 5, 2.0, 2.5, 3.0, 3.5, 4.0, 5.0, 6.0, 7.0, 8.0, 8.5, 9.0, 10.0])  # 집 크기\n",
    "distance_from_station = np.array([5, 4.6, 4.2, 3.9, 3.9, 3.6, 3.5, 3.4, 2.9, 2.8, 2.7, 2.3, 2.0, 1.8, 1.5, 1.0])  # 지하철역으로부터의 거리 (km)\n",
    "number_of_rooms = np.array([1, 1, 1, 1, 2, 2, 2, 2, 3, 3, 3, 3, 4, 4, 4, 4])  # 방 수\n",
    "\n",
    "# 목표 변수\n",
    "house_price = np.array([3, 3.2, 3.6 , 8, 3.4, 4.5, 5, 5.8, 6, 6.5, 9, 9, 10, 12, 13, 15])  # 집 가격\n",
    "\n",
    "# 입력 변수 파라미터 X 정의\n",
    "X = np.array([\n",
    "    np.ones(16),\n",
    "    house_size,\n",
    "    distance_from_station,\n",
    "    number_of_rooms\n",
    "]).T\n",
    "\n",
    "# 목표 변수 y 정의\n",
    "y = house_price\n",
    "\n",
    "# 정규 방정식으로 theta 계산\n",
    "theta = normal_equation(X, y)\n",
    "theta"
   ]
  }
 ],
 "metadata": {
  "kernelspec": {
   "display_name": "base",
   "language": "python",
   "name": "python3"
  },
  "language_info": {
   "codemirror_mode": {
    "name": "ipython",
    "version": 3
   },
   "file_extension": ".py",
   "mimetype": "text/x-python",
   "name": "python",
   "nbconvert_exporter": "python",
   "pygments_lexer": "ipython3",
   "version": "3.12.4"
  }
 },
 "nbformat": 4,
 "nbformat_minor": 2
}
