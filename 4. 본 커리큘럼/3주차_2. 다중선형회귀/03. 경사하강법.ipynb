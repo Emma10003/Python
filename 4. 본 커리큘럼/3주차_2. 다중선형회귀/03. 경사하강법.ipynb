{
 "cells": [
  {
   "cell_type": "markdown",
   "metadata": {},
   "source": [
    "## 손실함수\n",
    "가설함수가 얼마나 좋은지, 어떻게 개선해야 하는지 <span style='color:yellowgreen'>평가하는 기준</span>.  \n",
    "손실함수는 $\\theta$에 대한 함수이다.  \n",
    "<span style='color:lightblue'>손실함수의 아웃풋이 작을수록 좋은 가설함수.</span>\n",
    "\n",
    "다중선형회귀에서의 손실함수 (단순선형회귀의 손실함수와 같은 형태)  \n",
    "$$\n",
    "J(\\theta) = \\frac{1}{2m}\\sum_{i=1}{m}(h_\\theta(x^{(i)})\\,- y^{(i)})^2\n",
    "$$"
   ]
  },
  {
   "cell_type": "markdown",
   "metadata": {},
   "source": [
    "## 다중선형회귀 경사하강법\n",
    "$\\theta$값을 업데이트하는 방법은 단순선형회귀와 동일. 그냥 업데이트 할 $\\theta$값이 많아지는 것 뿐.  \n",
    "\n",
    "$x$의 i번째 데이터의 0번째 입력변수(속성),  \n",
    "$x$의 i번째 데이터의 첫번째 속성,  \n",
    "$x$의 i번째 데이터의 두번째 속성,  \n",
    "...\n",
    "\n",
    "$$\n",
    "\\theta_0 = \\theta_0 - a\\frac{1}{m}\\sum_{i=1}^{m}(h_\\theta(x^{(i)}) - y^{(i)}) \\cdot x_0^{(i)}\\\\  \n",
    "\\theta_1 = \\theta_1 - a\\frac{1}{m}\\sum_{i=1}^{m}(h_\\theta(x^{(i)}) - y^{(i)}) \\cdot x_1^{(i)}\\\\  \n",
    "\\theta_2 = \\theta_2 - a\\frac{1}{m}\\sum_{i=1}^{m}(h_\\theta(x^{(i)}) - y^{(i)}) \\cdot x_2^{(i)}\\\\  \n",
    ".\\\\.\\\\.\\\\  \n",
    "\\theta_n = \\theta_n - a\\frac{1}{m}\\sum_{i=1}^{m}(h_\\theta(x^{(i)}) - y^{(i)}) \\cdot x_n^{(i)}\\\\  \n",
    "$$\n",
    "\n",
    "이렇게 쭉 업데이터 해야 <span style='color:yellowgreen'>경사하강을 1회</span> 하는 것.\n",
    "\n",
    "더 단순하게는 아래와 같이 나타낼 수 있다.  \n",
    "$j = 1$부터 $n$까지:  \n",
    "$$\n",
    "\\textcolor{lightblue}{\\theta_j = \\theta_j - a\\frac{1}{m}\\sum_{i=1}^{m}(h_\\theta(x^{(i)}) - y^{(i)}) \\cdot x_j^{(i)}}\n",
    "$$"
   ]
  },
  {
   "cell_type": "markdown",
   "metadata": {},
   "source": [
    "- n은 입력변수의 개수!"
   ]
  }
 ],
 "metadata": {
  "language_info": {
   "name": "python"
  }
 },
 "nbformat": 4,
 "nbformat_minor": 2
}
