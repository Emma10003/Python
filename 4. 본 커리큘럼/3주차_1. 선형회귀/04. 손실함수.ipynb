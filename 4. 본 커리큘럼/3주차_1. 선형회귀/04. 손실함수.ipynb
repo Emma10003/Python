{
 "cells": [
  {
   "cell_type": "markdown",
   "metadata": {},
   "source": [
    "## 손실함수 (Loss Function)\n",
    ": 가설함수의 성능을 평가하는 함수.\n",
    "- 손실함수가 작다 -> 가설함수가 데이터에 잘 맞는다. (MSE가 손실함수의 결과값이기 때문.)\n",
    "- 손실함수가 크다 -> 가설함수가 데이터에 잘 안 맞는다.\n",
    "\n",
    "보통 J(θ)로 표기, 선형회귀에서는 MSE가 손실함수의 아웃풋."
   ]
  },
  {
   "cell_type": "markdown",
   "metadata": {},
   "source": [
    "![image](image/04-1.png)"
   ]
  },
  {
   "cell_type": "markdown",
   "metadata": {},
   "source": [
    "### 왜 인풋이 세타인가?\n",
    "\n",
    "<span style='color:yellowgreen'>손실 함수의 아웃풋은 θ값에 달려있다!</span>  \n",
    "\n",
    "*가설함수에서 바꿀 수 있는 건 θ값. -> θ값을 잘 조율해서 가장 적절한 가설 함수를 찾아내는 것.  \n",
    "결국 손실 함수의 아웃풋은 θ값을 어떻게 설정하느냐에 달려있다.\n",
    "\n",
    "*x와 y는 사실상 상수값이다 -- 정해져 있는 학습 데이터의 값을 그대로 입력하는 것이기 때문.  \n",
    "\n",
    "*참고로 손실함수 J의 인풋을 θ₀, θ₁... 이런 식으로 써도 되는데, 보통은 그냥 θ 하나로 묶어서 표현."
   ]
  }
 ],
 "metadata": {
  "language_info": {
   "name": "python"
  }
 },
 "nbformat": 4,
 "nbformat_minor": 2
}
