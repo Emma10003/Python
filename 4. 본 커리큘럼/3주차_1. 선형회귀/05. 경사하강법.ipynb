{
 "cells": [
  {
   "cell_type": "markdown",
   "metadata": {},
   "source": [
    "<정리>  \n",
    "선형회귀 -> 데이터를 가장 잘 설명하는 최적선을 찾아야 함!  \n",
    "이 최적선을 찾기 위해 여러가지 가설함수를 설정하는데, 이 때 MSE라는 개념을 사용.  \n",
    "가설함수의 θ값을 잘 조절하여 손실함수의 아웃풋(=MSE)을 최소화한다.  \n",
    "\n",
    "**<span style='color:yellowgreen'>=> 그렇다면 어떻게 이 아웃풋을 최소화할까?</span>**"
   ]
  },
  {
   "cell_type": "markdown",
   "metadata": {},
   "source": [
    "## 경사하강법 (Gradient Descent)\n",
    "\n",
    "아래 그래프에서 y값은 MSE. (손실함수의 아웃풋이 MSE이니까!)\n",
    "따라서 그래프의 아래로 갈 수록, 즉 아웃풋이 작을수록 - MSE가 작아지고 - 따라서 가설함수의 성능이 좋아진다.  \n",
    "그래프의 위쪽으로 가면 그 반대가 된다.\n",
    "\n",
    "=> 손실함수의 아웃풋을 최소화, 즉 아래 그래프에서 <span style='color:yellowgreen'>극소점을 찾아야 한다</span>."
   ]
  },
  {
   "cell_type": "markdown",
   "metadata": {},
   "source": [
    "![image](image/05-1.png)"
   ]
  },
  {
   "cell_type": "markdown",
   "metadata": {},
   "source": [
    "θ값을 랜덤하게 설정한 뒤, 해당 θ값의 지점에서 기울기를 구한다.  \n",
    "아래 이미지에서는 θ값이 음수 -> 가장 가파르게 올라가려면 오른쪽으로(θ값을 줄임), 가장 가파르게 내려가려면 왼쪽으로(θ값을 늘림) θ값을 이동.  \n",
    "\n",
    "*θ값을 오른쪽/왼쪽으로 얼마나 이동할지는 기울기에 비례하여 정함. ex) 기울기가 -2이므로 2씩 이동. (-6 -> -4 -> -2 ..)  \n",
    "\n",
    "극소점을 찾을 때 까지 θ값을 이동시킴.  \n",
    "경사의 방향과 크기를 이용해 조금씩 극소점을 향해 내려가는 방식이므로 '경사하강법'"
   ]
  },
  {
   "cell_type": "markdown",
   "metadata": {},
   "source": [
    "![image](image/05-2.png)"
   ]
  },
  {
   "cell_type": "markdown",
   "metadata": {},
   "source": [
    "이건 인풋값이 1개 뿐일 때이고, 실제로는 2개 이상의 여러 인풋값이 존재할 것.  \n",
    "실제로 원래 손실함수 또한 θ₀, θ₁로 인풋값이 2개임.\n",
    "이 때는 3차원 그래프를 그린 뒤, <span style='color:yellowgreen'>**J(θ)**</span>를 각 인풋값에 대하여 <span style='color:yellowgreen'>**편미분**</span>하여 기울기 벡터를 구한다.  \n",
    "\n",
    "고려사항  \n",
    "1. J의 기울기\n",
    "2. 현재 θ₀, θ₁ 지점에서 가장 가파르게 올라가는 방향  \n",
    "2-1. 현재 그래프에서는 극소점으로 가고 싶기 때문에, 가장 가파르게 내려가는 방향을 구해야 함.\n",
    "\n",
    "따라서 기울기 벡터에 -(마이너스)를 붙임.  \n",
    "=> θ₀, θ₁을 경사의 반반대 방향으로 보내면 J의 극소점에 가까워짐."
   ]
  },
  {
   "cell_type": "markdown",
   "metadata": {},
   "source": [
    "![image](image/05-3.png)"
   ]
  },
  {
   "cell_type": "markdown",
   "metadata": {},
   "source": [
    "θ값이 손실점의 극소값에 매우 가까워지면 가설함수가 최적화 된 것으로 볼 수 있다."
   ]
  }
 ],
 "metadata": {
  "language_info": {
   "name": "python"
  }
 },
 "nbformat": 4,
 "nbformat_minor": 2
}
