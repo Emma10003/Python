{
 "cells": [
  {
   "cell_type": "markdown",
   "metadata": {},
   "source": [
    "## 경사하강법 일반화\n",
    "목표: 손실함수의 극소점으로 가기  \n",
    "방법: 가설함수를 계속해서 개선하여 아래로 내려가기.  \n",
    "- 손실함수의 기울기를 이용! by 손실함수 편미분 (각 입력값에 대해!)  \n",
    "    - 기울기는 가장 가파르게 '올라가는' 방향을 나타내므로, 내려가려면 마이너스(-) 붙여야 함.  \n",
    "\n",
    "**<span style='color:yellowgreen'>\n",
    "▽J(θ) = [2θ₀]  \n",
    "&nbsp;&nbsp;&nbsp;&nbsp;&nbsp;&nbsp;&nbsp;&nbsp;&nbsp;&nbsp;&nbsp;&nbsp;&nbsp;&nbsp;[4θ₁]</span>**  \n",
    "이고 (이게 기울기벡터), 현재 (θ₀, θ₁) = (-3, -3)일 때 현재 기울기를 구하기 위해서는 ▽J(θ)에 현재 세타값을 대입하면 됨.  \n",
    "\n",
    "**<span style='color:yellowgreen'>\n",
    "현재 기울기: [-6 ]  \n",
    "&nbsp;&nbsp;&nbsp;&nbsp;&nbsp;&nbsp;&nbsp;&nbsp;&nbsp;&nbsp;&nbsp;&nbsp;&nbsp;&nbsp;&nbsp;&nbsp;&nbsp;&nbsp;&nbsp;&nbsp;&nbsp;[-12]</span>**  \n",
    "\n",
    "기울기 벡터의 원소1(2θ₀)은 J를 θ₀으로 편미분한 값 -> **<span style='color:lightblue'>θ₀을 이용하여 수정</span>**.  \n",
    "기울기 벡터의 원소2(4θ₁)는 J를 θ₁으로 편미분한 값 -> **<span style='color:lightblue'>θ₁을 이용하여 수정</span>**.  \n",
    "\n",
    "현재 세타값 θ₀, θ₁에 현재 기울기 벡터를 각각 더하면 가파르게 올라가는 것.  \n",
    "따라서 가파르게 내려가기 위해서는 기울기 벡터를 각각 빼면 된다. --<span style='color:lightblue'>여기서 각각의 의미란? θ₀에는 원소1을, θ₁에는 원소2를 뺀다는 것.</span>  \n",
    "이 때 학습률 α를 기울기 벡터의 원소에 곱한다.  \n",
    "\n",
    "새로운 θ₀ : -3 **<span style='color:lightcoral'>-</span>** (α x (-6))  \n",
    "학습률 α는 경사를 타고 내려갈 때 <span style='color:yellowgreen'>얼마나 많이 움직일지의 정도를 결정</span>함. 학습률이 크면 많이 움직인다.  \n",
    "\n",
    "α = 0.1\n",
    "θ₀ : -3 **<span style='color:lightcoral'>-</span>** (0.1 x (-6)) = -2.4  \n",
    "θ₁ : -3 **<span style='color:lightcoral'>-</span>** (0.1 x (-12)) = -1.8  \n",
    "\n",
    "새롭게 이동할 좌표는 (-2.4, -1.8)이 된다.\n",
    "\n",
    "(θ₀, θ₁) = (-3, -3) → (-2.4, -1.8)"
   ]
  },
  {
   "cell_type": "markdown",
   "metadata": {},
   "source": []
  },
  {
   "cell_type": "markdown",
   "metadata": {},
   "source": [
    "<img src=\"image/06-1.png\" width=\"700px\"/>"
   ]
  },
  {
   "cell_type": "markdown",
   "metadata": {},
   "source": [
    "식으로 나타내면 아래와 같다.  \n",
    "이 때 주의할 점은, 새로운 θ₁을 구할 때 식에 있는 θ₀에는 기존의 θ₀을 대입해야 한다는 점이다.  "
   ]
  },
  {
   "cell_type": "markdown",
   "metadata": {},
   "source": [
    "<img src=\"image/06-2.png\" width=\"300px\"/>"
   ]
  }
 ],
 "metadata": {
  "language_info": {
   "name": "python"
  }
 },
 "nbformat": 4,
 "nbformat_minor": 2
}
