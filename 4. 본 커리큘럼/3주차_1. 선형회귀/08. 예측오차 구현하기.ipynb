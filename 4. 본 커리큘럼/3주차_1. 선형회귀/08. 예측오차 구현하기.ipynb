{
 "cells": [
  {
   "cell_type": "markdown",
   "metadata": {},
   "source": [
    "## 실습 설명\n",
    "선형 회귀에서 경사 하강법 공식을 풀면 이렇게 되는데요."
   ]
  },
  {
   "cell_type": "markdown",
   "metadata": {},
   "source": [
    "<img src=\"image/08-1.png\" width=\"700px\"/>"
   ]
  },
  {
   "cell_type": "markdown",
   "metadata": {},
   "source": [
    "이번 과제에서는 (hᶿ(x⁽ⁱ⁾) - y⁽ⁱ⁾) 이 부분, 예측 값들과 실제 목표 변수들의 차이를 구하는 함수를 구현해보겠습니다."
   ]
  },
  {
   "cell_type": "markdown",
   "metadata": {},
   "source": [
    "### `prediction_difference` 함수\n",
    "`prediction_difference` 함수는 선형 회귀 구현하기 쉽게 표현하기 레슨에서 본 *error* 처럼  \n",
    "모든 데이터의 예측값과 실제 목표 변수의 차이를 리턴합니다."
   ]
  },
  {
   "cell_type": "markdown",
   "metadata": {},
   "source": [
    "<img src=\"image/08-2.png\" width=\"700px\"/>"
   ]
  },
  {
   "cell_type": "markdown",
   "metadata": {},
   "source": [
    "파라미터로는 θ₀을 나타내는 `theta_0`, θ₁을 나타내는 `theta_1`,  \n",
    "입력 변수 벡터를 나타내는 `x`, 그리고 목표 변수 벡터를 나타내는 `y`를 갖습니다.\n",
    "\n",
    "`theta_0`, `theta_1`, 그리고 `x`를 이용해서 모든 예측값들을 벡터를 계산하고 (07의 prediction 함수 사용),  \n",
    "`y`와의 차이를 벡터로 리턴합니다."
   ]
  },
  {
   "cell_type": "code",
   "execution_count": 1,
   "metadata": {},
   "outputs": [],
   "source": [
    "import numpy as np"
   ]
  },
  {
   "cell_type": "code",
   "execution_count": 3,
   "metadata": {},
   "outputs": [],
   "source": [
    "\n",
    "def prediction(theta_0, theta_1, x):\n",
    "    \"\"\"주어진 학습 데이터 벡터 x에 대해서 모든 예측 값을 벡터로 리턴하는 함수\"\"\"\n",
    "    # 지난 실습의 코드를 여기에 붙여 넣으세요\n",
    "    result = theta_0 + theta_1*x  # 가설함수 hᶿ(x) = θ₀ + θ₁x\n",
    "    return result  # hᶿ(x⁽ⁱ⁾)\n",
    "    \n",
    "\n",
    "def prediction_difference(theta_0, theta_1, x, y):\n",
    "    \"\"\"모든 예측 값들과 목표 변수들의 오차를 벡터로 리턴해주는 함수\"\"\"\n",
    "    # 여기에 코드를 작성하세요\n",
    "    pred_value = prediction(theta_0, theta_1, x)  # hᶿ(x⁽ⁱ⁾)를 구함.\n",
    "    error = pred_value - y  # hᶿ(x⁽ⁱ⁾) - y⁽ⁱ⁾ -- 예측값과 목표변수들의 오차.\n",
    "    return error\n"
   ]
  },
  {
   "cell_type": "code",
   "execution_count": 4,
   "metadata": {},
   "outputs": [
    {
     "data": {
      "text/plain": [
       "array([-1.5 , -0.95,  0.55,  0.1 ,  0.75,  2.7 ,  1.9 ,  3.9 ,  4.3 ,\n",
       "        4.2 ,  5.65,  6.2 ,  7.91,  8.2 ])"
      ]
     },
     "execution_count": 4,
     "metadata": {},
     "output_type": "execute_result"
    }
   ],
   "source": [
    "# 입력 변수(집 크기) 초기화 (모든 집 평수 데이터를 1/10 크기로 줄임)\n",
    "house_size = np.array([0.9, 1.4, 2, 2.1, 2.6, 3.3, 3.35, 3.9, 4.4, 4.7, 5.2, 5.75, 6.7, 6.9])\n",
    "\n",
    "# 목표 변수(집 가격) 초기화 (모든 집 값 데이터를 1/10 크기로 줄임)\n",
    "house_price = np.array([0.3, 0.75, 0.45, 1.1, 1.45, 0.9, 1.8, 0.9, 1.5, 2.2, 1.75, 2.3, 2.49, 2.6])\n",
    "\n",
    "theta_0 = -3\n",
    "theta_1 = 2\n",
    "\n",
    "prediction_difference(-3, 2, house_size, house_price)  # 입력된 값이 배열이어서 출력값도 배열인 듯."
   ]
  }
 ],
 "metadata": {
  "kernelspec": {
   "display_name": "base",
   "language": "python",
   "name": "python3"
  },
  "language_info": {
   "codemirror_mode": {
    "name": "ipython",
    "version": 3
   },
   "file_extension": ".py",
   "mimetype": "text/x-python",
   "name": "python",
   "nbconvert_exporter": "python",
   "pygments_lexer": "ipython3",
   "version": "3.12.4"
  }
 },
 "nbformat": 4,
 "nbformat_minor": 2
}
