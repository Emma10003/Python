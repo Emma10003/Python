{
 "cells": [
  {
   "cell_type": "markdown",
   "metadata": {},
   "source": [
    "## MSE (Mean Squared Error)\n",
    "가설 함수를 hᶿ(x) = θ₀ + θ₁x 로 설정 -- 입력변수(x)는 1개, 집 크기. -> 집값 예측.  \n",
    "여러 가설 함수 중 어떤 함수가 가장 좋은가? -> <span style='color:yellowgreen'>MSE(평균제곱오차)</span>로 평가.  \n",
    ": 평균적으로 가설함수와 데이터가 얼마나 떨어져 있는가? = <span style='color:yellowgreen'>데이터의 실제값과 가설함수의 예측값이 얼마나 차이나는가?</span>"
   ]
  },
  {
   "cell_type": "markdown",
   "metadata": {},
   "source": [
    "![image](image/02-1.png)"
   ]
  },
  {
   "cell_type": "markdown",
   "metadata": {},
   "source": [
    "MSE = ∑(각 데이터의 오차)² / (전체 데이터의 개수)  \n",
    "MSE가 크다 = 가설함수와 데이터 간 오차가 크다 = 가설함수가 데이터를 제대로 설명하지 못한다.  \n",
    "<span style='color:yellowgreen'>∴ MSE가 클수록 가설함수가 데이터에 잘 안 맞고, MSE가 작을수록 가설함수가 데이터에 잘 맞는다.</span>"
   ]
  },
  {
   "cell_type": "markdown",
   "metadata": {},
   "source": [
    "### 왜 오차의 제곱을 더할까?\n",
    "1. 오차가 양수이든, 음수이든 똑같이 취급하기 위해. -> 제곱하면 모두 양수!\n",
    "2. 더 큰 오차를 부각하기 위해. -> 오차가 클수록 더 큰 패널티 부여."
   ]
  }
 ],
 "metadata": {
  "language_info": {
   "name": "python"
  }
 },
 "nbformat": 4,
 "nbformat_minor": 2
}
