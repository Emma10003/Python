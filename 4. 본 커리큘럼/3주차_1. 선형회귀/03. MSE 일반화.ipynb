{
 "cells": [
  {
   "cell_type": "markdown",
   "metadata": {},
   "source": [
    "## MSE를 일반화하여 표현한다면?\n",
    "\n",
    "아래와 같은 데이터가 있다."
   ]
  },
  {
   "cell_type": "markdown",
   "metadata": {},
   "source": [
    "![image](image/03-1.png)"
   ]
  },
  {
   "cell_type": "markdown",
   "metadata": {},
   "source": [
    "아래는 MSE의 일반화를 계산하는 식이다.  \n",
    "\n",
    "- x⁽ⁱ⁾: i번째 인풋 (학습 데이터의 실제값, 입력 변수)  \n",
    "- y⁽ⁱ⁾: i번째 아웃풋 (학습 데이터의 실제값, 목표 변수)  \n",
    "- hᶿ(x⁽ⁱ⁾): i번째 인풋에 대한 예측값  \n",
    "- hᶿ(x⁽ⁱ⁾) - y⁽ⁱ⁾ : i번째 데이터의 예측값에서 실제값을 뺀 **예측 오차**.  \n",
    "    => (hᶿ(x⁽ⁱ⁾) - y⁽ⁱ⁾)² : 오차의 제곱\n",
    "- 시그마: i=1부터 i=m까지 대입하여 계산 후 모두 더하기\n",
    "- 1/m: 데이터의 개수(m)으로 나눠서 평균을 구함.\n",
    "\n",
    "=> MSE를 구할 수 있다!"
   ]
  },
  {
   "cell_type": "markdown",
   "metadata": {},
   "source": [
    "![image](image/03-2.png)"
   ]
  }
 ],
 "metadata": {
  "language_info": {
   "name": "python"
  }
 },
 "nbformat": 4,
 "nbformat_minor": 2
}
