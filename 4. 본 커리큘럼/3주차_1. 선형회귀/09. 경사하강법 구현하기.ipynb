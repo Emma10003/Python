{
 "cells": [
  {
   "cell_type": "markdown",
   "metadata": {},
   "source": [
    "## 실습 설명\n",
    "이번 과제에서는 선형 회귀 경사 하강법을 직접 구현해보겠습니다. 경사 하강법 공식 기억나시죠?"
   ]
  },
  {
   "cell_type": "markdown",
   "metadata": {},
   "source": [
    "<img src=\"image/09-1.png\" width=\"700px\"/>"
   ]
  },
  {
   "cell_type": "markdown",
   "metadata": {},
   "source": [
    "이렇게 하면 되는데요. 이걸 선형 회귀 구현하기 쉽게 표현하기 레슨에서는"
   ]
  },
  {
   "cell_type": "markdown",
   "metadata": {},
   "source": [
    "\n",
    "<img src=\"image/09-2.png\" width=\"700px\"/>"
   ]
  },
  {
   "cell_type": "markdown",
   "metadata": {},
   "source": [
    "라고 정의하고 벡터 x의 평균을 다르게 나타내면:"
   ]
  },
  {
   "cell_type": "markdown",
   "metadata": {},
   "source": [
    "<img src=\"image/09-3.png\" width=\"300px\"/>"
   ]
  },
  {
   "cell_type": "markdown",
   "metadata": {},
   "source": [
    "이렇게 표현할 수 있다고 했잖아요? 이 밑의 공식을 바탕으로 경사 하강법을 한 번 구현해 보겠습니다."
   ]
  },
  {
   "cell_type": "markdown",
   "metadata": {},
   "source": [
    "### `gradient_descent` 함수\n",
    "함수 `gradient_descent`는 실제 경사 하강법을 구현하는 함수입니다.  \n",
    "파라미터로는 임의의 값을 갖는 파라미터들 `theta_0`, `theta_1`, 입력변수 `x`, 목표변수 `y`,  \n",
    "경사 하강법을 몇 번 하는지를 나타내는 변수 `iteration`, 그리고 학습률 `alpha`를 갖습니다.\n",
    "\n",
    "처음에 `gradient_descent` 함수에 넘겨주는 `theta_0`, `theta_1` 변수들은 0 또는 임의의 값들이고요.  \n",
    "`gradient_descent` 함수는 경사 하강법을 이용해서 최적의 `theta_0`, `theta_1` 값들을 찾아 리턴합니다."
   ]
  },
  {
   "cell_type": "markdown",
   "metadata": {},
   "source": [
    "### numpy 배열 원소들 평균\n",
    "numpy 배열에 `mean()` 메소드를 사용하면 안에 들어 있는 원소들의 평균을 쉽게 구할 수 있습니다."
   ]
  },
  {
   "cell_type": "code",
   "execution_count": 1,
   "metadata": {},
   "outputs": [],
   "source": [
    "import numpy as np"
   ]
  },
  {
   "cell_type": "code",
   "execution_count": 4,
   "metadata": {},
   "outputs": [],
   "source": [
    "def prediction(theta_0, theta_1, x):\n",
    "    \"\"\"주어진 학습 데이터 벡터 x에 대해서 모든 예측 값을 벡터로 리턴하는 함수\"\"\"\n",
    "    # 지난 실습의 코드를 여기에 붙여 넣으세요\n",
    "    result = theta_0 + theta_1*x\n",
    "    return result\n",
    "    \n",
    "    \n",
    "def prediction_difference(theta_0, theta_1, x, y):\n",
    "    \"\"\"모든 예측 값들과 목표 변수들의 오차를 벡터로 리턴해주는 함수\"\"\"\n",
    "    # 지난 실습의 코드를 여기에 붙여 넣으세요\n",
    "    pred_value = prediction(theta_0, theta_1, x)\n",
    "    error = pred_value - y\n",
    "    return error\n",
    "    \n",
    "    \n",
    "def gradient_descent(theta_0, theta_1, x, y, iterations, alpha):\n",
    "    \"\"\"주어진 theta_0, theta_1 변수들을 경사 하강를 하면서 업데이트 해주는 함수\"\"\"\n",
    "    for _ in range(iterations):  # 정해진 번만큼 경사 하강을 한다\n",
    "        error = prediction_difference(theta_0, theta_1, x, y)  # 예측값들과 입력 변수들의 오차를 계산\n",
    "        # 여기에 코드를 작성하세요\n",
    "        theta_0 = theta_0 - alpha*error.mean()\n",
    "        theta_1 = theta_1 - alpha*(error*x).mean()\n",
    "    return theta_0, theta_1"
   ]
  },
  {
   "cell_type": "code",
   "execution_count": 5,
   "metadata": {},
   "outputs": [
    {
     "data": {
      "text/plain": [
       "(0.16821801417752186, 0.3438032402351199)"
      ]
     },
     "execution_count": 5,
     "metadata": {},
     "output_type": "execute_result"
    }
   ],
   "source": [
    "# 입력 변수(집 크기) 초기화 (모든 집 평수 데이터를 1/10 크기로 줄임)\n",
    "house_size = np.array([0.9, 1.4, 2, 2.1, 2.6, 3.3, 3.35, 3.9, 4.4, 4.7, 5.2, 5.75, 6.7, 6.9])\n",
    "\n",
    "# 목표 변수(집 가격) 초기화 (모든 집 값 데이터를 1/10 크기로 줄임)\n",
    "house_price = np.array([0.3, 0.75, 0.45, 1.1, 1.45, 0.9, 1.8, 0.9, 1.5, 2.2, 1.75, 2.3, 2.49, 2.6])\n",
    "\n",
    "# theta 값들 초기화 (아무 값이나 시작함)\n",
    "theta_0 = 2.5\n",
    "theta_1 = 0\n",
    "\n",
    "# 학습률 0.1로 200번 경사 하강\n",
    "theta_0, theta_1 = gradient_descent(theta_0, theta_1, house_size, house_price, 200, 0.1)\n",
    "\n",
    "theta_0, theta_1"
   ]
  },
  {
   "cell_type": "code",
   "execution_count": null,
   "metadata": {},
   "outputs": [],
   "source": []
  }
 ],
 "metadata": {
  "kernelspec": {
   "display_name": "base",
   "language": "python",
   "name": "python3"
  },
  "language_info": {
   "codemirror_mode": {
    "name": "ipython",
    "version": 3
   },
   "file_extension": ".py",
   "mimetype": "text/x-python",
   "name": "python",
   "nbconvert_exporter": "python",
   "pygments_lexer": "ipython3",
   "version": "3.12.4"
  }
 },
 "nbformat": 4,
 "nbformat_minor": 2
}
