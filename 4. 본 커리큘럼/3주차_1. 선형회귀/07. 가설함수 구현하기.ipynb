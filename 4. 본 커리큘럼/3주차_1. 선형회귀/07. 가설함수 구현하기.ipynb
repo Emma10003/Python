{
 "cells": [
  {
   "cell_type": "markdown",
   "metadata": {},
   "source": [
    "## 실습 설명\n",
    "이번 과제에서는 가설 함수를 사용해서 주어진 데이터를 예측하는 코드를 구현해 보겠습니다.  \n",
    "`prediction`이라는 함수로 구현할 건데요. 이 함수에 대해서 설명드릴게요."
   ]
  },
  {
   "cell_type": "markdown",
   "metadata": {},
   "source": [
    "### `prediction` 함수\n",
    "`prediction` 함수는 주어진 가설 함수로 얻은 결과를 리턴하는 함수입니다.  \n",
    "파라미터로는 θ₀을 나타내는 숫자형 변수 `theta_0`, θ₁을 나타내는 숫자형 변수 `theta_1`,  \n",
    "그리고 모든 입력 변수 벡터 x들을 나타내는 numpy 배열 `x`를 받죠.\n",
    "\n",
    "가설 함수를 hᶿ(x) = θ₀ + θ₁x 이렇게 정의했는데요.  \n",
    "`prediction` 함수는 `x`의 각 요소의 예측값에 대한 numpy 배열을 리턴합니다.\n",
    "\n",
    "numpy 배열과 연산들을 이용해서 `prediction` 함수를 작성해보세요."
   ]
  },
  {
   "cell_type": "markdown",
   "metadata": {},
   "source": [
    "### numpy 배열과 숫자형 덧셈\n",
    "numpy 배열과 일반 숫자형을 더하면 numpy 배열의 모든 요소에 해당 숫자형이 더해집니다.  \n",
    "이걸 사용해서 과제를 풀어보세요!"
   ]
  },
  {
   "cell_type": "code",
   "execution_count": 3,
   "metadata": {},
   "outputs": [],
   "source": [
    "import numpy as np"
   ]
  },
  {
   "cell_type": "code",
   "execution_count": 7,
   "metadata": {},
   "outputs": [],
   "source": [
    "def prediction(theta_0, theta_1, x):\n",
    "    \"\"\"주어진 학습 데이터 벡터 x에 대해서 예측 값을 리턴하는 함수\"\"\"\n",
    "    # 여기에 코드를 작성하세요\n",
    "    result = theta_0 + theta_1*x  # 이게 가설함수 hᶿ(x) = θ₀ + θ₁x 를 식으로 나타낸 것.\n",
    "    return result  # hᶿ(x⁽ⁱ⁾)"
   ]
  },
  {
   "cell_type": "code",
   "execution_count": 8,
   "metadata": {},
   "outputs": [
    {
     "data": {
      "text/plain": [
       "array([-1.2, -0.2,  1. ,  1.2,  2.2,  3.6,  3.7,  4.8,  5.8,  6.4,  7.4,\n",
       "        8.5, 10.4, 10.8])"
      ]
     },
     "execution_count": 8,
     "metadata": {},
     "output_type": "execute_result"
    }
   ],
   "source": [
    "# 테스트 코드\n",
    "# 입력 변수(집 크기) 초기화 (모든 집 평수 데이터를 1/10 크기로 줄임)\n",
    "house_size = np.array([0.9, 1.4, 2, 2.1, 2.6, 3.3, 3.35, 3.9, 4.4, 4.7, 5.2, 5.75, 6.7, 6.9])  # x(입력변수, h(x)에서는 상수)\n",
    "theta_0 = -3\n",
    "theta_1 = 2\n",
    "\n",
    "prediction(theta_0, theta_1, house_size)"
   ]
  }
 ],
 "metadata": {
  "kernelspec": {
   "display_name": "base",
   "language": "python",
   "name": "python3"
  },
  "language_info": {
   "codemirror_mode": {
    "name": "ipython",
    "version": 3
   },
   "file_extension": ".py",
   "mimetype": "text/x-python",
   "name": "python",
   "nbconvert_exporter": "python",
   "pygments_lexer": "ipython3",
   "version": "3.12.4"
  }
 },
 "nbformat": 4,
 "nbformat_minor": 2
}
