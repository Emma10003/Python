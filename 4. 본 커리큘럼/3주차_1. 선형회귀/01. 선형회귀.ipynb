{
 "cells": [
  {
   "cell_type": "markdown",
   "metadata": {},
   "source": [
    "## 선형회귀 (Linear Regression)\n",
    "데이터를 가장 잘 설명하는 최적의 선(line of best fit)을 찾아내는 알고리즘.\n",
    "\n",
    "### 선형회귀 용어\n",
    "- 선형회귀는 지도학습(Supervised) 알고리즘.\n",
    "- 지도학습 알고리즘인 분류와 회귀 중 **회귀** -> 연속값에 대한 예측  \n",
    "ex) 집 크기에 따른 집 값을 예측\n",
    "- 목표 변수: 맞추려고 하는 값 (target variable / output variable) -- ex) 집 값 (예측하고자 하는 변수)\n",
    "- 입력 변수: 맞추는 데 사용하는 값 (feature / input variable)  -- ex) 집 크기 (예측을 위해 사용되는 변수)\n",
    "- 데이터 표현법\n",
    "    - m: 학습 데이터의 개수\n",
    "    - x: 입력 변수 -- n번 데이터의 입력변수: x^(n)\n",
    "    - y: 목표 변수 -- n번 데이터의 목표변수: y^(n)\n",
    "- 가설 함수: 최적의 함수를 찾아내기 위해 시도하는 여러 함수들 (hypothesis function) -- h(x)로 표현.\n",
    "- 가설 함수의 식은 아래와 같이 나타냄"
   ]
  },
  {
   "cell_type": "markdown",
   "metadata": {},
   "source": [
    "![image](image/01-1.png)"
   ]
  },
  {
   "cell_type": "markdown",
   "metadata": {},
   "source": [
    "선형 회귀: 가장 적절한 세타값(θ)을 찾아내는 것.\n",
    "-- h(x)가 θ에 대한 함수라는 걸 나타내고 싶을 때는 h뒤에 아래첨자로 θ를 씀.\n",
    "\n",
    "### x₀의 비밀\n",
    "선형 휘귀의 가설 함수는 원래 아래와 같이 생김."
   ]
  },
  {
   "cell_type": "markdown",
   "metadata": {},
   "source": [
    "![image](image/01-2.png)"
   ]
  },
  {
   "cell_type": "markdown",
   "metadata": {},
   "source": [
    "여기서 θ₀은 상수항이기 때문에 곱해지는 입력변수가 없음.  \n",
    "통일성을 위해 아래와 같이 표현하기도 하는데, 이 때 x₀ = 1로 고정된 것으로, θ₀는 그냥 상수항이라고 생각하면 됨."
   ]
  },
  {
   "cell_type": "markdown",
   "metadata": {},
   "source": [
    "![image](image/01-3.png)"
   ]
  }
 ],
 "metadata": {
  "language_info": {
   "name": "python"
  }
 },
 "nbformat": 4,
 "nbformat_minor": 2
}
