{
 "cells": [
  {
   "cell_type": "markdown",
   "metadata": {},
   "source": [
    "학습률 α를 그냥 작은 숫자라고만 하고, \"경사를 내려갈 때 마다 얼마나 많이 그 방향으로 갈 것인지 결정하는 변수\"라고 했는데요.\n",
    "\n",
    "이번 노트에서 학습률 알파를 잘못 고를 때 생기는 문제점에 대해서 알아볼게요.\n",
    "\n",
    "좀 더 이해를 간단하게 하기 위해서 이렇게 손실함수 J가 하나의 변수, θ로만 이뤄졌다고 가정할게요.\n",
    "\n",
    "$$\n",
    "θ = θ - α\\frac{d}{d\\theta} f(\\theta)\n",
    "$$"
   ]
  },
  {
   "cell_type": "markdown",
   "metadata": {},
   "source": [
    "두 가지 예시를 봅시다."
   ]
  },
  {
   "cell_type": "markdown",
   "metadata": {},
   "source": [
    "## 학습률 α가 너무 큰 경우\n",
    "먼저 학습률이 크다고 해볼게요. 알파가 크면 클수록 경사하강을 한 번 할 때마다 $\\theta$의 값이 많이 바뀔 텐데요.  \n",
    "그럼 이렇게 되겠죠? 왼쪽과 오른쪽으로 성큼성큼 왔다갔다 하면서 진행이 됩니다.  \n",
    "심지어 $\\alpha$가 너무 크면 경사 하강법을 진행할수록 손실함수 $J$의 <span style='color:yellowgreen'>최소점에서 멀어질 수도</span> 있습니다."
   ]
  },
  {
   "cell_type": "markdown",
   "metadata": {},
   "source": [
    "<img src=\"image/11-1.png\" width=\"700px\"/>"
   ]
  },
  {
   "cell_type": "markdown",
   "metadata": {},
   "source": [
    "## 학습률 α가 너무 작은 경우\n",
    "반대로 알파가 작으면 어떨까요? $\\theta$가 계속 엄청 찔끔찔끔 움직일텐데요.  \n",
    "너무나도 작게 되면 <span style='color:yellowgreen'>최소 지점을 찾는 게 너무 오래 걸리겠죠</span>?  \n",
    "1분만에 할 수 있는 작업이 5분, 10분, 또는 그거보다 더 오래 걸릴 수도 있게 되는 거죠."
   ]
  },
  {
   "cell_type": "markdown",
   "metadata": {},
   "source": [
    "## 적절한 학습률\n",
    "그렇기 때문에 알파를 적당한 크기로 정하는 게 중요한데요. 빠르고 정확하게 최소점까지 도달하는 학습률이  \n",
    "가장 좋다고 할 수 있죠."
   ]
  },
  {
   "cell_type": "markdown",
   "metadata": {},
   "source": [
    "<img src=\"image/11-2.png\" width=\"700px\"/>"
   ]
  },
  {
   "cell_type": "markdown",
   "metadata": {},
   "source": [
    "가장 \"적절한\" 학습률은 상황과 문제에 따라 다릅니다. 경사 하강법 코드 시각화 레슨에서 경사 하강을 하면서   \n",
    "손실이 줄어들고 있는 걸 그래프로 표현했었는데요. 이런 식으로 나왔었죠? 일부러 적절한 학습률을 골라서  \n",
    "이렇게(↓) 나왔던 거고요."
   ]
  },
  {
   "cell_type": "markdown",
   "metadata": {},
   "source": [
    "<img src=\"image/11-3.png\" width=\"700px\"/>"
   ]
  },
  {
   "cell_type": "markdown",
   "metadata": {},
   "source": [
    "학습률이 너무 크면 경사 하강법을 할 수록 손실 그래프가 이렇게(↓) 계속 커질테고요."
   ]
  },
  {
   "cell_type": "markdown",
   "metadata": {},
   "source": [
    "<img src=\"image/11-4.png\" width=\"700px\"/>"
   ]
  },
  {
   "cell_type": "markdown",
   "metadata": {},
   "source": [
    "적을 때는 이렇게 `iteration` 수가 너무 많아집니다."
   ]
  },
  {
   "cell_type": "markdown",
   "metadata": {},
   "source": [
    "<img src=\"image/11-5.png\" width=\"700px\"/>"
   ]
  },
  {
   "cell_type": "markdown",
   "metadata": {},
   "source": [
    "일반적으로 <span style='color:yellowgreen'>1.0 ~ 0.0 사이의 숫자</span>로 정하고 (1, 0.1, 0.01, 0.001 또는 0.5, 0.05, 0.005 이런 식으로),  \n",
    "여러 개를 실험해보면서 경사 하강을 제일 적게 하면서 손실이 잘 줄어드는 학습률을 선택합니다."
   ]
  }
 ],
 "metadata": {
  "language_info": {
   "name": "python"
  }
 },
 "nbformat": 4,
 "nbformat_minor": 2
}
