{
 "cells": [
  {
   "cell_type": "markdown",
   "metadata": {},
   "source": [
    "## 다항회귀"
   ]
  },
  {
   "cell_type": "markdown",
   "metadata": {},
   "source": [
    "다항회귀 (Polynomial Regression)\n",
    "데이터를 가장 잘 표현하는 직선 대신, <span style='color:yellowgreen'>다항식, 곡선<span>을 찾는 것.  \n",
    "\n",
    "예를 들어, 데이터에 가장 잘 맞을 것 같은 곡선이 2차함수라면\n",
    "$$\n",
    "h_\\theta(x) = \\theta_0 + \\theta_1x + \\theta_2x^2\n",
    "$$\n",
    "이렇게 가설함수를 쓸 수 있다.\n",
    "\n",
    "3차함수는 아래와 같이 작성한다.\n",
    "$$\n",
    "h_\\theta(x) = \\theta_0 + \\theta_1x + \\theta_2x^2 + \\theta_2x^3  \\\\\n",
    "$$\n",
    "차수가 높아질수록 굴곡이 많은 곡선이 된다."
   ]
  },
  {
   "cell_type": "markdown",
   "metadata": {},
   "source": [
    "<img src=\"image/01-1.png\" width=\"700px\"/>"
   ]
  }
 ],
 "metadata": {
  "language_info": {
   "name": "python"
  }
 },
 "nbformat": 4,
 "nbformat_minor": 2
}
