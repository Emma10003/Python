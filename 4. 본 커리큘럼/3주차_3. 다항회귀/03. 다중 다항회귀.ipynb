{
 "cells": [
  {
   "cell_type": "markdown",
   "metadata": {},
   "source": [
    "## 다항회귀 - 2. 다중 다항회귀"
   ]
  },
  {
   "cell_type": "markdown",
   "metadata": {},
   "source": [
    "**입력변수가 여러 개**일 때 사용한다."
   ]
  },
  {
   "cell_type": "markdown",
   "metadata": {},
   "source": [
    "<img src=\"image/05-1.png\" width=\"700px\"/>"
   ]
  },
  {
   "cell_type": "markdown",
   "metadata": {},
   "source": [
    "가설함수가 2차함수라면:  \n",
    "<span style='color:yellowgreen'>상수항 + 일차항 + 이차항</span>  \n",
    "(최대 차수가 2차)\n",
    "\n",
    "여기서 이차항은 **두 일차항이 곱해진 것**을 말함. 따라서 $x_1^2$도 이차항이고, $x_1x_2$도 이차항이다.  \n",
    "\n",
    "따라서 가설함수는 아래와 같이 표현할 수 있다."
   ]
  },
  {
   "cell_type": "markdown",
   "metadata": {},
   "source": [
    "<img src=\"image/05-2.png\" width=\"700px\"/>"
   ]
  },
  {
   "cell_type": "markdown",
   "metadata": {},
   "source": [
    "$\\theta_0$ : 상수항  \n",
    "$\\theta_1x_1 + \\theta_2x_2 + \\theta_3x_3$ : 일차항  \n",
    "나머지 밑의 식이 이차항에 해당하는,  \n",
    "**'상수항 + 일차항 + 이차항'** 형태의 가설함수이다."
   ]
  },
  {
   "cell_type": "markdown",
   "metadata": {},
   "source": [
    "이 경우에도 마찬가지로 아래처럼 각각의 속성(변수)끼리 연산한 값($x_3x_1$, $x_1^2$ 등)을 하나의 변수로 보면 된다."
   ]
  },
  {
   "cell_type": "markdown",
   "metadata": {
    "vscode": {
     "languageId": "plaintext"
    }
   },
   "source": [
    "<img src=\"image/05-3.png\" width=\"700px\"/>"
   ]
  }
 ],
 "metadata": {
  "language_info": {
   "name": "python"
  }
 },
 "nbformat": 4,
 "nbformat_minor": 2
}
