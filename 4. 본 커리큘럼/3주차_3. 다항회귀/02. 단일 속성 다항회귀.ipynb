{
 "cells": [
  {
   "cell_type": "markdown",
   "metadata": {},
   "source": [
    "## 다항회귀 - 1. 단일속성 다항회귀"
   ]
  },
  {
   "cell_type": "markdown",
   "metadata": {},
   "source": [
    "- 속성이 1개인 다항회귀.\n",
    "\n",
    "<span style='color:lightblue'>**다항회귀의 가설함수**</span>: $h_\\theta(x) = \\theta_1x + \\theta_2x^2 + \\theta_2x^3$  \n",
    "최적의 $\\theta$값을 찾는 것이 목표!\n",
    "\n",
    "이는 입력변수가 3개인 다중선형회귀의 가설함수와 유사하다.  \n",
    "<span style='color:lightblue'>**다중선형회귀 가설함수**</span>: $h_\\theta(x) = \\theta_0 + \\theta_1x_1 + \\theta_2x_2 + \\theta_3x_3$"
   ]
  },
  {
   "cell_type": "markdown",
   "metadata": {},
   "source": [
    "다항회귀 가설함수의 $x, x^2, x^3$과 다중선형회귀 가설함수의 $x_1, x_2, x_3$을 <span style='color:yellowgreen'>**동일하게 취급**</span>하면  \n",
    "완전히 같은 식이 된다!\n",
    "\n",
    "집 크기에 따른 집 가격 예측 함수를 만들기 위한 상황에서  \n",
    "`집 크기(평)` 변수와 `집 가격(억)` 변수가 있을 때,  \n",
    "`집 크기(평)` 변수의 값을 제곱, 세제곱하여 새로운 열로 만들고 이를 변수로 취급하는 식이다."
   ]
  },
  {
   "cell_type": "markdown",
   "metadata": {},
   "source": [
    "<img src=\"image/03-1.png\" width=\"700px\"/>"
   ]
  },
  {
   "cell_type": "markdown",
   "metadata": {},
   "source": [
    "이렇게 되면 이 데이터를 마치 입력변수가 3개인 것 처럼 취급할 수 있게 된다."
   ]
  }
 ],
 "metadata": {
  "language_info": {
   "name": "python"
  }
 },
 "nbformat": 4,
 "nbformat_minor": 2
}
