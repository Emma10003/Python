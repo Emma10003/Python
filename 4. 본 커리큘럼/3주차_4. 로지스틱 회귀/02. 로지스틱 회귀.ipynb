{
 "cells": [
  {
   "cell_type": "markdown",
   "metadata": {},
   "source": [
    "## 로지스틱 회귀 (Logistic Regression)"
   ]
  },
  {
   "cell_type": "markdown",
   "metadata": {},
   "source": [
    "데이터에 가장 잘 맞는 <span style='color:yellowgreen'>시그모이드 함수</span>를 찾는 회귀 방식."
   ]
  },
  {
   "cell_type": "markdown",
   "metadata": {},
   "source": [
    "<img src=\"image/02-1.png\" width=\"700px\"/>"
   ]
  },
  {
   "cell_type": "markdown",
   "metadata": {},
   "source": [
    "- $e$는 약 2.718의 양수.\n",
    "- $x$가 <span style='color:yellowgreen'>클 수록 1, 작을수록 0</span>에 가까워진다.\n",
    "- $x$가 양의 무한대이면 1, 음의 무한대이면 0. 따라서 시그모이드 함수의 결과값은 항상 0 ~ 1 사이의 값을 가진다."
   ]
  },
  {
   "cell_type": "markdown",
   "metadata": {},
   "source": [
    "**선형회귀**는 결과값의 범위가 없기 때문에(1차함수니까!) 값이 얼마든지 크거나 작아질 수 있는 반면,  \n",
    "**로지스틱 회귀**에서 사용하는 시그모이드 함수는 무조건 0과 1 사이의 값이 나오므로 분류에 더 적합하다."
   ]
  },
  {
   "cell_type": "markdown",
   "metadata": {},
   "source": [
    "<img src=\"image/02-2.png\" width=\"700px\"/>"
   ]
  },
  {
   "cell_type": "markdown",
   "metadata": {},
   "source": [
    "선형회귀의 가설함수는 1차함수이기 때문에 예외값에 민감하게 반응했지만,  \n",
    "로지스틱 회귀의 시그모이드 함수는 위의 그래프와 같은 모양이므로 예외값이 들어와도 거의 차이가 없다."
   ]
  },
  {
   "cell_type": "markdown",
   "metadata": {},
   "source": [
    "### 왜 로지스틱 '회귀'일까?\n",
    "시그모이드 함수의 결과값도 결국엔 0과 1 사이의 <span style='color:yellowgreen'>연속적인 값</span>이기 때문에, 분류가 아닌 회귀로 부른다.  \n",
    "분류 시에는 시그모이드 함수의 결과값이 **0.5**보다 크거나 작은지 판단한다."
   ]
  }
 ],
 "metadata": {
  "language_info": {
   "name": "python"
  }
 },
 "nbformat": 4,
 "nbformat_minor": 2
}
