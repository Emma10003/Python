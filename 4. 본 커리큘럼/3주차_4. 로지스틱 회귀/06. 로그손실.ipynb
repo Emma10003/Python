{
 "cells": [
  {
   "cell_type": "markdown",
   "metadata": {},
   "source": [
    "## 로그손실"
   ]
  },
  {
   "cell_type": "markdown",
   "metadata": {},
   "source": [
    "**선형회귀**에서 데이터를 설명하는 가설함수를 **평가하기 위해 사용**하는 것이 '손실함수'.  \n",
    "<span style='color:yellowgreen'>선형회귀에서의 손실함수는 MSE(Mean Squared Error)를 기준</span>으로 한다.  \n",
    "\n",
    "**로지스틱 회귀**에서도 가설함수가 데이터를 얼마나 잘 예측하는지 평가하기 위해 손실함수를 사용하는 것은 마찬가지!  \n",
    "대신, 로지스틱 회귀의 손실함수는 MSE가 아닌 <span style='color:yellowgreen'>로그손실(log-loss/cross entropy)</span>을 사용한다."
   ]
  },
  {
   "cell_type": "markdown",
   "metadata": {},
   "source": [
    "### 로그손실이란?"
   ]
  },
  {
   "cell_type": "markdown",
   "metadata": {},
   "source": [
    "<img src=\"image/06-1.png\" width=\"700px\"/>"
   ]
  },
  {
   "cell_type": "markdown",
   "metadata": {},
   "source": [
    "로그손실 함수는 예측값이 실제값과 얼마나 괴리가 있는지 알려주는 역할을 한다.  \n",
    "로지스틱 회귀는 분류에 사용되는 함수이기 때문에, 2개로 분류한다고 가정하면 **가능한 목표변수는 1과 0 뿐**이다.  \n",
    "\n",
    "실제값이 1일 때와 0일 때 식이 다른 것!"
   ]
  },
  {
   "cell_type": "markdown",
   "metadata": {},
   "source": [
    "### 실제값이 1인 경우"
   ]
  },
  {
   "cell_type": "markdown",
   "metadata": {},
   "source": [
    "<img src=\"image/06-2.png\" width=\"700px\"/>"
   ]
  },
  {
   "cell_type": "markdown",
   "metadata": {},
   "source": [
    "아래의 그래프를 보면, 실제값이 1일 때 $h_\\theta(x)$가 <span style='color:yellowgreen'>예측한 값이 1이면 손실은 0</span>이다.  \n",
    "만약 $h_\\theta(x) = 0.8$이면 완벽히 맞는 건 아니지만, 실제값인 y는 1이기 때문에 손실이 작다."
   ]
  },
  {
   "cell_type": "markdown",
   "metadata": {},
   "source": [
    "<img src=\"image/06-3.png\" width=\"700px\"/>"
   ]
  },
  {
   "cell_type": "markdown",
   "metadata": {},
   "source": [
    "아래의 그래프는 <span style='color:yellowgreen'>왼쪽으로 갈 수록 손실이 커지고</span>, 처음에는 완만하다가 그래프가 급격하게 가파라진다. "
   ]
  },
  {
   "cell_type": "markdown",
   "metadata": {},
   "source": [
    "<img src=\"image/06-4.png\" width=\"700px\"/>"
   ]
  },
  {
   "cell_type": "markdown",
   "metadata": {},
   "source": [
    "### 실제값이 0인 경우"
   ]
  },
  {
   "cell_type": "markdown",
   "metadata": {},
   "source": [
    "실제값이 1일 때와 그래프가 거꾸로 된다!"
   ]
  },
  {
   "cell_type": "markdown",
   "metadata": {},
   "source": [
    "아래의 그래프를 보면, $h_\\theta(x)$의 값을 0으로 예측했을 때,  \n",
    "즉 특정 데이터에 대해 y가 1일 확률이 0%라고 예측했을 때 <span style='color:yellowgreen'>실제값이 0이기 때문에 손실이 0</span>이 된다."
   ]
  },
  {
   "cell_type": "markdown",
   "metadata": {},
   "source": [
    "<img src=\"image/06-5.png\" width=\"700px\"/>"
   ]
  },
  {
   "cell_type": "markdown",
   "metadata": {},
   "source": [
    "마찬가지로 $h_\\theta(x)$의 값을 0.2로 예측했다면, 완전히 실제값과 같지는 않지만  \n",
    "실제값은 0이기 때문에 손실이 적다."
   ]
  },
  {
   "cell_type": "markdown",
   "metadata": {},
   "source": [
    "<img src=\"image/06-6.png\" width=\"700px\"/>"
   ]
  },
  {
   "cell_type": "markdown",
   "metadata": {},
   "source": [
    "아래의 그래프는 <span style='color:yellowgreen'>오른쪽으로 갈 수록 손실이 커지고</span>, 처음에는 완만하다가 그래프가 급격하게 가파라진다. "
   ]
  },
  {
   "cell_type": "markdown",
   "metadata": {},
   "source": [
    "<img src=\"image/06-7.png\" width=\"700px\"/>"
   ]
  },
  {
   "cell_type": "markdown",
   "metadata": {},
   "source": [
    "### 왜 '로그'손실일까?\n",
    "손실의 정도를 로그함수로 결정하기 때문!"
   ]
  }
 ],
 "metadata": {
  "language_info": {
   "name": "python"
  }
 },
 "nbformat": 4,
 "nbformat_minor": 2
}
