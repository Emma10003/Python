{
 "cells": [
  {
   "cell_type": "markdown",
   "metadata": {},
   "source": [
    "## 로지스틱 회귀 가설함수"
   ]
  },
  {
   "cell_type": "markdown",
   "metadata": {},
   "source": [
    "- **가설함수**: 입력변수를 받아 목표변수를 예측해주는 함수.  \n",
    "\n",
    "선형회귀의 가설함수: $g_\\theta(x) = \\theta^Tx$  \n",
    "\n",
    "**로지스틱 회귀의 가설함수** (= 시그모이드 함수): \n",
    "$$\n",
    "S(x) = h_\\theta(x) = \\frac{1}{1 + e^{-g_\\theta(x)}} = \\frac{1}{1 + e^{-\\theta^Tx}}\n",
    "$$"
   ]
  },
  {
   "cell_type": "markdown",
   "metadata": {},
   "source": [
    "### 로지스틱 회귀의 가설함수에 $g_\\theta(x)$가 들어가는 이유\n",
    "1차함수인 $g_\\theta(x)$는 인풋값에 따라 아웃풋이 무한히 커지거나 작아질 수 있다.  \n",
    "\n",
    "이런 결과값을 내는 <span style='color:lightblue'>1차함수를 시그모이드 함수의 인풋으로</span> 넣으면,  \n",
    "시그모이드 함수의 결과값이 0 ~ 1 사이로 나온다!  \n",
    "(앞에서 말했던 $x$값이 무한대로 작아지거나 커지는 경우..를 말하는듯)"
   ]
  },
  {
   "cell_type": "markdown",
   "metadata": {},
   "source": [
    "<img src=\"image/03-1.png\" width=\"700px\"/>"
   ]
  },
  {
   "cell_type": "markdown",
   "metadata": {},
   "source": [
    "$x$값인 50을을 가설함수에 넣었을 때 0.9가 나왔다는 것의 의미?  \n",
    "= <span style='color:yellowgreen'>목표변수가 1일 확률</span>이 90%라는 뜻.  \n",
    "즉, 50시간 공부한 학생이 시험을 통과할 확률이 90%."
   ]
  },
  {
   "cell_type": "markdown",
   "metadata": {},
   "source": [
    "<img src=\"image/03-2.png\" width=\"700px\"/>"
   ]
  },
  {
   "cell_type": "markdown",
   "metadata": {},
   "source": [
    "확률이 50%(0.5)를 넘으므로, 이 학생은 '통과'로 예측하여 분류된다."
   ]
  }
 ],
 "metadata": {
  "language_info": {
   "name": "python"
  }
 },
 "nbformat": 4,
 "nbformat_minor": 2
}
