{
 "cells": [
  {
   "cell_type": "markdown",
   "metadata": {},
   "source": [
    "<img src=\"image/07-1.png\" width=\"700px\"/>"
   ]
  },
  {
   "cell_type": "markdown",
   "metadata": {},
   "source": [
    "로지스틱 회귀에서 로그 손실함수를 쓸 때는 아래와 같이 쓴다.\n",
    "$$\n",
    "logloss(h_\\theta(x),y) = -y\\log(h_\\theta(x)) - (1 - y)\\log(1-h_\\theta(x))\n",
    "$$"
   ]
  },
  {
   "cell_type": "markdown",
   "metadata": {},
   "source": [
    "위의 식과 아래의 식(앞에서 봤던 식)은 사실 완전히 동일한 식이다!\n",
    "$$\n",
    "logloss(h_{\\theta}(x), y) =\n",
    "\\begin{cases} \n",
    "    -\\log(h_{\\theta}(x)) & \\text{ } y = 1 \\\\\n",
    "    -\\log(1 - h_{\\theta}(x)) & \\text{ } y = 0\n",
    "\\end{cases}\n",
    "$$\n",
    "- 목표변수 y는 1 또는 0."
   ]
  },
  {
   "cell_type": "markdown",
   "metadata": {},
   "source": [
    "$y = 1$일 때는 아래와 같이 $-\\log(h_\\theta(x))$의 식이 도출된다."
   ]
  },
  {
   "cell_type": "markdown",
   "metadata": {},
   "source": [
    "<img src=\"image/07-2.png\" width=\"700px\"/>"
   ]
  },
  {
   "cell_type": "markdown",
   "metadata": {},
   "source": [
    "$y = 0$일 때는 아래와 같이 $-\\log(1 - h_\\theta(x))$의 식이 도출된다."
   ]
  },
  {
   "cell_type": "markdown",
   "metadata": {},
   "source": [
    "<img src=\"image/07-3.png\" width=\"700px\"/>"
   ]
  },
  {
   "cell_type": "markdown",
   "metadata": {},
   "source": [
    "## 로지스틱 회귀 손실함수"
   ]
  },
  {
   "cell_type": "markdown",
   "metadata": {},
   "source": [
    "각 데이터에 대해서 손실을 구한 후, 손실의 평균을 구해야 한다!  \n",
    "\n",
    "식은 아래와 같다."
   ]
  },
  {
   "cell_type": "markdown",
   "metadata": {},
   "source": [
    "$$\n",
    "J(\\theta) = \\frac{1}{m}\\sum^m_{i=1}[logloss(h_\\theta(x^{(i)}), y^{(i)})]\n",
    "$$"
   ]
  },
  {
   "cell_type": "markdown",
   "metadata": {},
   "source": [
    "- $m$은 학습데이터 개수."
   ]
  },
  {
   "cell_type": "markdown",
   "metadata": {},
   "source": [
    "여기서 $logloss(h_\\theta(x^{(i)}), y^{(i)})$는 <span style='color:yellowgreen'>**로그손실함수**</span>:  \n",
    "로그손실을 이용해 $i$번째 데이터에 대한 손실을 구하는 것."
   ]
  },
  {
   "cell_type": "markdown",
   "metadata": {},
   "source": [
    "<img src=\"image/07-4.png\" width=\"700px\"/>"
   ]
  },
  {
   "cell_type": "markdown",
   "metadata": {},
   "source": [
    "$$\n",
    "J(\\theta) = \\frac{1}{m}\\sum^m_{i=1}[logloss(h_\\theta(x^{(i)}), y^{(i)})]\n",
    "$$"
   ]
  },
  {
   "cell_type": "markdown",
   "metadata": {},
   "source": [
    "즉 위의 식은 로그손실함수에 $i=1$부터 $m$까지 하나씩 대입해 로그 손실을 계산한 결과를 모두 더한 뒤, $m$으로 나눠 평균을 구하는 것.  \n",
    "간단히 말하면 아래와 같이 표현할 수 있다.\n",
    "\n",
    "- 모든 데이터의 로그 손실을 계산한 후, 평균을 낸다."
   ]
  },
  {
   "cell_type": "markdown",
   "metadata": {},
   "source": [
    "**참고)**  \n",
    "손실함수의 인풋은 $\\theta$이다. 가설함수는 $\\theta$값을 어떻게 설정하는지에 따라 바뀐다. 따라서 어떤 $\\theta$값을 설정하는지에 따라  \n",
    "학습 데이터의 손실이 달라지고, 그렇기 때문에 손실함수의 인풋이 $\\theta$가 되는 것!"
   ]
  },
  {
   "cell_type": "markdown",
   "metadata": {},
   "source": [
    "만약 로그손실함수의 식을 위의 $J(\\theta)$식에 완전히 대입하고 싶으면, 아래와 같이 표기하면 된다.\n",
    "$$\n",
    "J(\\theta) = \\frac{1}{m}\\sum^m_{i=1}[-y\\log(h_\\theta(x)) - (1 - y)\\log(1-h_\\theta(x))]\n",
    "$$\n",
    "\n",
    "(그냥 로그손실 자리에 로그손실의 식을 작성해준 것.)"
   ]
  },
  {
   "cell_type": "markdown",
   "metadata": {},
   "source": [
    "- 로그손실함수는 말 그대로 함수식을 말하는거고, 로그손실은 그 함수를 계산한 결과를 말한다!"
   ]
  }
 ],
 "metadata": {
  "language_info": {
   "name": "python"
  }
 },
 "nbformat": 4,
 "nbformat_minor": 2
}
