{
 "cells": [
  {
   "cell_type": "markdown",
   "metadata": {},
   "source": [
    "## 분류"
   ]
  },
  {
   "cell_type": "markdown",
   "metadata": {},
   "source": [
    "지도 학습 (Supervised Learning) - 회귀 / 분류 中 **분류**  \n",
    "\n",
    "ex) 수신한 메일이 일반메일인지, 스팸메일인지 분류하거나, 스포츠/정치/연예 내용 중 어떤 것에 해당하는 메일인지 등을 분류.  \n",
    "\n",
    "이렇게 분류하는 경우에는 각 메일에 숫자를 부여하여 학습시킴.  \n",
    "예) 일반메일: 0, 스팸메일: 1"
   ]
  },
  {
   "cell_type": "markdown",
   "metadata": {},
   "source": [
    "<img src=\"image/01.png\" width=\"700px\"/>"
   ]
  },
  {
   "cell_type": "markdown",
   "metadata": {},
   "source": [
    "분류 문제를 해결할 때, 선형 회귀를 잘 사용하지 않는 이유:  \n",
    "새로운 데이터 하나가 극단적인 값, 예를 들어 공부시간이 2000시간인 데이터가 추가되어 학습하는 경우에는  \n",
    "그 데이터로 인해 최적선의 기울기가 달라지고, 따라서 예측 기준도 달라지기 때문이다.  \n",
    "\n",
    "위의 이미지에서는 새로운 데이터가 들어오기 이전의 기준 공부시간은 100시간이었는데, 극단값이 추가되면서  \n",
    "예측 기준 시간이 200시간으로 바뀌었다.  \n",
    "\n",
    "이렇게 <span style='color:yellowgreen'>선형 회귀는 예외적인 데이터에 민감하게 반응</span>하기 때문에, 분류 시에는 잘 사용하지 않는다."
   ]
  }
 ],
 "metadata": {
  "language_info": {
   "name": "python"
  }
 },
 "nbformat": 4,
 "nbformat_minor": 2
}
