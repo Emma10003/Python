{
 "cells": [
  {
   "cell_type": "markdown",
   "metadata": {},
   "source": [
    "로지스틱 회귀를 하기 위해서는 가설함수 $h_\\theta(x) = \\frac{1}{1+e^{-\\theta^Tx}}$에 대하여 최적의 $\\theta$값들을 찾아내야 하는데요.  \n",
    "가설함수의 결과값은 주어진 데이터 $x$가 특정 분류(분류1)일 확률을 리턴하는 거 기억나시죠?  \n",
    "그렇기 때문에 $h$의 결과값이 0.5 이상이면 1, 미만이면 0으로 분류했는데요."
   ]
  },
  {
   "cell_type": "markdown",
   "metadata": {},
   "source": [
    "## 속성이 하나일 때"
   ]
  },
  {
   "cell_type": "markdown",
   "metadata": {},
   "source": [
    "예를 들어서 공부시간으로 시험을 통과했는지 탈락했는지 예측하고 싶다고 할게요.  \n",
    "그럼 속성이 하나니까 이렇게 가설함수가 있겠죠?\n",
    "$$\n",
    "h_\\theta(x) = \\frac{1}{1 + e^{-(\\theta_0+\\theta_1x)}}\n",
    "$$"
   ]
  },
  {
   "cell_type": "markdown",
   "metadata": {},
   "source": [
    "<img src=\"image/05-1.png\" width=\"700px\"/>"
   ]
  },
  {
   "cell_type": "markdown",
   "metadata": {},
   "source": [
    "이렇게 $x$에 100시간을 넣어서 0.9가 나오면 100시간 공부한 학생이 시험을 통과할 확률은 90%인 거고,  \n",
    "$x$에 40시간을 넣어서 0.4가 나오면 40시간 공부한 학생이 시험을 통과할 확률은 40%인 거고... 이렇게 해석할 수 있습니다.  \n",
    "따라서 <span style='color:yellowgreen'>가설함수 아웃풋이 0.5가 되는 공부시간</span>(input값=$x$값)을 알아내면: "
   ]
  },
  {
   "cell_type": "markdown",
   "metadata": {},
   "source": [
    "<img src=\"image/05-2.png\" width=\"700px\"/>"
   ]
  },
  {
   "cell_type": "markdown",
   "metadata": {},
   "source": [
    "이렇게 47시간 이상 공부한 모든 학생은 통과, 47시간 미만 공부한 모든 학생은 탈락...이렇게 예측할 수 있습니다.  \n",
    "그럼 이렇게 47시간에 선을 긋고"
   ]
  },
  {
   "cell_type": "markdown",
   "metadata": {},
   "source": [
    "<img src=\"image/05-3.png\" width=\"700px\"/>"
   ]
  },
  {
   "cell_type": "markdown",
   "metadata": {},
   "source": [
    "모든 데이터에 대해서 파란색 영역에 있으면 통과, 빨간색 영역에 있으면 탈락이라고 할 수 있겠죠?  \n",
    "이렇게 분류를 할 때, <span style='color:yellowgreen'>**분류를 구별하는 경계선**</span>을 **Decision Boundary**(결정경계)라고 합니다."
   ]
  },
  {
   "cell_type": "markdown",
   "metadata": {},
   "source": [
    "## 속성이 2개일 때"
   ]
  },
  {
   "cell_type": "markdown",
   "metadata": {},
   "source": [
    "속성이 2개일 때 로지스틱 회귀 가설함수를 시각화하는 건 어려운데요. Decision Boundary를 시각화하는 건 쉽습니다.  \n",
    "이번에는 공부시간, 그리고 모의고사 시험점수를 갖고 시험을 통과했는지 예측한다고 할게요.  \n",
    "공부시간을 $x_1$, 모의고사 시험점수를 $x_2$라고 했을 때 이런 가설함수를 만들 수 있겠죠?\n",
    "$$\n",
    "h_\\theta(x) = \\frac{1}{1 + e^{-(\\theta_0+\\theta_1x_1+\\theta_2x_2)}}\n",
    "$$"
   ]
  },
  {
   "cell_type": "markdown",
   "metadata": {},
   "source": [
    "그리고 이 함수의 결과가 0.5 이상이면 시험을 통과, 미만이면 탈락을 예측할 수 있는 건데요.  \n",
    "변수가 하나일 때 47시간에 선을 그릴 수 있던 것처럼, 방금 말한 내용을 시각화하면 이런 선을 그릴 수 있습니다."
   ]
  },
  {
   "cell_type": "markdown",
   "metadata": {},
   "source": [
    "<img src=\"image/05-4.png\" width=\"700px\"/>"
   ]
  },
  {
   "cell_type": "markdown",
   "metadata": {},
   "source": [
    "$h_\\theta(x) = \\frac{1}{1 + e^{-(\\theta_0+\\theta_1x_1+\\theta_2x_2)}} = 0.5$ 이 식을 풀면 변수 $x_1$과 $x_2$의 관계식을 구할 수 있는데요. (예를 들어 $x_2 = -2x_1 + 100$)  \n",
    "바로 이 함수가 데이터를 분류하는 기준선이 됩니다(주황색 선).\n",
    "\n",
    "이 선 위에 있는 데이터는 통과 예측, 그리고 밑에 있는 데이터는 탈락을 예측할 수 있습니다.\n",
    "\n",
    "이 때 Decision Boundary를 시각화하면 이렇게 되죠."
   ]
  },
  {
   "cell_type": "markdown",
   "metadata": {},
   "source": [
    "<img src=\"image/05-5.png\" width=\"700px\"/>"
   ]
  },
  {
   "cell_type": "markdown",
   "metadata": {},
   "source": [
    "## 정리"
   ]
  },
  {
   "cell_type": "markdown",
   "metadata": {},
   "source": [
    "Decision Boundary는 말 그대로 데이터를 분류하는 결정경계선을 의미합니다. 로지스틱 회귀에서만 사용하는 용어는 아니고요,  \n",
    "분류를 하는 모든 문제들에 적용할 수 있는 개념입니다.\n",
    "\n",
    "Decision Boundary도 다른 개념들과 비슷하게 변수가 많아질수록 시각적으로 표현하기 힘들어집니다.  \n",
    "그러나 우리가 다양한 분류 알고리즘들 개념에 대해서 배울 때 문제를 간단하게 만들어서 개념을 이해할 때 도움이 되는데요.  \n",
    "나중에 시각적으로 데이터를 나누는 경계선, 또는 영역을 그리고 싶을 때 사용하면 유용하겠죠?"
   ]
  }
 ],
 "metadata": {
  "language_info": {
   "name": "python"
  }
 },
 "nbformat": 4,
 "nbformat_minor": 2
}
