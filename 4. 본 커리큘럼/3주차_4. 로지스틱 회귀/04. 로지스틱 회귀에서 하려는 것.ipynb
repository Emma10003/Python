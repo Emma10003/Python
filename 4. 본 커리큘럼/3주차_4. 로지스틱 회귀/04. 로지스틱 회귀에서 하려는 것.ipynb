{
 "cells": [
  {
   "cell_type": "markdown",
   "metadata": {},
   "source": [
    "## 단순화한 시각화"
   ]
  },
  {
   "cell_type": "markdown",
   "metadata": {},
   "source": [
    "단순화해서 입력변수가 하나라고 생각해보겠습니다.\n",
    "\n",
    "영상에서 봤듯이, 저희가 하려는 건 이런 식으로 주어진 데이터에 가장 잘 맞는 시그모이드 모양의 곡선을 찾아내는 것입니다."
   ]
  },
  {
   "cell_type": "markdown",
   "metadata": {},
   "source": [
    "<img src=\"image/04-1.png\" width=\"700px\"/>"
   ]
  },
  {
   "cell_type": "markdown",
   "metadata": {},
   "source": [
    "이 곡선은 **$\\theta$값들을 조절**해서 찾는 겁니다.  \n",
    "변수가 하나라는 건 $\\theta$값이 $\\theta_0$, $\\theta_1$ 이렇게 두 개가 있다는 뜻인데요. 이 때 가설함수를 이렇게 표현할 수 있습니다.\n",
    "$$\n",
    "h_\\theta(x) = \\frac{1}{1 + e^{-(\\theta_0+\\theta_1x)}}\n",
    "$$"
   ]
  },
  {
   "cell_type": "markdown",
   "metadata": {},
   "source": [
    "$\\theta_0$의 값을 늘리면 곡선이 왼쪽으로 움직이고, 줄이면 오른쪽으로 움직입니다."
   ]
  },
  {
   "cell_type": "markdown",
   "metadata": {},
   "source": [
    "<img src=\"image/04-2.png\" width=\"700px\"/>"
   ]
  },
  {
   "cell_type": "markdown",
   "metadata": {},
   "source": [
    "$\\theta_1$의 값을 늘리면 S 모양의 곡선이 조여지고, 줄이면 늘어집니다."
   ]
  },
  {
   "cell_type": "markdown",
   "metadata": {},
   "source": [
    "<img src=\"image/04-3.png\" width=\"700px\"/>"
   ]
  },
  {
   "cell_type": "markdown",
   "metadata": {},
   "source": [
    "선형회귀와 똑같이 이렇게 $\\theta_0$과 $\\theta_1$의 값들을 바꿔가면서,  \n",
    "<span style='color:yellowgreen'>갖고 있는 학습 데이터에 가장 잘 맞는 시그모이드 모양의 곡선을 찾아내는 게</span> 로지스틱 회귀의 목적인 거죠."
   ]
  },
  {
   "cell_type": "markdown",
   "metadata": {},
   "source": [
    "## 변수가 여러 개일 때"
   ]
  },
  {
   "cell_type": "markdown",
   "metadata": {},
   "source": [
    "선형회귀와 마찬가지로 입력변수가 여러 개이면 시각화하기 훨씬 힘들어지는데요. 결국엔 로지스틱 회귀도 기본적인 개념만 이해하고 있으면  \n",
    "심화내용도 똑같습니다."
   ]
  }
 ],
 "metadata": {
  "language_info": {
   "name": "python"
  }
 },
 "nbformat": 4,
 "nbformat_minor": 2
}
