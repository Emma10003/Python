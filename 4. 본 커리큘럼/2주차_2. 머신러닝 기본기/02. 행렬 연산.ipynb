{
 "cells": [
  {
   "cell_type": "markdown",
   "metadata": {},
   "source": [
    "### 행렬의 덧셈과 곱셈\n",
    "덧셈: 같은 위치의 값 끼리 더함.  \n",
    "* 행렬을 더하기 위해서는 두 행렬의 차원(행과 열의 수)가 같아야 한다.  \n",
    "\n",
    "곱셈\n",
    "1) 스칼라 곱: 행렬과 상수(스칼라)를 곱함  \n",
    "- 행렬의 각 원소에 상수를 곱한 값이 결과.  \n",
    "2) 행렬곱셈 - 내적곱  \n",
    "- A = [1 3 1]   B = [5 6]  \n",
    "      [2 2 1]       [4 2]  \n",
    "                    [3 1]  \n",
    "-> A의 1행과 B의 1열을 곱셈 (1x5 + 3x4 + 1x3) = 20(1행 1열)  \n",
    "-> A의 1행과 B의 2열을 곱셈 -> 1행 2열  \n",
    "-> A의 2행과 B의 1열을 곱셈 -> 2행 1열  \n",
    "-> A의 2행과 B의 2열을 곱셈 (2x6 + 2x2 + 1x1) -> 2행 2열  \n",
    "A X B = [20 13]  \n",
    "        [21 17]  \n",
    "A가 행을, B가 열을 제공 -> A의 열과 B의 행 수가 같아야 곱할 수 있다.  \n",
    "m x n 행렬과 n x p 행렬을 곱하면 m x p 행렬이 결과로 나온다."
   ]
  },
  {
   "cell_type": "code",
   "execution_count": 1,
   "metadata": {},
   "outputs": [],
   "source": [
    "import numpy as np"
   ]
  },
  {
   "cell_type": "code",
   "execution_count": 3,
   "metadata": {},
   "outputs": [],
   "source": [
    "A = np.array([[1, -1, 2],\n",
    "              [3, 2, 2],\n",
    "              [4, 1, 2]])\n",
    "B = np.random.rand(3, 3)"
   ]
  },
  {
   "cell_type": "code",
   "execution_count": 4,
   "metadata": {},
   "outputs": [
    {
     "data": {
      "text/plain": [
       "array([[ 1, -1,  2],\n",
       "       [ 3,  2,  2],\n",
       "       [ 4,  1,  2]])"
      ]
     },
     "execution_count": 4,
     "metadata": {},
     "output_type": "execute_result"
    }
   ],
   "source": [
    "A"
   ]
  },
  {
   "cell_type": "code",
   "execution_count": 5,
   "metadata": {},
   "outputs": [
    {
     "data": {
      "text/plain": [
       "array([[0.56445175, 0.63919569, 0.34496469],\n",
       "       [0.68916011, 0.79553205, 0.53979304],\n",
       "       [0.77938086, 0.52167807, 0.71591883]])"
      ]
     },
     "execution_count": 5,
     "metadata": {},
     "output_type": "execute_result"
    }
   ],
   "source": [
    "B"
   ]
  },
  {
   "cell_type": "code",
   "execution_count": 6,
   "metadata": {},
   "outputs": [
    {
     "data": {
      "text/plain": [
       "array([[ 1.56445175, -0.36080431,  2.34496469],\n",
       "       [ 3.68916011,  2.79553205,  2.53979304],\n",
       "       [ 4.77938086,  1.52167807,  2.71591883]])"
      ]
     },
     "execution_count": 6,
     "metadata": {},
     "output_type": "execute_result"
    }
   ],
   "source": [
    "A + B"
   ]
  },
  {
   "cell_type": "code",
   "execution_count": 7,
   "metadata": {},
   "outputs": [
    {
     "data": {
      "text/plain": [
       "array([[ 5, -5, 10],\n",
       "       [15, 10, 10],\n",
       "       [20,  5, 10]])"
      ]
     },
     "execution_count": 7,
     "metadata": {},
     "output_type": "execute_result"
    }
   ],
   "source": [
    "5 * A"
   ]
  },
  {
   "cell_type": "code",
   "execution_count": 8,
   "metadata": {},
   "outputs": [
    {
     "data": {
      "text/plain": [
       "array([[1.43405335, 0.88701977, 1.23700932],\n",
       "       [4.63043718, 4.5520073 , 3.54631781],\n",
       "       [4.50572882, 4.39567093, 3.35148946]])"
      ]
     },
     "execution_count": 8,
     "metadata": {},
     "output_type": "execute_result"
    }
   ],
   "source": [
    "# 행렬 곱\n",
    "np.dot(A, B)"
   ]
  },
  {
   "cell_type": "code",
   "execution_count": 9,
   "metadata": {},
   "outputs": [
    {
     "data": {
      "text/plain": [
       "array([[1.43405335, 0.88701977, 1.23700932],\n",
       "       [4.63043718, 4.5520073 , 3.54631781],\n",
       "       [4.50572882, 4.39567093, 3.35148946]])"
      ]
     },
     "execution_count": 9,
     "metadata": {},
     "output_type": "execute_result"
    }
   ],
   "source": [
    "# 행렬 곱 다른 방법 (간단!)\n",
    "A @ B"
   ]
  },
  {
   "cell_type": "code",
   "execution_count": 10,
   "metadata": {},
   "outputs": [
    {
     "data": {
      "text/plain": [
       "array([[ 3.56295685,  1.16541114,  3.92693869],\n",
       "       [ 9.00875741,  8.1430714 ,  6.62590389],\n",
       "       [10.06449054,  6.43902707,  6.78332712]])"
      ]
     },
     "execution_count": 10,
     "metadata": {},
     "output_type": "execute_result"
    }
   ],
   "source": [
    "A @ B + (A + 2 * B)"
   ]
  },
  {
   "cell_type": "code",
   "execution_count": null,
   "metadata": {},
   "outputs": [],
   "source": []
  }
 ],
 "metadata": {
  "kernelspec": {
   "display_name": "base",
   "language": "python",
   "name": "python3"
  },
  "language_info": {
   "codemirror_mode": {
    "name": "ipython",
    "version": 3
   },
   "file_extension": ".py",
   "mimetype": "text/x-python",
   "name": "python",
   "nbconvert_exporter": "python",
   "pygments_lexer": "ipython3",
   "version": "3.12.4"
  }
 },
 "nbformat": 4,
 "nbformat_minor": 2
}
