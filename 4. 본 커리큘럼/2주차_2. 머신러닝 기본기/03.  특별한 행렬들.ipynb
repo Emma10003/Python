{
 "cells": [
  {
   "cell_type": "markdown",
   "metadata": {},
   "source": [
    "- 전치행렬(T) : 기존 행의 행과 열의 위치를 바꾼 것. (2행3열 -> 3행2열) A^T로 표기함.  \n",
    "    - 기존 행렬로 행렬곱을 연산할 때 행렬 개수가 안 맞으면 전치행렬을 사용하기도 함.  \n",
    "\n",
    "- 단위행렬(identity matrix, I) : 0과 1로만 이루어진 행렬, 항상 정사각형-행과 열의 수가 동일해야 함. (3행3열, 4행4열, ...)  \n",
    "    - 일반행렬과 단위행렬을 곱하면 일반행렬과 동일한 값이 나온다.  \n",
    "    - 어떤 수에 상수 1을 곱하면 자기 자신이 나오는 것과 같은 역할.\n",
    "\n",
    "- 역행렬 : 일반행렬에 어떠한 행렬을 곱했을 때 단위행렬이 나오도록 하는 행렬. (A x ? = I) -> A^-1으로 표기함.\n",
    "    - 역행렬은 항상 정사각형\n",
    "    - 모든 행렬에 역행렬이 존재하는 것은 아님."
   ]
  },
  {
   "cell_type": "code",
   "execution_count": 1,
   "metadata": {},
   "outputs": [],
   "source": [
    "import numpy as np"
   ]
  },
  {
   "cell_type": "code",
   "execution_count": 2,
   "metadata": {},
   "outputs": [],
   "source": [
    "A = np.array([\n",
    "    [1, -1, 2],\n",
    "    [3, 2, 2],\n",
    "    [4, 1, 2]\n",
    "])"
   ]
  },
  {
   "cell_type": "code",
   "execution_count": 3,
   "metadata": {},
   "outputs": [
    {
     "data": {
      "text/plain": [
       "array([[ 1, -1,  2],\n",
       "       [ 3,  2,  2],\n",
       "       [ 4,  1,  2]])"
      ]
     },
     "execution_count": 3,
     "metadata": {},
     "output_type": "execute_result"
    }
   ],
   "source": [
    "A"
   ]
  },
  {
   "cell_type": "code",
   "execution_count": 5,
   "metadata": {},
   "outputs": [
    {
     "data": {
      "text/plain": [
       "array([[ 1,  3,  4],\n",
       "       [-1,  2,  1],\n",
       "       [ 2,  2,  2]])"
      ]
     },
     "execution_count": 5,
     "metadata": {},
     "output_type": "execute_result"
    }
   ],
   "source": [
    "# 전치행렬 만들기\n",
    "A_transpose = np.transpose(A)\n",
    "A_transpose"
   ]
  },
  {
   "cell_type": "code",
   "execution_count": 7,
   "metadata": {},
   "outputs": [
    {
     "data": {
      "text/plain": [
       "array([[ 1,  3,  4],\n",
       "       [-1,  2,  1],\n",
       "       [ 2,  2,  2]])"
      ]
     },
     "execution_count": 7,
     "metadata": {},
     "output_type": "execute_result"
    }
   ],
   "source": [
    "# 전치행렬 만들기 2\n",
    "A_transpose2 = A.T\n",
    "A_transpose2"
   ]
  },
  {
   "cell_type": "code",
   "execution_count": 8,
   "metadata": {},
   "outputs": [
    {
     "data": {
      "text/plain": [
       "array([[1., 0., 0.],\n",
       "       [0., 1., 0.],\n",
       "       [0., 0., 1.]])"
      ]
     },
     "execution_count": 8,
     "metadata": {},
     "output_type": "execute_result"
    }
   ],
   "source": [
    "# 단위행렬 만들기\n",
    "I = np.identity(3)\n",
    "I"
   ]
  },
  {
   "cell_type": "code",
   "execution_count": 10,
   "metadata": {},
   "outputs": [
    {
     "data": {
      "text/plain": [
       "array([[ 1., -1.,  2.],\n",
       "       [ 3.,  2.,  2.],\n",
       "       [ 4.,  1.,  2.]])"
      ]
     },
     "execution_count": 10,
     "metadata": {},
     "output_type": "execute_result"
    }
   ],
   "source": [
    "A @ I  # 기존 행렬 A와 동일한 행렬이 출력됨."
   ]
  },
  {
   "cell_type": "code",
   "execution_count": 12,
   "metadata": {},
   "outputs": [
    {
     "data": {
      "text/plain": [
       "array([[-0.2, -0.4,  0.6],\n",
       "       [-0.2,  0.6, -0.4],\n",
       "       [ 0.5,  0.5, -0.5]])"
      ]
     },
     "execution_count": 12,
     "metadata": {},
     "output_type": "execute_result"
    }
   ],
   "source": [
    "# 역행렬\n",
    "A_inverse = np.linalg.pinv(A)  # .pinv() 메서드는 역행렬이 없는 경우 최대한 비슷한 효과를 내는 행렬을 리턴함.\n",
    "A_inverse"
   ]
  },
  {
   "cell_type": "code",
   "execution_count": 13,
   "metadata": {},
   "outputs": [
    {
     "data": {
      "text/plain": [
       "array([[ 1.00000000e+00,  5.55111512e-16, -8.88178420e-16],\n",
       "       [ 0.00000000e+00,  1.00000000e+00, -8.88178420e-16],\n",
       "       [ 2.22044605e-16,  2.22044605e-16,  1.00000000e+00]])"
      ]
     },
     "execution_count": 13,
     "metadata": {},
     "output_type": "execute_result"
    }
   ],
   "source": [
    "# 역행렬이 제대로 나왔는지 확인\n",
    "A @ A_inverse  # 단위행렬이 출력되면 맞게 나온 것."
   ]
  },
  {
   "cell_type": "code",
   "execution_count": null,
   "metadata": {},
   "outputs": [],
   "source": []
  }
 ],
 "metadata": {
  "kernelspec": {
   "display_name": "base",
   "language": "python",
   "name": "python3"
  },
  "language_info": {
   "codemirror_mode": {
    "name": "ipython",
    "version": 3
   },
   "file_extension": ".py",
   "mimetype": "text/x-python",
   "name": "python",
   "nbconvert_exporter": "python",
   "pygments_lexer": "ipython3",
   "version": "3.12.4"
  }
 },
 "nbformat": 4,
 "nbformat_minor": 2
}
