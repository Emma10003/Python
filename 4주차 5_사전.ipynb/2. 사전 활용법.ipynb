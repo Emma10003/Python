{
 "cells": [
  {
   "cell_type": "markdown",
   "metadata": {},
   "source": [
    "### 1. 사전의 값 목록 보기 - .values()"
   ]
  },
  {
   "cell_type": "code",
   "execution_count": null,
   "metadata": {},
   "outputs": [],
   "source": [
    "my_family = {\n",
    "    'mom': 'Kyla',\n",
    "    'dad': 'Sam',\n",
    "    'son': 'Jimmy',\n",
    "    'daughter': 'Sera'\n",
    "}\n",
    "\n",
    "print(my_family.values())   # my_family 딕셔너리의 값(value) 목록을 출력\n",
    "print('Sam' in my_family.values())   # 'Sam'이 my_family 딕셔너리 값에 있는지 여부를 True/False로 출력\n",
    "\n",
    "# 반복문에 활용하기\n",
    "for value in my_family.valueS():\n",
    "    print(value)"
   ]
  },
  {
   "cell_type": "markdown",
   "metadata": {},
   "source": [
    "### 2. 사전의 키 목록 보기 - .keys()"
   ]
  },
  {
   "cell_type": "code",
   "execution_count": null,
   "metadata": {},
   "outputs": [],
   "source": [
    "print(my_family.keys())   # my_family 딕셔너리의 키(key) 목록을 출력\n",
    "print('mom' in my_family.keys())   # 'mom'이 my_family 딕셔너리 키에 있는지 여부를 True/False로 출력\n",
    "\n",
    "# 반복문에 활용하기\n",
    "for key in my_family.keys():\n",
    "    print(key)\n",
    "\n",
    "\n",
    "# 응용하기 - 키와 값 모든 쌍을 출력하기\n",
    "for key in my_family.keys():\n",
    "    value = my_family[key]\n",
    "    print(key, value)"
   ]
  },
  {
   "cell_type": "markdown",
   "metadata": {},
   "source": [
    "### 3. 사전의 키와 값 목록 보기 - .items()"
   ]
  },
  {
   "cell_type": "code",
   "execution_count": null,
   "metadata": {},
   "outputs": [],
   "source": [
    "# 응용하기 - 키와 값 모든 쌍을 출력하기\n",
    "for key, value in my_family.items():\n",
    "    print(key, value)"
   ]
  }
 ],
 "metadata": {
  "kernelspec": {
   "display_name": "Python (emma1)",
   "language": "python",
   "name": "myenv"
  },
  "language_info": {
   "codemirror_mode": {
    "name": "ipython",
    "version": 3
   },
   "file_extension": ".py",
   "mimetype": "text/x-python",
   "name": "python",
   "nbconvert_exporter": "python",
   "pygments_lexer": "ipython3",
   "version": "3.13.0"
  }
 },
 "nbformat": 4,
 "nbformat_minor": 2
}
