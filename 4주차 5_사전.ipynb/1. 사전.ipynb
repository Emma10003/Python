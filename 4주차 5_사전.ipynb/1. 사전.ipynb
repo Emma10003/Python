{
 "cells": [
  {
   "cell_type": "markdown",
   "metadata": {},
   "source": [
    "## 사전 (dictionary)"
   ]
  },
  {
   "cell_type": "code",
   "execution_count": null,
   "metadata": {},
   "outputs": [],
   "source": [
    "'''\n",
    "key-value pair: key(키)와 value(값)이 한 쌍을 이룸\n",
    "\n",
    "리스트는 요소가 순서대로 저장되지만, 사전에는 순서 개념이 없다.\n",
    "리스트의 인덱싱 번호는 정수형이지만, 사전의 key(키)는 정수형일 필요가 없다.\n",
    "'''"
   ]
  },
  {
   "cell_type": "code",
   "execution_count": null,
   "metadata": {},
   "outputs": [],
   "source": [
    "# 사전 만들기\n",
    "my_dictionary ={  # 키: 값\n",
    "    5: 25,\n",
    "    2: 4,\n",
    "    3: 9\n",
    "}\n",
    "\n",
    "# 사전의 자료형\n",
    "print(type(my_dictionary))   # <class 'dict'> 사전 자료형\n",
    "\n",
    "# 사전에서 값 가져오기\n",
    "print(my_dictionary[3])   # 9\n",
    "\n",
    "# 사전에 새로운 쌍 추가하기\n",
    "my_dictionary[9] = 81   # 사전_[키] = 값\n",
    "print(my_dictionary)"
   ]
  },
  {
   "cell_type": "code",
   "execution_count": null,
   "metadata": {},
   "outputs": [],
   "source": [
    "# 키 값이 정수일 필요가 없다.\n",
    "my_family = {\n",
    "    'mom': 'Kyla',\n",
    "    'dad': 'Sam',\n",
    "    'son': 'Jimmy',\n",
    "    'daughter': 'Sera'\n",
    "}\n",
    "\n",
    "print(my_family['dad'])"
   ]
  },
  {
   "cell_type": "markdown",
   "metadata": {},
   "source": [
    "### 문제 1"
   ]
  },
  {
   "cell_type": "code",
   "execution_count": null,
   "metadata": {},
   "outputs": [],
   "source": [
    "'''\n",
    "태호는 미국 다트머스 대학교 컴퓨터 과학과에 지원하려고 합니다. 컴퓨터 과학 전공으로 미국 유학을 가고 싶기 때문에,\n",
    "코딩 공부와 영어 공부를 모두 해야 하는 상황인데요. 그 둘을 동시에 하기 위해서 파이썬으로 단어장 프로그램을 만들기로 합니다.\n",
    "\n",
    "1. 단어장 만들기\n",
    "잘 모르는 단어 네 개입니다.\n",
    "- sanitizer: 살균제\n",
    "- ambition: 야망\n",
    "- conscience: 양심\n",
    "- civilization: 문명\n",
    "이 단어들을 저장하는 사전을 만들고, 만든 사전을 vocab라는 변수에 저장하세요.\n",
    "단어와 뜻이 key-value로 들어가야 합니다.\n",
    "\n",
    "2. 새로운 단어들 추가\n",
    "이미 만들어진 vocab 사전에 새로운 단어들을 추가하고 싶습니다. 아래 단어들을 추가해 주세요.\n",
    "- privilege: 특권\n",
    "- principle: 원칙\n",
    "'''\n",
    "\n",
    "# 1. 단어장 만들기\n",
    "vocab = {\n",
    "    'sanitizer': '살균제',\n",
    "    'ambition': '야망',\n",
    "    'conscience': '양심',\n",
    "    'civilization': '문명'\n",
    "}\n",
    "print(vocab)\n",
    "\n",
    "\n",
    "# 2. 새로운 단어들 추가\n",
    "vocab['privilege'] = '특권'\n",
    "vocab['principle'] = '원칙'\n",
    "print(vocab)"
   ]
  }
 ],
 "metadata": {
  "kernelspec": {
   "display_name": "Python (emma1)",
   "language": "python",
   "name": "myenv"
  },
  "language_info": {
   "codemirror_mode": {
    "name": "ipython",
    "version": 3
   },
   "file_extension": ".py",
   "mimetype": "text/x-python",
   "name": "python",
   "nbconvert_exporter": "python",
   "pygments_lexer": "ipython3",
   "version": "3.13.0"
  }
 },
 "nbformat": 4,
 "nbformat_minor": 2
}
