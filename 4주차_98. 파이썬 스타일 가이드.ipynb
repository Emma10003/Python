{
 "cells": [
  {
   "cell_type": "markdown",
   "metadata": {},
   "source": [
    "### PEP 8"
   ]
  },
  {
   "cell_type": "markdown",
   "metadata": {},
   "source": [
    "#### 1. 이름"
   ]
  },
  {
   "cell_type": "code",
   "execution_count": null,
   "metadata": {},
   "outputs": [],
   "source": [
    "''' 모든 변수와 함수 이름은 소문자로 쓰고, 여러 단어일 경우 _로 나눈다. '''"
   ]
  },
  {
   "cell_type": "code",
   "execution_count": null,
   "metadata": {},
   "outputs": [],
   "source": [
    "# bad\n",
    "someVariableName = 1\n",
    "SomeVariableName = 1\n",
    "\n",
    "def someFunctionName():\n",
    "    print(\"Hello\")\n",
    "\n",
    "\n",
    "# good\n",
    "some_variable_name = 1\n",
    "def some_function_name():\n",
    "    print(\"Hello\")"
   ]
  },
  {
   "cell_type": "code",
   "execution_count": null,
   "metadata": {},
   "outputs": [],
   "source": [
    "''' 모든 상수 이름은 대문자로 쓰고, 여러 단어일 경우 _로 나눈다. '''"
   ]
  },
  {
   "cell_type": "code",
   "execution_count": 5,
   "metadata": {},
   "outputs": [],
   "source": [
    "# bad\n",
    "someConstant = 3.14\n",
    "SomeConstant = 3.14\n",
    "some_constant = 3.14\n",
    "\n",
    "# good\n",
    "SOME_CONSTANT = 3.14"
   ]
  },
  {
   "cell_type": "markdown",
   "metadata": {},
   "source": [
    "의미 있는 이름(변수)"
   ]
  },
  {
   "cell_type": "code",
   "execution_count": null,
   "metadata": {},
   "outputs": [],
   "source": [
    "# bad (의미 없는 이름)\n",
    "a = 2\n",
    "b = 3.14\n",
    "print(b * a * a)\n",
    "\n",
    "# good (의미 있는 이름)\n",
    "radius = 2\n",
    "PI = 3.14\n",
    "print(PI * radius * radius)"
   ]
  },
  {
   "cell_type": "markdown",
   "metadata": {},
   "source": [
    "의미 있는 이름(함수)"
   ]
  },
  {
   "cell_type": "code",
   "execution_count": 7,
   "metadata": {},
   "outputs": [],
   "source": [
    "# bad (의미 없는 이름)\n",
    "def do_something():\n",
    "    print(\"Hello, World.\")\n",
    "\n",
    "# good (의미 있는 이름)\n",
    "def say_hello():\n",
    "    print(\"Hello, World.\")"
   ]
  },
  {
   "cell_type": "markdown",
   "metadata": {},
   "source": [
    "#### 2. 화이트 스페이스"
   ]
  },
  {
   "cell_type": "markdown",
   "metadata": {},
   "source": [
    "들여쓰기"
   ]
  },
  {
   "cell_type": "code",
   "execution_count": null,
   "metadata": {},
   "outputs": [],
   "source": [
    "''' 들여쓰기는 무조건 스페이스 4개를 사용한다. '''"
   ]
  },
  {
   "cell_type": "markdown",
   "metadata": {},
   "source": [
    "함수 정의"
   ]
  },
  {
   "cell_type": "code",
   "execution_count": null,
   "metadata": {},
   "outputs": [],
   "source": [
    "''' \n",
    "함수 정의 위아래로 빈 줄이 두 개씩 있어야 한다.\n",
    "하지만 파일의 첫 줄이 함수 정의인 경우 해당 함수 위에는 빈 줄이 없어도 된다.\n",
    "'''"
   ]
  },
  {
   "cell_type": "code",
   "execution_count": 10,
   "metadata": {},
   "outputs": [],
   "source": [
    "# bad\n",
    "def a():\n",
    "    print('a')\n",
    "def b():\n",
    "    print('b')\n",
    "\n",
    "def c():\n",
    "    print('c')"
   ]
  },
  {
   "cell_type": "code",
   "execution_count": null,
   "metadata": {},
   "outputs": [],
   "source": [
    "# good\n",
    "def a():\n",
    "    print('a')\n",
    "    \n",
    "\n",
    "def b():\n",
    "    print('b')\n",
    "    \n",
    "    \n",
    "def  c():\n",
    "    print('c')"
   ]
  },
  {
   "cell_type": "markdown",
   "metadata": {},
   "source": [
    "괄호 안"
   ]
  },
  {
   "cell_type": "code",
   "execution_count": null,
   "metadata": {},
   "outputs": [],
   "source": [
    "''' 괄호 바로 안에는 띄어쓰기를 하지 않는다. '''"
   ]
  },
  {
   "cell_type": "code",
   "execution_count": null,
   "metadata": {},
   "outputs": [],
   "source": [
    "# bad\n",
    "spam( ham[ 1 ], {eggs : 2 } )\n",
    "\n",
    "# good\n",
    "spam(ham[1], {eggs: 2})"
   ]
  },
  {
   "cell_type": "markdown",
   "metadata": {},
   "source": [
    "함수 괄호"
   ]
  },
  {
   "cell_type": "code",
   "execution_count": null,
   "metadata": {},
   "outputs": [],
   "source": [
    "''' 함수를 정의하거나 호출할 때, 함수 이름과 괄호 사이에 띄어쓰기를 하지 않는다. '''"
   ]
  },
  {
   "cell_type": "code",
   "execution_count": null,
   "metadata": {},
   "outputs": [],
   "source": [
    "# bad\n",
    "def spam (x):\n",
    "    print (x + 2)\n",
    "\n",
    "\n",
    "spam(1)\n",
    "\n",
    "\n",
    "# good\n",
    "def spam(x):\n",
    "    print(x + 2)\n",
    "\n",
    "\n",
    "spam(1)"
   ]
  },
  {
   "cell_type": "markdown",
   "metadata": {},
   "source": [
    "쉼표"
   ]
  },
  {
   "cell_type": "code",
   "execution_count": null,
   "metadata": {},
   "outputs": [],
   "source": [
    "''' 쉼표 앞에는 띄어쓰기를 하지 않는다. '''"
   ]
  },
  {
   "cell_type": "code",
   "execution_count": null,
   "metadata": {},
   "outputs": [],
   "source": [
    "# bad\n",
    "print(x , y)\n",
    "\n",
    "# good\n",
    "print(x, y)"
   ]
  },
  {
   "cell_type": "markdown",
   "metadata": {},
   "source": [
    "지정연산자"
   ]
  },
  {
   "cell_type": "code",
   "execution_count": null,
   "metadata": {},
   "outputs": [],
   "source": [
    "''' 지정 연산자 앞뒤로 띄어쓰기를 하나씩 넣어준다. '''"
   ]
  },
  {
   "cell_type": "code",
   "execution_count": null,
   "metadata": {},
   "outputs": [],
   "source": [
    "# bad\n",
    "x=1\n",
    "x       = 1\n",
    "\n",
    "# good\n",
    "x = 1"
   ]
  },
  {
   "cell_type": "markdown",
   "metadata": {},
   "source": [
    "연산자"
   ]
  },
  {
   "cell_type": "code",
   "execution_count": null,
   "metadata": {},
   "outputs": [],
   "source": [
    "''' 기본적으로는 연산자 앞뒤로 띄어쓰기를 하나씩 한다. '''\n",
    "# bad\n",
    "i=i+1\n",
    "submitted +=1\n",
    "\n",
    "# good\n",
    "i = i + 1\n",
    "submitted += 1"
   ]
  },
  {
   "cell_type": "code",
   "execution_count": null,
   "metadata": {},
   "outputs": [],
   "source": [
    "''' 그러나 연산의 '우선순위'를 강조하기 위해서는, 연산자 앞뒤로 띄어쓰기를 붙이는 것을 권장한다. '''\n",
    "# bad\n",
    "x = x * 2 - 1\n",
    "hypot2 = x * x + y * y\n",
    "c = (a + b) * (a - b)\n",
    "\n",
    "# good\n",
    "x = x*2 - 1\n",
    "hypot2 = x*x + y*y\n",
    "c  = (a+b) * (a-b)"
   ]
  },
  {
   "cell_type": "markdown",
   "metadata": {},
   "source": [
    "코멘트"
   ]
  },
  {
   "cell_type": "code",
   "execution_count": null,
   "metadata": {},
   "outputs": [],
   "source": [
    "''' 일반 코드와 같은 줄에 코멘트를 쓸 경우, 코멘트 앞에 띄어쓰기 최소 두 개를 입력한다. '''\n",
    "# bad\n",
    "x = x + 1#코멘트\n",
    "\n",
    "# good\n",
    "x = x + 1  # 코멘트"
   ]
  }
 ],
 "metadata": {
  "kernelspec": {
   "display_name": "Python 3",
   "language": "python",
   "name": "python3"
  },
  "language_info": {
   "codemirror_mode": {
    "name": "ipython",
    "version": 3
   },
   "file_extension": ".py",
   "mimetype": "text/x-python",
   "name": "python",
   "nbconvert_exporter": "python",
   "pygments_lexer": "ipython3",
   "version": "3.13.0"
  }
 },
 "nbformat": 4,
 "nbformat_minor": 2
}
