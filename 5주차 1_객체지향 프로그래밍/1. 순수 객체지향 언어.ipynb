{
 "cells": [
  {
   "cell_type": "markdown",
   "metadata": {},
   "source": [
    "## 순수 객체 지향 언어?"
   ]
  },
  {
   "cell_type": "code",
   "execution_count": null,
   "metadata": {},
   "outputs": [],
   "source": [
    "'''\n",
    "파이썬은 순수 객체 지향 언어.\n",
    "= 파이썬의 모든 것이 객체라는 뜻!\n",
    "  -> 숫자, 문자열 등 모든 게 어떤 클래스의 인스턴스이다!\n",
    "'''"
   ]
  },
  {
   "cell_type": "code",
   "execution_count": null,
   "metadata": {},
   "outputs": [],
   "source": [
    "class User:\n",
    "    def __init__(self, name, email, password):\n",
    "        self.name = name\n",
    "        self.email = email\n",
    "        self.password = password\n",
    "    \n",
    "    def say_hello(self):\n",
    "        print(\"안녕하세요! 저는 {}입니다.\".format(self.name))\n",
    "\n",
    "\n",
    "user1 = User(\"Young\", \"young@codeit.kr\", \"123456\")\n",
    "\n",
    "print(type(user1))   # <class '__main__.User'>\n",
    "                     # __main__ : '지금 실행되고 있는 파일'을 의미함\n",
    "\n",
    "print(type(2))   # <class 'int'>\n",
    "print(type('string'))   # <class 'str'>\n",
    "print(type([]))   # <class 'list'>\n",
    "print(type({}))   # <class 'dict'>\n",
    "print(type(()))   # <class 'tuple'>\n",
    "\n",
    "\n",
    "int_list = []\n",
    "int_list.append(1)\n",
    "int_list.append(3)\n",
    "int_list.append(7)\n",
    "\n",
    "print(int_list)"
   ]
  }
 ],
 "metadata": {
  "kernelspec": {
   "display_name": "Python (emma1)",
   "language": "python",
   "name": "myenv"
  },
  "language_info": {
   "codemirror_mode": {
    "name": "ipython",
    "version": 3
   },
   "file_extension": ".py",
   "mimetype": "text/x-python",
   "name": "python",
   "nbconvert_exporter": "python",
   "pygments_lexer": "ipython3",
   "version": "3.13.0"
  }
 },
 "nbformat": 4,
 "nbformat_minor": 2
}
