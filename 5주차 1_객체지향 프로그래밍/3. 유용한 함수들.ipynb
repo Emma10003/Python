{
 "cells": [
  {
   "cell_type": "markdown",
   "metadata": {},
   "source": []
  },
  {
   "cell_type": "markdown",
   "metadata": {},
   "source": [
    "### max(), min() 함수"
   ]
  },
  {
   "cell_type": "code",
   "execution_count": null,
   "metadata": {},
   "outputs": [],
   "source": [
    "# max(): 파라미터 중 가장 큰 값 리턴\n",
    "# min(): 파라미터 중 가장 작은 값 리턴\n",
    "\n",
    "print(max(2, 5))  # 5\n",
    "print(max(2, 7, 5))  # 7\n",
    "print(min(2, 5))  # 2\n",
    "print(min(2, 7, 5, 11, 6))  # 2"
   ]
  },
  {
   "cell_type": "markdown",
   "metadata": {},
   "source": [
    "### sum() 함수"
   ]
  },
  {
   "cell_type": "code",
   "execution_count": null,
   "metadata": {},
   "outputs": [],
   "source": [
    "# sum(): 리스트, 튜플, 딕셔너리에 있는 숫자형 요소들의 합 리턴.\n",
    "#        sum 함수에 딕셔너리를 파라미터로 넘기면 key들의 합 리턴.\n",
    "\n",
    "int_list = [1, 2, 3, 4, 5]\n",
    "int_tuple = (4, 3, 6, 1, 2)\n",
    "int_dict = {1: \"one\", 2: \"two\", 3: \"three\"}\n",
    "\n",
    "print(sum(int_list))  # 15\n",
    "print(sum(int_tuple))  # 16\n",
    "print(sum(int_dict))  # 6"
   ]
  },
  {
   "cell_type": "markdown",
   "metadata": {},
   "source": [
    "### ternary expression"
   ]
  },
  {
   "cell_type": "code",
   "execution_count": null,
   "metadata": {},
   "outputs": [],
   "source": [
    "# ternary expression: 불린 값에 따라 다른 값을 리턴하는 구문.\n",
    "#                형식: (true일 때의 값) if 조건 else (false일 때의 값)\n",
    "\n",
    "condition = True\n",
    "\n",
    "if condition:\n",
    "    condition_string = \"nice\"\n",
    "else:\n",
    "    condition_string = \"not nice\"\n",
    "\n",
    "print(condition_string)  # nice"
   ]
  },
  {
   "cell_type": "code",
   "execution_count": null,
   "metadata": {},
   "outputs": [],
   "source": [
    "condition = True\n",
    "\n",
    "condition_string = \"nice\" if condition else \"not nice\"\n",
    "\n",
    "print(condition_string)  # nice"
   ]
  },
  {
   "cell_type": "markdown",
   "metadata": {},
   "source": [
    "### list comprehension"
   ]
  },
  {
   "cell_type": "code",
   "execution_count": null,
   "metadata": {},
   "outputs": [],
   "source": [
    "'''\n",
    "특정 리스트나 튜플을 바탕으로 리스트를 생성할 때\n",
    "\n",
    "1. [] 안에 원하는 값을 리턴하는 식(x**2) 뒤에\n",
    "2. for문을 쓴다 (for x in int_list).\n",
    "\n",
    "=> int_list의 각 요소들을 제곱해준 값들로 이루어진 새로운 리스트가 생성됨.\n",
    "'''"
   ]
  },
  {
   "cell_type": "code",
   "execution_count": null,
   "metadata": {},
   "outputs": [],
   "source": [
    "int_list = [1, 2, 3, 4, 5, 6]\n",
    "squares = []\n",
    "\n",
    "for x in int_list:\n",
    "    squares.append(x**2)\n",
    "\n",
    "print(squares)   # [1, 4, 9, 16, 25, 36]"
   ]
  },
  {
   "cell_type": "code",
   "execution_count": null,
   "metadata": {},
   "outputs": [],
   "source": [
    "int_list = [1, 2, 3, 4, 5, 6]\n",
    "squares = [x**2 for x in int_list]\n",
    "\n",
    "print(squares)   # [1, 4, 9, 16, 25, 36]"
   ]
  },
  {
   "cell_type": "markdown",
   "metadata": {},
   "source": [
    "### .zfill() 메소드"
   ]
  },
  {
   "cell_type": "code",
   "execution_count": null,
   "metadata": {},
   "outputs": [],
   "source": [
    "'''\n",
    "문자열을 최소 몇 자리 이상을 가진 문자열로 변환시켜주는 메소드.\n",
    "모자란 부분은 왼쪽에 \"0\"을 채워준다.\n",
    "\n",
    "ex) \"1\".zfill(2) => \"01\"을 리턴함.\n",
    "\n",
    "설정된 자릿수보다 더 긴 문자열이라면, 그 문자열을 그대로 출력함.\n",
    "문자열을 예쁘고 통일감 있게 출력하고자 할 때 자주 사용된다.\n",
    "'''"
   ]
  },
  {
   "cell_type": "code",
   "execution_count": null,
   "metadata": {},
   "outputs": [],
   "source": [
    "print(\"1\".zfill(6))   # 000001\n",
    "print(\"333\".zfill(2))   # 333\n",
    "print(\"a\".zfill(8))   # 0000000a\n",
    "print(\"ab\".zfill(8))   # 000000ab\n",
    "print(\"abc\".zfill(8))   # 00000abc"
   ]
  }
 ],
 "metadata": {
  "kernelspec": {
   "display_name": "Python (emma1)",
   "language": "python",
   "name": "myenv"
  },
  "language_info": {
   "codemirror_mode": {
    "name": "ipython",
    "version": 3
   },
   "file_extension": ".py",
   "mimetype": "text/x-python",
   "name": "python",
   "nbconvert_exporter": "python",
   "pygments_lexer": "ipython3",
   "version": "3.13.0"
  }
 },
 "nbformat": 4,
 "nbformat_minor": 2
}
