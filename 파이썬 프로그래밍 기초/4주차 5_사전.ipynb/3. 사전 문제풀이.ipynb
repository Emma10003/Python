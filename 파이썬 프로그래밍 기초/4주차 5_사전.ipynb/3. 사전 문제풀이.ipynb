{
 "cells": [
  {
   "cell_type": "markdown",
   "metadata": {},
   "source": [
    "### 문제 1"
   ]
  },
  {
   "cell_type": "code",
   "execution_count": null,
   "metadata": {},
   "outputs": [],
   "source": [
    "'''\n",
    "태호는 영어 단어 공부를 위해서 단어장 프로그램을 만들었습니다. 하지만 이번에는 영-한으로 공부하는 것이 아니라,\n",
    "한-영으로 공부를 해 보고 싶습니다.\n",
    "\n",
    "사전의 key와 value를 뒤집어 주는 함수 reverse_dict를 작성해 주세요.\n",
    "reverse_dict는 파라미터로 사전 old_dict를 받고, key와 value가 뒤집힌 새로운 사전을 리턴합니다.\n",
    "'''\n",
    "\n",
    "# 언어 사전의 단어와 뜻을 서로 바꿔주는 함수\n",
    "def reverse_dict(old_dict):\n",
    "    new_dict = {}   # 새로운 사전\n",
    "    \n",
    "    # old_dict의 key와 value를 뒤집어서 new_dict에 저장\n",
    "    for key, value in old_dict.items():\n",
    "        new_dict[value] = key\n",
    "    return new_dict   # 변환한 새로운 사전 리턴\n",
    "\n",
    "\n",
    "# 영-한 단어장\n",
    "vocab = {\n",
    "    'sanitizer': '살균제',\n",
    "    'ambition': '야망',\n",
    "    'conscience': '양심',\n",
    "    'civilization': '문명',\n",
    "    'privilege': '특권',\n",
    "    'principles': '원칙'\n",
    "}\n",
    "\n",
    "# 기존 단어장 출력\n",
    "print(\"영-한 단어장\\n{}\\n\".format(vocab))\n",
    "\n",
    "# 변환된 단어장 출력\n",
    "reverse_vocab = reverse_dict(vocab)\n",
    "print(\"한-영 단어장\\n{}\".format(reverse_vocab))"
   ]
  },
  {
   "cell_type": "markdown",
   "metadata": {},
   "source": [
    "### 문제 2"
   ]
  },
  {
   "cell_type": "code",
   "execution_count": null,
   "metadata": {},
   "outputs": [],
   "source": [
    "'''\n",
    "효신이는 매년 국회의원 선거 때마다, 성북구에서 집계 도우미 봉사를 하는데요.\n",
    "작년까지는 표를 손수 세다가, 올해부터는 IT 시대에 더 적합한 솔루션을 개발하려고 합니다.\n",
    "\n",
    "파이썬 리스트 votes에는 성북구민들의 투표 결과가 저장되어 있습니다. 리스트 votes의 정보를 토대로,\n",
    "사전 vote_counter에 후보별 득표수를 정리하는 것이 목표입니다.\n",
    "\n",
    "예를 들어서 votes가  ['허유나', '서혜선', '허유나']라고 가정하면, vote_counter는 {'허유나': 2, '서혜선': 1}이 \n",
    "되어야 하는 거죠.\n",
    "\n",
    "(다른 분 풀이 봄)\n",
    "'''\n",
    "\n",
    "# 투표 결과 리스트\n",
    "votes = ['김영자', '강승기', '최만수', '김영자', '강승기', '강승기', '최만수', '김영자', \\\n",
    "'최만수', '김영자', '최만수', '김영자', '김영자', '최만수', '최만수', '최만수', '강승기', \\\n",
    "'강승기', '김영자', '김영자', '최만수', '김영자', '김영자', '강승기', '김영자']\n",
    "\n",
    "# 후보별 득표수 사전\n",
    "vote_counter = {}   # 빈 딕셔너리 생성\n",
    "\n",
    "# 리스트 votes를 이용해서 사전 vote_counter를 정리하기\n",
    "for name in votes:\n",
    "    if name not in vote_counter:   # 만약에 딕셔너리에 이름이 없으면 처음 1 저장\n",
    "        vote_counter[name] = 1\n",
    "    else:\n",
    "        vote_counter[name] += 1   # 딕셔너리에 이름이 있으면 원래 수에 1 더해서 저장\n",
    "\n",
    "# 후보별 득표수 출력\n",
    "print(vote_counter)"
   ]
  }
 ],
 "metadata": {
  "kernelspec": {
   "display_name": "Python (emma1)",
   "language": "python",
   "name": "myenv"
  },
  "language_info": {
   "codemirror_mode": {
    "name": "ipython",
    "version": 3
   },
   "file_extension": ".py",
   "mimetype": "text/x-python",
   "name": "python",
   "nbconvert_exporter": "python",
   "pygments_lexer": "ipython3",
   "version": "3.13.0"
  }
 },
 "nbformat": 4,
 "nbformat_minor": 2
}
