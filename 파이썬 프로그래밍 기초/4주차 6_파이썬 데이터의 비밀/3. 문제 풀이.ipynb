{
 "cells": [
  {
   "cell_type": "markdown",
   "metadata": {},
   "source": [
    "### 문제 1"
   ]
  },
  {
   "cell_type": "code",
   "execution_count": null,
   "metadata": {},
   "outputs": [],
   "source": [
    "'''\n",
    "함수 sum_digit은 파라미터로 정수형 num을 받고, num의 각 자릿수를 더한 값을 리턴합니다.\n",
    "예를 들어서 12의 각 자릿수는 1, 2이니까 sum_digit(12)는 3, 즉 1 + 2의 결괏값을 리턴합니다.\n",
    "마찬가지로 486의 각 자릿수는 4, 8, 6이니까 sum_digit(486)은 18(4 + 8 + 6)을 리턴하는 거죠.\n",
    "\n",
    "1. sum_digit 함수를 작성한다.\n",
    "2. sum_digit(1)부터 sum_digit(1000)까지의 합을 구해서 출력한다.\n",
    "'''\n",
    "\n",
    "# 자리수 합 리턴\n",
    "def sum_digit(num):\n",
    "    num_str = str(num)\n",
    "    if len(num_str) == 1:\n",
    "        return num\n",
    "    elif len(num_str) == 2:\n",
    "        sum = int(num_str[0]) + int(num_str[1])\n",
    "        return sum\n",
    "    elif len(num_str) == 3:\n",
    "        sum = int(num_str[0]) + int(num_str[1]) + int(num_str[2])\n",
    "        return sum\n",
    "    else:\n",
    "        sum = int(num_str[0]) + int(num_str[1]) + int(num_str[2]) + int(num_str[3])\n",
    "        return sum\n",
    "\n",
    "\n",
    "# sum_digit(1)부터 sum_digit(1000)까지의 합 구하기\n",
    "total = 0\n",
    "for i in range(1, 1001):   # 1000까지 더해야 하기 때문에 범위는 1001이 끝.\n",
    "    total = total + sum_digit(i)\n",
    "\n",
    "\n",
    "print(total)"
   ]
  },
  {
   "cell_type": "code",
   "execution_count": null,
   "metadata": {},
   "outputs": [],
   "source": [
    "# 모범답안\n",
    "def sum_digit(num):\n",
    "    total = 0   # num의 자릿수 총합 변수\n",
    "    str_num = str(num)   # 각 자릿수의 숫자 인덱싱을 위해 문자열로 형변환.\n",
    "    \n",
    "    for digit in str_num:   # str_num에 있는 각각의 문자(digit)을 int로 형변환 해서 total 변수에 더하여 저장.\n",
    "        total += int(digit)\n",
    "        \n",
    "    return total   # 그 후 자릿수의 총합인 total을 리턴.\n",
    "\n",
    "\n",
    "digit_total = 0\n",
    "for i in range(1, 1001):   # 1~1000까지의 자릿수 총합 구하기.\n",
    "    digit_total += sum_digit(i)\n",
    "    \n",
    "print(digit_total)"
   ]
  },
  {
   "cell_type": "markdown",
   "metadata": {},
   "source": [
    "### 문제 2"
   ]
  },
  {
   "cell_type": "code",
   "execution_count": null,
   "metadata": {},
   "outputs": [],
   "source": [
    "'''\n",
    "주민등록번호 YYMMDD-adcdefg는 총 열세 자리인데요.\n",
    "앞의 여섯 자리 YYMMDD는 생년월일을 의미합니다.\n",
    "\n",
    "YY -> 연\n",
    "MM -> 월\n",
    "DD -> 일\n",
    "\n",
    "a -> 성별\n",
    "bc -> 출생등록지에 해당하는 지방자치단체의 고유번호\n",
    "defg -> 임의의 번호\n",
    "\n",
    "보시다시피 많은 부분은 특정 규칙대로 정해져 있는데요. 여러분에 대한 몇 가지 정보만 알면, 마지막 네 개 숫자\n",
    "defg를 제외한 앞의 아홉 자리는 쉽게 알 수 있다는 거죠.\n",
    "\n",
    "그래서 저희는 주민등록번호의 마지막 네 자리 defg만 가려 주는 보안 프로그램을 만들려고 합니다.\n",
    "\n",
    "mask_security_number라는 함수를 정의하려고 하는데요. 이 함수는 파라미터로 문자열 security_number를 받고,\n",
    "security_number의 마지막 네 글자를 '*'로 대체한 새 문자열을 리턴합니다.\n",
    "\n",
    "참고로 파라미터 security_number에는 작대기 기호(-)가 포함될 수도 있고, 포함되지 않을 수도 있는데요.\n",
    "작대기 포함 여부와 상관 없이, 마지막 네 글자가 '*'로 대체되어야 합니다!\n",
    "'''"
   ]
  },
  {
   "cell_type": "code",
   "execution_count": null,
   "metadata": {},
   "outputs": [],
   "source": [
    "def mask_security_number(security_number):\n",
    "        return security_number[0:-4] + '****'\n",
    "\n",
    "\n",
    "# 테스트 코드\n",
    "print(mask_security_number(\"880720-1234567\"))\n",
    "print(mask_security_number(\"8807201234567\"))\n",
    "print(mask_security_number(\"930124-7654321\"))\n",
    "print(mask_security_number(\"9301247654321\"))\n",
    "print(mask_security_number(\"761214-2357111\"))\n",
    "print(mask_security_number(\"7612142357111\"))"
   ]
  },
  {
   "cell_type": "markdown",
   "metadata": {},
   "source": [
    "### 문제 3"
   ]
  },
  {
   "cell_type": "code",
   "execution_count": null,
   "metadata": {},
   "outputs": [],
   "source": [
    "'''\n",
    "\"토마토\"나 \"기러기\"처럼 거꾸로 읽어도 똑같은 단어를 '팰린드롬(palindrome)'이라고 부릅니다.\n",
    "\n",
    "펠린드롬 여부를 확인하는 함수 is_palindrome을 작성하려고 하는데요. \n",
    "is_palindrome은 파라미터 word가 팰린드롬이면 True를 리턴하고 팰린드롬이 아니면 False를 리턴합니다.\n",
    "\n",
    "예를 들어서 \"racecar\"과 \"토마토\"는 거꾸로 읽어도 똑같기 때문에 True가 출력되어야 합니다. 그리고 \n",
    "\"hello\"는 거꾸로 읽으면 \"olleh\"가 되기 때문에 False가 나와야 하는 거죠.\n",
    "'''\n",
    "def is_palindrome(word):\n",
    "    word_list = list(word)\n",
    "    word_reverse_list = word_list[::-1]   # 문자열이라 sorted나 .sort로 정렬할 수 없음..\n",
    "                                          # word_list 요소의 인덱싱번호를 \n",
    "                                          # 뒤에서부터 하나씩 감소하는 방식으로 추출해서 새 변수에 저장\n",
    "    if word_list == word_reverse_list:\n",
    "        return True\n",
    "    else:\n",
    "        return False\n",
    "        \n",
    "\n",
    "# 테스트 코드\n",
    "print(is_palindrome(\"racecar\"))\n",
    "print(is_palindrome(\"stars\"))\n",
    "print(is_palindrome(\"토마토\"))\n",
    "print(is_palindrome(\"kayak\"))\n",
    "print(is_palindrome(\"hello\"))"
   ]
  }
 ],
 "metadata": {
  "kernelspec": {
   "display_name": "Python (emma1)",
   "language": "python",
   "name": "myenv"
  },
  "language_info": {
   "codemirror_mode": {
    "name": "ipython",
    "version": 3
   },
   "file_extension": ".py",
   "mimetype": "text/x-python",
   "name": "python",
   "nbconvert_exporter": "python",
   "pygments_lexer": "ipython3",
   "version": "3.13.0"
  }
 },
 "nbformat": 4,
 "nbformat_minor": 2
}
