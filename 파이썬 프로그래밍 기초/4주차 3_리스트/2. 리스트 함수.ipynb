{
 "cells": [
  {
   "cell_type": "markdown",
   "metadata": {},
   "source": [
    "## 리스트와 사용하는 함수"
   ]
  },
  {
   "cell_type": "markdown",
   "metadata": {},
   "source": [
    "### 1. len() - 리스트 요소의 개수"
   ]
  },
  {
   "cell_type": "code",
   "execution_count": null,
   "metadata": {},
   "outputs": [
    {
     "data": {
      "text/plain": [
       "0"
      ]
     },
     "execution_count": 11,
     "metadata": {},
     "output_type": "execute_result"
    }
   ],
   "source": [
    "# 리스트의 요소 개수를 보여줌.\n",
    "# 리스트의 인덱스 수는 'len(numbers) - 1' 까지임\n",
    "# 예를 들어 요소가 6개인 리스트는 len(numbers)는 6이고, 인덱스 끝 번호는 [5]임.\n",
    "numbers = []\n",
    "len(numbers)"
   ]
  },
  {
   "cell_type": "markdown",
   "metadata": {},
   "source": [
    "### 2. .append() - 리스트에 요소 추가"
   ]
  },
  {
   "cell_type": "code",
   "execution_count": null,
   "metadata": {},
   "outputs": [],
   "source": [
    "''' 리스트의 오른쪽 끝에 새로운 값을 추가한다. '''\n",
    "''' 추가 연산 '''"
   ]
  },
  {
   "cell_type": "code",
   "execution_count": null,
   "metadata": {},
   "outputs": [],
   "source": [
    "numbers.append(5)  # 리스트에 정수 '5' 추가\n",
    "numbers.append(8)  # 리스트에 정수 '8' 추가\n",
    "print(numbers)"
   ]
  },
  {
   "cell_type": "markdown",
   "metadata": {},
   "source": [
    "### 3. del() - 리스트 요소 삭제"
   ]
  },
  {
   "cell_type": "code",
   "execution_count": null,
   "metadata": {},
   "outputs": [],
   "source": [
    "numbers2 = [2, 3, 5, 7, 11, 13, 17, 19]\n",
    "del numbers2[3]  # numbers2 리스트의 3번 인덱스 값을 삭제\n",
    "print(numbers2)"
   ]
  },
  {
   "cell_type": "markdown",
   "metadata": {},
   "source": [
    "### 4. .insert() - 리스트에 요소 삽입"
   ]
  },
  {
   "cell_type": "code",
   "execution_count": null,
   "metadata": {},
   "outputs": [],
   "source": [
    "''' 원하는 위치를 인덱싱하여 값을 삽입한다. '''\n",
    "''' 삽입 연산 '''"
   ]
  },
  {
   "cell_type": "code",
   "execution_count": null,
   "metadata": {},
   "outputs": [
    {
     "name": "stdout",
     "output_type": "stream",
     "text": [
      "[2, 3, 5, 11, 37, 13, 17, 19]\n"
     ]
    }
   ],
   "source": [
    "numbers2.insert(4, 37)  # numbers2 리스트의 4번 인덱스에 정수 '37'을 삽입\n",
    "print(numbers2)  # 4번 자리에 37이 삽입되고, 그 뒤의 값들은 자리가 한 칸씩 밀려남\n",
    "\n",
    "# append는 무조건 오른쪽 끝에 값을 추가하는 것, ~> '추가 연산'\n",
    "# insert는 원하는 위치에 값을 삽입하는 것. ~> '삽입 연산'"
   ]
  }
 ],
 "metadata": {
  "kernelspec": {
   "display_name": "Python (emma1)",
   "language": "python",
   "name": "myenv"
  },
  "language_info": {
   "codemirror_mode": {
    "name": "ipython",
    "version": 3
   },
   "file_extension": ".py",
   "mimetype": "text/x-python",
   "name": "python",
   "nbconvert_exporter": "python",
   "pygments_lexer": "ipython3",
   "version": "3.13.0"
  }
 },
 "nbformat": 4,
 "nbformat_minor": 2
}
