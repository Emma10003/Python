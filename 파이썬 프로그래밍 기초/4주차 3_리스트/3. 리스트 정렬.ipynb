{
 "cells": [
  {
   "cell_type": "markdown",
   "metadata": {},
   "source": [
    "## 리스트 정렬"
   ]
  },
  {
   "cell_type": "code",
   "execution_count": 2,
   "metadata": {},
   "outputs": [],
   "source": [
    "numbers = [19, 13, 2, 5, 3, 11, 7, 17] \n",
    "# 값이 작은 순서대로 정렬해보자!"
   ]
  },
  {
   "cell_type": "markdown",
   "metadata": {},
   "source": [
    "### 1. sorted()"
   ]
  },
  {
   "cell_type": "code",
   "execution_count": null,
   "metadata": {},
   "outputs": [],
   "source": [
    "''' 기존의 리스트를 변경하지 않고, 정렬된 새로운 리스트를 리턴. '''"
   ]
  },
  {
   "cell_type": "code",
   "execution_count": null,
   "metadata": {},
   "outputs": [],
   "source": [
    "new_list = sorted(numbers)  # 작은 순서대로 정렬됨 (오름차순 정렬)\n",
    "print(new_list)\n",
    "\n",
    "new_list2 = sorted(numbers, reverse = True)  # 반대로 정렬 = 큰 순서대로 정렬됨 (내림차순 정렬)\n",
    "print(new_list2)\n",
    "\n",
    "print(numbers)  # 기존의 리스트가 출력됨."
   ]
  },
  {
   "cell_type": "markdown",
   "metadata": {},
   "source": [
    "### 2. .sort()"
   ]
  },
  {
   "cell_type": "code",
   "execution_count": null,
   "metadata": {},
   "outputs": [],
   "source": [
    "''' 아무것도 리턴하지 않고, 기존 리스트를 정렬 (기존 리스트가 변경됨) '''"
   ]
  },
  {
   "cell_type": "code",
   "execution_count": null,
   "metadata": {},
   "outputs": [],
   "source": [
    "print(numbers.sort())  # None: sort는 아무것도 return하지 않는 대신, numbers 리스트 자체를 정렬하는 기능.\n",
    "print(numbers)\n",
    "\n",
    "print(numbers.sort(reverse = True))  # 반대로 정렬 = 큰 순서대로 정렬 (내림차순 정렬렬)"
   ]
  }
 ],
 "metadata": {
  "kernelspec": {
   "display_name": "Python (emma1)",
   "language": "python",
   "name": "myenv"
  },
  "language_info": {
   "codemirror_mode": {
    "name": "ipython",
    "version": 3
   },
   "file_extension": ".py",
   "mimetype": "text/x-python",
   "name": "python",
   "nbconvert_exporter": "python",
   "pygments_lexer": "ipython3",
   "version": "3.13.0"
  }
 },
 "nbformat": 4,
 "nbformat_minor": 2
}
