{
 "cells": [
  {
   "cell_type": "markdown",
   "metadata": {},
   "source": [
    "## _ _ init _ _ 메소드"
   ]
  },
  {
   "cell_type": "code",
   "execution_count": null,
   "metadata": {},
   "outputs": [],
   "source": [
    "'''\n",
    "앞 뒤로 언더바(_)가 2개씩 있는 메소드를 '특수 메소드(magic method = special method)'라고 함.\n",
    "특수 메소드: 특정 상황에서 자동으로 호출되는 메소드.\n",
    "\n",
    "init 메소드: 인스턴스가 생성될 때 자동으로 호출되는 메소드이다.\n",
    "'''"
   ]
  },
  {
   "cell_type": "code",
   "execution_count": null,
   "metadata": {},
   "outputs": [],
   "source": [
    "class User:\n",
    "    def initialize(self, name, email, password):   # self 파라미터를 넣어줘야 하는 것 잊지 말자..\n",
    "        self.name = name\n",
    "        self.email = email\n",
    "        self.password = password\n",
    "\n",
    "\n",
    "user1 = User()   # 인스턴스 생성\n",
    "user1.initialize(\"Emma\", \"emmathing@gmail.com\", \"12345\")   # 초기값 설정\n",
    "\n",
    "user2 = User()   # 인스턴스 생성\n",
    "user2.initialize(\"James\", \"jamesthing@gmail.com\", \"23456\")   # 초기값 설정\n",
    "\n",
    "user3 = User()   # 인스턴스 생성\n",
    "user3.initialize(\"Sarah\", \"sarahthing@gmail.com\", \"98765\")   # 초기값 설정\n",
    "\n",
    "user4 = User()   # 인스턴스 생성\n",
    "user4.initialize(\"Tom\", \"tomthing@gmail.com\", \"87654\")   # 초기값 설정"
   ]
  },
  {
   "cell_type": "code",
   "execution_count": null,
   "metadata": {},
   "outputs": [],
   "source": [
    "class User2:\n",
    "    def __init__(self, name, email, password):   # self 파라미터를 넣어줘야 하는 것 잊지 말자..\n",
    "        self.name = name\n",
    "        self.email = email\n",
    "        self.password = password\n",
    "\n",
    "\n",
    "user1 = User2(\"Emma\", \"emmathing@gmail.com\", \"12345\")   # 인스턴스 생성, 변수 초기값 설정 코드가 1줄로 줄어든다.\n",
    "\n",
    "user2 = User2(\"James\", \"jamesthing@gmail.com\", \"23456\")\n",
    "\n",
    "user3 = User2(\"Sarah\", \"sarahthing@gmail.com\", \"98765\")\n",
    "\n",
    "user4 = User2(\"Tom\", \"tomthing@gmail.com\", \"87654\")\n",
    "\n",
    "print(user1.name)\n",
    "print(user2.email)\n",
    "print(user3.name)\n",
    "\n",
    "print(user4.password)"
   ]
  },
  {
   "cell_type": "code",
   "execution_count": null,
   "metadata": {},
   "outputs": [],
   "source": [
    "user1 = User2(\"Emma\", \"emmathing@gmail.com\", \"12345\")\n",
    "\n",
    "''' \n",
    "코드 동작 원리 \n",
    "1. User2 클래스 생성\n",
    "2. __init__ 메소드 호출\n",
    "3. self 파라미터에 user1이 대입된다.\n",
    "4. 나머지 파라미터에 입력한 값들이 대입되어 메소드가 실행된다.\n",
    "5. 인스턴스 생성 및 변수 초기화 끝!\n",
    "'''"
   ]
  }
 ],
 "metadata": {
  "kernelspec": {
   "display_name": "Python (emma1)",
   "language": "python",
   "name": "myenv"
  },
  "language_info": {
   "codemirror_mode": {
    "name": "ipython",
    "version": 3
   },
   "file_extension": ".py",
   "mimetype": "text/x-python",
   "name": "python",
   "nbconvert_exporter": "python",
   "pygments_lexer": "ipython3",
   "version": "3.13.0"
  }
 },
 "nbformat": 4,
 "nbformat_minor": 2
}
