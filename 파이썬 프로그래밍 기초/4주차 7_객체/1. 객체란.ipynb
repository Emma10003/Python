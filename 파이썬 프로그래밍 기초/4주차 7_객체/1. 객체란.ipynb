{
 "cells": [
  {
   "cell_type": "markdown",
   "metadata": {},
   "source": [
    "## 객체란?"
   ]
  },
  {
   "cell_type": "markdown",
   "metadata": {},
   "source": [
    "객체란, 속성과 행동으로 이루어진 존재. <br>\n",
    "-> 살아가면서 보는 모든 것을 객체라고 볼 수 있다."
   ]
  },
  {
   "cell_type": "markdown",
   "metadata": {},
   "source": [
    "## 객체 지향 프로그래밍이란?"
   ]
  },
  {
   "cell_type": "markdown",
   "metadata": {},
   "source": [
    "프로그램을 여러 개의 독립된 객체들과 <br>\n",
    "그 객체들 간의 상호작용으로 파악하는 <br>\n",
    "프로그래밍 접근법"
   ]
  },
  {
   "cell_type": "markdown",
   "metadata": {},
   "source": [
    "##### 객체 지향 프로그래밍으로 프로그램을 만들려면 <br>\n",
    " 1. 프로그램에 어떤 객체들이 필요할지 정한다. <br>\n",
    " 2. 객체들의 속성과 행동을 정한다. <br>\n",
    " 3. 객체들이 서로 어떻게 소통할지 정한다. <br>"
   ]
  }
 ],
 "metadata": {
  "kernelspec": {
   "display_name": "Python (emma1)",
   "language": "python",
   "name": "myenv"
  },
  "language_info": {
   "codemirror_mode": {
    "name": "ipython",
    "version": 3
   },
   "file_extension": ".py",
   "mimetype": "text/x-python",
   "name": "python",
   "nbconvert_exporter": "python",
   "pygments_lexer": "ipython3",
   "version": "3.13.0"
  }
 },
 "nbformat": 4,
 "nbformat_minor": 2
}
