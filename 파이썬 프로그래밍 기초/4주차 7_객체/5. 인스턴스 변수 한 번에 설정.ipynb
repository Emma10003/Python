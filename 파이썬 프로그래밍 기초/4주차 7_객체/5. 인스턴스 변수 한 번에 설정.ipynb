{
 "cells": [
  {
   "cell_type": "markdown",
   "metadata": {},
   "source": [
    "### 클래스 선언할 때 인스턴스 변수도 설정하기"
   ]
  },
  {
   "cell_type": "code",
   "execution_count": null,
   "metadata": {},
   "outputs": [
    {
     "name": "stdout",
     "output_type": "stream",
     "text": [
      "Emma emmathing@gmail.com 12345\n"
     ]
    }
   ],
   "source": [
    "class User:\n",
    "    def initialize(self, name, email, password):   # self 파라미터를 넣어줘야 하는 것 잊지 말자..\n",
    "        self.name = name\n",
    "        self.email = email\n",
    "        self.password = password\n",
    "\n",
    "\n",
    "user1 = User()\n",
    "user1.initialize(\"Emma\", \"emmathing@gmail.com\", \"12345\")\n",
    "\n",
    "print(user1.name, user1.email, user1.password)\n"
   ]
  }
 ],
 "metadata": {
  "kernelspec": {
   "display_name": "Python (emma1)",
   "language": "python",
   "name": "myenv"
  },
  "language_info": {
   "codemirror_mode": {
    "name": "ipython",
    "version": 3
   },
   "file_extension": ".py",
   "mimetype": "text/x-python",
   "name": "python",
   "nbconvert_exporter": "python",
   "pygments_lexer": "ipython3",
   "version": "3.13.0"
  }
 },
 "nbformat": 4,
 "nbformat_minor": 2
}
