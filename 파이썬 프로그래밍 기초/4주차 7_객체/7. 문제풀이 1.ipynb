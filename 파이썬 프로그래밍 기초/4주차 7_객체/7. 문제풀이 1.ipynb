{
 "cells": [
  {
   "cell_type": "code",
   "execution_count": null,
   "metadata": {},
   "outputs": [],
   "source": [
    "'''\n",
    "코드잇에서 강의를 듣고 인스타그램에 취직한 Jane은 User 클래스에 \"팔로우\" 가능을\n",
    "추가하라는 지시를 받았습니다.\n",
    "\n",
    "팔로우 기능은 크게 2개의 동작을 해야 합니다.\n",
    "\n",
    "1. \"내가 팔로우하는 사람\" 목록에 그 사람을 추가하는 동작\n",
    "2. 상대방의 \"나를 팔로우하는 사람\" 목록에 나를 추가하는 동작\n",
    "\n",
    "팔로우 기능은 follow 메소드로 구현하려고 하는데요.\n",
    "팔로우 기능을 만드는 김에 아래 기능을 하는 메소드들도 추가해 봅시다.\n",
    "\n",
    "1. 유저가 팔로우하는 사람 수를 알려주는 num_following 메소드\n",
    "2. 유저를 팔로우하는 사람 수를 알려주는 num_followers 메소드\n",
    "'''"
   ]
  },
  {
   "cell_type": "code",
   "execution_count": null,
   "metadata": {},
   "outputs": [
    {
     "name": "stdout",
     "output_type": "stream",
     "text": [
      "Emma 2 2\n",
      "James 1 3\n",
      "Sarah 2 0\n",
      "Tom 1 1\n"
     ]
    }
   ],
   "source": [
    "class User:\n",
    "    # 인스턴스 변수 설정\n",
    "    def __init__(self, name, email, password):\n",
    "        self.name = name\n",
    "        self.email = email\n",
    "        self.password = password\n",
    "        \n",
    "        self.following_list = []  # 이 유저가 팔로우하는 유저 리스트\n",
    "        self.followers_list = []  # 이 유저를 팔로우하는 유저 리스트\n",
    "    \n",
    "    # 팔로우\n",
    "    def follow(self, another_user):\n",
    "        self.following_list.append(another_user)\n",
    "        another_user.followers_list.append(self)\n",
    "    \n",
    "    # 내가 몇 명을 팔로우하는지 리턴\n",
    "    def num_following(self):\n",
    "        return len(self.following_list)\n",
    "    \n",
    "    # 나를 몇 명이 팔로우하는지 리턴\n",
    "    def num_followers(self):\n",
    "        return len(self.followers_list)\n",
    "        \n",
    "\n",
    "# 유저들 생성\n",
    "user1 = User(\"Emma\", \"emmathing@gmail.com\", \"12345\")\n",
    "user2 = User(\"James\", \"jamesthing@gmail.com\", \"23456\")\n",
    "user3 = User(\"Sarah\", \"sarahthing@gmail.com\", \"98765\")\n",
    "user4 = User(\"Tom\", \"tomthing@gmail.com\", \"87654\")\n",
    "\n",
    "# 유저마다 서로 관심 있는 유저를 팔로우\n",
    "user1.follow(user2)\n",
    "user1.follow(user3)\n",
    "user2.follow(user1)\n",
    "user2.follow(user3)\n",
    "user2.follow(user4)\n",
    "user4.follow(user1)\n",
    "\n",
    "#유저 이름, 자신의 팔로워 수, 자신이 팔로우하는 사람 수 출력\n",
    "print(user1.name, user1.num_followers(), user1.num_following())\n",
    "print(user2.name, user2.num_followers(), user2.num_following())\n",
    "print(user3.name, user3.num_followers(), user3.num_following())\n",
    "print(user4.name, user4.num_followers(), user4.num_following())"
   ]
  }
 ],
 "metadata": {
  "kernelspec": {
   "display_name": "Python (emma1)",
   "language": "python",
   "name": "myenv"
  },
  "language_info": {
   "codemirror_mode": {
    "name": "ipython",
    "version": 3
   },
   "file_extension": ".py",
   "mimetype": "text/x-python",
   "name": "python",
   "nbconvert_exporter": "python",
   "pygments_lexer": "ipython3",
   "version": "3.13.0"
  }
 },
 "nbformat": 4,
 "nbformat_minor": 2
}
