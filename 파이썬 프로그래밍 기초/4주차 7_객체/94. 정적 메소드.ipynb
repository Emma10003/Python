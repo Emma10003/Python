{
 "cells": [
  {
   "cell_type": "markdown",
   "metadata": {},
   "source": [
    "## 정적 메소드"
   ]
  },
  {
   "cell_type": "code",
   "execution_count": null,
   "metadata": {},
   "outputs": [],
   "source": [
    "'''\n",
    "정적 메소드: 인스턴스 변수, 클래스 변수를 전혀 다루지 않는 메소드\n",
    "- 메소드 정의 위에 @staticmethod 데코레이터를 표시해야 함.\n",
    "- 인스턴스 메소드의 self, 클래스 메소드의 cls같이 자동으로 전달되는 파라미터가 없음.\n",
    "- 인스턴스, 클래스 두 가지 모두를 통해 사용 가능.\n",
    "'''"
   ]
  },
  {
   "cell_type": "code",
   "execution_count": null,
   "metadata": {},
   "outputs": [],
   "source": [
    "class User:\n",
    "    count = 0\n",
    "    \n",
    "    def __init__(self, name, email, pw):\n",
    "        self.name = name\n",
    "        self.email = email\n",
    "        self.pw = pw\n",
    "        \n",
    "        User.count += 1\n",
    "        \n",
    "    def say_hello(self):\n",
    "        print(\"안녕하세요! 저는 {}입니다!\".format(self.name))\n",
    "    \n",
    "    def __str__(self):\n",
    "        return \"사용자: {}, 이메일: {}, 비밀번호: ******\".format(self.name, self.email)\n",
    "    \n",
    "    @classmethod\n",
    "    def number_of_users(cls):\n",
    "        print(\"총 유저 수는: {}dlqslek.\".format(cls.count))\n",
    "    \n",
    "    @staticmethod  # 정적 메소드\n",
    "    def is_valid_email(email_address):\n",
    "        return \"@\" in email_address  # Boolean 형태\n",
    "\n",
    "user1 = User(\"taehosung\", \"taehosung@codeit.kr\", \"123456\")\n",
    "\n",
    "# 정적 메소드 호출\n",
    "print(User.is_valid_email(\"taehosung\"))\n",
    "print(User.is_valid_email(\"taehosung@codeit.kr\"))\n",
    "\n",
    "print(user1.is_valid_email(\"taehosung\"))\n",
    "print(user1.is_valid_email(\"taehosung@codeit.kr\"))"
   ]
  },
  {
   "cell_type": "code",
   "execution_count": null,
   "metadata": {},
   "outputs": [],
   "source": [
    "'''\n",
    "User 클래스에서 is_valid_email 메소드가 정적 메소드.\n",
    "-> 파라미터 email_address로 받은 문자열에 '@'가 들어있는지 체크.\n",
    "'''"
   ]
  }
 ],
 "metadata": {
  "kernelspec": {
   "display_name": "Python (emma1)",
   "language": "python",
   "name": "myenv"
  },
  "language_info": {
   "codemirror_mode": {
    "name": "ipython",
    "version": 3
   },
   "file_extension": ".py",
   "mimetype": "text/x-python",
   "name": "python",
   "nbconvert_exporter": "python",
   "pygments_lexer": "ipython3",
   "version": "3.13.0"
  }
 },
 "nbformat": 4,
 "nbformat_minor": 2
}
