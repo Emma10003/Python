{
 "cells": [
  {
   "cell_type": "markdown",
   "metadata": {},
   "source": [
    "## 클래스 메소드"
   ]
  },
  {
   "cell_type": "code",
   "execution_count": null,
   "metadata": {},
   "outputs": [],
   "source": [
    "'''\n",
    "인스턴스 메소드: 인스턴스 변수의 값을 읽거나 설정하는 메소드 (> 2. 클래스와 인스턴스.ipynb)\n",
    "\n",
    "클래스 메소드: 클래스 변수의 값을 읽거나 설정하는 메소드\n",
    "- 클래스 메소드 위에는 @classmethod 를 적어주기!\n",
    "- 첫 번째 파라미터의 이름은 꼭!! cls로 작성.  (인스턴스 메소드의 규칙 > 2. 클래스와 인스턴스.ipynb, 3.self.ipynb)\n",
    "'''"
   ]
  },
  {
   "cell_type": "code",
   "execution_count": 5,
   "metadata": {},
   "outputs": [],
   "source": [
    "# 클래스 정의\n",
    "class User:\n",
    "    # 클래스 변수\n",
    "    count = 0  # User인스턴스의 개수를 셈.\n",
    "    \n",
    "    def __init__(self, name, email, password):\n",
    "        self.name = name\n",
    "        self.email = email\n",
    "        self.password = password\n",
    "        \n",
    "        User.count += 1\n",
    "    \n",
    "    def say_hello(self):\n",
    "        print(\"안녕하세요! 저는 {}입니다!\".format(self.name))\n",
    "    \n",
    "    def __str__(self):\n",
    "        return \"사용자: {}, 이메일: {}, 비밀번호: ******\".format(self.name, self.email)\n",
    "    \n",
    "    @classmethod   # 클래스 메소드 위에는 데코레이터로 클래스 메소드임을 명시해주어야 함.\n",
    "    def number_of_users(cls):   # 여기서 cls는 클래스 메소드가 있는 상위의 클래스, 즉 User클래스를 받음.\n",
    "        print(\"총 유저 수는: {}입니다\".format(cls.count))   # cls.count() = User.count()와 같은 코드가 된다."
   ]
  },
  {
   "cell_type": "code",
   "execution_count": null,
   "metadata": {},
   "outputs": [],
   "source": [
    "# 인스턴스 생성\n",
    "user1 = User(\"Emma\", \"emmathing@gmail.com\", \"123456\")\n",
    "user2 = User(\"James\", \"jamesthing@gmail.com\", \"23456\")\n",
    "user3 = User(\"Sarah\", \"sarahthing@gmail.com\", \"987654\")\n",
    "\n",
    "# 클래스 메소드 호출 with. 클래스명\n",
    "User.number_of_users()\n",
    "\n",
    "# 클래스 메소드 호출 with. 인스턴스명\n",
    "user1.number_of_users()"
   ]
  },
  {
   "cell_type": "code",
   "execution_count": null,
   "metadata": {},
   "outputs": [],
   "source": [
    "'''\n",
    "인스턴스 메소드 vs 클래스 메소드\n",
    "\n",
    "1. 인스턴스 메소드\n",
    "User.say_hello(user1)\n",
    "user1.say_hello()  -> 이 경우에만 첫 번째 파라미터로 인스턴스 자신이 자동 전달된다.\n",
    "\n",
    "2. 클래스 메소드\n",
    "User.say_hello()\n",
    "user1.say_hello()  -> 두 방법 모두! 첫 번째 파라미터로 해당 클래스가 자동 전달된다. \n",
    "                        (데코레이터로 @classmethod라고 작성했기 때문)\n",
    "'''"
   ]
  },
  {
   "cell_type": "code",
   "execution_count": null,
   "metadata": {},
   "outputs": [],
   "source": [
    "'''\n",
    "number_of_users()를 클래스 메소드가 아닌 인스턴스 메소드로 만들어도 결과는 동일!\n",
    "-> 왜 클래스 메소드로 만들었을까?\n",
    "    A. number_of_users()가 인스턴스 변수를 사용하지 않기 때문!\n",
    "    => 인스턴스 변수는 사용하지 않고, 클래스 변수는 사용하고 있다면 클래스 메소드로 작성해야 한다.\n",
    "    \n",
    "    즉. 인스턴스 변수를 사용한다 -> 인스턴스 메소드 사용\n",
    "        클래스 변수를 사용한다 -> 클래스 메소드 사용\n",
    "        \n",
    "-> 그럼 클래스 변수와 인스턴스 변수를 둘 다 사용한다면?\n",
    "    A. 인스턴스 메소드를 사용한다.\n",
    "    => 인스턴스 메소드는 인스턴스 변수와 클래스 변수를 모두 사용 가능하지만,\n",
    "        클래스 메소드는 인스턴스 변수를 사용할 수 없다.\n",
    "        \n",
    "-> 인스턴스 없이도 필요한 정보가 있다면?\n",
    "    A. 반드시 클래스 메소드를 사용한다.\n",
    "    => 클래스 변수 count는 user 인스턴스가 하나도 없더라도 필요함. (count = 0일 때에도 출력해야 하니까.)\n",
    "        따라서 count 변수를 사용하는 클래스 메소드 number_of_users도 user 인스턴스가 하나도 없더라도 필요하다는 것.\n",
    "'''"
   ]
  },
  {
   "cell_type": "code",
   "execution_count": null,
   "metadata": {},
   "outputs": [],
   "source": [
    "class User2:\n",
    "    # 클래스 변수\n",
    "    count = 0  # User인스턴스의 개수를 셈.\n",
    "    \n",
    "    def __init__(self, name, email, password):\n",
    "        self.name = name\n",
    "        self.email = email\n",
    "        self.password = password\n",
    "        \n",
    "        User2.count += 1\n",
    "    \n",
    "    def say_hello(self):\n",
    "        print(\"안녕하세요! 저는 {}입니다!\".format(self.name))\n",
    "    \n",
    "    def __str__(self):\n",
    "        return \"사용자: {}, 이메일: {}, 비밀번호: ******\".format(self.name, self.email)\n",
    "    \n",
    "    # 인스턴스 메소드로 만들기\n",
    "    def number_of_users(self):\n",
    "        print(\"총 유저 수는: {}입니다.\".format(User2.count))   # 인스턴스 파라미터인 self는 사용하지 않음.\n",
    "        \n",
    "\n",
    "# 인스턴스 생성\n",
    "user1 = User2(\"Emma\", \"emmathing@gmail.com\", \"123456\")\n",
    "user2 = User2(\"James\", \"jamesthing@gmail.com\", \"23456\")\n",
    "user3 = User2(\"Sarah\", \"sarahthing@gmail.com\", \"987654\")\n",
    "\n",
    "# 클래스 메소드 호출 with. 클래스명\n",
    "User2.number_of_users(user1)\n",
    "\n",
    "# 클래스 메소드 호출 with. 인스턴스명\n",
    "user1.number_of_users()"
   ]
  }
 ],
 "metadata": {
  "kernelspec": {
   "display_name": "Python (emma1)",
   "language": "python",
   "name": "myenv"
  },
  "language_info": {
   "codemirror_mode": {
    "name": "ipython",
    "version": 3
   },
   "file_extension": ".py",
   "mimetype": "text/x-python",
   "name": "python",
   "nbconvert_exporter": "python",
   "pygments_lexer": "ipython3",
   "version": "3.13.0"
  }
 },
 "nbformat": 4,
 "nbformat_minor": 2
}
