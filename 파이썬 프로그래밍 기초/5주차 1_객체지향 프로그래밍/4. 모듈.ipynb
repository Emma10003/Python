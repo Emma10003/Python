{
 "cells": [
  {
   "cell_type": "markdown",
   "metadata": {},
   "source": [
    "## 모듈(module)"
   ]
  },
  {
   "cell_type": "code",
   "execution_count": null,
   "metadata": {},
   "outputs": [],
   "source": [
    "'''\n",
    "모듈: 변수, 함수, 클래스 등을 모아놓은 파일. 다른 곳에서 가져다 쓸 수 있다.\n",
    "\n",
    "모듈 안에 있는 변수, 함수, 클래스를 사용하려면 호출하려는 파일 위에\n",
    "    from 모둘의 이름 import 불러올 변수/함수/클래스 이름\n",
    "을 적어줘야 함.\n",
    "\n",
    "- calculator.py\n",
    "'''"
   ]
  },
  {
   "cell_type": "code",
   "execution_count": null,
   "metadata": {},
   "outputs": [],
   "source": [
    "# test\n",
    "\n",
    "# calculator.py에서 sum 함수 불러오기\n",
    "from calculator import sum\n",
    "\n",
    "print(sum(3, 5))  # 8"
   ]
  },
  {
   "cell_type": "code",
   "execution_count": null,
   "metadata": {},
   "outputs": [],
   "source": [
    "# calculator.py 모듈에 정의된 모든 것들을 사용하려면\n",
    "from calculator import *\n",
    "\n",
    "print(sum(3, 5))\n",
    "print(difference(3, 5))\n",
    "print(product(3, 5))"
   ]
  },
  {
   "cell_type": "markdown",
   "metadata": {},
   "source": [
    "### randint() 함수와 uniform() 함수"
   ]
  },
  {
   "cell_type": "code",
   "execution_count": null,
   "metadata": {},
   "outputs": [],
   "source": [
    "'''\n",
    "random이라는 모듈에 내장된, 두 정수 사이에서 랜덤한 정수/소수(난수)를 리턴하는 함수\n",
    "\n",
    "randint => 정수 리턴\n",
    "uniform => 소수 리턴\n",
    "'''"
   ]
  },
  {
   "cell_type": "code",
   "execution_count": null,
   "metadata": {},
   "outputs": [],
   "source": [
    "from random import randint\n",
    "# 1 <= N <= 20을 만족하는 랜덤한 정수(난수) N을 리턴한다.\n",
    "x = randint(1, 20)\n",
    "print(x)"
   ]
  },
  {
   "cell_type": "code",
   "execution_count": null,
   "metadata": {},
   "outputs": [],
   "source": [
    "from random import uniform\n",
    "# 0 <= N <= 1을 만족하는 랜덤한 소수(난수) N을 리턴한다.\n",
    "x = uniform(0, 1)\n",
    "print(x)"
   ]
  }
 ],
 "metadata": {
  "kernelspec": {
   "display_name": "Python (emma1)",
   "language": "python",
   "name": "myenv"
  },
  "language_info": {
   "codemirror_mode": {
    "name": "ipython",
    "version": 3
   },
   "file_extension": ".py",
   "mimetype": "text/x-python",
   "name": "python",
   "nbconvert_exporter": "python",
   "pygments_lexer": "ipython3",
   "version": "3.13.0"
  }
 },
 "nbformat": 4,
 "nbformat_minor": 2
}
