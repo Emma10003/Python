{
 "cells": [
  {
   "cell_type": "markdown",
   "metadata": {},
   "source": [
    "##### 여러 자릿수 덧셈"
   ]
  },
  {
   "cell_type": "code",
   "execution_count": null,
   "metadata": {},
   "outputs": [],
   "source": [
    "'''\n",
    "여러 자리 수를 더하기 위해서는, 한 자리 숫자 3개를 더할 수 있는 회로가 필요함. (a1, b1, c1)\n",
    ": 아래 자리에서 올림수가 생길 수 있기 때문. ex) 11(2) + 11(2)\n",
    "출력은 1 + 1 + 1을 하더라도 결과는 11이 되기 때문에 두 자리. (S2, S1)\n",
    "'''"
   ]
  }
 ],
 "metadata": {
  "kernelspec": {
   "display_name": "base",
   "language": "python",
   "name": "python3"
  },
  "language_info": {
   "name": "python",
   "version": "3.12.4"
  }
 },
 "nbformat": 4,
 "nbformat_minor": 2
}
