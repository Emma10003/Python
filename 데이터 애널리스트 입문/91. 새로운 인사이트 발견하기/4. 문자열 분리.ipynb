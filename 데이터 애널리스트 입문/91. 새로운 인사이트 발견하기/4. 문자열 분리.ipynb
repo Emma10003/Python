{
 "cells": [
  {
   "cell_type": "markdown",
   "metadata": {},
   "source": [
    "___\n",
    "#### 문자열 분리\n",
    "```python\n",
    "- df['컬럼명'].str.split()\n",
    "    > 해당 컬럼의 문자열을 띄어쓰기 기준으로 분리해서 리스트 형태로 반환.\n",
    "\n",
    "- df['컬럼명'].str.split(pat='-')\n",
    "    > pat : 문자열 분리 기준 설정.\n",
    "        pat='-' : -를 기준으로 문자열을 분리함.\n",
    "\n",
    "- df['컬럼명'].str.split(n=1)\n",
    "    > n : 몇 번째 띄어쓰기까지 분리할 것인지.\n",
    "        n=1 : 첫 번째 띄어쓰기까지 분리\n",
    "        n=2: 첫 번째와 두 번째 띄어쓰기까지 분리\n",
    "\n",
    "- df['컬럼명'].str.split(n=1, expand=True)\n",
    "    > expand : 분리된 문자열을 데이터프레임으로 반환.\n",
    "    > 0~n번 까지의 컬럼으로 구성되어 있고, 각 컬럼에는 분리된 문자열이 들어있음.\n",
    "```\n",
    "___"
   ]
  },
  {
   "cell_type": "code",
   "execution_count": 1,
   "metadata": {},
   "outputs": [
    {
     "data": {
      "text/html": [
       "<div>\n",
       "<style scoped>\n",
       "    .dataframe tbody tr th:only-of-type {\n",
       "        vertical-align: middle;\n",
       "    }\n",
       "\n",
       "    .dataframe tbody tr th {\n",
       "        vertical-align: top;\n",
       "    }\n",
       "\n",
       "    .dataframe thead th {\n",
       "        text-align: right;\n",
       "    }\n",
       "</style>\n",
       "<table border=\"1\" class=\"dataframe\">\n",
       "  <thead>\n",
       "    <tr style=\"text-align: right;\">\n",
       "      <th></th>\n",
       "      <th>관리번호</th>\n",
       "      <th>공원명</th>\n",
       "      <th>공원구분</th>\n",
       "      <th>소재지도로명주소</th>\n",
       "      <th>전화번호</th>\n",
       "    </tr>\n",
       "  </thead>\n",
       "  <tbody>\n",
       "    <tr>\n",
       "      <th>0</th>\n",
       "      <td>29170-00001</td>\n",
       "      <td>문화근린공원</td>\n",
       "      <td>근린공원</td>\n",
       "      <td>광주광역시 북구 대천로 86</td>\n",
       "      <td>062-410-6438</td>\n",
       "    </tr>\n",
       "    <tr>\n",
       "      <th>1</th>\n",
       "      <td>29170-00002</td>\n",
       "      <td>두암제1근린공원</td>\n",
       "      <td>근린공원</td>\n",
       "      <td>광주광역시 북구 삼정로 36</td>\n",
       "      <td>062-410-6438</td>\n",
       "    </tr>\n",
       "    <tr>\n",
       "      <th>2</th>\n",
       "      <td>29170-00003</td>\n",
       "      <td>첨단체육근린공원</td>\n",
       "      <td>근린공원</td>\n",
       "      <td>광주광역시 북구 임방울대로 877</td>\n",
       "      <td>062-410-6438</td>\n",
       "    </tr>\n",
       "    <tr>\n",
       "      <th>3</th>\n",
       "      <td>29170-00004</td>\n",
       "      <td>일곡제1근린공원</td>\n",
       "      <td>근린공원</td>\n",
       "      <td>광주광역시 북구 일곡로 55</td>\n",
       "      <td>062-410-6438</td>\n",
       "    </tr>\n",
       "    <tr>\n",
       "      <th>4</th>\n",
       "      <td>29170-00005</td>\n",
       "      <td>일곡제2근린공원</td>\n",
       "      <td>근린공원</td>\n",
       "      <td>광주광역시 북구 설죽로 526</td>\n",
       "      <td>062-410-6438</td>\n",
       "    </tr>\n",
       "  </tbody>\n",
       "</table>\n",
       "</div>"
      ],
      "text/plain": [
       "          관리번호       공원명  공원구분            소재지도로명주소          전화번호\n",
       "0  29170-00001    문화근린공원  근린공원     광주광역시 북구 대천로 86  062-410-6438\n",
       "1  29170-00002  두암제1근린공원  근린공원     광주광역시 북구 삼정로 36  062-410-6438\n",
       "2  29170-00003  첨단체육근린공원  근린공원  광주광역시 북구 임방울대로 877  062-410-6438\n",
       "3  29170-00004  일곡제1근린공원  근린공원     광주광역시 북구 일곡로 55  062-410-6438\n",
       "4  29170-00005  일곡제2근린공원  근린공원    광주광역시 북구 설죽로 526  062-410-6438"
      ]
     },
     "execution_count": 1,
     "metadata": {},
     "output_type": "execute_result"
    }
   ],
   "source": [
    "import pandas as pd\n",
    "\n",
    "df = pd.read_csv('../data/parks.csv')\n",
    "df.head()"
   ]
  },
  {
   "cell_type": "markdown",
   "metadata": {},
   "source": [
    "#### 소재지도로명주소를 분리 - 관할 구역 컬럼 만들기"
   ]
  },
  {
   "cell_type": "code",
   "execution_count": 7,
   "metadata": {},
   "outputs": [],
   "source": [
    "address = df['소재지도로명주소'].str.split(n=1, expand=True)"
   ]
  },
  {
   "cell_type": "code",
   "execution_count": 8,
   "metadata": {},
   "outputs": [
    {
     "data": {
      "text/html": [
       "<div>\n",
       "<style scoped>\n",
       "    .dataframe tbody tr th:only-of-type {\n",
       "        vertical-align: middle;\n",
       "    }\n",
       "\n",
       "    .dataframe tbody tr th {\n",
       "        vertical-align: top;\n",
       "    }\n",
       "\n",
       "    .dataframe thead th {\n",
       "        text-align: right;\n",
       "    }\n",
       "</style>\n",
       "<table border=\"1\" class=\"dataframe\">\n",
       "  <thead>\n",
       "    <tr style=\"text-align: right;\">\n",
       "      <th></th>\n",
       "      <th>관리번호</th>\n",
       "      <th>공원명</th>\n",
       "      <th>공원구분</th>\n",
       "      <th>소재지도로명주소</th>\n",
       "      <th>전화번호</th>\n",
       "      <th>관할구역</th>\n",
       "    </tr>\n",
       "  </thead>\n",
       "  <tbody>\n",
       "    <tr>\n",
       "      <th>0</th>\n",
       "      <td>29170-00001</td>\n",
       "      <td>문화근린공원</td>\n",
       "      <td>근린공원</td>\n",
       "      <td>광주광역시 북구 대천로 86</td>\n",
       "      <td>062-410-6438</td>\n",
       "      <td>광주광역시</td>\n",
       "    </tr>\n",
       "    <tr>\n",
       "      <th>1</th>\n",
       "      <td>29170-00002</td>\n",
       "      <td>두암제1근린공원</td>\n",
       "      <td>근린공원</td>\n",
       "      <td>광주광역시 북구 삼정로 36</td>\n",
       "      <td>062-410-6438</td>\n",
       "      <td>광주광역시</td>\n",
       "    </tr>\n",
       "    <tr>\n",
       "      <th>2</th>\n",
       "      <td>29170-00003</td>\n",
       "      <td>첨단체육근린공원</td>\n",
       "      <td>근린공원</td>\n",
       "      <td>광주광역시 북구 임방울대로 877</td>\n",
       "      <td>062-410-6438</td>\n",
       "      <td>광주광역시</td>\n",
       "    </tr>\n",
       "    <tr>\n",
       "      <th>3</th>\n",
       "      <td>29170-00004</td>\n",
       "      <td>일곡제1근린공원</td>\n",
       "      <td>근린공원</td>\n",
       "      <td>광주광역시 북구 일곡로 55</td>\n",
       "      <td>062-410-6438</td>\n",
       "      <td>광주광역시</td>\n",
       "    </tr>\n",
       "    <tr>\n",
       "      <th>4</th>\n",
       "      <td>29170-00005</td>\n",
       "      <td>일곡제2근린공원</td>\n",
       "      <td>근린공원</td>\n",
       "      <td>광주광역시 북구 설죽로 526</td>\n",
       "      <td>062-410-6438</td>\n",
       "      <td>광주광역시</td>\n",
       "    </tr>\n",
       "  </tbody>\n",
       "</table>\n",
       "</div>"
      ],
      "text/plain": [
       "          관리번호       공원명  공원구분            소재지도로명주소          전화번호   관할구역\n",
       "0  29170-00001    문화근린공원  근린공원     광주광역시 북구 대천로 86  062-410-6438  광주광역시\n",
       "1  29170-00002  두암제1근린공원  근린공원     광주광역시 북구 삼정로 36  062-410-6438  광주광역시\n",
       "2  29170-00003  첨단체육근린공원  근린공원  광주광역시 북구 임방울대로 877  062-410-6438  광주광역시\n",
       "3  29170-00004  일곡제1근린공원  근린공원     광주광역시 북구 일곡로 55  062-410-6438  광주광역시\n",
       "4  29170-00005  일곡제2근린공원  근린공원    광주광역시 북구 설죽로 526  062-410-6438  광주광역시"
      ]
     },
     "execution_count": 8,
     "metadata": {},
     "output_type": "execute_result"
    }
   ],
   "source": [
    "df['관할구역'] = address[0]\n",
    "df.head()"
   ]
  }
 ],
 "metadata": {
  "kernelspec": {
   "display_name": "base",
   "language": "python",
   "name": "python3"
  },
  "language_info": {
   "codemirror_mode": {
    "name": "ipython",
    "version": 3
   },
   "file_extension": ".py",
   "mimetype": "text/x-python",
   "name": "python",
   "nbconvert_exporter": "python",
   "pygments_lexer": "ipython3",
   "version": "3.12.4"
  }
 },
 "nbformat": 4,
 "nbformat_minor": 2
}
