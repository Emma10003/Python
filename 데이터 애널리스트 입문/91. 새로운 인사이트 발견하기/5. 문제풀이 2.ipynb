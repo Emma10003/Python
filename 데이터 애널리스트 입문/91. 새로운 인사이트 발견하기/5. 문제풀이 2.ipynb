{
 "cells": [
  {
   "cell_type": "markdown",
   "metadata": {},
   "source": [
    "### 박물관이 살아 있다 II"
   ]
  },
  {
   "cell_type": "markdown",
   "metadata": {},
   "source": [
    "- '운영기관전화번호' 컬럼의 맨 앞 3자리를 추출\n",
    "- '지역번호' 컬럼에 넣기"
   ]
  },
  {
   "cell_type": "code",
   "execution_count": 1,
   "metadata": {},
   "outputs": [
    {
     "data": {
      "text/html": [
       "<div>\n",
       "<style scoped>\n",
       "    .dataframe tbody tr th:only-of-type {\n",
       "        vertical-align: middle;\n",
       "    }\n",
       "\n",
       "    .dataframe tbody tr th {\n",
       "        vertical-align: top;\n",
       "    }\n",
       "\n",
       "    .dataframe thead th {\n",
       "        text-align: right;\n",
       "    }\n",
       "</style>\n",
       "<table border=\"1\" class=\"dataframe\">\n",
       "  <thead>\n",
       "    <tr style=\"text-align: right;\">\n",
       "      <th></th>\n",
       "      <th>시설명</th>\n",
       "      <th>어른관람료</th>\n",
       "      <th>운영기관전화번호</th>\n",
       "      <th>분류</th>\n",
       "    </tr>\n",
       "  </thead>\n",
       "  <tbody>\n",
       "    <tr>\n",
       "      <th>0</th>\n",
       "      <td>필암서원 유물전시관</td>\n",
       "      <td>500</td>\n",
       "      <td>061-390-7224</td>\n",
       "      <td>일반</td>\n",
       "    </tr>\n",
       "    <tr>\n",
       "      <th>1</th>\n",
       "      <td>원주역사박물관</td>\n",
       "      <td>0</td>\n",
       "      <td>033-737-4371</td>\n",
       "      <td>일반</td>\n",
       "    </tr>\n",
       "    <tr>\n",
       "      <th>2</th>\n",
       "      <td>뮤지엄산미술관</td>\n",
       "      <td>15000</td>\n",
       "      <td>033-730-9000</td>\n",
       "      <td>일반</td>\n",
       "    </tr>\n",
       "    <tr>\n",
       "      <th>3</th>\n",
       "      <td>오랜미래신화미술관</td>\n",
       "      <td>0</td>\n",
       "      <td>033-746-5256</td>\n",
       "      <td>일반</td>\n",
       "    </tr>\n",
       "    <tr>\n",
       "      <th>4</th>\n",
       "      <td>연세대학교 원주박물관</td>\n",
       "      <td>0</td>\n",
       "      <td>033-760-2731</td>\n",
       "      <td>대학</td>\n",
       "    </tr>\n",
       "  </tbody>\n",
       "</table>\n",
       "</div>"
      ],
      "text/plain": [
       "           시설명  어른관람료      운영기관전화번호  분류\n",
       "0   필암서원 유물전시관    500  061-390-7224  일반\n",
       "1      원주역사박물관      0  033-737-4371  일반\n",
       "2      뮤지엄산미술관  15000  033-730-9000  일반\n",
       "3    오랜미래신화미술관      0  033-746-5256  일반\n",
       "4  연세대학교 원주박물관      0  033-760-2731  대학"
      ]
     },
     "execution_count": 1,
     "metadata": {},
     "output_type": "execute_result"
    }
   ],
   "source": [
    "import pandas as pd\n",
    "\n",
    "df = pd.read_csv('../data/museum_2.csv')\n",
    "df.head()"
   ]
  },
  {
   "cell_type": "code",
   "execution_count": 6,
   "metadata": {},
   "outputs": [
    {
     "data": {
      "text/html": [
       "<div>\n",
       "<style scoped>\n",
       "    .dataframe tbody tr th:only-of-type {\n",
       "        vertical-align: middle;\n",
       "    }\n",
       "\n",
       "    .dataframe tbody tr th {\n",
       "        vertical-align: top;\n",
       "    }\n",
       "\n",
       "    .dataframe thead th {\n",
       "        text-align: right;\n",
       "    }\n",
       "</style>\n",
       "<table border=\"1\" class=\"dataframe\">\n",
       "  <thead>\n",
       "    <tr style=\"text-align: right;\">\n",
       "      <th></th>\n",
       "      <th>0</th>\n",
       "      <th>1</th>\n",
       "    </tr>\n",
       "  </thead>\n",
       "  <tbody>\n",
       "    <tr>\n",
       "      <th>0</th>\n",
       "      <td>061</td>\n",
       "      <td>390-7224</td>\n",
       "    </tr>\n",
       "    <tr>\n",
       "      <th>1</th>\n",
       "      <td>033</td>\n",
       "      <td>737-4371</td>\n",
       "    </tr>\n",
       "    <tr>\n",
       "      <th>2</th>\n",
       "      <td>033</td>\n",
       "      <td>730-9000</td>\n",
       "    </tr>\n",
       "    <tr>\n",
       "      <th>3</th>\n",
       "      <td>033</td>\n",
       "      <td>746-5256</td>\n",
       "    </tr>\n",
       "    <tr>\n",
       "      <th>4</th>\n",
       "      <td>033</td>\n",
       "      <td>760-2731</td>\n",
       "    </tr>\n",
       "  </tbody>\n",
       "</table>\n",
       "</div>"
      ],
      "text/plain": [
       "     0         1\n",
       "0  061  390-7224\n",
       "1  033  737-4371\n",
       "2  033  730-9000\n",
       "3  033  746-5256\n",
       "4  033  760-2731"
      ]
     },
     "execution_count": 6,
     "metadata": {},
     "output_type": "execute_result"
    }
   ],
   "source": [
    "# 운영기관전화번호 문자열 분리\n",
    "local_tel = df['운영기관전화번호'].str.split(pat='-', n=1, expand=True).head()\n",
    "local_tel.head()"
   ]
  },
  {
   "cell_type": "code",
   "execution_count": 7,
   "metadata": {},
   "outputs": [
    {
     "data": {
      "text/html": [
       "<div>\n",
       "<style scoped>\n",
       "    .dataframe tbody tr th:only-of-type {\n",
       "        vertical-align: middle;\n",
       "    }\n",
       "\n",
       "    .dataframe tbody tr th {\n",
       "        vertical-align: top;\n",
       "    }\n",
       "\n",
       "    .dataframe thead th {\n",
       "        text-align: right;\n",
       "    }\n",
       "</style>\n",
       "<table border=\"1\" class=\"dataframe\">\n",
       "  <thead>\n",
       "    <tr style=\"text-align: right;\">\n",
       "      <th></th>\n",
       "      <th>시설명</th>\n",
       "      <th>어른관람료</th>\n",
       "      <th>운영기관전화번호</th>\n",
       "      <th>분류</th>\n",
       "      <th>지역번호</th>\n",
       "    </tr>\n",
       "  </thead>\n",
       "  <tbody>\n",
       "    <tr>\n",
       "      <th>0</th>\n",
       "      <td>필암서원 유물전시관</td>\n",
       "      <td>500</td>\n",
       "      <td>061-390-7224</td>\n",
       "      <td>일반</td>\n",
       "      <td>061</td>\n",
       "    </tr>\n",
       "    <tr>\n",
       "      <th>1</th>\n",
       "      <td>원주역사박물관</td>\n",
       "      <td>0</td>\n",
       "      <td>033-737-4371</td>\n",
       "      <td>일반</td>\n",
       "      <td>033</td>\n",
       "    </tr>\n",
       "    <tr>\n",
       "      <th>2</th>\n",
       "      <td>뮤지엄산미술관</td>\n",
       "      <td>15000</td>\n",
       "      <td>033-730-9000</td>\n",
       "      <td>일반</td>\n",
       "      <td>033</td>\n",
       "    </tr>\n",
       "    <tr>\n",
       "      <th>3</th>\n",
       "      <td>오랜미래신화미술관</td>\n",
       "      <td>0</td>\n",
       "      <td>033-746-5256</td>\n",
       "      <td>일반</td>\n",
       "      <td>033</td>\n",
       "    </tr>\n",
       "    <tr>\n",
       "      <th>4</th>\n",
       "      <td>연세대학교 원주박물관</td>\n",
       "      <td>0</td>\n",
       "      <td>033-760-2731</td>\n",
       "      <td>대학</td>\n",
       "      <td>033</td>\n",
       "    </tr>\n",
       "  </tbody>\n",
       "</table>\n",
       "</div>"
      ],
      "text/plain": [
       "           시설명  어른관람료      운영기관전화번호  분류 지역번호\n",
       "0   필암서원 유물전시관    500  061-390-7224  일반  061\n",
       "1      원주역사박물관      0  033-737-4371  일반  033\n",
       "2      뮤지엄산미술관  15000  033-730-9000  일반  033\n",
       "3    오랜미래신화미술관      0  033-746-5256  일반  033\n",
       "4  연세대학교 원주박물관      0  033-760-2731  대학  033"
      ]
     },
     "execution_count": 7,
     "metadata": {},
     "output_type": "execute_result"
    }
   ],
   "source": [
    "df['지역번호'] = local_tel[0]\n",
    "df.head()"
   ]
  }
 ],
 "metadata": {
  "kernelspec": {
   "display_name": "base",
   "language": "python",
   "name": "python3"
  },
  "language_info": {
   "codemirror_mode": {
    "name": "ipython",
    "version": 3
   },
   "file_extension": ".py",
   "mimetype": "text/x-python",
   "name": "python",
   "nbconvert_exporter": "python",
   "pygments_lexer": "ipython3",
   "version": "3.12.4"
  }
 },
 "nbformat": 4,
 "nbformat_minor": 2
}
