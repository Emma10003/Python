{
 "cells": [
  {
   "cell_type": "markdown",
   "metadata": {},
   "source": [
    "___\n",
    "#### group by\n",
    "```python\n",
    "- df.groupby('컬럼명')\n",
    "    > 해당 컬럼을 기준으로 카테고리 생성.\n",
    "    > groupby 한 것을 변수에 저장하고 시각화 할 때 데이터프레임으로 사용!\n",
    "```\n",
    "___"
   ]
  },
  {
   "cell_type": "markdown",
   "metadata": {},
   "source": [
    "#### (이전) 브랜드 별 제조국가 컬럼 추가"
   ]
  },
  {
   "cell_type": "code",
   "execution_count": 7,
   "metadata": {},
   "outputs": [],
   "source": [
    "%matplotlib inline\n",
    "import pandas as pd\n",
    "\n",
    "df = pd.read_csv('../data/laptops.csv')\n",
    "df.head()\n",
    "\n",
    "# 각 브랜드가 어느 나라의 브랜드인지 설정\n",
    "brand_nation = {\n",
    "    'Dell': 'U.S.',\n",
    "    'Apple': 'U.S.',\n",
    "    'Acer': 'Taiwan',\n",
    "    'HP': 'U.S.',\n",
    "    'Lenovo': 'China',\n",
    "    'Alienware': 'U.S.',\n",
    "    'Microsoft': 'U.S.',\n",
    "    'Asus': 'Taiwan'\n",
    "}\n",
    "\n",
    "# brand_nation 컬럼 생성\n",
    "df['brand_nation'] = df['brand'].map(brand_nation)"
   ]
  },
  {
   "cell_type": "markdown",
   "metadata": {},
   "source": [
    "#### 카테고리별로 분석하기"
   ]
  },
  {
   "cell_type": "code",
   "execution_count": 8,
   "metadata": {},
   "outputs": [
    {
     "data": {
      "text/plain": [
       "pandas.core.groupby.generic.DataFrameGroupBy"
      ]
     },
     "execution_count": 8,
     "metadata": {},
     "output_type": "execute_result"
    }
   ],
   "source": [
    "nation_groups = df.groupby('brand_nation')\n",
    "type(nation_groups)"
   ]
  },
  {
   "cell_type": "code",
   "execution_count": 9,
   "metadata": {},
   "outputs": [
    {
     "data": {
      "text/html": [
       "<div>\n",
       "<style scoped>\n",
       "    .dataframe tbody tr th:only-of-type {\n",
       "        vertical-align: middle;\n",
       "    }\n",
       "\n",
       "    .dataframe tbody tr th {\n",
       "        vertical-align: top;\n",
       "    }\n",
       "\n",
       "    .dataframe thead th {\n",
       "        text-align: right;\n",
       "    }\n",
       "</style>\n",
       "<table border=\"1\" class=\"dataframe\">\n",
       "  <thead>\n",
       "    <tr style=\"text-align: right;\">\n",
       "      <th></th>\n",
       "      <th>brand</th>\n",
       "      <th>model</th>\n",
       "      <th>ram</th>\n",
       "      <th>hd_type</th>\n",
       "      <th>hd_size</th>\n",
       "      <th>screen_size</th>\n",
       "      <th>price</th>\n",
       "      <th>processor_brand</th>\n",
       "      <th>processor_model</th>\n",
       "      <th>clock_speed</th>\n",
       "      <th>graphic_card_brand</th>\n",
       "      <th>graphic_card_size</th>\n",
       "      <th>os</th>\n",
       "      <th>weight</th>\n",
       "      <th>comments</th>\n",
       "    </tr>\n",
       "    <tr>\n",
       "      <th>brand_nation</th>\n",
       "      <th></th>\n",
       "      <th></th>\n",
       "      <th></th>\n",
       "      <th></th>\n",
       "      <th></th>\n",
       "      <th></th>\n",
       "      <th></th>\n",
       "      <th></th>\n",
       "      <th></th>\n",
       "      <th></th>\n",
       "      <th></th>\n",
       "      <th></th>\n",
       "      <th></th>\n",
       "      <th></th>\n",
       "      <th></th>\n",
       "    </tr>\n",
       "  </thead>\n",
       "  <tbody>\n",
       "    <tr>\n",
       "      <th>China</th>\n",
       "      <td>18</td>\n",
       "      <td>18</td>\n",
       "      <td>18</td>\n",
       "      <td>18</td>\n",
       "      <td>18</td>\n",
       "      <td>18</td>\n",
       "      <td>18</td>\n",
       "      <td>18</td>\n",
       "      <td>18</td>\n",
       "      <td>18</td>\n",
       "      <td>18</td>\n",
       "      <td>17</td>\n",
       "      <td>18</td>\n",
       "      <td>18</td>\n",
       "      <td>18</td>\n",
       "    </tr>\n",
       "    <tr>\n",
       "      <th>Taiwan</th>\n",
       "      <td>44</td>\n",
       "      <td>44</td>\n",
       "      <td>44</td>\n",
       "      <td>44</td>\n",
       "      <td>44</td>\n",
       "      <td>44</td>\n",
       "      <td>44</td>\n",
       "      <td>44</td>\n",
       "      <td>44</td>\n",
       "      <td>44</td>\n",
       "      <td>43</td>\n",
       "      <td>14</td>\n",
       "      <td>44</td>\n",
       "      <td>42</td>\n",
       "      <td>9</td>\n",
       "    </tr>\n",
       "    <tr>\n",
       "      <th>U.S.</th>\n",
       "      <td>105</td>\n",
       "      <td>105</td>\n",
       "      <td>105</td>\n",
       "      <td>105</td>\n",
       "      <td>105</td>\n",
       "      <td>105</td>\n",
       "      <td>105</td>\n",
       "      <td>105</td>\n",
       "      <td>105</td>\n",
       "      <td>104</td>\n",
       "      <td>102</td>\n",
       "      <td>50</td>\n",
       "      <td>105</td>\n",
       "      <td>100</td>\n",
       "      <td>28</td>\n",
       "    </tr>\n",
       "  </tbody>\n",
       "</table>\n",
       "</div>"
      ],
      "text/plain": [
       "              brand  model  ram  hd_type  hd_size  screen_size  price  \\\n",
       "brand_nation                                                            \n",
       "China            18     18   18       18       18           18     18   \n",
       "Taiwan           44     44   44       44       44           44     44   \n",
       "U.S.            105    105  105      105      105          105    105   \n",
       "\n",
       "              processor_brand  processor_model  clock_speed  \\\n",
       "brand_nation                                                  \n",
       "China                      18               18           18   \n",
       "Taiwan                     44               44           44   \n",
       "U.S.                      105              105          104   \n",
       "\n",
       "              graphic_card_brand  graphic_card_size   os  weight  comments  \n",
       "brand_nation                                                                \n",
       "China                         18                 17   18      18        18  \n",
       "Taiwan                        43                 14   44      42         9  \n",
       "U.S.                         102                 50  105     100        28  "
      ]
     },
     "execution_count": 9,
     "metadata": {},
     "output_type": "execute_result"
    }
   ],
   "source": [
    "# 각 컬럼에 국가별로 몇 개의 값이 있는지\n",
    "nation_groups.count()"
   ]
  },
  {
   "cell_type": "code",
   "execution_count": null,
   "metadata": {},
   "outputs": [],
   "source": [
    "# 각 컬럼의 최댓값 - 버전 차이로 오류. 실행X\n",
    "nation_groups.max()\n",
    "nation_groups.mean()"
   ]
  },
  {
   "cell_type": "code",
   "execution_count": 12,
   "metadata": {},
   "outputs": [
    {
     "data": {
      "text/html": [
       "<div>\n",
       "<style scoped>\n",
       "    .dataframe tbody tr th:only-of-type {\n",
       "        vertical-align: middle;\n",
       "    }\n",
       "\n",
       "    .dataframe tbody tr th {\n",
       "        vertical-align: top;\n",
       "    }\n",
       "\n",
       "    .dataframe thead th {\n",
       "        text-align: right;\n",
       "    }\n",
       "</style>\n",
       "<table border=\"1\" class=\"dataframe\">\n",
       "  <thead>\n",
       "    <tr style=\"text-align: right;\">\n",
       "      <th></th>\n",
       "      <th>brand</th>\n",
       "      <th>model</th>\n",
       "      <th>ram</th>\n",
       "      <th>hd_type</th>\n",
       "      <th>hd_size</th>\n",
       "      <th>screen_size</th>\n",
       "      <th>price</th>\n",
       "      <th>processor_brand</th>\n",
       "      <th>processor_model</th>\n",
       "      <th>clock_speed</th>\n",
       "      <th>graphic_card_brand</th>\n",
       "      <th>graphic_card_size</th>\n",
       "      <th>os</th>\n",
       "      <th>weight</th>\n",
       "      <th>comments</th>\n",
       "    </tr>\n",
       "    <tr>\n",
       "      <th>brand_nation</th>\n",
       "      <th></th>\n",
       "      <th></th>\n",
       "      <th></th>\n",
       "      <th></th>\n",
       "      <th></th>\n",
       "      <th></th>\n",
       "      <th></th>\n",
       "      <th></th>\n",
       "      <th></th>\n",
       "      <th></th>\n",
       "      <th></th>\n",
       "      <th></th>\n",
       "      <th></th>\n",
       "      <th></th>\n",
       "      <th></th>\n",
       "    </tr>\n",
       "  </thead>\n",
       "  <tbody>\n",
       "    <tr>\n",
       "      <th>China</th>\n",
       "      <td>Lenovo</td>\n",
       "      <td>300–15IBR</td>\n",
       "      <td>8</td>\n",
       "      <td>hdd</td>\n",
       "      <td>1024</td>\n",
       "      <td>15.6</td>\n",
       "      <td>40990</td>\n",
       "      <td>intel</td>\n",
       "      <td>i5</td>\n",
       "      <td>2.3</td>\n",
       "      <td>amd</td>\n",
       "      <td>2.0</td>\n",
       "      <td>linux</td>\n",
       "      <td>3.2</td>\n",
       "      <td>2.7 customer rating</td>\n",
       "    </tr>\n",
       "    <tr>\n",
       "      <th>Taiwan</th>\n",
       "      <td>Acer</td>\n",
       "      <td>Predator Helios 300</td>\n",
       "      <td>16</td>\n",
       "      <td>ssd</td>\n",
       "      <td>1024</td>\n",
       "      <td>15.6</td>\n",
       "      <td>101839</td>\n",
       "      <td>intel</td>\n",
       "      <td>i7</td>\n",
       "      <td>2.8</td>\n",
       "      <td>nvidia</td>\n",
       "      <td>6.0</td>\n",
       "      <td>windows</td>\n",
       "      <td>2.7</td>\n",
       "      <td>Gaming Laptop</td>\n",
       "    </tr>\n",
       "    <tr>\n",
       "      <th>U.S.</th>\n",
       "      <td>Dell</td>\n",
       "      <td>Inspiron 15-3567</td>\n",
       "      <td>4</td>\n",
       "      <td>hdd</td>\n",
       "      <td>1024</td>\n",
       "      <td>15.6</td>\n",
       "      <td>40000</td>\n",
       "      <td>intel</td>\n",
       "      <td>i5</td>\n",
       "      <td>2.5</td>\n",
       "      <td>intel</td>\n",
       "      <td>2.0</td>\n",
       "      <td>linux</td>\n",
       "      <td>2.5</td>\n",
       "      <td>Integrated Graphics</td>\n",
       "    </tr>\n",
       "  </tbody>\n",
       "</table>\n",
       "</div>"
      ],
      "text/plain": [
       "               brand                model  ram hd_type  hd_size  screen_size  \\\n",
       "brand_nation                                                                   \n",
       "China         Lenovo            300–15IBR    8     hdd     1024         15.6   \n",
       "Taiwan          Acer  Predator Helios 300   16     ssd     1024         15.6   \n",
       "U.S.            Dell     Inspiron 15-3567    4     hdd     1024         15.6   \n",
       "\n",
       "               price processor_brand processor_model  clock_speed  \\\n",
       "brand_nation                                                        \n",
       "China          40990           intel              i5          2.3   \n",
       "Taiwan        101839           intel              i7          2.8   \n",
       "U.S.           40000           intel              i5          2.5   \n",
       "\n",
       "             graphic_card_brand  graphic_card_size       os  weight  \\\n",
       "brand_nation                                                          \n",
       "China                       amd                2.0    linux     3.2   \n",
       "Taiwan                   nvidia                6.0  windows     2.7   \n",
       "U.S.                      intel                2.0    linux     2.5   \n",
       "\n",
       "                         comments  \n",
       "brand_nation                       \n",
       "China         2.7 customer rating  \n",
       "Taiwan              Gaming Laptop  \n",
       "U.S.          Integrated Graphics  "
      ]
     },
     "execution_count": 12,
     "metadata": {},
     "output_type": "execute_result"
    }
   ],
   "source": [
    "# 국가별로 가장 위에 있는 값\n",
    "nation_groups.first()"
   ]
  },
  {
   "cell_type": "code",
   "execution_count": 13,
   "metadata": {},
   "outputs": [
    {
     "data": {
      "text/html": [
       "<div>\n",
       "<style scoped>\n",
       "    .dataframe tbody tr th:only-of-type {\n",
       "        vertical-align: middle;\n",
       "    }\n",
       "\n",
       "    .dataframe tbody tr th {\n",
       "        vertical-align: top;\n",
       "    }\n",
       "\n",
       "    .dataframe thead th {\n",
       "        text-align: right;\n",
       "    }\n",
       "</style>\n",
       "<table border=\"1\" class=\"dataframe\">\n",
       "  <thead>\n",
       "    <tr style=\"text-align: right;\">\n",
       "      <th></th>\n",
       "      <th>brand</th>\n",
       "      <th>model</th>\n",
       "      <th>ram</th>\n",
       "      <th>hd_type</th>\n",
       "      <th>hd_size</th>\n",
       "      <th>screen_size</th>\n",
       "      <th>price</th>\n",
       "      <th>processor_brand</th>\n",
       "      <th>processor_model</th>\n",
       "      <th>clock_speed</th>\n",
       "      <th>graphic_card_brand</th>\n",
       "      <th>graphic_card_size</th>\n",
       "      <th>os</th>\n",
       "      <th>weight</th>\n",
       "      <th>comments</th>\n",
       "    </tr>\n",
       "    <tr>\n",
       "      <th>brand_nation</th>\n",
       "      <th></th>\n",
       "      <th></th>\n",
       "      <th></th>\n",
       "      <th></th>\n",
       "      <th></th>\n",
       "      <th></th>\n",
       "      <th></th>\n",
       "      <th></th>\n",
       "      <th></th>\n",
       "      <th></th>\n",
       "      <th></th>\n",
       "      <th></th>\n",
       "      <th></th>\n",
       "      <th></th>\n",
       "      <th></th>\n",
       "    </tr>\n",
       "  </thead>\n",
       "  <tbody>\n",
       "    <tr>\n",
       "      <th>China</th>\n",
       "      <td>Lenovo</td>\n",
       "      <td>IdeaPad 520-15IKB 80YL00RXIN</td>\n",
       "      <td>8</td>\n",
       "      <td>hdd</td>\n",
       "      <td>1024</td>\n",
       "      <td>15.6</td>\n",
       "      <td>69990</td>\n",
       "      <td>intel</td>\n",
       "      <td>i7</td>\n",
       "      <td>3.5</td>\n",
       "      <td>nvidia</td>\n",
       "      <td>4.0</td>\n",
       "      <td>windows</td>\n",
       "      <td>2.2</td>\n",
       "      <td>Core i7-7500U 7th Gen processor, Dolby Audio</td>\n",
       "    </tr>\n",
       "    <tr>\n",
       "      <th>Taiwan</th>\n",
       "      <td>Asus</td>\n",
       "      <td>X540LA-XX538T</td>\n",
       "      <td>4</td>\n",
       "      <td>hdd</td>\n",
       "      <td>1024</td>\n",
       "      <td>15.6</td>\n",
       "      <td>30899</td>\n",
       "      <td>intel</td>\n",
       "      <td>i3 5th gen</td>\n",
       "      <td>2.0</td>\n",
       "      <td>intel</td>\n",
       "      <td>1.0</td>\n",
       "      <td>windows</td>\n",
       "      <td>2.3</td>\n",
       "      <td>Integrated Graphics</td>\n",
       "    </tr>\n",
       "    <tr>\n",
       "      <th>U.S.</th>\n",
       "      <td>Microsoft</td>\n",
       "      <td>Surface Book CR9-00013</td>\n",
       "      <td>8</td>\n",
       "      <td>ssd</td>\n",
       "      <td>128</td>\n",
       "      <td>13.5</td>\n",
       "      <td>178799</td>\n",
       "      <td>intel</td>\n",
       "      <td>i5</td>\n",
       "      <td>1.8</td>\n",
       "      <td>intel</td>\n",
       "      <td>2.0</td>\n",
       "      <td>windows</td>\n",
       "      <td>1.5</td>\n",
       "      <td>Integrated Graphics</td>\n",
       "    </tr>\n",
       "  </tbody>\n",
       "</table>\n",
       "</div>"
      ],
      "text/plain": [
       "                  brand                          model  ram hd_type  hd_size  \\\n",
       "brand_nation                                                                   \n",
       "China            Lenovo  IdeaPad 520-15IKB 80YL00RXIN     8     hdd     1024   \n",
       "Taiwan             Asus                  X540LA-XX538T    4     hdd     1024   \n",
       "U.S.          Microsoft         Surface Book CR9-00013    8     ssd      128   \n",
       "\n",
       "              screen_size   price processor_brand processor_model  \\\n",
       "brand_nation                                                        \n",
       "China                15.6   69990           intel              i7   \n",
       "Taiwan               15.6   30899           intel      i3 5th gen   \n",
       "U.S.                 13.5  178799           intel              i5   \n",
       "\n",
       "              clock_speed graphic_card_brand  graphic_card_size       os  \\\n",
       "brand_nation                                                               \n",
       "China                 3.5             nvidia                4.0  windows   \n",
       "Taiwan                2.0              intel                1.0  windows   \n",
       "U.S.                  1.8              intel                2.0  windows   \n",
       "\n",
       "              weight                                      comments  \n",
       "brand_nation                                                        \n",
       "China            2.2  Core i7-7500U 7th Gen processor, Dolby Audio  \n",
       "Taiwan           2.3                           Integrated Graphics  \n",
       "U.S.             1.5                           Integrated Graphics  "
      ]
     },
     "execution_count": 13,
     "metadata": {},
     "output_type": "execute_result"
    }
   ],
   "source": [
    "# 국가별로 가장 마지막에 있는 값\n",
    "nation_groups.last()"
   ]
  },
  {
   "cell_type": "code",
   "execution_count": 14,
   "metadata": {},
   "outputs": [
    {
     "data": {
      "text/plain": [
       "brand_nation\n",
       "China     Axes(0.125,0.11;0.775x0.77)\n",
       "Taiwan    Axes(0.125,0.11;0.775x0.77)\n",
       "U.S.      Axes(0.125,0.11;0.775x0.77)\n",
       "dtype: object"
      ]
     },
     "execution_count": 14,
     "metadata": {},
     "output_type": "execute_result"
    },
    {
     "data": {
      "image/png": "[encoded data removed]",
      "text/plain": [
       "<Figure size 640x480 with 1 Axes>"
      ]
     },
     "metadata": {},
     "output_type": "display_data"
    },
    {
     "data": {
      "image/png": "[encoded data removed]",
      "text/plain": [
       "<Figure size 640x480 with 1 Axes>"
      ]
     },
     "metadata": {},
     "output_type": "display_data"
    },
    {
     "data": {
      "image/png": "[encoded data removed]",
      "text/plain": [
       "<Figure size 640x480 with 1 Axes>"
      ]
     },
     "metadata": {},
     "output_type": "display_data"
    }
   ],
   "source": [
    "# 그래프 그리기\n",
    "nation_groups.plot(kind='box', y='price')"
   ]
  },
  {
   "cell_type": "code",
   "execution_count": 15,
   "metadata": {},
   "outputs": [
    {
     "data": {
      "text/plain": [
       "brand_nation\n",
       "China     Axes(0.125,0.11;0.775x0.77)\n",
       "Taiwan    Axes(0.125,0.11;0.775x0.77)\n",
       "U.S.      Axes(0.125,0.11;0.775x0.77)\n",
       "dtype: object"
      ]
     },
     "execution_count": 15,
     "metadata": {},
     "output_type": "execute_result"
    },
    {
     "data": {
      "image/png": "[encoded data removed]",
      "text/plain": [
       "<Figure size 640x480 with 1 Axes>"
      ]
     },
     "metadata": {},
     "output_type": "display_data"
    },
    {
     "data": {
      "image/png": "[encoded data removed]",
      "text/plain": [
       "<Figure size 640x480 with 1 Axes>"
      ]
     },
     "metadata": {},
     "output_type": "display_data"
    },
    {
     "data": {
      "image/png": "[encoded data removed]",
      "text/plain": [
       "<Figure size 640x480 with 1 Axes>"
      ]
     },
     "metadata": {},
     "output_type": "display_data"
    }
   ],
   "source": [
    "nation_groups.plot(kind='hist', y='price')"
   ]
  }
 ],
 "metadata": {
  "kernelspec": {
   "display_name": "base",
   "language": "python",
   "name": "python3"
  },
  "language_info": {
   "codemirror_mode": {
    "name": "ipython",
    "version": 3
   },
   "file_extension": ".py",
   "mimetype": "text/x-python",
   "name": "python",
   "nbconvert_exporter": "python",
   "pygments_lexer": "ipython3",
   "version": "3.12.4"
  }
 },
 "nbformat": 4,
 "nbformat_minor": 2
}
