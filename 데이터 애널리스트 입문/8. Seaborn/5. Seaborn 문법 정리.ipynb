{
 "cells": [
  {
   "cell_type": "markdown",
   "metadata": {},
   "source": [
    "___\n",
    "#### KDE\n",
    "```python\n",
    ": Kernel Density Estimation\n",
    "-> 이렇게 그려지는 그래프는 데이터를 기반으로 추측한 것이기 때문에 실제 분포와는 차이가 있음.\n",
    "\n",
    "1) Seaborn으로 확률밀도함수 그리기\n",
    "- sns.kdeplot(df['컬럼명'])\n",
    "- sns.kdeplot(df['컬렴명'], bw=0.05) : 추측의 수준을 정해줄 수 있음.\n",
    "    > bw 파라미터의 숫자에 따라 그래프의 매끄러움 정도 조절 가능. (hist의 그래프 구간 개수 결정과 비슷)\n",
    "    > 숫자가 높을수록 부정확한 그래프가 그려질 수 있으므로 적당한 수준을 결정해 주어야 한다!\n",
    "\n",
    "2) 히스토그램 위에 KDE 그래프 그리기\n",
    "- sns.distplot(df['컬럼명'], bins=15)\n",
    "    > bins 파라미터로 히스토그램 구간 개수 설정\n",
    "    > 참고) distplot() 함수는 0.14.0 버전에서는 사라질 예정이라고 한다...\n",
    "\n",
    "3) 바이올린 플롯 그리기\n",
    "- sns.violinplot(y=df['컬럼명'])\n",
    "    > 여기서 그려지는 굴곡이 KDE 그래프와 같다!\n",
    "\n",
    "4) 등고선 그래프 그리기\n",
    "- sns.kdeplot(x=df['컬럼1'], y=df['컬럼2'])\n",
    "    > x축에는 컬럼1의 KDE 그래프를, y축에는 컬럼2의 KDE 그래프를 그린 것.\n",
    "    > 선과의 간격이 가까울수록 가파르고, 멀 수록 완만한 것. (이걸 x축 방향, y축 방향으로 각각 보면 됨.)\n",
    "    > 두 컬럼의 연관성과 함께 분포도 같이 볼 수 있는 그래프.\n",
    "```\n",
    "___"
   ]
  },
  {
   "cell_type": "markdown",
   "metadata": {},
   "source": [
    "___\n",
    "#### LM plot\n",
    "```python\n",
    "1) LM plot 그리기\n",
    "- sns.lmplot(data=df, x='컬럼1', y='컬럼2')\n",
    "    > 컬럼1과 컬럼2에 대한 산점도 그래프와 함께 Regression Line을 그림.\n",
    "    > 해당 Regression Line이 모든 점을 지나가지 않는 것은 그만큼 컬럼1과 컬럼2의 연관성이 강하지 않다는 의미.\n",
    "    > 선에 지나가지 않는 데이터가 많을수록 예측의 확실성은 떨어짐.\n",
    "```\n",
    "___"
   ]
  },
  {
   "cell_type": "markdown",
   "metadata": {},
   "source": [
    "___\n",
    "#### catplot\n",
    "```python\n",
    ": categorical plot, 카테고리별로 그래프를 그림.\n",
    "\n",
    "1) 카테고리별로 기본 그래프 그리기\n",
    "- sns.catplot(data=df, x='컬럼1', y='컬럼2', kind='box')\n",
    "    > x축에는 카테고리가 될 데이터가 있는 컬럼을 사용하고,\n",
    "    > y축에는 해당 카테고리별로 비교하고 싶은 수치 데이터 컬럼을 사용한다.\n",
    "        ex) os 종류별로 가격대를 비교하기 -> x축에는 'os', y축에는 'price'.\n",
    "    > kind 파라미터에는 어떤 그래프를 그릴 것인지 결정.\n",
    "\n",
    "2) strip 그래프 그리기\n",
    "- sns.catplot(data=df, x='컬럼1', y='컬럼2', kind='strip')\n",
    "    > strip 그래프를 그리면, 각 카테고리에 데이터가 얼마나 있는지 산점도그래프처럼 그려줌.\n",
    "    > box 플롯이나 violin 플롯으로 그리면 데이터의 개수를 알 수 없기 때문에 신뢰성을 의심하게 되지만,\n",
    "      이렇게 데이터의 개수가 나와 있으면 더 판단하기가 쉬움.\n",
    "\n",
    "3) 점 색상 변경하기\n",
    "- sns.catplot(data=df, x='컬럼1', y='컬럼2', kind='strip', hue='컬럼3')\n",
    "    > hue 파라미터는 색.\n",
    "    > hue='컬럼3'은 해당 컬럼의 데이터에 따라 strip 그래프에서 색을 다르게 해 주는 옵션\n",
    "        ex) hue='processor_brand': 프로세서 브랜드가 intel인 데이터와 amd인 브랜드의 점 색상을 다르게 함.\n",
    "\n",
    "4) swarm 그래프 그리기기\n",
    "- sns.catplot(data=laptops_df, x='os', y='price', kind='swarm', hue='processor_brand')\n",
    "    > strip 플롯에서 점들이 겹쳐져 불편하다면 swarm 플롯을 그리기.\n",
    "    > 점들이 옆으로 펼쳐진다.\n",
    "```\n",
    "___"
   ]
  },
  {
   "cell_type": "markdown",
   "metadata": {},
   "source": [
    "___\n",
    "#### 기타 플롯들\n",
    "```python\n",
    "1) jointplot\n",
    "- sns.jointplot(data=df, x='컬럼1', y='컬럼2')\n",
    "    > 컬럼1과 컬럼2의 상관관계를 보여주는 산점도 그래프와, 각 컬럼의 히스토그램을 함께 보여줌.\n",
    "\n",
    "2) 히트맵\n",
    "- sns.heatmap(df.corr())\n",
    "    > df.corr()은 변수 간 상관계수를 출력하는 코드.\n",
    "\n",
    "3) clustermap\n",
    "- sns.clustermap(상관계수)\n",
    "    ex) 9. EDA > 6. 클러스터 분석.ipynb\n",
    "```\n",
    "___"
   ]
  }
 ],
 "metadata": {
  "language_info": {
   "name": "python"
  }
 },
 "nbformat": 4,
 "nbformat_minor": 2
}
