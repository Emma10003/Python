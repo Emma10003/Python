{
 "cells": [
  {
   "cell_type": "markdown",
   "metadata": {},
   "source": [
    "### EDA\n",
    "- 각 row는 무엇을 의미하는가?\n",
    "- 각 column은 무엇을 의미하는가?\n",
    "- 각 column은 어떤 분포를 보이는가?\n",
    "- 두 column은 어떤 연관성이 있는가?  \n",
    "...  \n",
    "예) 설문조사  \n",
    "- 몇 명이 참여했는가?\n",
    "- 연령대가 어떻게 되는가?\n",
    "- 설문자의 최종 학력이 무엇인가?\n",
    "- 설문자의 관심사가 무엇인가?\n",
    "등등."
   ]
  }
 ],
 "metadata": {
  "language_info": {
   "name": "python"
  }
 },
 "nbformat": 4,
 "nbformat_minor": 2
}
