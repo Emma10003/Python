{
 "cells": [
  {
   "cell_type": "markdown",
   "metadata": {},
   "source": [
    "### Data Science"
   ]
  },
  {
   "cell_type": "code",
   "execution_count": null,
   "metadata": {},
   "outputs": [],
   "source": [
    "'''\n",
    "Data Science: Programming + Statistics & Mathmatics\n",
    "            : 데이터로부터 지식과 인사이트를 추출\n",
    "=> 가치를 더할 수 있는 일이 무엇인지 찾아내고, 데이터를 이용해 그 문제를 해결하는 것.\n",
    "'''"
   ]
  },
  {
   "cell_type": "markdown",
   "metadata": {},
   "source": [
    "#### Process of Data Science"
   ]
  },
  {
   "cell_type": "code",
   "execution_count": null,
   "metadata": {},
   "outputs": [],
   "source": [
    "'''\n",
    "0. 문제 정의하기\n",
    "    - 해결하고자 하는 게 무엇인지, 언제까지 어떤 결과물을 얻을 것인지, 어떤 방식으로 데이터를 활용할 것인지ㅣ.\n",
    "        v 목표 설정\n",
    "        v 기간 설정\n",
    "        v 평가 방법 설정\n",
    "        v 필요한 데이터 설정\n",
    "\n",
    "1. 데이터를 모으기\n",
    "    - 필요한 데이터를 모을 방법을 찾음\n",
    "    - 누군가 이미 모은 데이터를 그대로 사용 / 공공기관 등에서 배포한 자료를 찾아보기 / 웹사이트에서 직접 데이터 수집\n",
    "        v 웹 크롤링\n",
    "        v 자료 모으기\n",
    "        v 파일 읽고 쓰기\n",
    "\n",
    "2. 데이터를 옮기고 저장\n",
    "\n",
    "3. 데이터 정리\n",
    "    - 데이터의 퀄리티를 높임\n",
    "    - garbage in, garbage out 방지!\n",
    "        v 데이터 관찰하기\n",
    "        v 데이터 오류 제거\n",
    "        v 데이터 정리\n",
    "\n",
    "    => 데이터 엔지니어링\n",
    "\n",
    "4. 데이터 분석\n",
    "    - 준비된 데이터로부터 의미를 찾음\n",
    "    - 통계를 이용해 수치적으로 분석 / 그래프를 그려서 탐색 ~> 설계했던 방식대로 데이터를 활용해 원하는 결과를 도출하기!\n",
    "        v 데이터 파악하기\n",
    "        v 데이터 변형하기\n",
    "        v 통계 분석\n",
    "        v 인사이트 발견\n",
    "        v 의미 도출\n",
    "\n",
    "5. A/B 테스트\n",
    "6. 인공지능\n",
    "\n",
    "    -> 이 절차들을 하나씩 거쳐가야 한다!\n",
    "\n",
    "++ 커뮤니케이션\n",
    "    - 어떤 문제를 해결하려 했는지, 어떤 데이터를 모았는지, 어떤 방식으로 어떤 인사이트를 얻었는지 전달.\n",
    "        v 다양한 시각화\n",
    "        v 커뮤니케이션\n",
    "        v 리포트\n",
    "'''"
   ]
  },
  {
   "cell_type": "markdown",
   "metadata": {},
   "source": [
    "#### R vs. Python"
   ]
  },
  {
   "cell_type": "code",
   "execution_count": null,
   "metadata": {},
   "outputs": [],
   "source": [
    "'''\n",
    "R은 통계와 시각화에 최적화되어 있는 프로그램 -> 다른 프로그래밍을 할 수 없음. (연구 쪽에서 많이 사용)\n",
    "\n",
    "Python은 통계와 시각화에 관한 것들이 R에 비해서는 부족함 \n",
    "    -> 그러나 다른 분야에서도 사용할 수 있기 때문에 다른 분야로 넘어가기 좋음.\n",
    "        +) 데이터 관련 일을 웹 개발과 같은 다른 분야에 접목하기도 유리함.\n",
    "\n",
    "Data Science 분야에서 현재는 Python의 인기가 더 높음.    \n",
    "'''"
   ]
  }
 ],
 "metadata": {
  "kernelspec": {
   "display_name": "base",
   "language": "python",
   "name": "python3"
  },
  "language_info": {
   "name": "python",
   "version": "3.12.4"
  }
 },
 "nbformat": 4,
 "nbformat_minor": 2
}
