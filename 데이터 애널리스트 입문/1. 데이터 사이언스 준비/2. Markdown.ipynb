{
 "cells": [
  {
   "cell_type": "markdown",
   "metadata": {},
   "source": [
    "## 제목"
   ]
  },
  {
   "cell_type": "markdown",
   "metadata": {},
   "source": [
    "#을 사용해서 6단계까지 제목을 사용할 수 있다."
   ]
  },
  {
   "cell_type": "markdown",
   "metadata": {},
   "source": [
    "## 번호가 있는 목록"
   ]
  },
  {
   "cell_type": "markdown",
   "metadata": {},
   "source": [
    "'1.'을 써 주면 번호가 있는 목록을 만들 수 있다.\n",
    "1. 할일1\n",
    "2. 할일2\n",
    "3. 할일3"
   ]
  },
  {
   "cell_type": "markdown",
   "metadata": {},
   "source": [
    "## 번호가 없는 목록"
   ]
  },
  {
   "cell_type": "markdown",
   "metadata": {},
   "source": [
    "'*'를 써 주면 번호가 없는 목록을 만들 수 있다.\n",
    "* 떡볶이\n",
    "* 치킨\n",
    "* 피자"
   ]
  },
  {
   "cell_type": "markdown",
   "metadata": {},
   "source": [
    "## 줄바꿈"
   ]
  },
  {
   "cell_type": "markdown",
   "metadata": {},
   "source": [
    "문장의 끝에 스페이스 키를 두 번 누르면 줄을 바꿀 수 있다.  \n",
    "\n",
    "안녕하세요?  \n",
    "줄바꿈이  \n",
    "된걸까요?  \n",
    "되네요."
   ]
  },
  {
   "cell_type": "markdown",
   "metadata": {},
   "source": [
    "### 스페이스 키를 누르지 않은 경우:  \n",
    "안녕하세요?\n",
    "줄바꿈이 \n",
    "된걸까요?\n",
    "안되네요."
   ]
  },
  {
   "cell_type": "markdown",
   "metadata": {},
   "source": [
    "## 문단 바꿈"
   ]
  },
  {
   "cell_type": "markdown",
   "metadata": {},
   "source": [
    "엔터 키를 두 번 누르면 문단을 바꿀 수 있다.\n",
    "\n",
    "안녕하세요?\n",
    "\n",
    "문단을\n",
    "\n",
    "바꿔보았습니다."
   ]
  },
  {
   "cell_type": "markdown",
   "metadata": {},
   "source": [
    "## 문자 강조"
   ]
  },
  {
   "cell_type": "markdown",
   "metadata": {},
   "source": [
    "'*'와 '_'를 사용하면 글자를 꾸밀 수 있다.\n",
    "\n",
    "이탈릭체는 *별표*나 _언더바_ 로.\n",
    "\n",
    "볼드체는 **별표 두 개**나 __언더바 두 개__ 로.\n",
    "\n",
    "**별표와 _언더바_**를 섞어봤어요\n",
    "\n",
    "취소선은 ~~물결~~ 로."
   ]
  },
  {
   "cell_type": "markdown",
   "metadata": {},
   "source": [
    "## 링크"
   ]
  },
  {
   "cell_type": "markdown",
   "metadata": {},
   "source": [
    "코딩 강의는 [코드잇](https://ww.codeit.kr)\n",
    "\n",
    "형식: [링크 레이블](실제 링크)"
   ]
  },
  {
   "cell_type": "markdown",
   "metadata": {},
   "source": [
    "## 이미지"
   ]
  },
  {
   "cell_type": "markdown",
   "metadata": {},
   "source": [
    "형식: ![레이블](이미지의 상대경로)"
   ]
  },
  {
   "cell_type": "markdown",
   "metadata": {},
   "source": [
    "## 코드 블록"
   ]
  },
  {
   "cell_type": "markdown",
   "metadata": {},
   "source": [
    "'`' 3개로 코드 블록을 추가할 수 있다.\n",
    "```python\n",
    "print('hello world!')\n",
    "for i in range(10):\n",
    "    print(i)\n",
    "```  \n",
    "오ㅓ 대박\n",
    "그럼 이건? ```ECOLI_DATA``` 오우 이것도 되네 대박"
   ]
  },
  {
   "cell_type": "markdown",
   "metadata": {},
   "source": [
    "## 인라인 코드"
   ]
  },
  {
   "cell_type": "markdown",
   "metadata": {},
   "source": [
    "'``' 코드로 감싸면 인라인 코드를 쓸 수 있다.  \n",
    "값을 출력하고 싶으면 `print`함수를 내놔라!"
   ]
  },
  {
   "cell_type": "markdown",
   "metadata": {},
   "source": [
    "## 구분선"
   ]
  },
  {
   "cell_type": "markdown",
   "metadata": {},
   "source": [
    "'_ _ _'으로 구분선을 추가할 수 있다.  \n",
    "\n",
    "텍스트1\n",
    "___\n",
    "텍스트2\n"
   ]
  },
  {
   "cell_type": "markdown",
   "metadata": {},
   "source": []
  }
 ],
 "metadata": {
  "language_info": {
   "name": "python"
  }
 },
 "nbformat": 4,
 "nbformat_minor": 2
}
