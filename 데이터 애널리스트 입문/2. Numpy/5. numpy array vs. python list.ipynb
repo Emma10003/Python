{
 "cells": [
  {
   "cell_type": "markdown",
   "metadata": {},
   "source": [
    "## Numpy Array vs. Python List"
   ]
  },
  {
   "cell_type": "code",
   "execution_count": null,
   "metadata": {},
   "outputs": [],
   "source": [
    "'''\n",
    "1. 두 배열/리스트 더하기\n",
    "    Numpy Array                     Python List\n",
    "[10, 5, 3, 7, 1, 5]             [10, 5, 3, 7, 1, 5]\n",
    "+ [10, 5, 3, 7, 1, 5]           + [10, 5, 3, 7, 1, 5]\n",
    "----------------------          -----------------------\n",
    "[20, 10, 6, 14, 2, 10]          [10, 5, 3, 7, 1, 5, 10, 5, 3, 7, 1, 5]\n",
    ": 요소끼리 연산됨                   : 그냥 리스트가 이어짐.\n",
    "\n",
    "\n",
    "2. 뺄셈, 곱셈, 나눗셈\n",
    "    Numpy Array                     Python List\n",
    "    모두 잘 동작함.                      Error.\n",
    "\n",
    "\n",
    "3. 배열/리스트에 상수를 더하기/빼기/나누기\n",
    "    Numpy Array                     Python List\n",
    "[10, 5, 3, 7, 1, 5]             [10, 5, 3, 7, 1, 5]\n",
    "+ 5                             + 5\n",
    "----------------------          ----------------------\n",
    "[15, 10, 8, 12, 6, 10]          Error.\n",
    ": 각 요소에 상수가 연산됨\n",
    "\n",
    "\n",
    "4. 배열/리스트에 상수를 곱하기\n",
    "    Numpy Array                     Python List\n",
    "[10, 5, 3, 7, 1, 5]             [10, 5, 3, 7, 1, 5]\n",
    "* 3                             * 3\n",
    "----------------------          ----------------------\n",
    "[30, 15, 9, 21, 3, 15]          [10, 5, 3, 7, 1, 5, 10, 5, 3, 7, 1, 5, 10, 5, 3, 7, 1, 5]\n",
    ": 각 요소에 상수가 곱해짐           : 리스트가 반복됨.\n",
    "'''"
   ]
  },
  {
   "cell_type": "code",
   "execution_count": null,
   "metadata": {},
   "outputs": [],
   "source": [
    "'''\n",
    "성능적인 면에서도 Numpy Array가 Python List보다 효율적이고 빠르다.\n",
    "'''"
   ]
  },
  {
   "cell_type": "markdown",
   "metadata": {},
   "source": [
    "#### 언제 무엇을 쓰는 게 좋을까?\n",
    "```python\n",
    "    Numpy List                      Python List\n",
    "- 수치 계산이 많고 복잡할 때        - 값을 추가하고 제거하는 일\n",
    "- 행렬 같은 다차원 배열의 경우\n",
    "```"
   ]
  },
  {
   "cell_type": "markdown",
   "metadata": {},
   "source": []
  }
 ],
 "metadata": {
  "kernelspec": {
   "display_name": "base",
   "language": "python",
   "name": "python3"
  },
  "language_info": {
   "codemirror_mode": {
    "name": "ipython",
    "version": 3
   },
   "file_extension": ".py",
   "mimetype": "text/x-python",
   "name": "python",
   "nbconvert_exporter": "python",
   "pygments_lexer": "ipython3",
   "version": "3.12.4"
  }
 },
 "nbformat": 4,
 "nbformat_minor": 2
}
