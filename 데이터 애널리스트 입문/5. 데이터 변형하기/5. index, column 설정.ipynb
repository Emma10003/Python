{
 "cells": [
  {
   "cell_type": "markdown",
   "metadata": {},
   "source": [
    "___\n",
    "#### 문법 정리\n",
    "```python\n",
    "1. column 이름 변경하기: .rename()\n",
    "형식: \n",
    "    데이터프레임.rename({'원래 컬럼명': '새로운 컬럼명'}, inplace=True/False)\n",
    "    - inplace 파라미터 기본설정은 False -> 파라미터를 작성하지 않으면 기존 데이터베이스가 변경되지 않음.\n",
    "        - True: 기존 데이터베이스를 변경함.\n",
    "\n",
    "\n",
    "2. index 열에 이름 생성하기: .index.name\n",
    "형식:\n",
    "    데이터프레임.index.name = '새로운 행 이름'\n",
    "\n",
    "\n",
    "3. index 열 다시 지정하기: .set_index()\n",
    "기존에 있던 index가 아니라, 새로운 열을 index로 지정하고 싶은 경우에 사용.\n",
    "형식:\n",
    "    1) 원래 index인 행을 새로운 컬럼에 저장해준다: .index()\n",
    "        데이터프레임['새로운 컬럼명'] = 데이터프레임.index\n",
    "    2) 지정하고 싶은 열을 index로 지정한다.\n",
    "        데이터프레임.set_index('지정하고 싶은 열', inplace=True/False)\n",
    "            - inplace 파라미터 기본설정은 False -> 파라미터를 작성하지 않으면 기존 데이터베이스가 변경되지 않음.\n",
    "                - True: 기존 데이터베이스를 변경함.\n",
    "\n",
    "\n",
    "* 인덱스로 사용하기 좋은 컬럼: 겹치는 값이 없는 컬럼!\n",
    "```\n",
    "___"
   ]
  },
  {
   "cell_type": "code",
   "execution_count": 1,
   "metadata": {},
   "outputs": [],
   "source": [
    "import pandas as pd"
   ]
  },
  {
   "cell_type": "code",
   "execution_count": 2,
   "metadata": {},
   "outputs": [
    {
     "data": {
      "text/html": [
       "<div>\n",
       "<style scoped>\n",
       "    .dataframe tbody tr th:only-of-type {\n",
       "        vertical-align: middle;\n",
       "    }\n",
       "\n",
       "    .dataframe tbody tr th {\n",
       "        vertical-align: top;\n",
       "    }\n",
       "\n",
       "    .dataframe thead th {\n",
       "        text-align: right;\n",
       "    }\n",
       "</style>\n",
       "<table border=\"1\" class=\"dataframe\">\n",
       "  <thead>\n",
       "    <tr style=\"text-align: right;\">\n",
       "      <th></th>\n",
       "      <th>position</th>\n",
       "      <th>born</th>\n",
       "      <th>number</th>\n",
       "      <th>nationality</th>\n",
       "    </tr>\n",
       "  </thead>\n",
       "  <tbody>\n",
       "    <tr>\n",
       "      <th>Roberto Firmino</th>\n",
       "      <td>FW</td>\n",
       "      <td>1991</td>\n",
       "      <td>no. 9</td>\n",
       "      <td>Brazil</td>\n",
       "    </tr>\n",
       "    <tr>\n",
       "      <th>Sadio Mane</th>\n",
       "      <td>FW</td>\n",
       "      <td>1992</td>\n",
       "      <td>no. 10</td>\n",
       "      <td>Senegal</td>\n",
       "    </tr>\n",
       "    <tr>\n",
       "      <th>Mohamed Salah</th>\n",
       "      <td>FW</td>\n",
       "      <td>1992</td>\n",
       "      <td>no. 11</td>\n",
       "      <td>Egypt</td>\n",
       "    </tr>\n",
       "    <tr>\n",
       "      <th>Joe Gomez</th>\n",
       "      <td>DF</td>\n",
       "      <td>1997</td>\n",
       "      <td>no. 12</td>\n",
       "      <td>England</td>\n",
       "    </tr>\n",
       "    <tr>\n",
       "      <th>Alisson Becker</th>\n",
       "      <td>GK</td>\n",
       "      <td>1992</td>\n",
       "      <td>no. 13</td>\n",
       "      <td>Brazil</td>\n",
       "    </tr>\n",
       "  </tbody>\n",
       "</table>\n",
       "</div>"
      ],
      "text/plain": [
       "                position  born  number nationality\n",
       "Roberto Firmino       FW  1991   no. 9      Brazil\n",
       "Sadio Mane            FW  1992  no. 10     Senegal\n",
       "Mohamed Salah         FW  1992  no. 11       Egypt\n",
       "Joe Gomez             DF  1997  no. 12     England\n",
       "Alisson Becker        GK  1992  no. 13      Brazil"
      ]
     },
     "execution_count": 2,
     "metadata": {},
     "output_type": "execute_result"
    }
   ],
   "source": [
    "liverpool_df = pd.read_csv('../data/liverpool.csv', index_col=0)\n",
    "liverpool_df"
   ]
  },
  {
   "cell_type": "markdown",
   "metadata": {},
   "source": [
    "### column 이름 변경하기"
   ]
  },
  {
   "cell_type": "code",
   "execution_count": 3,
   "metadata": {},
   "outputs": [],
   "source": [
    "# column 이름 변경하기\n",
    "liverpool_df.rename(columns={'position': 'Position'}, inplace=True)"
   ]
  },
  {
   "cell_type": "code",
   "execution_count": 4,
   "metadata": {},
   "outputs": [],
   "source": [
    "liverpool_df.rename(columns={'born': 'Born', 'number': 'Number', 'nationality': 'Nationality'}, inplace=True)"
   ]
  },
  {
   "cell_type": "code",
   "execution_count": 5,
   "metadata": {},
   "outputs": [
    {
     "data": {
      "text/html": [
       "<div>\n",
       "<style scoped>\n",
       "    .dataframe tbody tr th:only-of-type {\n",
       "        vertical-align: middle;\n",
       "    }\n",
       "\n",
       "    .dataframe tbody tr th {\n",
       "        vertical-align: top;\n",
       "    }\n",
       "\n",
       "    .dataframe thead th {\n",
       "        text-align: right;\n",
       "    }\n",
       "</style>\n",
       "<table border=\"1\" class=\"dataframe\">\n",
       "  <thead>\n",
       "    <tr style=\"text-align: right;\">\n",
       "      <th></th>\n",
       "      <th>Position</th>\n",
       "      <th>Born</th>\n",
       "      <th>Number</th>\n",
       "      <th>Nationality</th>\n",
       "    </tr>\n",
       "  </thead>\n",
       "  <tbody>\n",
       "    <tr>\n",
       "      <th>Roberto Firmino</th>\n",
       "      <td>FW</td>\n",
       "      <td>1991</td>\n",
       "      <td>no. 9</td>\n",
       "      <td>Brazil</td>\n",
       "    </tr>\n",
       "    <tr>\n",
       "      <th>Sadio Mane</th>\n",
       "      <td>FW</td>\n",
       "      <td>1992</td>\n",
       "      <td>no. 10</td>\n",
       "      <td>Senegal</td>\n",
       "    </tr>\n",
       "    <tr>\n",
       "      <th>Mohamed Salah</th>\n",
       "      <td>FW</td>\n",
       "      <td>1992</td>\n",
       "      <td>no. 11</td>\n",
       "      <td>Egypt</td>\n",
       "    </tr>\n",
       "    <tr>\n",
       "      <th>Joe Gomez</th>\n",
       "      <td>DF</td>\n",
       "      <td>1997</td>\n",
       "      <td>no. 12</td>\n",
       "      <td>England</td>\n",
       "    </tr>\n",
       "    <tr>\n",
       "      <th>Alisson Becker</th>\n",
       "      <td>GK</td>\n",
       "      <td>1992</td>\n",
       "      <td>no. 13</td>\n",
       "      <td>Brazil</td>\n",
       "    </tr>\n",
       "  </tbody>\n",
       "</table>\n",
       "</div>"
      ],
      "text/plain": [
       "                Position  Born  Number Nationality\n",
       "Roberto Firmino       FW  1991   no. 9      Brazil\n",
       "Sadio Mane            FW  1992  no. 10     Senegal\n",
       "Mohamed Salah         FW  1992  no. 11       Egypt\n",
       "Joe Gomez             DF  1997  no. 12     England\n",
       "Alisson Becker        GK  1992  no. 13      Brazil"
      ]
     },
     "execution_count": 5,
     "metadata": {},
     "output_type": "execute_result"
    }
   ],
   "source": [
    "liverpool_df"
   ]
  },
  {
   "cell_type": "markdown",
   "metadata": {},
   "source": [
    "### row 열에 이름 생성하기"
   ]
  },
  {
   "cell_type": "code",
   "execution_count": 7,
   "metadata": {},
   "outputs": [
    {
     "data": {
      "text/html": [
       "<div>\n",
       "<style scoped>\n",
       "    .dataframe tbody tr th:only-of-type {\n",
       "        vertical-align: middle;\n",
       "    }\n",
       "\n",
       "    .dataframe tbody tr th {\n",
       "        vertical-align: top;\n",
       "    }\n",
       "\n",
       "    .dataframe thead th {\n",
       "        text-align: right;\n",
       "    }\n",
       "</style>\n",
       "<table border=\"1\" class=\"dataframe\">\n",
       "  <thead>\n",
       "    <tr style=\"text-align: right;\">\n",
       "      <th></th>\n",
       "      <th>Position</th>\n",
       "      <th>Born</th>\n",
       "      <th>Number</th>\n",
       "      <th>Nationality</th>\n",
       "    </tr>\n",
       "    <tr>\n",
       "      <th>Player Name</th>\n",
       "      <th></th>\n",
       "      <th></th>\n",
       "      <th></th>\n",
       "      <th></th>\n",
       "    </tr>\n",
       "  </thead>\n",
       "  <tbody>\n",
       "    <tr>\n",
       "      <th>Roberto Firmino</th>\n",
       "      <td>FW</td>\n",
       "      <td>1991</td>\n",
       "      <td>no. 9</td>\n",
       "      <td>Brazil</td>\n",
       "    </tr>\n",
       "    <tr>\n",
       "      <th>Sadio Mane</th>\n",
       "      <td>FW</td>\n",
       "      <td>1992</td>\n",
       "      <td>no. 10</td>\n",
       "      <td>Senegal</td>\n",
       "    </tr>\n",
       "    <tr>\n",
       "      <th>Mohamed Salah</th>\n",
       "      <td>FW</td>\n",
       "      <td>1992</td>\n",
       "      <td>no. 11</td>\n",
       "      <td>Egypt</td>\n",
       "    </tr>\n",
       "    <tr>\n",
       "      <th>Joe Gomez</th>\n",
       "      <td>DF</td>\n",
       "      <td>1997</td>\n",
       "      <td>no. 12</td>\n",
       "      <td>England</td>\n",
       "    </tr>\n",
       "    <tr>\n",
       "      <th>Alisson Becker</th>\n",
       "      <td>GK</td>\n",
       "      <td>1992</td>\n",
       "      <td>no. 13</td>\n",
       "      <td>Brazil</td>\n",
       "    </tr>\n",
       "  </tbody>\n",
       "</table>\n",
       "</div>"
      ],
      "text/plain": [
       "                Position  Born  Number Nationality\n",
       "Player Name                                       \n",
       "Roberto Firmino       FW  1991   no. 9      Brazil\n",
       "Sadio Mane            FW  1992  no. 10     Senegal\n",
       "Mohamed Salah         FW  1992  no. 11       Egypt\n",
       "Joe Gomez             DF  1997  no. 12     England\n",
       "Alisson Becker        GK  1992  no. 13      Brazil"
      ]
     },
     "execution_count": 7,
     "metadata": {},
     "output_type": "execute_result"
    }
   ],
   "source": [
    "liverpool_df.index.name = 'Player Name'\n",
    "liverpool_df"
   ]
  },
  {
   "cell_type": "markdown",
   "metadata": {},
   "source": [
    "### row열 새로 지정하기"
   ]
  },
  {
   "cell_type": "code",
   "execution_count": null,
   "metadata": {},
   "outputs": [],
   "source": [
    "# 선수 이름이 아니라 등번호로 row 기준 열을 변경함.\n",
    "liverpool_df.set_index('Number')\n",
    "    # 이 경우 기존에 있던 선수 이름은 데이터프레임에서 사라지기 때문에,\n",
    "    # 미리 선수 이름을 새로운 컬럼에 저장해야 함.\n",
    "    # inplace를 써주지 않으면 기존 데이터프레임이 변경되지 않음.\n",
    "\n",
    "# 선수 이름 데이터 출력\n",
    "liverpool_df.index  # 기존에 행이었기 때문에 index로 출력\n",
    "liverpool_df['Player Name'] = liverpool_df.index"
   ]
  },
  {
   "cell_type": "code",
   "execution_count": null,
   "metadata": {},
   "outputs": [],
   "source": [
    "liverpool_df.set_index('Number', inplace=True)"
   ]
  },
  {
   "cell_type": "code",
   "execution_count": 11,
   "metadata": {},
   "outputs": [
    {
     "data": {
      "text/html": [
       "<div>\n",
       "<style scoped>\n",
       "    .dataframe tbody tr th:only-of-type {\n",
       "        vertical-align: middle;\n",
       "    }\n",
       "\n",
       "    .dataframe tbody tr th {\n",
       "        vertical-align: top;\n",
       "    }\n",
       "\n",
       "    .dataframe thead th {\n",
       "        text-align: right;\n",
       "    }\n",
       "</style>\n",
       "<table border=\"1\" class=\"dataframe\">\n",
       "  <thead>\n",
       "    <tr style=\"text-align: right;\">\n",
       "      <th></th>\n",
       "      <th>Position</th>\n",
       "      <th>Born</th>\n",
       "      <th>Nationality</th>\n",
       "      <th>Player Name</th>\n",
       "    </tr>\n",
       "    <tr>\n",
       "      <th>Number</th>\n",
       "      <th></th>\n",
       "      <th></th>\n",
       "      <th></th>\n",
       "      <th></th>\n",
       "    </tr>\n",
       "  </thead>\n",
       "  <tbody>\n",
       "    <tr>\n",
       "      <th>no. 9</th>\n",
       "      <td>FW</td>\n",
       "      <td>1991</td>\n",
       "      <td>Brazil</td>\n",
       "      <td>Roberto Firmino</td>\n",
       "    </tr>\n",
       "    <tr>\n",
       "      <th>no. 10</th>\n",
       "      <td>FW</td>\n",
       "      <td>1992</td>\n",
       "      <td>Senegal</td>\n",
       "      <td>Sadio Mane</td>\n",
       "    </tr>\n",
       "    <tr>\n",
       "      <th>no. 11</th>\n",
       "      <td>FW</td>\n",
       "      <td>1992</td>\n",
       "      <td>Egypt</td>\n",
       "      <td>Mohamed Salah</td>\n",
       "    </tr>\n",
       "    <tr>\n",
       "      <th>no. 12</th>\n",
       "      <td>DF</td>\n",
       "      <td>1997</td>\n",
       "      <td>England</td>\n",
       "      <td>Joe Gomez</td>\n",
       "    </tr>\n",
       "    <tr>\n",
       "      <th>no. 13</th>\n",
       "      <td>GK</td>\n",
       "      <td>1992</td>\n",
       "      <td>Brazil</td>\n",
       "      <td>Alisson Becker</td>\n",
       "    </tr>\n",
       "  </tbody>\n",
       "</table>\n",
       "</div>"
      ],
      "text/plain": [
       "       Position  Born Nationality      Player Name\n",
       "Number                                            \n",
       "no. 9        FW  1991      Brazil  Roberto Firmino\n",
       "no. 10       FW  1992     Senegal       Sadio Mane\n",
       "no. 11       FW  1992       Egypt    Mohamed Salah\n",
       "no. 12       DF  1997     England        Joe Gomez\n",
       "no. 13       GK  1992      Brazil   Alisson Becker"
      ]
     },
     "execution_count": 11,
     "metadata": {},
     "output_type": "execute_result"
    }
   ],
   "source": [
    "liverpool_df"
   ]
  }
 ],
 "metadata": {
  "kernelspec": {
   "display_name": "base",
   "language": "python",
   "name": "python3"
  },
  "language_info": {
   "codemirror_mode": {
    "name": "ipython",
    "version": 3
   },
   "file_extension": ".py",
   "mimetype": "text/x-python",
   "name": "python",
   "nbconvert_exporter": "python",
   "pygments_lexer": "ipython3",
   "version": "3.12.4"
  }
 },
 "nbformat": 4,
 "nbformat_minor": 2
}
