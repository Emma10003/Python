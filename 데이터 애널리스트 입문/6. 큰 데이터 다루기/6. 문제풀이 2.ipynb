{
 "cells": [
  {
   "cell_type": "markdown",
   "metadata": {},
   "source": [
    "### 2. 코드잇 대학교: 강의실 배정하기 I"
   ]
  },
  {
   "cell_type": "markdown",
   "metadata": {},
   "source": [
    "수강신청이 완료되었습니다. 이제 각 과목을 수강하는 학생 수에 따라 크기가 다른 강의실을 배치하려고 합니다.  \n",
    "\n",
    "강의실은 규모에 따라  \n",
    "- Auditorium\n",
    "- Large room\n",
    "- Medium room\n",
    "- Small room  \n",
    "총 4가지 종류가 있습니다.\n",
    "\n",
    "아래 조건에 따라 강의실 종류를 지정해 주세요.\n",
    "\n",
    "1. 80명 이상의 학생이 수강하는 과목: Auditorium\n",
    "2. 80명 미만, 40명 이상의 학생이 수강하는 과목: Large room\n",
    "3. 40명 미만, 15명 이상의 학생이 수강하는 과목: Medium room\n",
    "4. 15명 미만, 5명 이상의 학생이 수강하는 과목: Small room\n",
    "5. status가 \"not allowed\"인 수강생은 room assignment 또한 \"not assigned\"가 되어야 함."
   ]
  },
  {
   "cell_type": "code",
   "execution_count": 36,
   "metadata": {},
   "outputs": [],
   "source": [
    "import pandas as pd\n",
    "df = pd.read_csv('../data/enrolment_2.csv')"
   ]
  },
  {
   "cell_type": "code",
   "execution_count": 30,
   "metadata": {},
   "outputs": [],
   "source": [
    "df['room assignment'] = 'Auditorium'"
   ]
  },
  {
   "cell_type": "markdown",
   "metadata": {},
   "source": [
    "#### 조건 2"
   ]
  },
  {
   "cell_type": "code",
   "execution_count": 31,
   "metadata": {},
   "outputs": [],
   "source": [
    "# 40 이상 80 미만 - Large room\n",
    "condition1 = (df['course name'].value_counts() < 80) & (df['course name'].value_counts() >= 40)\n",
    "# condition1 중 True인 과목의 과목명을 변수에 저장.\n",
    "aud_course = condition1[condition1].index\n",
    "# 해당 변수를 가지고 있는 행은 room assignment를 \"Large room\"로 바꿈.\n",
    "df.loc[df['course name'].isin(aud_course), 'room assignment'] = 'Large room'"
   ]
  },
  {
   "cell_type": "markdown",
   "metadata": {},
   "source": [
    "#### 조건 3"
   ]
  },
  {
   "cell_type": "code",
   "execution_count": 32,
   "metadata": {},
   "outputs": [],
   "source": [
    "# 15 이상 40 미만 - Medium room\n",
    "condition2 = (df['course name'].value_counts() < 40) & (df['course name'].value_counts() >= 15)\n",
    "# condition2 중 True인 과목의 과목명을 변수에 저장.\n",
    "medium_course = condition2[condition2].index\n",
    "# 해당 변수를 가지고 있는 행은 \"Medium room\"으로 바꿈.\n",
    "df.loc[df['course name'].isin(medium_course), 'room assignment'] = 'Medium room'"
   ]
  },
  {
   "cell_type": "markdown",
   "metadata": {},
   "source": [
    "#### 조건 4"
   ]
  },
  {
   "cell_type": "code",
   "execution_count": 33,
   "metadata": {},
   "outputs": [],
   "source": [
    "# 5 이상 15 미만 - Small room\n",
    "condition3 = (df['course name'].value_counts() < 15) & (df['course name'].value_counts() >= 5)\n",
    "# condition3 중 True인 과목의 과목명을 변수에 저장.\n",
    "small_course = condition3[condition3].index\n",
    "# 해당 변수를 가지고 있는 행은 \"Small room\"으로 바꿈.\n",
    "df.loc[df['course name'].isin(small_course), 'room assignment'] = 'Small room'"
   ]
  },
  {
   "cell_type": "markdown",
   "metadata": {},
   "source": [
    "#### 조건 5"
   ]
  },
  {
   "cell_type": "code",
   "execution_count": 35,
   "metadata": {},
   "outputs": [
    {
     "data": {
      "text/html": [
       "<div>\n",
       "<style scoped>\n",
       "    .dataframe tbody tr th:only-of-type {\n",
       "        vertical-align: middle;\n",
       "    }\n",
       "\n",
       "    .dataframe tbody tr th {\n",
       "        vertical-align: top;\n",
       "    }\n",
       "\n",
       "    .dataframe thead th {\n",
       "        text-align: right;\n",
       "    }\n",
       "</style>\n",
       "<table border=\"1\" class=\"dataframe\">\n",
       "  <thead>\n",
       "    <tr style=\"text-align: right;\">\n",
       "      <th></th>\n",
       "      <th>id</th>\n",
       "      <th>year</th>\n",
       "      <th>course name</th>\n",
       "      <th>status</th>\n",
       "      <th>room assignment</th>\n",
       "    </tr>\n",
       "  </thead>\n",
       "  <tbody>\n",
       "    <tr>\n",
       "      <th>0</th>\n",
       "      <td>2777729</td>\n",
       "      <td>1</td>\n",
       "      <td>information technology</td>\n",
       "      <td>not allowed</td>\n",
       "      <td>not assigned</td>\n",
       "    </tr>\n",
       "    <tr>\n",
       "      <th>1</th>\n",
       "      <td>2777730</td>\n",
       "      <td>2</td>\n",
       "      <td>science</td>\n",
       "      <td>allowed</td>\n",
       "      <td>Auditorium</td>\n",
       "    </tr>\n",
       "    <tr>\n",
       "      <th>2</th>\n",
       "      <td>2777765</td>\n",
       "      <td>1</td>\n",
       "      <td>arts</td>\n",
       "      <td>allowed</td>\n",
       "      <td>Auditorium</td>\n",
       "    </tr>\n",
       "    <tr>\n",
       "      <th>3</th>\n",
       "      <td>2777766</td>\n",
       "      <td>2</td>\n",
       "      <td>arts</td>\n",
       "      <td>allowed</td>\n",
       "      <td>Auditorium</td>\n",
       "    </tr>\n",
       "    <tr>\n",
       "      <th>4</th>\n",
       "      <td>2777785</td>\n",
       "      <td>1</td>\n",
       "      <td>mba</td>\n",
       "      <td>allowed</td>\n",
       "      <td>Small room</td>\n",
       "    </tr>\n",
       "    <tr>\n",
       "      <th>5</th>\n",
       "      <td>2777786</td>\n",
       "      <td>2</td>\n",
       "      <td>mba</td>\n",
       "      <td>allowed</td>\n",
       "      <td>Small room</td>\n",
       "    </tr>\n",
       "    <tr>\n",
       "      <th>6</th>\n",
       "      <td>2777793</td>\n",
       "      <td>1</td>\n",
       "      <td>mba 2nd shift</td>\n",
       "      <td>not allowed</td>\n",
       "      <td>not assigned</td>\n",
       "    </tr>\n",
       "    <tr>\n",
       "      <th>7</th>\n",
       "      <td>2777794</td>\n",
       "      <td>2</td>\n",
       "      <td>mba 2nd shift</td>\n",
       "      <td>not allowed</td>\n",
       "      <td>not assigned</td>\n",
       "    </tr>\n",
       "    <tr>\n",
       "      <th>8</th>\n",
       "      <td>2777795</td>\n",
       "      <td>1</td>\n",
       "      <td>mca 2nd shift</td>\n",
       "      <td>not allowed</td>\n",
       "      <td>not assigned</td>\n",
       "    </tr>\n",
       "    <tr>\n",
       "      <th>9</th>\n",
       "      <td>2777796</td>\n",
       "      <td>2</td>\n",
       "      <td>mca 2nd shift</td>\n",
       "      <td>not allowed</td>\n",
       "      <td>not assigned</td>\n",
       "    </tr>\n",
       "  </tbody>\n",
       "</table>\n",
       "</div>"
      ],
      "text/plain": [
       "        id  year             course name       status room assignment\n",
       "0  2777729     1  information technology  not allowed    not assigned\n",
       "1  2777730     2                 science      allowed      Auditorium\n",
       "2  2777765     1                    arts      allowed      Auditorium\n",
       "3  2777766     2                    arts      allowed      Auditorium\n",
       "4  2777785     1                     mba      allowed      Small room\n",
       "5  2777786     2                     mba      allowed      Small room\n",
       "6  2777793     1           mba 2nd shift  not allowed    not assigned\n",
       "7  2777794     2           mba 2nd shift  not allowed    not assigned\n",
       "8  2777795     1           mca 2nd shift  not allowed    not assigned\n",
       "9  2777796     2           mca 2nd shift  not allowed    not assigned"
      ]
     },
     "execution_count": 35,
     "metadata": {},
     "output_type": "execute_result"
    }
   ],
   "source": [
    "# status가 not allowed이면 room도 not assigned\n",
    "condition4 = df['status'] == 'not allowed'\n",
    "    # condition4는 'course name'으로 인덱싱한 게 아니기 때문에 \n",
    "    # 행 번호가 인덱스로 들어간 Pandas Series가 저장됨.\n",
    "    \n",
    "# 해당 변수를 가진 행은 \"not assigned\"로 바꿈.\n",
    "df.loc[condition4, 'room assignment'] = 'not assigned'\n",
    "    # condition4의 인덱스와 df의 인덱스가 일치하기 때문에 .index로 변환해주는 작업 없이 그냥 행 인덱싱 조건으로 사용해도 됨.\n",
    "    # 앞의 condition1~3은 .value_counts()를 사용했기 때문에 인덱스가 과목명이어서 .index로 변환해 준 것."
   ]
  }
 ],
 "metadata": {
  "kernelspec": {
   "display_name": "base",
   "language": "python",
   "name": "python3"
  },
  "language_info": {
   "codemirror_mode": {
    "name": "ipython",
    "version": 3
   },
   "file_extension": ".py",
   "mimetype": "text/x-python",
   "name": "python",
   "nbconvert_exporter": "python",
   "pygments_lexer": "ipython3",
   "version": "3.12.4"
  }
 },
 "nbformat": 4,
 "nbformat_minor": 2
}
