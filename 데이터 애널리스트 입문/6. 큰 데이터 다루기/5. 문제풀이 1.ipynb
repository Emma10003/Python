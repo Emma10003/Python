{
 "cells": [
  {
   "cell_type": "markdown",
   "metadata": {},
   "source": [
    "### 1. 코드잇 대학교: 수강신청 준비하기"
   ]
  },
  {
   "cell_type": "markdown",
   "metadata": {},
   "source": [
    "2000명의 코드잇 대학교 학생들이 수강신청을 했습니다.  \n",
    "\n",
    "수강신청에는 다음 3개의 조건이 있습니다.  \n",
    "1. \"information technology\" 과목은 심화과목이라 1학년은 수강할 수 없습니다.\n",
    "2. \"commerce\" 과목은 기초과목이고 많은 학생들이 듣는 수업이라 4학년은 수강할 수 없습니다.\n",
    "3. 수강생이 5명이 되지 않으면 강의는 폐강되어 수강할 수 없습니다.  \n",
    "\n",
    "기존 DataFrame에 \"status\"라는 이름의 column을 추가하고, 학생이 수강 가능한 상태이면 \"allowed\",  \n",
    "수강 불가능한 상태이면 \"not allowed\"를 넣어주세요."
   ]
  },
  {
   "cell_type": "code",
   "execution_count": 1,
   "metadata": {},
   "outputs": [],
   "source": [
    "import pandas as pd\n",
    "enrolment_df = pd.read_csv(\"../data/enrolment_1.csv\")"
   ]
  },
  {
   "cell_type": "code",
   "execution_count": null,
   "metadata": {},
   "outputs": [],
   "source": [
    "enrolment_df.head(3)\n",
    "enrolment_df.index"
   ]
  },
  {
   "cell_type": "markdown",
   "metadata": {},
   "source": [
    "#### 조건 1\n",
    "'information technology' & 1학년 -> 'not allowed'"
   ]
  },
  {
   "cell_type": "code",
   "execution_count": null,
   "metadata": {},
   "outputs": [],
   "source": [
    "# 에러코드 1\n",
    "for i in enrolment_df.index:\n",
    "    if enrolment_df['course name']=='information technology' & enrolment_df['year']==1:\n",
    "        enrolment_df['status'] = 'not allowed'\n",
    "        i += 1\n",
    "    else:\n",
    "        enrolment_df['status'] = 'allowed'\n",
    "        i +=1\n",
    "\n",
    "# 실수 1: if 조건문에서 불리언 연산 시 괄호 사용할 것.\n",
    "\n",
    "# 실수 2: &는 비트연산자이므로 if문에서 사용하기 위해서는 'and' 사용.\n",
    "#        'and'는 불린연산자인데, enrolemt_df~ 조건문이 Pandas Series인데도 불구하고 불린연산자를 사용하는 것은\n",
    "#        for문을 실행해 각 행에 대해 코드를 실행하게 되면, 결국 조건 자리에 반환되는 것은 Series가 아닌 단일 값이기 때문.\n",
    "\n",
    "# 실수 3:\n",
    "# enrolment_df['status'] = 'not allowed' 같이 코드를 작성하면,\n",
    "# 해당 텍스트가 모든 행에 적용이 되기 때문에 다음 반복문을 실행하면 그 반복문의 결과로 덮어씌워짐.\n",
    "# 따라서 각각의 행에 텍스트를 넣기 위해 인덱싱을 활용해야 한다!\n",
    "\n",
    "# 다른 방법 제안: 벡터 연산.\n",
    "# 일단 전체 'status'를 'allowed'로 입력.\n",
    "# (enrolment_df['course name']=='information technology) & (enrolment_df['year']==1) 조건을 변수에 저장.\n",
    "#       여기서 &연산자를 쓴 것은 enrolment_df['']~ 이게 반환하는 게 Pandas Series 자료형이기 때문.\n",
    "# 변수를 가지고 인덱싱해서 그 자리에만 'not allowed'로 변경."
   ]
  },
  {
   "cell_type": "code",
   "execution_count": null,
   "metadata": {},
   "outputs": [],
   "source": [
    "# 전체 status를 allowed로.\n",
    "enrolment_df['status'] = 'allowed'\n",
    "# 변수에 조건 저장. ~> 불린 값이 Series 형태로 저장됨\n",
    "condition1 = (enrolment_df['year'] == 1) & (enrolment_df['course name'] == 'information technology')\n",
    "# conditionn을 행 조건으로 해서 인덱싱 후 status 변경\n",
    "enrolment_df.loc[condition1, 'status'] = 'not allowed'\n",
    "\n",
    "enrolment_df"
   ]
  },
  {
   "cell_type": "markdown",
   "metadata": {},
   "source": [
    "#### 조건 2\n",
    "'commerce' & 4학년 -> 'not allowed'"
   ]
  },
  {
   "cell_type": "code",
   "execution_count": null,
   "metadata": {},
   "outputs": [],
   "source": [
    "# 조건 2 설정\n",
    "condition2 = (enrolment_df['year'] == 4) & (enrolment_df['course name'] == 'commerce')\n",
    "# status 변경\n",
    "enrolment_df.loc[condition2, 'status'] = 'not allowed'"
   ]
  },
  {
   "cell_type": "markdown",
   "metadata": {},
   "source": [
    "#### 조건 3\n",
    "수강생 5명 이하는 'not allowed'"
   ]
  },
  {
   "cell_type": "code",
   "execution_count": 31,
   "metadata": {},
   "outputs": [
    {
     "data": {
      "text/html": [
       "<div>\n",
       "<style scoped>\n",
       "    .dataframe tbody tr th:only-of-type {\n",
       "        vertical-align: middle;\n",
       "    }\n",
       "\n",
       "    .dataframe tbody tr th {\n",
       "        vertical-align: top;\n",
       "    }\n",
       "\n",
       "    .dataframe thead th {\n",
       "        text-align: right;\n",
       "    }\n",
       "</style>\n",
       "<table border=\"1\" class=\"dataframe\">\n",
       "  <thead>\n",
       "    <tr style=\"text-align: right;\">\n",
       "      <th></th>\n",
       "      <th>id</th>\n",
       "      <th>year</th>\n",
       "      <th>course name</th>\n",
       "      <th>status</th>\n",
       "    </tr>\n",
       "  </thead>\n",
       "  <tbody>\n",
       "    <tr>\n",
       "      <th>0</th>\n",
       "      <td>2777729</td>\n",
       "      <td>1</td>\n",
       "      <td>information technology</td>\n",
       "      <td>not allowed</td>\n",
       "    </tr>\n",
       "    <tr>\n",
       "      <th>1</th>\n",
       "      <td>2777730</td>\n",
       "      <td>2</td>\n",
       "      <td>science</td>\n",
       "      <td>allowed</td>\n",
       "    </tr>\n",
       "    <tr>\n",
       "      <th>2</th>\n",
       "      <td>2777765</td>\n",
       "      <td>1</td>\n",
       "      <td>arts</td>\n",
       "      <td>allowed</td>\n",
       "    </tr>\n",
       "    <tr>\n",
       "      <th>3</th>\n",
       "      <td>2777766</td>\n",
       "      <td>2</td>\n",
       "      <td>arts</td>\n",
       "      <td>allowed</td>\n",
       "    </tr>\n",
       "    <tr>\n",
       "      <th>4</th>\n",
       "      <td>2777785</td>\n",
       "      <td>1</td>\n",
       "      <td>mba</td>\n",
       "      <td>allowed</td>\n",
       "    </tr>\n",
       "    <tr>\n",
       "      <th>5</th>\n",
       "      <td>2777786</td>\n",
       "      <td>2</td>\n",
       "      <td>mba</td>\n",
       "      <td>allowed</td>\n",
       "    </tr>\n",
       "    <tr>\n",
       "      <th>6</th>\n",
       "      <td>2777793</td>\n",
       "      <td>1</td>\n",
       "      <td>mba 2nd shift</td>\n",
       "      <td>not allowed</td>\n",
       "    </tr>\n",
       "    <tr>\n",
       "      <th>7</th>\n",
       "      <td>2777794</td>\n",
       "      <td>2</td>\n",
       "      <td>mba 2nd shift</td>\n",
       "      <td>not allowed</td>\n",
       "    </tr>\n",
       "    <tr>\n",
       "      <th>8</th>\n",
       "      <td>2777795</td>\n",
       "      <td>1</td>\n",
       "      <td>mca 2nd shift</td>\n",
       "      <td>not allowed</td>\n",
       "    </tr>\n",
       "    <tr>\n",
       "      <th>9</th>\n",
       "      <td>2777796</td>\n",
       "      <td>2</td>\n",
       "      <td>mca 2nd shift</td>\n",
       "      <td>not allowed</td>\n",
       "    </tr>\n",
       "  </tbody>\n",
       "</table>\n",
       "</div>"
      ],
      "text/plain": [
       "        id  year             course name       status\n",
       "0  2777729     1  information technology  not allowed\n",
       "1  2777730     2                 science      allowed\n",
       "2  2777765     1                    arts      allowed\n",
       "3  2777766     2                    arts      allowed\n",
       "4  2777785     1                     mba      allowed\n",
       "5  2777786     2                     mba      allowed\n",
       "6  2777793     1           mba 2nd shift  not allowed\n",
       "7  2777794     2           mba 2nd shift  not allowed\n",
       "8  2777795     1           mca 2nd shift  not allowed\n",
       "9  2777796     2           mca 2nd shift  not allowed"
      ]
     },
     "execution_count": 31,
     "metadata": {},
     "output_type": "execute_result"
    }
   ],
   "source": [
    "# 수강생 5명 이하 조건\n",
    "condition3 = enrolment_df['course name'].value_counts() < 5\n",
    "\n",
    "# 조건을 만족하는 과목들을 새로운 변수에 저장\n",
    "courses = condition3[condition3].index\n",
    "    # condition3[condition3] : condition3에서 True인 항목만 선택.\n",
    "\n",
    "# 해당 과목명을 포함한 행의 status를 변경\n",
    "enrolment_df.loc[enrolment_df['course name'].isin(courses), 'status'] = 'not allowed'\n",
    "    # .isin(): 데이터프레임의 각 요소가 파라미터로 들어온 값(condition3)과 일치하는지 여부를 불린형으로 반환.\n",
    "    \n",
    "enrolment_df.head(10)"
   ]
  },
  {
   "cell_type": "code",
   "execution_count": null,
   "metadata": {},
   "outputs": [],
   "source": []
  }
 ],
 "metadata": {
  "kernelspec": {
   "display_name": "base",
   "language": "python",
   "name": "python3"
  },
  "language_info": {
   "codemirror_mode": {
    "name": "ipython",
    "version": 3
   },
   "file_extension": ".py",
   "mimetype": "text/x-python",
   "name": "python",
   "nbconvert_exporter": "python",
   "pygments_lexer": "ipython3",
   "version": "3.12.4"
  }
 },
 "nbformat": 4,
 "nbformat_minor": 2
}
