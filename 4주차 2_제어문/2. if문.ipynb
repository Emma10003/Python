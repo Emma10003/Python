{
 "cells": [
  {
   "cell_type": "markdown",
   "metadata": {},
   "source": [
    "## if문"
   ]
  },
  {
   "cell_type": "code",
   "execution_count": null,
   "metadata": {},
   "outputs": [],
   "source": [
    "'''\n",
    "if 조건 부분:\n",
    "    수행 부분\n",
    "    \n",
    "- 조건을 만족했을 때 수행 부분이 실행됨.\n",
    "'''"
   ]
  },
  {
   "cell_type": "code",
   "execution_count": 5,
   "metadata": {},
   "outputs": [
    {
     "name": "stdout",
     "output_type": "stream",
     "text": [
      "Don't put on a coat\n"
     ]
    }
   ],
   "source": [
    "temperature = 16\n",
    "if temperature <= 10:\n",
    "    print(\"Put on a coat\")\n",
    "else:\n",
    "    print(\"Don't put on a coat\")"
   ]
  },
  {
   "cell_type": "markdown",
   "metadata": {},
   "source": [
    "## elif문"
   ]
  },
  {
   "cell_type": "code",
   "execution_count": null,
   "metadata": {},
   "outputs": [],
   "source": [
    "'''\n",
    "사용 예시)\n",
    "\n",
    "if 점수가 90점 이상이다\n",
    "    A를 준다\n",
    "elif 점수가 80점 이상이다\n",
    "    B를 준다\n",
    "eilf 점수가 70점 이상이다\n",
    "    C를 준다\n",
    "elif 점수가 60점 이상이다\n",
    "    D를 준다\n",
    "else:\n",
    "    F를 준다\n",
    "'''"
   ]
  },
  {
   "cell_type": "markdown",
   "metadata": {},
   "source": [
    "### 문제 1"
   ]
  },
  {
   "cell_type": "code",
   "execution_count": null,
   "metadata": {},
   "outputs": [],
   "source": [
    "'''\n",
    "학생들에게 최종 성적을 알려주는 '학점 계산기'를 만들려고 합니다.\n",
    "\n",
    "이 수업에는 50점 만점의 중간고사와 50점 만점의 기말고사가 있는데요.\n",
    "두 시험의 점수를 합해서 최종 성적을 내는 방식입니다. 규칙은 다음과 같습니다.\n",
    "\n",
    "- A: 90점 이상\n",
    "- B: 80점 이상 90점 미만\n",
    "- C: 70점 이상 80점 미만\n",
    "- D: 60점 이상 70점 미만\n",
    "- F: 60점 미만\n",
    "\n",
    "print_grade() 함수는 파라미터로 중간고사 점수 midterm_score와 기말고사 점수 final_score를 받아서\n",
    "최종 성적을 출력합니다.\n",
    "'''"
   ]
  },
  {
   "cell_type": "code",
   "execution_count": null,
   "metadata": {},
   "outputs": [],
   "source": [
    "def print_graade(mideterm_score, final_score):\n",
    "    total = mideterm_score + final_score\n",
    "    if total >= 90:\n",
    "        print(\"A\")\n",
    "    elif total >= 80:\n",
    "        print(\"B\")\n",
    "    elif total >= 70:\n",
    "        print(\"C\")\n",
    "    elif total >= 60:\n",
    "        print(\"D\")\n",
    "    else:\n",
    "        print(\"F\")\n",
    "\n",
    "# 테스트 코드\n",
    "print_graade(40, 45)\n",
    "print_graade(20, 35)\n",
    "print_graade(30, 32)\n",
    "print_graade(50, 45)"
   ]
  },
  {
   "cell_type": "markdown",
   "metadata": {},
   "source": [
    "### 문제 2"
   ]
  },
  {
   "cell_type": "code",
   "execution_count": null,
   "metadata": {},
   "outputs": [],
   "source": [
    "'''\n",
    "while문과 if문을 활용하여, 100 이하의 자연수 중 8의 배수이지만 12의 배수는 아닌 것을 모두 출력하세요.\n",
    "\n",
    "예를 들어서 16은 8의 배수이지만 12의 배수가 아니니까 조건에 부합합니다. 하지만 48은 8의 배수이면서\n",
    "12의 배수이기도 해서 조건에 부합하지 않습니다.\n",
    "'''"
   ]
  },
  {
   "cell_type": "code",
   "execution_count": null,
   "metadata": {},
   "outputs": [],
   "source": [
    "i = 1\n",
    "\n",
    "while i <= 100:\n",
    "    if i % 8 == 0:  # i가 8의 배수일 때\n",
    "        if i % 12 != 0:  # i가 8의 배수이면서 12의 배수는 아닐 때 -> 조건에 부합하는 경우\n",
    "            print(i)\n",
    "            i += 1\n",
    "        else:\n",
    "            i += 1  # i가 8의 배수이면서 12의 배수일 때 -> 조건에 부합 X, 이 경우 상위 if문을 빠져나간다.\n",
    "    else:   # i가 8의 배수가 아닐 때\n",
    "        i += 1"
   ]
  },
  {
   "cell_type": "markdown",
   "metadata": {},
   "source": [
    "### 문제 3"
   ]
  },
  {
   "cell_type": "code",
   "execution_count": null,
   "metadata": {},
   "outputs": [],
   "source": [
    "'''\n",
    "10보다 작은 2 또는 3의 배수는 2, 3, 4, 6, 8, 9이며, 이들의 합은 32입니다.\n",
    "while문과 if문을 활용하여, 1000보다 작은 자연수 중 2 또는 3의 배수의 합을 출력하는 코드를 작성해 보세요.\n",
    "'''"
   ]
  },
  {
   "cell_type": "code",
   "execution_count": null,
   "metadata": {},
   "outputs": [],
   "source": [
    "i = 1\n",
    "total = 0\n",
    "\n",
    "while i < 1000:\n",
    "    if i % 2 == 0:  # i가 2의 배수 -> 이 아래는 전부 조건 충족\n",
    "        if i % 3 == 0:  # i가 2와 3의 공배수 -> O\n",
    "            total += i\n",
    "            i += 1\n",
    "        else:  # i가 2의 배수이면서 3의 배수는 아님 -> O\n",
    "            total += i\n",
    "            i += 1\n",
    "    elif i % 3 == 0:  # i가 2의 배수는 아닌데 3의 배수 -> 이 아래는 전부 조건 충족\n",
    "        total += i\n",
    "        i += 1\n",
    "    else:  # i가 2의 배수도 3의 배수도 아님 -> X\n",
    "        i += 1\n",
    "\n",
    "print(total)"
   ]
  },
  {
   "cell_type": "markdown",
   "metadata": {},
   "source": [
    "### 문제 4"
   ]
  },
  {
   "cell_type": "code",
   "execution_count": null,
   "metadata": {},
   "outputs": [],
   "source": [
    "'''\n",
    "약수는 정수 n을 어떤 수로 나누었을 때 나누어떨어지게 하는 정수를 의미합니다. 만약 정수 i가 정수 n의 약수라면,\n",
    "n을 i로 나누었을 때 나머지가 0이 됩니다.\n",
    "\n",
    "정수 120의 약수를 모두 출력하고, 총 몇 개의 약수가 있는지 출력하는 코드를 작성해 보세요.\n",
    "'''"
   ]
  },
  {
   "cell_type": "code",
   "execution_count": null,
   "metadata": {},
   "outputs": [],
   "source": [
    "i = 1\n",
    "count = 0\n",
    "\n",
    "while i <= 120:\n",
    "    if 120 % i == 0:\n",
    "        print(i)\n",
    "        count += 1\n",
    "        i += 1\n",
    "    else:\n",
    "        i += 1\n",
    "\n",
    "print(f\"120의 약수는 총 {count}개 입니다.\")"
   ]
  },
  {
   "cell_type": "markdown",
   "metadata": {},
   "source": [
    "### 문제 5"
   ]
  },
  {
   "cell_type": "code",
   "execution_count": null,
   "metadata": {},
   "outputs": [],
   "source": [
    "'''\n",
    "1988년 쌍문동에 사는 택이는 바둑 대회 우승 상금으로 5,000만 원을 받았습니다.\n",
    "이 돈을 어떻게 할지 고민하던 택이는, 이웃인 동일 아저씨와 미랑 아주머니의 의견 중 하나를 선택하려 합니다.\n",
    "\n",
    "1. 동일 아저씨의 의견\n",
    " > 이자가 붙은 원금에 다시 이자가 붙는 연복리 예금에 넣기\n",
    " \n",
    " < 연복리 예금 상품 정보 >\n",
    " 원금: 50,000,000 원\n",
    " 연 이율: 12%\n",
    " 1년 뒤 은행 잔고 : 50,000,000 * (1 + 12%) = 56,000,000 원\n",
    " 2년 뒤 은행 잔고 : 50,000,000 * (1 + 12%) * (1 + 12%) = 62,720,000 원\n",
    " ...\n",
    " \n",
    " \n",
    "2. 미란 아주머니 의견\n",
    " > 아파트 가치 상승을 고려하여 당시 매매가 5000만 원인 은마 아파트 사기\n",
    " 2016년 기준 은마아파트의 매매가는 11억 원인데요. 1988년 은행에 5,000만 원을 넣었을 경우\n",
    " 2016년에는 얼마가 있을지 계산하여,\n",
    " \n",
    "- 은행에 저축해 둔 금액이 더 크면, '*원 차이로 동일 아저씨 말씀이 맞습니다.' 를 출력하고\n",
    "- 은마아파트의 가격이 더 크면, '*원 차이로 미란 아주머니 말씀이 맞습니다.'를 출력하는 코드를 작성해 보세요.\n",
    "\n",
    "[유의사항]\n",
    "1. 2016년에 은행에 저축해 둔 금액 계산은 while문을 이용한 반복문으로 계산해주세요.\n",
    "2. 은마아파트 가격과 은행에 저축해 둔 금액을 비교 후 메시지 출력시에는 if문을 사용해주세요.\n",
    "3. 최종 결과에서 1원 미만은 계산하지 않습니다.\n",
    "'''"
   ]
  },
  {
   "cell_type": "code",
   "execution_count": null,
   "metadata": {},
   "outputs": [],
   "source": [
    "year = 1988  # 연도\n",
    "bank_total = 50000000  # 예금에 넣은 은행 잔고\n",
    "apart_cost = 1100000000  # 은마아파트 매매가\n",
    "\n",
    "while year < 2016:\n",
    "    bank_total = bank_total * (1 + 0.12)  \n",
    "    # (1 + bank_total*0.12)로 작성해서 틀렸었음. 어차피 앞의 bank_total과 곱해지기 때문에 그냥 0.12만 작성하면 됨.\n",
    "    # bank_total *= 1.12  <<~ 더 깔끔한 코드인 것 같다!\n",
    "    year += 1\n",
    "\n",
    "\n",
    "if bank_total > apart_cost:\n",
    "    # 결과가 소숫점으로 나오기 때문에 소숫점 첫 번째 자리에서 반올림.\n",
    "    print(f\"{round(bank_total - apart_cost)}원 차이로 동일 아저씨 말씀이 맞습니다.\")\n",
    "else:\n",
    "    print(f\"{round(apart_cost - bank_total)}원 차이로 미란 아주머니 말씀이 맞습니다.\")"
   ]
  },
  {
   "cell_type": "markdown",
   "metadata": {},
   "source": [
    "### 문제 6"
   ]
  },
  {
   "cell_type": "code",
   "execution_count": null,
   "metadata": {},
   "outputs": [],
   "source": [
    "'''\n",
    "피보나치 수열(Fibonacci Sequence)이라고 들어 보셨나요?\n",
    "        1, 1, 2, 3, 5, 8, 13, 21, 34, 55, ...\n",
    "우선 피보나치 수열의 1번 항과 2번 항은 각각 1입니다. 3번 항부터는 바로 앞 두 항의 합으로 계산됩니다.\n",
    "예를 들어서 3번 항은 1번 항(1)과 2번 항(1)을 더한 2이며, 4번 항은 2번 항(1)과 3번 항(2)을 더한 3입니다.\n",
    "\n",
    "피보나치 수열의 첫 50개 항을 차례대로 출력하는 코드를 작성해 보세요.\n",
    "'''"
   ]
  },
  {
   "cell_type": "code",
   "execution_count": null,
   "metadata": {},
   "outputs": [],
   "source": [
    "num_1 = 1  # 첫 번째 수\n",
    "num_2 = 1  # 두 번째 수\n",
    "count = 0\n",
    "\n",
    "# 50이 아닌 이유는, 50번째 행 까지 출력해야 하는데 count <= 50이 되면 \n",
    "# count가 50일 때 한 번 더 실행해서 52번째 행까지 출력되기 때문\n",
    "while count <= 48:  \n",
    "    print(num_1)\n",
    "    print(num_2)\n",
    "    num_1 += num_2 \n",
    "    num_2 += num_1\n",
    "    count += 2"
   ]
  },
  {
   "cell_type": "code",
   "execution_count": null,
   "metadata": {},
   "outputs": [],
   "source": [
    "# 모범 답안\n",
    "previous = 0  # 직전 항\n",
    "current = 1  # 현재 항\n",
    "i = 1\n",
    "\n",
    "while i <= 50:\n",
    "    print(current)\n",
    "    temp = previous  # previous를 임시 보관소 temp에 저장\n",
    "    previous = current\n",
    "    current = current + temp  # temp에는 기존 previous 값이 저장되어 있음.\n",
    "    i += 1"
   ]
  },
  {
   "cell_type": "markdown",
   "metadata": {},
   "source": [
    "### 문제 7"
   ]
  },
  {
   "cell_type": "code",
   "execution_count": null,
   "metadata": {},
   "outputs": [],
   "source": [
    "'''\n",
    "while문을 사용해서 구구단을 출력하는 코드를 작성해 봅시다.\n",
    "\n",
    "참고로 이 문제는 '중첩 while문'이라는 개념을 사용해야 하는데요.\n",
    "중첩 while문은 while문의 동작 부분 안에 또 다른 while문을 넣는 것을 이야기합니다.\n",
    "앞에서 설명 드리지 않은 개념이지만, 조금 고민하다 보면 여러분이 직접 알아내실 수도 있습니다.\n",
    "'''"
   ]
  },
  {
   "cell_type": "code",
   "execution_count": null,
   "metadata": {},
   "outputs": [],
   "source": [
    "i = 1\n",
    "# j = 1\n",
    "\n",
    "while i <= 9:\n",
    "    j = 1  \n",
    "    while j <= 9:\n",
    "        print(f\"{i} * {j} = {i*j}\")\n",
    "        j += 1\n",
    "    i += 1\n",
    "    \n",
    "# 'j=1'이 while문 밖에 있는 경우, j가 1일 때 'while j <= 9' 루프를 끝내고 상위 while문으로 나왔을 때\n",
    "   # j의 값은 9로, 초기화가 되지 않기 때문에 'while j <= 9' 루프를 다시 실행하지 못하고 전체 while문을 끝내게 됨."
   ]
  }
 ],
 "metadata": {
  "kernelspec": {
   "display_name": "Python (emma1)",
   "language": "python",
   "name": "myenv"
  },
  "language_info": {
   "codemirror_mode": {
    "name": "ipython",
    "version": 3
   },
   "file_extension": ".py",
   "mimetype": "text/x-python",
   "name": "python",
   "nbconvert_exporter": "python",
   "pygments_lexer": "ipython3",
   "version": "3.13.0"
  }
 },
 "nbformat": 4,
 "nbformat_minor": 2
}
