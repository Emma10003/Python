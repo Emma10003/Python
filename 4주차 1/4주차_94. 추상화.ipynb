{
 "cells": [
  {
   "cell_type": "markdown",
   "metadata": {},
   "source": [
    "### 1. 지정연산자"
   ]
  },
  {
   "cell_type": "code",
   "execution_count": null,
   "metadata": {},
   "outputs": [],
   "source": [
    "name = \"오유성\"\n",
    "x = 7\n",
    "x = x + 1\n",
    "''' 파이썬에서 등호의 의미\n",
    "\t: 지정 연산자 - 우변의 값을 좌변의 변수에 지정.\n",
    "'''"
   ]
  },
  {
   "cell_type": "markdown",
   "metadata": {},
   "source": [
    "### 2. 함수의 실행 순서"
   ]
  },
  {
   "cell_type": "code",
   "execution_count": null,
   "metadata": {},
   "outputs": [],
   "source": [
    "''' 함수의 실행 순서 '''\n",
    "def hello():\n",
    "    print(\"Hello!\")\n",
    "    print(\"Welcome to the black parade\")\n",
    "\n",
    "print(\"함수 호출 전\")\n",
    "hello()\n",
    "print(\"함수 호출 후\")\n",
    "\n",
    "''' 1~6번 코드까지 순서대로 실행\n",
    "\t7번 라인 코드에서 함수 호출 -> 2번~4번 라인으로 돌아가서 print() 실행\n",
    " \t다시 7번 줄로 돌아와서 이미 실행이 끝났으므로 8번 줄로 넘어감.\n",
    "'''"
   ]
  },
  {
   "cell_type": "markdown",
   "metadata": {},
   "source": [
    "### 3. Syntax Sugar"
   ]
  },
  {
   "cell_type": "code",
   "execution_count": 15,
   "metadata": {},
   "outputs": [],
   "source": [
    "'''\n",
    "자주 쓰이는 표현을 더 간략하게 쓸 수 있게 하는 문법.\n",
    "예를 들면 +=, -= 같은 걸 말함.\n",
    "'''\n",
    "# 다음 두 줄은 동일한 코드\n",
    "x = x + 1\n",
    "x += 1\n",
    "\n",
    "# 다음 두 줄은 동일한 코드\n",
    "x = x - 1\n",
    "x -= 1"
   ]
  }
 ],
 "metadata": {
  "kernelspec": {
   "display_name": "Python 3",
   "language": "python",
   "name": "python3"
  },
  "language_info": {
   "codemirror_mode": {
    "name": "ipython",
    "version": 3
   },
   "file_extension": ".py",
   "mimetype": "text/x-python",
   "name": "python",
   "nbconvert_exporter": "python",
   "pygments_lexer": "ipython3",
   "version": "3.13.0"
  }
 },
 "nbformat": 4,
 "nbformat_minor": 2
}
