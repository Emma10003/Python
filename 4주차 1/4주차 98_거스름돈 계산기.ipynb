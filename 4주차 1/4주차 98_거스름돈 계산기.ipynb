{
 "cells": [
  {
   "cell_type": "code",
   "execution_count": null,
   "metadata": {},
   "outputs": [],
   "source": [
    "''' 거스름돈을 계산하는 코드를 작성하려고 합니다. 예를 들어 33,000원짜리 물건을 사기 위해 100,000원으라 냈다면 67,000원을 거슬러줘야 합니다.\n",
    "\n",
    "각 지폐가 충분히 있다면 일반적으로 다음과 같이 거슬러 줍니다.\n",
    "- 50,000원 지폐: 1장\n",
    "- 10,000원 지폐: 1장\n",
    "- 5,000원 지폐: 1장\n",
    "- 1,000원 지폐: 2장\n",
    "\n",
    "이와 같은 방식으로 특정 가격의 물건을 사고, 금액을 지불했을 때 '가장 적은 수'의 지폐를 거슬러 주는 `calculate_change()` 함수를 작성하려고 합니다. 이 함수는 지불한 금액을 나타내는 `payment`와 물건의 가격을 나타내는 `cost`를 파라미터로 받습니다.\n",
    "코드잇 실행기의 `calculate_change()`함수를 완성해 주세요. '''"
   ]
  },
  {
   "cell_type": "code",
   "execution_count": 2,
   "metadata": {},
   "outputs": [
    {
     "name": "stdout",
     "output_type": "stream",
     "text": [
      "50000원 지폐: 1장\n",
      "10000원 지폐: 1장\n",
      "5000원 지폐: 1장\n",
      "1000원 지폐: 2장\n",
      "\n",
      "50000원 지폐: 2장\n",
      "10000원 지폐: 2장\n",
      "5000원 지폐: 0장\n",
      "1000원 지폐: 2장\n"
     ]
    }
   ],
   "source": [
    "# 내가 쓴 코드\n",
    "def calculate_change(payment, cost):\n",
    "    change = payment - cost\n",
    "    bill_50 = change // 50000\n",
    "    bill_10 = (change - (50000*bill_50)) // 10000\n",
    "    bill_5 = (change - (50000*bill_50 + 10000*bill_10)) // 5000\n",
    "    bill_1 = (change - (50000*bill_50 + 10000*bill_10 + 5000*bill_5)) // 1000\n",
    "    print(\"50000원 지폐: \" + str(bill_50) + \"장\")\n",
    "    print(\"10000원 지폐: \" + str(bill_10) + \"장\")\n",
    "    print(\"5000원 지폐: \" + str(bill_5) + \"장\")\n",
    "    print(\"1000원 지폐: \" + str(bill_1) + \"장\")\n",
    "\n",
    "calculate_change(100000, 33000)\n",
    "print()\n",
    "calculate_change(500000, 378000)"
   ]
  },
  {
   "cell_type": "code",
   "execution_count": 6,
   "metadata": {},
   "outputs": [
    {
     "name": "stdout",
     "output_type": "stream",
     "text": [
      "50000원 지폐: 1장\n",
      "10000원 지폐: 1장\n",
      "5000원 지폐: 1장\n",
      "1000원 지폐: 2장\n",
      "\n",
      "50000원 지폐: 2장\n",
      "10000원 지폐: 2장\n",
      "5000원 지폐: 0장\n",
      "1000원 지폐: 2장\n"
     ]
    }
   ],
   "source": [
    "# 모범 답안\n",
    "def calculate_change(payment, cost):\n",
    "    change = payment - cost\n",
    "    bill_50 = change // 50000\n",
    "    bill_10 = (change % 50000) // 10000\n",
    "    bill_5 = (change % 10000) // 5000\n",
    "    bill_1 = (change % 5000) // 1000\n",
    "    print(\"50000원 지폐: {}장\".format(bill_50))\n",
    "    print(\"10000원 지폐: {}장\".format(bill_10))\n",
    "    print(\"5000원 지폐: {}장\".format(bill_5))\n",
    "    print(\"1000원 지폐: {}장\".format(bill_1))\n",
    "\n",
    "calculate_change(100000, 33000)\n",
    "print()\n",
    "calculate_change(500000, 378000)"
   ]
  },
  {
   "cell_type": "code",
   "execution_count": null,
   "metadata": {},
   "outputs": [],
   "source": [
    "''' 나머지 연산을 잘 활용하자... '''"
   ]
  }
 ],
 "metadata": {
  "kernelspec": {
   "display_name": "Python 3",
   "language": "python",
   "name": "python3"
  },
  "language_info": {
   "name": "python",
   "version": "3.13.0"
  }
 },
 "nbformat": 4,
 "nbformat_minor": 2
}
