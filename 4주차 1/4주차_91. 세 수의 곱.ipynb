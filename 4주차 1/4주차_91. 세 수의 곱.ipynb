{
 "cells": [
  {
   "cell_type": "code",
   "execution_count": 13,
   "id": "483c41c1-e060-4f7f-84d1-cd2ebbc33b0a",
   "metadata": {},
   "outputs": [],
   "source": [
    "# 사용자 정의 함수 - 여러 개의 파라미터 받기\n",
    "def print_sum(a, b):\n",
    "    print(a + b)\n",
    "\n",
    "def print_trisum(a, b, c):\n",
    "    print(a + b + c)"
   ]
  },
  {
   "cell_type": "code",
   "execution_count": 15,
   "id": "e15ad7d1-e2bd-4a90-a815-2a5082115e2a",
   "metadata": {},
   "outputs": [
    {
     "name": "stdout",
     "output_type": "stream",
     "text": [
      "10\n",
      "12\n"
     ]
    }
   ],
   "source": [
    "print_sum(7, 3)\n",
    "print_trisum(7, 3, 2)"
   ]
  },
  {
   "cell_type": "code",
   "execution_count": 17,
   "id": "d0e3104a-ddfe-4b4d-b324-397c78d31c67",
   "metadata": {},
   "outputs": [],
   "source": [
    "# 문제\n",
    "# 세 수의 곱을 알려주는 프로그램을 만든다. 파라미터로 정수 값 세 개를 받고, 세 수의 곱을 출력하는 함수 multiply_three_numbers를 만들어라.\n",
    "def multiply_three_numbers(a, b, c):\n",
    "    print(a * b * c)"
   ]
  },
  {
   "cell_type": "code",
   "execution_count": 19,
   "id": "d5dbfd4a-ca95-4e40-9891-e1d17bb9bce1",
   "metadata": {},
   "outputs": [
    {
     "name": "stdout",
     "output_type": "stream",
     "text": [
      "60\n"
     ]
    }
   ],
   "source": [
    "multiply_three_numbers(2, 3, 10)"
   ]
  }
 ],
 "metadata": {
  "kernelspec": {
   "display_name": "Python 3 (ipykernel)",
   "language": "python",
   "name": "python3"
  },
  "language_info": {
   "codemirror_mode": {
    "name": "ipython",
    "version": 3
   },
   "file_extension": ".py",
   "mimetype": "text/x-python",
   "name": "python",
   "nbconvert_exporter": "python",
   "pygments_lexer": "ipython3",
   "version": "3.12.4"
  }
 },
 "nbformat": 4,
 "nbformat_minor": 5
}
