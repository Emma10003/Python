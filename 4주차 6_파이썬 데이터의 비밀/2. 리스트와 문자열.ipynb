{
 "cells": [
  {
   "cell_type": "markdown",
   "metadata": {},
   "source": [
    "## 리스트와 문자열"
   ]
  },
  {
   "cell_type": "markdown",
   "metadata": {},
   "source": [
    "### # 공통점"
   ]
  },
  {
   "cell_type": "markdown",
   "metadata": {},
   "source": [
    "### 1. 인덱싱"
   ]
  },
  {
   "cell_type": "code",
   "execution_count": null,
   "metadata": {},
   "outputs": [],
   "source": [
    "# 리스트 인덱싱\n",
    "alphabet_list = ['A', 'B', 'C', 'D', 'E', 'F', 'G', 'H', 'I', 'J']\n",
    "\n",
    "print(alphabet_list[0])\n",
    "print(alphabet_list[1])\n",
    "print(alphabet_list[4])\n",
    "print(alphabet_list[-1])\n",
    "# 결과: A B E J\n",
    "\n",
    "# for 반복문에도 사용할 수 있다.\n",
    "for alphabet in alphabet_list:\n",
    "    print(alphabet)"
   ]
  },
  {
   "cell_type": "code",
   "execution_count": null,
   "metadata": {},
   "outputs": [],
   "source": [
    "# 문자열 인덱싱\n",
    "alphabet_string = 'ABCDEFGHIJ'\n",
    "\n",
    "print(alphabet_string[0])\n",
    "print(alphabet_string[1])\n",
    "print(alphabet_string[4])\n",
    "print(alphabet_string[-1])\n",
    "# 결과: A B E J\n",
    "\n",
    "# for 반복문에도 사용할 수 있다.\n",
    "for alphabet in alphabet_string:\n",
    "    print(alphabet)"
   ]
  },
  {
   "cell_type": "markdown",
   "metadata": {},
   "source": [
    "\n",
    "### 2. 슬라이싱"
   ]
  },
  {
   "cell_type": "code",
   "execution_count": null,
   "metadata": {},
   "outputs": [],
   "source": [
    "# 리스트 슬라이싱\n",
    "alphabet_list = ['A', 'B', 'C', 'D', 'E', 'F', 'G', 'H', 'I', 'J']\n",
    "\n",
    "print(alphabet_list[0:5])   # ['A', 'B', 'C', 'D', 'E']\n",
    "print(alphabet_list[4:])   # ['E', 'F', 'G', 'H', 'I', 'J']\n",
    "print(alphabet_list[:4])   # ['A', 'B', 'C', 'D']"
   ]
  },
  {
   "cell_type": "code",
   "execution_count": null,
   "metadata": {},
   "outputs": [],
   "source": [
    "# 문자열 슬라이싱\n",
    "alphabet_string = 'ABCDEFGHIJ'\n",
    "\n",
    "print(alphabet_string[0:5])   # ABCDE\n",
    "print(alphabet_string[4:])   # EFGHIJ\n",
    "print(alphabet_string[:4])   # ABCD"
   ]
  },
  {
   "cell_type": "markdown",
   "metadata": {},
   "source": [
    "### 3. 덧셈 연산"
   ]
  },
  {
   "cell_type": "code",
   "execution_count": null,
   "metadata": {},
   "outputs": [],
   "source": [
    "# 문자열 덧셈 = 문자열 연결\n",
    "str_1 = 'Hello'\n",
    "str_2 = 'World'\n",
    "str_3 = str_1 + str_2\n",
    "print(str_3)   # HelloWorld"
   ]
  },
  {
   "cell_type": "code",
   "execution_count": null,
   "metadata": {},
   "outputs": [],
   "source": [
    "# 리스트 덧셈 = 리스트 연결\n",
    "list_1 = [1, 2, 3, 4]\n",
    "list_2 = [5, 6, 7, 8]\n",
    "list_3 = list_1 + list_2\n",
    "print(list_3)   # [1, 2, 3, 4, 5, 6, 7, 8]"
   ]
  },
  {
   "cell_type": "markdown",
   "metadata": {},
   "source": [
    "### 4. len() 함수"
   ]
  },
  {
   "cell_type": "code",
   "execution_count": null,
   "metadata": {},
   "outputs": [],
   "source": [
    "# len(리스트)\n",
    "my_list = [2, 3, 5, 7, 11]\n",
    "print(len(my_list))   # 5"
   ]
  },
  {
   "cell_type": "code",
   "execution_count": null,
   "metadata": {},
   "outputs": [],
   "source": [
    "# len(문자열)\n",
    "my_string = 'Hello world!'\n",
    "print(len(my_string))   # 12 (띄어쓰기, 느낌표 포함)"
   ]
  },
  {
   "cell_type": "markdown",
   "metadata": {},
   "source": [
    "### # 차이점"
   ]
  },
  {
   "cell_type": "markdown",
   "metadata": {},
   "source": [
    "### 1. 리스트 수정 vs 문자열 수정"
   ]
  },
  {
   "cell_type": "code",
   "execution_count": null,
   "metadata": {},
   "outputs": [],
   "source": [
    "# 리스트 수정 - 리스트는 수정 가능 (mutable)\n",
    "numbers = [1, 2, 3, 4]\n",
    "numbers[0] = 5\n",
    "print(numbers)   # numbers = [1, 2, 3, 4]"
   ]
  },
  {
   "cell_type": "code",
   "execution_count": null,
   "metadata": {},
   "outputs": [],
   "source": [
    "# 문자열 수정 - 문자열은 수정이 불가능하다! (immutable)\n",
    "name = 'codeit'\n",
    "name[0] = 'C'\n",
    "print(name)   # TypeError: 'str' object does not support item assignment\n",
    "\n",
    "# 주의\n",
    "name = 'codeit' + 'it'\n",
    "print(name)\n",
    "    # 그럼 이 코드는 왜 되는가?\n",
    "    # 이 코드는 문자열을 '수정'한 것이 아니라, 문자열 간의 연산을 통해\n",
    "    # '새로운 문자열'을 만든 것이기 때문에 오류가 발생하지 않는다."
   ]
  }
 ],
 "metadata": {
  "kernelspec": {
   "display_name": "Python (emma1)",
   "language": "python",
   "name": "myenv"
  },
  "language_info": {
   "codemirror_mode": {
    "name": "ipython",
    "version": 3
   },
   "file_extension": ".py",
   "mimetype": "text/x-python",
   "name": "python",
   "nbconvert_exporter": "python",
   "pygments_lexer": "ipython3",
   "version": "3.13.0"
  }
 },
 "nbformat": 4,
 "nbformat_minor": 2
}
