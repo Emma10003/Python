{
 "cells": [
  {
   "cell_type": "markdown",
   "metadata": {},
   "source": [
    "## Aliasing"
   ]
  },
  {
   "cell_type": "code",
   "execution_count": null,
   "metadata": {},
   "outputs": [],
   "source": [
    "x = 5\n",
    "y = x\n",
    "y = 3\n",
    "print(x)  # 5\n",
    "print(y)  # 3"
   ]
  },
  {
   "cell_type": "code",
   "execution_count": null,
   "metadata": {},
   "outputs": [],
   "source": [
    "# 파이썬에서 변수를 할당하는 건 데이터에 이름표를 달아주는 것과 동일하다.\n",
    "x = [2, 3, 5, 7, 11]\n",
    "y = x   # x에 저장된 리스트에 x와 y라는 이름표가 두 개 붙은 것\n",
    "y[2] = 4   \n",
    "    # y라는 이름표가 붙은 리스트에서 [2]번 자리의 값을 4로 변경했는데, \n",
    "    # x도 같은 리스트를 가리키고 있기 때문에 둘 다 값이 바뀜.\n",
    "    # 이 때 y는 x의 가명(alias)라고 한다. ~> 두 변수는 이름은 다르지만 사실 같은 값.\n",
    "print(x)   # [2, 3, 4, 7, 11]\n",
    "print(y)   # [2, 3, 4, 7, 11]"
   ]
  },
  {
   "cell_type": "code",
   "execution_count": null,
   "metadata": {},
   "outputs": [],
   "source": [
    "x = [2, 3, 5, 7, 11]\n",
    "y = list(x)   # list() 함수를 사용해 x의 리스트를 복사하여 y라는 이름을 달아줌 ~> 새로운 리스트\n",
    "y[2] = 4\n",
    "print(x)   # [2, 3, 5, 7, 11]\n",
    "print(y)   # [2, 3, 4, 7, 11]"
   ]
  }
 ],
 "metadata": {
  "kernelspec": {
   "display_name": "Python (emma1)",
   "language": "python",
   "name": "myenv"
  },
  "language_info": {
   "name": "python",
   "version": "3.13.0"
  }
 },
 "nbformat": 4,
 "nbformat_minor": 2
}
