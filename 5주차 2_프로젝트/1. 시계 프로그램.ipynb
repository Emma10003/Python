{
 "cells": [
  {
   "cell_type": "code",
   "execution_count": null,
   "metadata": {},
   "outputs": [],
   "source": [
    "'''\n",
    "우리가 컴퓨터나 스마트폰에서 자주 확인하는 시계 프로그램을 객체 지향 프로그래밍으로 만들어봅시다.\n",
    "\n",
    "일단 정의하려는 시계가 어떤 기능을 가져야할지 먼저 정합시다. 특별한 기능을 갖기보다는 기본 기능에 충실한\n",
    "시계를 만들려고 합니다. 다음과 같은 기능들이 필요하겠죠?\n",
    "\n",
    "1. 현재 시간을 설정할 수 있다.\n",
    "2. 현재 시간을 변경할 수 있다.\n",
    "3. 현재 시간에 1초씩 더할 수 있다.\n",
    "\n",
    "아래의 코드처럼 Clock 클래스를 사용할 수 있도록, 이 3가지 기능들을 Clock 클래스 안에 정의해야 합니다.\n",
    "'''\n",
    "\n",
    "# 1시 30분 48초인 시계 인스턴스 생성\n",
    "clock = Clock(1, 30, 48)\n",
    "    \n",
    "# 13초를 늘린다\n",
    "for i in range(13):\n",
    "    clock.tick()\n",
    "    \n",
    "# 시계의 현재 시간 출력\n",
    "print(clock)\n",
    "    \n",
    "# 2시 3분 58초로 시계 세팅\n",
    "clock.set(2, 3, 58)\n",
    "    \n",
    "# 5초를 늘린다\n",
    "for i in range(5):\n",
    "    clock.tick()\n",
    "    \n",
    "# 시계의 현재 시간 출력\n",
    "print(clock)\n",
    "    \n",
    "# 23시 59분 57초로 세팅\n",
    "clock.set(23, 59, 57)\n",
    "    \n",
    "# 5초를 늘린다\n",
    "for i in range(5):\n",
    "    clock.tick()\n",
    "    \n",
    "# 시계의 현재 시간 출력\n",
    "print(clock)\n"
   ]
  }
 ],
 "metadata": {
  "kernelspec": {
   "display_name": "base",
   "language": "python",
   "name": "python3"
  },
  "language_info": {
   "name": "python",
   "version": "3.12.4"
  }
 },
 "nbformat": 4,
 "nbformat_minor": 2
}
