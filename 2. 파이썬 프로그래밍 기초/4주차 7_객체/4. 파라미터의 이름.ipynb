{
 "cells": [
  {
   "cell_type": "markdown",
   "metadata": {},
   "source": [
    "### 인스턴스 변수와 같은 이름을 갖는 파라미터"
   ]
  },
  {
   "cell_type": "code",
   "execution_count": null,
   "metadata": {},
   "outputs": [],
   "source": [
    "class User:\n",
    "    def say_hello(self):   # some_user 자리에 인스턴스(user1, user2..)가 대입됨.\n",
    "        # 인사 메세지 출력 메소드\n",
    "        print(f\"안녕하세요! 저는{self.name}입니다!\")\n",
    "        \n",
    "    def check_name(self, name):\n",
    "        # 파라미터로 받는 name이 유저의 이름과 같은지 불린으로 리턴하는 메소드\n",
    "        return self.name == name   # 인스턴스 변수의 이름과 파라미터의 이름이 동일\n",
    "\n",
    "\n",
    "user4 = User()\n",
    "user4.name = \"James\"\n",
    "user4.email = \"Jamesthing@gmail.com\"\n",
    "user4.password = \"98765\"\n",
    "\n",
    "# 인스턴스 변수의 이름과 파라미터의 이름이 동일한 경우에도 문제 X - 확실히 구분되기 때문.\n",
    "print(user4.check_name(\"James\"))\n",
    "print(user4.check_name(\"Emma\"))"
   ]
  }
 ],
 "metadata": {
  "kernelspec": {
   "display_name": "Python (emma1)",
   "language": "python",
   "name": "myenv"
  },
  "language_info": {
   "codemirror_mode": {
    "name": "ipython",
    "version": 3
   },
   "file_extension": ".py",
   "mimetype": "text/x-python",
   "name": "python",
   "nbconvert_exporter": "python",
   "pygments_lexer": "ipython3",
   "version": "3.13.0"
  }
 },
 "nbformat": 4,
 "nbformat_minor": 2
}
