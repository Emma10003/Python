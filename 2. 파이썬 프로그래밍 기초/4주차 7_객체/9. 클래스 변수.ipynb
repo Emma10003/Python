{
 "cells": [
  {
   "cell_type": "markdown",
   "metadata": {},
   "source": [
    "## 클래스 변수 I"
   ]
  },
  {
   "cell_type": "code",
   "execution_count": null,
   "metadata": {},
   "outputs": [],
   "source": [
    "'''\n",
    "클래스 변수: 같은 클래스의 모든 인스턴스들이 서로 공유하는 값\n",
    "\n",
    "클래스 변수 읽는 법)\n",
    "1. 클래스명.클래스_변수명\n",
    "2. 인스턴스명.클래스_변수명\n",
    "'''"
   ]
  },
  {
   "cell_type": "code",
   "execution_count": null,
   "metadata": {},
   "outputs": [],
   "source": [
    "class User:\n",
    "    # 클래스 변수 생성하기\n",
    "    count = 0\n",
    "    \n",
    "    def __init__(self, name, email, pw):\n",
    "        # 유저 인스턴스의 모든 변수를 지정해주는 메소드\n",
    "        self.name = name\n",
    "        self.email = email\n",
    "        self.pw = pw\n",
    "\n",
    "user0 = User(\"강영훈\", \"younghoon@codeit.kr\", \"123456\")\n",
    "\n",
    "# 클래스 변수 호출하기(읽기)\n",
    "# 방법 1\n",
    "User.count = 1\n",
    "# 방법 2\n",
    "user0.count = 2\n",
    "\n",
    "print(User.count)\n",
    "print(user0.count)"
   ]
  },
  {
   "cell_type": "code",
   "execution_count": 5,
   "metadata": {},
   "outputs": [
    {
     "name": "stdout",
     "output_type": "stream",
     "text": [
      "3\n"
     ]
    }
   ],
   "source": [
    "# 클래스 변수 count가 유저 인스턴스 개수를 정확히 나타내도록 하려면?\n",
    "class User2:\n",
    "    # 클래스 변수 생성하기\n",
    "    count = 0\n",
    "    \n",
    "    def __init__(self, name, email, pw):\n",
    "        # 유저 인스턴스의 모든 변수를 지정해주는 메소드\n",
    "        self.name = name\n",
    "        self.email = email\n",
    "        self.pw = pw\n",
    "        \n",
    "        User2.count += 1  # 유저 인스턴스가 생성될 때 마다(= __init__ 메서드가 실행될 때 마다) count가 1씩 증가\n",
    "\n",
    "\n",
    "# 유저 인스턴스 생성하기\n",
    "user1 = User2(\"강영훈\", \"younghoon@codeit.kr\", \"123456\")\n",
    "user2 = User2(\"이윤수\", \"yonsoo@codeit.kr\", \"1q2w3e4r\")\n",
    "user3 = User2(\"서혜린\", \"lisa@codeit.kr\", \"123abc\")\n",
    "\n",
    "# 유저 인스턴스 개수 출력하기\n",
    "print(User2.count)"
   ]
  },
  {
   "cell_type": "markdown",
   "metadata": {},
   "source": [
    "## 클래스 변수 II"
   ]
  },
  {
   "cell_type": "code",
   "execution_count": null,
   "metadata": {},
   "outputs": [],
   "source": [
    "'''\n",
    "# 클래스 변수 이름과 인스턴스 변수의 이름을 같게 설정하지 말자!\n",
    "\n",
    "클래스 변수의 값 설정하는 법)\n",
    "1. 클래스명.클래스_변수명\n",
    "* 인스턴스를 통해 클래스 변수의 값을 바꾸려고 하는 경우, 클래스 변수의 값이 바뀌는 게 아니라\n",
    "    새로운 인스턴스 변수가 만들어진다.\n",
    "'''"
   ]
  },
  {
   "cell_type": "code",
   "execution_count": null,
   "metadata": {},
   "outputs": [],
   "source": [
    "class User3:\n",
    "    # 클래스 변수 생성하기\n",
    "    count = 0\n",
    "    \n",
    "    def __init__(self, name, email, pw):\n",
    "        # 유저 인스턴스의 모든 변수를 지정해주는 메소드\n",
    "        self.name = name\n",
    "        self.email = email\n",
    "        self.pw = pw\n",
    "        \n",
    "        User3.count += 1\n",
    "\n",
    "\n",
    "# 유저 인스턴스 생성하기\n",
    "user4 = User3(\"강영훈\", \"younghoon@codeit.kr\", \"123456\")\n",
    "user5 = User3(\"이윤수\", \"yonsoo@codeit.kr\", \"1q2w3e4r\")\n",
    "user6 = User3(\"서혜린\", \"lisa@codeit.kr\", \"123abc\")\n",
    "\n",
    "user4.count = 5   # 클래스 변수가 아닌, 같은 이름의 \"인스턴스 변수\"를 설정한 것. user4의 count만 5가 된다.\n",
    "# 같은 이름의 클래스 변수와 인스턴스 변수가 있는 경우, 인스턴스 변수를 읽는다.\n",
    "\n",
    "User3.count = 5   # 클래스 변수의 값을 설정한 것. 전체 인스턴스의 count가 5가 된다.\n",
    "\n",
    "# 유저 인스턴스 개수 출력하기\n",
    "print(User3.count)\n",
    "# 인스턴스 이름으로 count() 메서드 호출\n",
    "print(user4.count)\n",
    "print(user5.count)\n",
    "print(user6.count)"
   ]
  }
 ],
 "metadata": {
  "kernelspec": {
   "display_name": "Python (emma1)",
   "language": "python",
   "name": "myenv"
  },
  "language_info": {
   "codemirror_mode": {
    "name": "ipython",
    "version": 3
   },
   "file_extension": ".py",
   "mimetype": "text/x-python",
   "name": "python",
   "nbconvert_exporter": "python",
   "pygments_lexer": "ipython3",
   "version": "3.13.0"
  }
 },
 "nbformat": 4,
 "nbformat_minor": 2
}
