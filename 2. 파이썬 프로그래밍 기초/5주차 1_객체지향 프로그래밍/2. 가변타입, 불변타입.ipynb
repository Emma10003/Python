{
 "cells": [
  {
   "cell_type": "markdown",
   "metadata": {},
   "source": [
    "## 가변 타입과 불변 타입"
   ]
  },
  {
   "cell_type": "code",
   "execution_count": null,
   "metadata": {},
   "outputs": [],
   "source": [
    "'''\n",
    "- 가변 타입 객체: 한 번 생성한 인스턴스의 속성 변경 가능\n",
    "    : 리스트, 딕셔너리\n",
    "\n",
    "- 불변 타입 객체: 한 번 생성한 인스턴스의 속성 변경 불가\n",
    "    : 불린, 정수형, 실수형, 문자형, 튜플\n",
    "    +) 변수가 가리키는 객체 자체는 바꿀 수 있음.\n",
    "'''"
   ]
  },
  {
   "cell_type": "markdown",
   "metadata": {},
   "source": [
    "##### 파이썬 내장 클래스"
   ]
  },
  {
   "cell_type": "code",
   "execution_count": null,
   "metadata": {},
   "outputs": [],
   "source": [
    "mutable_object = [1, 2, 3]\n",
    "immutable_object = (1, 2, 3)\n",
    "\n",
    "# 가변타입\n",
    "mutable_object[0] = 4\n",
    "print(mutable_object)\n",
    "\n",
    "# 불변타입\n",
    "immutable_object[0] = 4\n",
    "print(immutable_object)  # TypeError: 'tuple' object does not support item assignment\n",
    "# 튜플은 불변 타입이므로 속성을 바꿀 수 없음."
   ]
  },
  {
   "cell_type": "code",
   "execution_count": null,
   "metadata": {},
   "outputs": [],
   "source": [
    "# 이미 생성된 객체의 속성을 변경하는 것은 X\n",
    "tuple_x = (6, 4)\n",
    "tuple_x[0] = 4\n",
    "tuple_x[1] = 1\n",
    "\n",
    "print(tuple_x)  # TypeError: 'tuple' object does not support item assignment\n",
    "\n",
    "# 불변 타입이라도 변수가 가리키는 객체 자체는 바꿀 수 있다.\n",
    "# = 아예 새로운 튜플 인스턴스를 생성해서, 기존 변수가 이 새로운 인스턴스를 가리키도록 하면 됨(지정연산자)\n",
    "tuple_x = (6, 4)\n",
    "tuple_x = (4, 1)\n",
    "tuple_x = (4, 1, 7)\n",
    "\n",
    "print(tuple_x)  # (4, 1, 7)"
   ]
  },
  {
   "cell_type": "markdown",
   "metadata": {},
   "source": [
    "##### 직접 작성하는 클래스"
   ]
  },
  {
   "cell_type": "code",
   "execution_count": null,
   "metadata": {},
   "outputs": [],
   "source": [
    "'''\n",
    "직접 작성하는 클래스는 모두 가변 타입.\n",
    "-> 나중에도 계속 그 인스턴스의 속성을 변경할 수 있다.\n",
    "'''"
   ]
  }
 ],
 "metadata": {
  "kernelspec": {
   "display_name": "Python (emma1)",
   "language": "python",
   "name": "myenv"
  },
  "language_info": {
   "codemirror_mode": {
    "name": "ipython",
    "version": 3
   },
   "file_extension": ".py",
   "mimetype": "text/x-python",
   "name": "python",
   "nbconvert_exporter": "python",
   "pygments_lexer": "ipython3",
   "version": "3.13.0"
  }
 },
 "nbformat": 4,
 "nbformat_minor": 2
}
