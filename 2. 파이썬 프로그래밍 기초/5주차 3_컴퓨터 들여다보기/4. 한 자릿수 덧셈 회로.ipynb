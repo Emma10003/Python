{
 "cells": [
  {
   "cell_type": "markdown",
   "metadata": {},
   "source": [
    "### 회로 설계 (Circuit Design)"
   ]
  },
  {
   "cell_type": "markdown",
   "metadata": {},
   "source": [
    "##### 한 자릿수 덧셈"
   ]
  },
  {
   "cell_type": "code",
   "execution_count": null,
   "metadata": {},
   "outputs": [],
   "source": [
    "'''\n",
    "한 자리 이진수 a와 b ~> a와 b는 0 혹은 1이므로 둘을 덧셈하면 아래의 내가지 경우가 나온다.\n",
    "    0 + 0 = 00\n",
    "    0 + 1 = 01\n",
    "    1 + 0 = 01\n",
    "    1 + 1 = 10\n",
    "이 때 1의 자리 수를 S0, 2의 자리 수를 S1이라고 하면, 입력값이 2개(a, b)이고 출력값도 2개(S0, S1)가 된다.\n",
    "이를 표로 나타내면 아래와 같다.\n",
    "\n",
    "a       b       |   S1      S0\n",
    "ㅡㅡㅡㅡㅡㅡㅡㅡㅡㅡㅡㅡㅡㅡㅡㅡㅡㅡㅡㅡㅡㅡㅡㅡ\n",
    "0       0       |   0       0\n",
    "0       1       |   0       1\n",
    "1       0       |   0       1\n",
    "1       1       |   1       0\n",
    "\n",
    "여기서 S1은 a와 b의 AND 연산의 결과와 같고,  (S1 = a AND b)\n",
    "      S0은 a와 b의 XOR 연산의 결과와 같다.  (S0 = a XOR b)\n",
    "\n",
    "'''"
   ]
  }
 ],
 "metadata": {
  "kernelspec": {
   "display_name": "base",
   "language": "python",
   "name": "python3"
  },
  "language_info": {
   "name": "python",
   "version": "3.12.4"
  }
 },
 "nbformat": 4,
 "nbformat_minor": 2
}
