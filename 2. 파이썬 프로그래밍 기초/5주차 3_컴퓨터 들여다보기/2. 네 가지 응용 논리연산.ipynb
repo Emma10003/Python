{
 "cells": [
  {
   "cell_type": "markdown",
   "metadata": {},
   "source": [
    "### NAND 연산"
   ]
  },
  {
   "cell_type": "code",
   "execution_count": null,
   "metadata": {},
   "outputs": [],
   "source": [
    "'''\n",
    "NOT AND 연산.\n",
    "* 논리연산 기호에서 동그라미는 NOT을 의미함.\n",
    "\n",
    "AND 연산의 정반대로 결과가 출력됨.\n",
    "* AND 연산                  # NAND 연산\n",
    "A       B       Out     |   A       B       Out\n",
    "1       1       1       |   1       1       0\n",
    "1       0       0       |   1       0       1\n",
    "0       1       0       |   0       1       1\n",
    "0       0       0       |   0       0       1\n",
    "'''"
   ]
  },
  {
   "cell_type": "markdown",
   "metadata": {},
   "source": [
    "### NOR 연산"
   ]
  },
  {
   "cell_type": "code",
   "execution_count": null,
   "metadata": {},
   "outputs": [],
   "source": [
    "'''\n",
    "NOT OR 연산.\n",
    "\n",
    "OR 연산의 정반대로 결과가 출력됨.\n",
    "* OR 연산                  # NAND 연산\n",
    "A       B       Out     |   A       B       Out\n",
    "1       1       1       |   1       1       0\n",
    "1       0       1       |   1       0       0\n",
    "0       1       1       |   0       1       0\n",
    "0       0       0       |   0       0       1\n",
    "'''"
   ]
  },
  {
   "cell_type": "markdown",
   "metadata": {},
   "source": [
    "### XOR 연산"
   ]
  },
  {
   "cell_type": "code",
   "execution_count": null,
   "metadata": {},
   "outputs": [],
   "source": [
    "'''\n",
    "Exclusive OR\n",
    "* 논리연산 OR 기호에서 선 하나 더 그으면 XOR 기호.\n",
    "\n",
    "A와 B의 값이 같으면 0, 다르면 1을 출력.\n",
    "* XOR 연산\n",
    "A       B       Out\n",
    "1       1       0 \n",
    "1       0       1 \n",
    "0       1       1\n",
    "0       0       0\n",
    "\n",
    "'''"
   ]
  },
  {
   "cell_type": "markdown",
   "metadata": {},
   "source": [
    "### XNOR 연산"
   ]
  },
  {
   "cell_type": "code",
   "execution_count": null,
   "metadata": {},
   "outputs": [],
   "source": [
    "'''\n",
    "Exclusive Not OR\n",
    "* 논리연산 XOR 기호에서 동그라미를 붙이면 XNOR 기호.\n",
    "\n",
    "XOR 연산의 정반대로 결과가 출력됨.\n",
    "* XOR 연산                  # NAND 연산\n",
    "A       B       Out     |   A       B       Out\n",
    "1       1       0       |   1       1       1\n",
    "1       0       1       |   1       0       0\n",
    "0       1       1       |   0       1       0\n",
    "0       0       0       |   0       0       1\n",
    "'''"
   ]
  }
 ],
 "metadata": {
  "kernelspec": {
   "display_name": "base",
   "language": "python",
   "name": "python3"
  },
  "language_info": {
   "name": "python",
   "version": "3.12.4"
  }
 },
 "nbformat": 4,
 "nbformat_minor": 2
}
