{
 "cells": [
  {
   "cell_type": "markdown",
   "metadata": {},
   "source": [
    "### 회로의 추상화"
   ]
  },
  {
   "cell_type": "code",
   "execution_count": null,
   "metadata": {},
   "outputs": [],
   "source": [
    "'''\n",
    "회로를 만든 뒤에 그 회로 내부에서 어떤 연산이 사용되었는지 굳이 알 필요가 없다.\n",
    "\n",
    "a AND b = S1\n",
    "a XOR b = S0\n",
    "\n",
    "이라는 회로를, 입력값과 출력값만 알 수 있도록\n",
    "\n",
    "a, b ㅡㅡ[한 자리 덧셈 회로]ㅡㅡ S0, S1\n",
    "\n",
    "이렇게 가려주는 게 회로의 추상화.\n",
    "\n",
    "모든 회로는 입력과 출력이 있는 박스 형태로 나타낼 수 있다! \n",
    "    ~> 실제로 판매하는 칩들도 이렇게 추상화과 되어있다.\n",
    "'''"
   ]
  }
 ],
 "metadata": {
  "kernelspec": {
   "display_name": "base",
   "language": "python",
   "name": "python3"
  },
  "language_info": {
   "name": "python",
   "version": "3.12.4"
  }
 },
 "nbformat": 4,
 "nbformat_minor": 2
}
