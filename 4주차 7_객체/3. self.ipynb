{
 "cells": [
  {
   "cell_type": "markdown",
   "metadata": {},
   "source": [
    "### 인스턴스 메소드의 첫 번째 파라미터 이름은 self"
   ]
  },
  {
   "cell_type": "code",
   "execution_count": null,
   "metadata": {},
   "outputs": [],
   "source": [
    "\n",
    "# 파이썬에서는 인스턴스 메소드의 첫 번째 파라미터 이름을 'self'로 쓸 것을 권장함.\n",
    "# 인스턴스에서 메소드를 호출할 때,\n",
    "# 인스턴스 메소드를 호출하는 인스턴스 자신이 첫 번째 파라미터로 들어간다는 것을 알기 쉬움.\n",
    "\n",
    "class User3:\n",
    "    def say_hello(self):   # some_user 자리에 인스턴스(user1, user2..)가 대입됨.\n",
    "        # 인사 메세지 출력 메소드\n",
    "        print(f\"안녕하세요! 저는{self.name}입니다!\")\n",
    "        # 인스턴스 변수를 사용하므로 say_hello() 메소드는 인스턴스 메소드.\n",
    "    def login(self, my_email, my_password):\n",
    "        # 로그인 메소드\n",
    "        if(self.email == my_email and self.password == my_password):\n",
    "            print(\"로그인 성공, 환영합니다.\")\n",
    "        else:\n",
    "            print(\"로그인 실패, 없는 아이디이거나 잘못된 비밀번호입니다.\")\n",
    "\n",
    "user4 = User3()\n",
    "user4.name = \"James\"\n",
    "user4.email = \"Jamesthing@gmail.com\"\n",
    "user4.password = \"98765\"\n",
    "\n",
    "user4.login(\"Jamesthing@gmail.com\", \"98765\")"
   ]
  }
 ],
 "metadata": {
  "kernelspec": {
   "display_name": "Python (emma1)",
   "language": "python",
   "name": "myenv"
  },
  "language_info": {
   "name": "python",
   "version": "3.13.0"
  }
 },
 "nbformat": 4,
 "nbformat_minor": 2
}
