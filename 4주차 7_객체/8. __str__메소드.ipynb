{
 "cells": [
  {
   "cell_type": "markdown",
   "metadata": {},
   "source": [
    "## _ _ str _ _ 메소드"
   ]
  },
  {
   "cell_type": "code",
   "execution_count": null,
   "metadata": {},
   "outputs": [],
   "source": []
  },
  {
   "cell_type": "code",
   "execution_count": null,
   "metadata": {},
   "outputs": [],
   "source": [
    "'''\n",
    "앞 뒤로 언더바(_)가 2개씩 있는 메소드를 '특수 메소드(magic method = special method)'라고 함.\n",
    "특수 메소드: 특정 상황에서 자동으로 호출되는 메소드.\n",
    "    -> 'dunder' 메소드라고도 함 (double underscore)\n",
    "특수 메소드 = 던더 메소드\n",
    "\n",
    "던더 str: print() 함수를 호출할 때 자동으로 호출되는 메소드이다.\n",
    "'''"
   ]
  },
  {
   "cell_type": "code",
   "execution_count": null,
   "metadata": {},
   "outputs": [],
   "source": [
    "class User:\n",
    "    def __init__(self, name, email, pw):\n",
    "        # 유저 인스턴스의 모든 변수를 지정해주는 메소드\n",
    "        self.name = name\n",
    "        self.eamil = email\n",
    "        self.pw = pw\n",
    "        \n",
    "    def say_hello(self):\n",
    "        print(f\"안녕하세요! 저는 {self.name}입니다!\")\n",
    "    \n",
    "    \n",
    "user1 = User(\"강영훈\", \"younghoon@codeit.kr\", \"123456\")\n",
    "user2 = User(\"이윤수\", \"yonsoo@codeit.kr\", \"1q2w3e4r\")\n",
    "\n",
    "print(user1)   # <__main__.User object at 0x0000024ED74DFCB0>: 인스턴스의 클래스와 메모리 주소가 출력됨.\n",
    "print(user2)"
   ]
  },
  {
   "cell_type": "code",
   "execution_count": null,
   "metadata": {},
   "outputs": [
    {
     "name": "stdout",
     "output_type": "stream",
     "text": [
      "사용자: 강영훈, 이메일: younghoon@codeit.kr, 비밀번호: ******\n",
      "사용자: 이윤수, 이메일: yonsoo@codeit.kr, 비밀번호: ******\n"
     ]
    }
   ],
   "source": [
    "# print(user1)을 했을 때 인스턴스의 정보가 출력되려면? -> __str__ 메소드를 클래스에 정의!\n",
    "\n",
    "class User2:\n",
    "    def __init__(self, name, email, pw):\n",
    "        # 유저 인스턴스의 모든 변수를 지정해주는 메소드\n",
    "        self.name = name\n",
    "        self.email = email\n",
    "        self.pw = pw\n",
    "        \n",
    "    def say_hello(self):\n",
    "        print(f\"안녕하세요! 저는 {self.name}입니다!\")\n",
    "    \n",
    "    def __str__(self):\n",
    "        return f\"사용자: {self.name}, 이메일: {self.email}, 비밀번호: ******\"\n",
    "    \n",
    "    \n",
    "user3 = User2(\"강영훈\", \"younghoon@codeit.kr\", \"123456\")\n",
    "user4 = User2(\"이윤수\", \"yonsoo@codeit.kr\", \"1q2w3e4r\")\n",
    "\n",
    "print(user3)\n",
    "print(user4)"
   ]
  }
 ],
 "metadata": {
  "kernelspec": {
   "display_name": "Python (emma1)",
   "language": "python",
   "name": "myenv"
  },
  "language_info": {
   "codemirror_mode": {
    "name": "ipython",
    "version": 3
   },
   "file_extension": ".py",
   "mimetype": "text/x-python",
   "name": "python",
   "nbconvert_exporter": "python",
   "pygments_lexer": "ipython3",
   "version": "3.13.0"
  }
 },
 "nbformat": 4,
 "nbformat_minor": 2
}
