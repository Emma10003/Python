{
 "cells": [
  {
   "cell_type": "markdown",
   "metadata": {},
   "source": [
    "#### 인스타그램 User 객체"
   ]
  },
  {
   "cell_type": "code",
   "execution_count": null,
   "metadata": {},
   "outputs": [],
   "source": [
    "'''\n",
    "< 속성  = 인스턴스 변수 >\n",
    "- 이름\n",
    "- 이메일주소\n",
    "- 비밀번호\n",
    "- 팔로우 목록\n",
    "- 팔로워 목록\n",
    "\n",
    "< 행동 = 함수 >\n",
    "- 자기소개하기\n",
    "- 팔로우하기\n",
    "\n",
    "-> 'User 객체의 틀'을 만든 것.\n",
    "-> 객체의 틀 = 클래스(class)\n",
    "-> 틀로 만든 결과물 = 객체(object) = 인스턴스(instance)\n",
    "    * 정확히 말하면 객체와 인스턴스는 다르지만 일단은!\n",
    "'''"
   ]
  },
  {
   "cell_type": "markdown",
   "metadata": {},
   "source": [
    "### 1. 클래스 만들기"
   ]
  },
  {
   "cell_type": "code",
   "execution_count": 3,
   "metadata": {},
   "outputs": [],
   "source": [
    "# 클래스 만들기\n",
    "class User:   # 클래스 이름 첫 글자는 항상 대문자!\n",
    "    # 속성\n",
    "    # 행동\n",
    "    pass   # 아무 내용 없다는 뜻 -> class는 내부를 비워두면 에러가 발생함."
   ]
  },
  {
   "cell_type": "markdown",
   "metadata": {},
   "source": [
    "### 2. 인스턴스 만들기"
   ]
  },
  {
   "cell_type": "code",
   "execution_count": 4,
   "metadata": {},
   "outputs": [],
   "source": [
    "# 인스턴스 만들기\n",
    "user1 = User()  # User 인스턴스가 만들어지고, user1이 해당 인스턴스를 가리키게 됨.\n",
    "user2 = User()  # 같은 클래스로 만들었어도, user1과 user2는 다른 인스턴스.\n",
    "user1 = User()"
   ]
  },
  {
   "cell_type": "markdown",
   "metadata": {},
   "source": [
    "### 3. 속성 추가하기 (= 인스턴스 변수 정의하기)"
   ]
  },
  {
   "cell_type": "code",
   "execution_count": null,
   "metadata": {},
   "outputs": [],
   "source": [
    "''' 객체의 속성 = 인스턴스 변수 '''\n",
    "''' 형식: 인스턴스_이름.속성이름(인스턴스 변수) = \"속성에 넣을 값\" '''"
   ]
  },
  {
   "cell_type": "code",
   "execution_count": null,
   "metadata": {},
   "outputs": [],
   "source": [
    "user1.name = \"Emma\"   # user1 속성으로 name을 추가하고 그 값으로 문자열 \"Emma\"를 넣음.\n",
    "user1.email = \"emmathing@google.com\"\n",
    "user1.password = \"12345\"\n",
    "\n",
    "user2.name = \"Sam\"\n",
    "user1.email = \"Samthing@google.com\"\n",
    "user2.password = \"23456\"\n",
    "\n",
    "# user1과 user2는 속성을 공유하는 게 아니라 각자 개인적으로 갖고 있는 것. (인스턴스에 개별적으로 추가해서)\n",
    "# 인스턴스 변수: 위와 같이 인스턴스가 개인적으로 갖고 있는 속성.\n",
    "# 위에서 인스턴스 변수: name, email, password\n",
    "\n",
    "\n",
    "# 인스턴스 변수 사용하기\n",
    "print(user1.email)\n",
    "print(user2.password)\n",
    "\n",
    "\n",
    "# 추가하지 않은 인스턴스 변수 사용하기\n",
    "print(user1.age)   # AttributeError: 'User' object has no attribute 'age'\n",
    "# 인스턴스 변수를 사용하려면 꼭 그 전에 미리 정의해 놔야 한다!"
   ]
  },
  {
   "cell_type": "markdown",
   "metadata": {},
   "source": [
    "### 4. 함수 정의하기 (= 인스턴스 메소드 정의하기)"
   ]
  },
  {
   "cell_type": "code",
   "execution_count": null,
   "metadata": {},
   "outputs": [],
   "source": [
    "''' 객체의 행동 = 인스턴스 메소드 '''\n",
    "\n",
    "# 참고: 메소드의 종류는 3가지\n",
    "# 1. 인스턴스 메소드: 인스턴스 변수를 사용하거나, 인스턴스 변수에 값을 설정하는 메소드\n",
    "# 2. 클래스 메소드\n",
    "# 3. 정적 메소드"
   ]
  },
  {
   "cell_type": "code",
   "execution_count": 14,
   "metadata": {},
   "outputs": [],
   "source": [
    "# 클래스에 인스턴스 메소드 추가하기\n",
    "class User2:\n",
    "    def say_hello(some_user):   # some_user 자리에 인스턴스(user1, user2..)가 대입됨.\n",
    "        # 인사 메세지 출력 메소드\n",
    "        print(f\"안녕하세요! 저는{some_user.name}입니다!\")\n",
    "        # 인스턴스 변수를 사용하므로 say_hello() 메소드는 인스턴스 메소드.\n",
    "\n",
    "user3 = User2()\n",
    "user3.name = \"Sarah\""
   ]
  },
  {
   "cell_type": "code",
   "execution_count": null,
   "metadata": {},
   "outputs": [],
   "source": [
    "# 인스턴스 메소드 호출하기\n",
    "''' 형식: 클래스명.메소드명(인스턴스_이름) '''\n",
    "\n",
    "User2.say_hello(user1)   # 클래스에서 메소드를 호출"
   ]
  },
  {
   "cell_type": "markdown",
   "metadata": {},
   "source": [
    "### 5. 인스턴스 메소드의 특별한 규칙"
   ]
  },
  {
   "cell_type": "markdown",
   "metadata": {},
   "source": [
    "##### 1) user3.say_hello() : 인스턴스의 메소드를 호출하기"
   ]
  },
  {
   "cell_type": "code",
   "execution_count": null,
   "metadata": {},
   "outputs": [],
   "source": [
    "'''위의 인스턴스 메소드 호출을 이렇게도 쓸 수 있다.'''\n",
    "user3.say_hello()   # 인스턴스의 메소드를 호출\n",
    "# 파라미터를 넘겨주지 않았는데 왜 에러가 나지 않았을까?\n",
    "# 인스턴스의 메소드를 호출하면 user3 인스턴스가 메소드의 파라미터로 자동 전달됨. ~> 따라서 파라미터를 따로 써 주지 않아도 된다!\n",
    "\n",
    "''' 그럼 이 경우는? '''\n",
    "user3.say_hello(user3)   # TypeError: say_hello() takes 1 positional argument but 2 wer given\n",
    "# say_hello() 메소드는 파라미터를 1개만 받는데, 2개가 넘어왔다는 에러.\n",
    "User2.say_hello(user1, user1)"
   ]
  },
  {
   "cell_type": "markdown",
   "metadata": {},
   "source": [
    "##### 2) 여러 파라미터를 받는 메소드 호출하기"
   ]
  },
  {
   "cell_type": "code",
   "execution_count": null,
   "metadata": {},
   "outputs": [],
   "source": [
    "# 로그인 함수를 추가한 클래스 선언\n",
    "class User3:\n",
    "    def say_hello(some_user):   # some_user 자리에 인스턴스(user1, user2..)가 대입됨.\n",
    "        # 인사 메세지 출력 메소드\n",
    "        print(f\"안녕하세요! 저는{some_user.name}입니다!\")\n",
    "        # 인스턴스 변수를 사용하므로 say_hello() 메소드는 인스턴스 메소드.\n",
    "    def login(some_user, my_email, my_password):\n",
    "        # 로그인 메소드\n",
    "        if(some_user.email == my_email and some_user.password == my_password):\n",
    "            print(\"로그인 성공, 환영합니다.\")\n",
    "        else:\n",
    "            print(\"로그인 실패, 없는 아이디이거나 잘못된 비밀번호입니다.\")\n",
    "\n",
    "user4 = User3()\n",
    "user4.name = \"James\"\n",
    "user4.email = \"Jamesthing@gmail.com\"\n",
    "user4.password = \"98765\""
   ]
  },
  {
   "cell_type": "code",
   "execution_count": null,
   "metadata": {},
   "outputs": [],
   "source": [
    "# 로그인 메소드 호출\n",
    "# user4.login(user4, \"Jamesthing@gmail.com\", \"98765\")  # 틀린 코드\n",
    "User3.login(user4, \"Jamesthing@gmail.com\", \"98765\")   # 위의 코드처럼 파라미터를 주려면 이렇게 클래스에서 호출하는 게 맞음.\n",
    "user4.login(\"Jamesthing@gmail.com\", \"98765\")"
   ]
  }
 ],
 "metadata": {
  "kernelspec": {
   "display_name": "Python (emma1)",
   "language": "python",
   "name": "myenv"
  },
  "language_info": {
   "codemirror_mode": {
    "name": "ipython",
    "version": 3
   },
   "file_extension": ".py",
   "mimetype": "text/x-python",
   "name": "python",
   "nbconvert_exporter": "python",
   "pygments_lexer": "ipython3",
   "version": "3.13.0"
  }
 },
 "nbformat": 4,
 "nbformat_minor": 2
}
