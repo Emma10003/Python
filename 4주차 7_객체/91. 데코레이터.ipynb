{
 "cells": [
  {
   "cell_type": "markdown",
   "metadata": {},
   "source": [
    "## 데코레이터 I"
   ]
  },
  {
   "cell_type": "code",
   "execution_count": null,
   "metadata": {},
   "outputs": [],
   "source": [
    "'''\n",
    "데코레이터: 기존의 함수를 꾸며서 새로운 함수를 만들 때 사용하는 것.\n",
    "'''"
   ]
  },
  {
   "cell_type": "code",
   "execution_count": null,
   "metadata": {},
   "outputs": [],
   "source": [
    "def print_hello():\n",
    "    print('안녕하세요!')\n",
    "\n",
    "\n",
    "def add_print_to(original):   # 파라미터로 함수를 받음 (original에 함수가 대입됨)\n",
    "    def wrapper():\n",
    "        print(\"함수 시작\")   # 부가기능\n",
    "        original()   # 대입된 함수를 호출함.\n",
    "        print(\"함수 끝\")   # 부가기능\n",
    "    return wrapper   # 함수 리턴\n",
    "\n",
    "# add_print_to 함수는 어떤 함수를 파라미터로 받아서 또 다른 함수를 리턴.\n",
    "# print_hello() 함수를 호출하고, 앞뒤로 부가기능을 덧붙여서 함수를 꾸민 셈이 된다! ~> print_hello()를 데코레이팅.\n",
    "\n",
    "\n",
    "add_print_to(print_hello)  # 아무것도 출력되지 않음.\n",
    "                           # add_print_to() 함수는 wrapper()함수를 리턴해주기만 하기 때문. 출력해주지는 않는다!\n",
    "                           # * 리턴된 값은 함수를 호출한 자리에 그대로 들어감.\n",
    "                           # 따라서 호출한 함수를 실행하려면 뒤에 ()를 붙여줘야 한다!\n",
    "\n",
    "add_print_to(print_hello)() # 정상적으로 결과가 출력됨\n",
    "\n",
    "# 이렇게도 쓸 수 있다\n",
    "print_hello = add_print_to(print_hello)\n",
    "print_hello() \n",
    "\n",
    "\n",
    "## add_print_to() 함수는 다른 함수를 꾸며주는 역할을 하기 때문에 '데코레이터 함수'라고 부른다."
   ]
  },
  {
   "cell_type": "markdown",
   "metadata": {},
   "source": [
    "## 데코레이터 II"
   ]
  },
  {
   "cell_type": "code",
   "execution_count": null,
   "metadata": {},
   "outputs": [],
   "source": [
    "'''\n",
    "@데코레이터_함수 : 기존 함수를 해당 데코레이터 함수로 꾸며주라는 뜻 (데코레이터라고 부름.)\n",
    "\n",
    "기존 함수들에 추가하고 싶은 코드가 있을 때, 여러 함수를 전부 수정하는 게 아니라,\n",
    "데코레이터 함수를 만들고 기존 함수 위에 @데코레이터_함수만 입력해주면 코드가 훨씬 간단해진다!\n",
    "'''"
   ]
  },
  {
   "cell_type": "code",
   "execution_count": null,
   "metadata": {},
   "outputs": [
    {
     "name": "stdout",
     "output_type": "stream",
     "text": [
      "함수 시작\n",
      "안녕하세요!\n",
      "함수 끝\n"
     ]
    }
   ],
   "source": [
    "def add_print_to(original): \n",
    "    def wrapper():\n",
    "        print(\"함수 시작\")\n",
    "        original()\n",
    "        print(\"함수 끝\")\n",
    "    return wrapper\n",
    "\n",
    "\n",
    "@add_print_to   # @add_print_to: print_hello()함수를 add_print_to() 함수로 꾸며주라는 뜻\n",
    "def print_hello():\n",
    "    print('안녕하세요!')\n",
    "\n",
    "# @add_print_to를 작성하면 앞으로 print_hello()를 호출할 때 마다 add_print_to()로 꾸며진 함수가 나옴.\n",
    "\n",
    "print_hello()"
   ]
  }
 ],
 "metadata": {
  "kernelspec": {
   "display_name": "Python (emma1)",
   "language": "python",
   "name": "myenv"
  },
  "language_info": {
   "codemirror_mode": {
    "name": "ipython",
    "version": 3
   },
   "file_extension": ".py",
   "mimetype": "text/x-python",
   "name": "python",
   "nbconvert_exporter": "python",
   "pygments_lexer": "ipython3",
   "version": "3.13.0"
  }
 },
 "nbformat": 4,
 "nbformat_minor": 2
}
