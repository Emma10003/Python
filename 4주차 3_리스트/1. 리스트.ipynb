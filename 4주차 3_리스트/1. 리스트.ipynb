{
 "cells": [
  {
   "cell_type": "markdown",
   "metadata": {},
   "source": [
    "\n",
    "## 리스트 (list)"
   ]
  },
  {
   "cell_type": "code",
   "execution_count": null,
   "metadata": {},
   "outputs": [],
   "source": [
    "# 리스트 (list)\n",
    "numbers = [2, 3, 5, 7, 11, 13]\n",
    "names = [\"윤수\", \"혜린\", \"태호\", \"영훈\"]  # 리스트 안의 각각의 값들을 '요소'라고 함.\n",
    "\n",
    "print(numbers)\n",
    "print(names)"
   ]
  },
  {
   "cell_type": "markdown",
   "metadata": {},
   "source": [
    "### 1. 인덱싱 (indexing)"
   ]
  },
  {
   "cell_type": "code",
   "execution_count": null,
   "metadata": {},
   "outputs": [],
   "source": [
    "# 인덱싱 (indexing)\n",
    "print(names[1])  # 혜린\n",
    "print(names[0])  # 윤수; 리스트의 인덱스 번호는 0번부터 시작된다.\n",
    "\n",
    "# 인덱싱해서 연산하기\n",
    "print(numbers[1] + numbers[3])  # 3 + 7\n",
    "\n",
    "# 인덱싱한 값을 변수에 저장하기\n",
    "num_1 = numbers[1]\n",
    "num_2 = numbers[3]\n",
    "print(num_1 + num_2)  # 10\n",
    "\n",
    "# 마이너스 인덱스\n",
    "print(numbers[-1])  # 13\n",
    "print(numbers[-2])  # 11\n",
    "print(numbers[-7])  # Error: list index out of range\n",
    "    # 인덱스 요소가 6개 있는 경우네는 -6부터 5까지 인덱싱할 수 있음."
   ]
  },
  {
   "cell_type": "markdown",
   "metadata": {},
   "source": [
    "### 2. 리스트 슬라이싱 (list slicing)"
   ]
  },
  {
   "cell_type": "code",
   "execution_count": null,
   "metadata": {},
   "outputs": [],
   "source": [
    "# 리스트 슬라이싱 (list slicing)\n",
    "print(numbers[0:4])  # 인덱스 0부터 3까지!!!\n",
    "print(numbers[2:])  # 인덱스 2부터 끝까지\n",
    "print(numbers[:3])  # 인덱스 0부터(처음부터) 2까지\n",
    "\n",
    "# 슬라이싱한 리스트를 새로운 변수에 저장하기\n",
    "new_list = numbers[:3]  # [2, 3, 5]\n",
    "print(new_list)"
   ]
  },
  {
   "cell_type": "markdown",
   "metadata": {},
   "source": [
    "###  3. 리스트 값 변경하기"
   ]
  },
  {
   "cell_type": "code",
   "execution_count": null,
   "metadata": {},
   "outputs": [
    {
     "name": "stdout",
     "output_type": "stream",
     "text": [
      "[7, 3, 5, 7, 11, 13]\n",
      "[10, 3, 5, 7, 11, 13]\n"
     ]
    }
   ],
   "source": [
    "numbers[0] = 7  # 정수 7을 0번 인덱스에 지정.\n",
    "print(numbers)\n",
    "\n",
    "numbers[0] = numbers[0] + numbers[1]  # 2 + 5의 값이 0번 인덱스에 저장됨.\n",
    "print(numbers)"
   ]
  }
 ],
 "metadata": {
  "kernelspec": {
   "display_name": "Python (emma1)",
   "language": "python",
   "name": "myenv"
  },
  "language_info": {
   "codemirror_mode": {
    "name": "ipython",
    "version": 3
   },
   "file_extension": ".py",
   "mimetype": "text/x-python",
   "name": "python",
   "nbconvert_exporter": "python",
   "pygments_lexer": "ipython3",
   "version": "3.13.0"
  }
 },
 "nbformat": 4,
 "nbformat_minor": 2
}
