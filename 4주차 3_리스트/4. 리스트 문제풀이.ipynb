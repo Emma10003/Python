{
 "cells": [
  {
   "cell_type": "markdown",
   "metadata": {},
   "source": [
    "### 문제 1"
   ]
  },
  {
   "cell_type": "code",
   "execution_count": null,
   "metadata": {},
   "outputs": [],
   "source": [
    "'''\n",
    "greetings = [\"안녕\", \"니하오\", \"곤니찌와\", \"올라\", \"싸와디캅\", \"헬로\", \"봉주르\"]\n",
    "\n",
    "greetings 리스트의 원소를 모두 출력하는 프로그램을 작성해 보세요. while문과 리스트의 개념을 활용하시면 됩니다.\n",
    "'''"
   ]
  },
  {
   "cell_type": "code",
   "execution_count": null,
   "metadata": {},
   "outputs": [],
   "source": [
    "greetings = [\"안녕\", \"니하오\", \"곤니찌와\", \"올라\", \"싸와디캅\", \"헬로\", \"봉주르\"]\n",
    "\n",
    "i = 0\n",
    "while i < len(greetings):  # i <= len(greetings)를 하는 경우 list index out of range 에러 발생.\n",
    "    print(greetings[i])\n",
    "    i += 1"
   ]
  },
  {
   "cell_type": "markdown",
   "metadata": {},
   "source": [
    "### 문제 2"
   ]
  },
  {
   "cell_type": "code",
   "execution_count": null,
   "metadata": {},
   "outputs": [],
   "source": [
    "''' \n",
    "화씨 온도를 섭씨 온도로 바꾸어주는 프로그램을 만들려고 합니다.\n",
    "섭씨와 화씨의 관계식은 다음과 같습니다.\n",
    "            섭씨온도 = (화씨온도 - 32) * 5 / 9\n",
    "화씨 온도를 섭씨 온도로 변환해 주는 함수 fahrenheit_to_celsius를 써 보세요.\n",
    "이 함수는 파라미터로 화씨 온도 fahrenheit를 받고, 변환된 섭씨 온도를 리턴합니다.\n",
    "'''"
   ]
  },
  {
   "cell_type": "code",
   "execution_count": null,
   "metadata": {},
   "outputs": [],
   "source": [
    "# 화씨 온도에서 섭씨 온도로 바꿔 주는 함수\n",
    "def fahrenheit_to_celsius(fahrenheit):\n",
    "    celsius = (fahrenheit-32) * 5 / 9\n",
    "    return celsius\n",
    "\n",
    "temperature_list = [40, 15, 32, 64, -4, 11]\n",
    "# 화씨 온도 출력\n",
    "print(f\"화씨 온도 리스트: {temperature_list}\")\n",
    "\n",
    "# 리스트의 값들을 화씨에서 섭씨로 변환하는 코드\n",
    "i = 0\n",
    "while i < len(temperature_list):\n",
    "    temperature_list[i] = round(fahrenheit_to_celsius(temperature_list[i]), 1)\n",
    "    i += 1\n",
    "\n",
    "# 섭씨 온도 출력\n",
    "print(f\"섭씨 온도 리스트: {temperature_list}\")"
   ]
  },
  {
   "cell_type": "markdown",
   "metadata": {},
   "source": [
    "### 문제 3"
   ]
  },
  {
   "cell_type": "code",
   "execution_count": null,
   "metadata": {},
   "outputs": [],
   "source": [
    "'''\n",
    "제가 구매하고 싶은 물건들의 가격을 리스트에 정리해 놨습니다.\n",
    "\n",
    "prices = [34000, 13000, 5000, 21000, 1000, 2000, 8000, 3000]\n",
    "\n",
    "가격의 단위는 모두 원화인데요. 이 물건들의 가격을 미국 달러로 하면 얼마일지, 그리고 일본 엔화로 하면\n",
    "얼마일지 확인해 보려고 합니다.\n",
    "\n",
    "1. 함수 작성\n",
    "먼저 한국 원화를 미국 달러로 변환해주는 krw_to_usd 함수, 그리고 미국 달러를 일본 엔화로 변환해 주는 usd_to_jpy 함수를 \n",
    "써야 하는데요. krw_to_usd 함수는 파라미터로 원화 krw을 받아서 변환된 미국 달러 액수를 리턴해줍니다.\n",
    "마찬가지로 usd_to_jpy 함수는 파라미터로 달러 usd를 받아서 변환된 일본 엔화 액수를 리턴해 주는 거죠.\n",
    "참고로 환율은 1달러에 1,000원, 그리고 1,000엔에 8달러라고 가정합니다.\n",
    "\n",
    "2. 반복문을 통해 리스트 요소들 변환\n",
    "반복문을 사용해서 리스트의 요소들을 각각 다른 화폐로 변환해야 하는데요. 그 과정에서 krw_to_usd 함수와\n",
    "usd_to_jpy 함수를 활용하면 되겠죠?\n",
    "'''"
   ]
  },
  {
   "cell_type": "code",
   "execution_count": null,
   "metadata": {},
   "outputs": [],
   "source": [
    "# 원화에서 달러로 변환하는 함수\n",
    "def krw_to_usd(krw):\n",
    "    usd = krw / 1000\n",
    "    return usd\n",
    "\n",
    "\n",
    "# 달러에서 엔화로 변환하는 함수\n",
    "def usd_to_jpy(usd):\n",
    "    # jpy:usd = 1000:8\n",
    "    # 8 jpy = 1000 usd\n",
    "    jpy = 125 * usd\n",
    "    return jpy \n",
    "\n",
    "\n",
    "# 원화로 각각 얼마인가요?\n",
    "prices = [34000, 13000, 5000, 21000, 1000, 2000, 8000, 3000]\n",
    "print(\"한국 화폐: \" + str(prices))\n",
    "\n",
    "\n",
    "# prices를 원화에서 달러로 변환하기\n",
    "i = 0\n",
    "while i < len(prices):\n",
    "    prices[i] = round(krw_to_usd(prices[i]), 1)\n",
    "    i += 1\n",
    "\n",
    "\n",
    "# 달러로 각각 얼마인가요?\n",
    "print(\"미국 화폐: \" + str(prices))\n",
    "\n",
    "\n",
    "# prices를 달러에서 엔화로 변환하기\n",
    "i = 0\n",
    "while i < len(prices):\n",
    "    prices[i] = round(usd_to_jpy(prices[i]), 1)\n",
    "    i += 1\n",
    "\n",
    "\n",
    "# 엔화로 각각 얼마인가요?\n",
    "print(\"일본 화폐: \" + str(prices))"
   ]
  },
  {
   "cell_type": "markdown",
   "metadata": {},
   "source": [
    "### 문제 4"
   ]
  },
  {
   "cell_type": "code",
   "execution_count": null,
   "metadata": {},
   "outputs": [],
   "source": [
    "'''\n",
    "리스트 함수를 활용하여 아래의 지시 사항을 따르세요.\n",
    "\n",
    "1. numbers라는 빈 리스트를 만들고 리스트를 출력한다.\n",
    "2. append를 이용해서 numbers에 1, 7, 3, 6, 5, 2, 13, 14를 순서대로 추가한다. 그 후 리스트를 출력한다.\n",
    "3. numbers 리스트의 원소들 중 홀수는 모두 제거한다. 그 후 다시 리스트를 출력한다.\n",
    "4. numbers 리스트의 인덱스 0 자리에 20 이라는 수를 삽입한 후 출력한다.\n",
    "5. numbers 리스트를 정렬한 후 출력한다.\n",
    "'''"
   ]
  },
  {
   "cell_type": "code",
   "execution_count": null,
   "metadata": {},
   "outputs": [],
   "source": [
    "# 빈 리스트 만들기\n",
    "numbers = []\n",
    "print(numbers)\n",
    "\n",
    "# numbers에 값들 추가\n",
    "numbers = [1, 7, 3, 6, 5, 2, 13, 14]\n",
    "print(numbers)\n",
    "\n",
    "# numbers에서 홀수 제거\n",
    "i = 0\n",
    "while i < len(numbers):\n",
    "    if numbers[i] % 2 != 0:\n",
    "        del numbers[i]  # 이 라인에서 리스트의 요소가 삭제되는 경우 인덱스 번호가 증가하지 않기 때문에\n",
    "    else:\n",
    "        i += 1  # i+=1 코드는 홀수가 아닌 경우에만 작동해야 함.\n",
    "print(numbers)\n",
    "\n",
    "# numbers의 인덱스 0 자리에 20이라는 값 삽입\n",
    "numbers.insert(0, 20)\n",
    "print(numbers)\n",
    "\n",
    "# numbers를 정렬해서 출력\n",
    "numbers.sort()\n",
    "print(numbers)"
   ]
  }
 ],
 "metadata": {
  "kernelspec": {
   "display_name": "Python (emma1)",
   "language": "python",
   "name": "myenv"
  },
  "language_info": {
   "codemirror_mode": {
    "name": "ipython",
    "version": 3
   },
   "file_extension": ".py",
   "mimetype": "text/x-python",
   "name": "python",
   "nbconvert_exporter": "python",
   "pygments_lexer": "ipython3",
   "version": "3.13.0"
  }
 },
 "nbformat": 4,
 "nbformat_minor": 2
}
