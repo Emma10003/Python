{
 "cells": [
  {
   "cell_type": "markdown",
   "metadata": {},
   "source": [
    "##### 내가 낸 문제"
   ]
  },
  {
   "cell_type": "code",
   "execution_count": null,
   "metadata": {},
   "outputs": [
    {
     "name": "stdout",
     "output_type": "stream",
     "text": [
      "30\n"
     ]
    }
   ],
   "source": [
    "class Person:\n",
    "    def __init__(self, name, age, height):\n",
    "        # 사람은 속성으로 이름, 나이, 키를 갖는다.\n",
    "        self.name = name\n",
    "        self.age = age\n",
    "        self.height = height\n",
    "\n",
    "    def __str__(self):\n",
    "        # 사람의 정보를 문자열로 리턴하는 메소드\n",
    "        return f\"이름: {self.name}\\n나이: {self.age}\\n키: {self.height}\"\n",
    "    \n",
    "    def aging(self, year):\n",
    "        # n년 뒤의 나이를 계산하여 리턴하는 메소드\n",
    "        self.future_age = self.age + year\n",
    "        return self.future_age\n",
    "\n",
    "\n",
    "person1 = Person(\"Emma\", 24, 168)\n",
    "print(person1.aging(6))"
   ]
  },
  {
   "cell_type": "markdown",
   "metadata": {},
   "source": [
    "안녕하세요? 유준이 팬티 빨간색"
   ]
  },
  {
   "cell_type": "markdown",
   "metadata": {},
   "source": [
    "asdfasdf\n",
    "ㅁㄴㅇㄹㅁㄴㅇㄹ"
   ]
  },
  {
   "cell_type": "markdown",
   "metadata": {},
   "source": []
  },
  {
   "cell_type": "markdown",
   "metadata": {},
   "source": []
  },
  {
   "cell_type": "markdown",
   "metadata": {},
   "source": [
    "\n",
    "\n"
   ]
  }
 ],
 "metadata": {
  "kernelspec": {
   "display_name": "base",
   "language": "python",
   "name": "python3"
  },
  "language_info": {
   "codemirror_mode": {
    "name": "ipython",
    "version": 3
   },
   "file_extension": ".py",
   "mimetype": "text/x-python",
   "name": "python",
   "nbconvert_exporter": "python",
   "pygments_lexer": "ipython3",
   "version": "3.12.4"
  }
 },
 "nbformat": 4,
 "nbformat_minor": 2
}
