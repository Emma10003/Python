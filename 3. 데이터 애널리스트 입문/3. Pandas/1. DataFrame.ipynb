{
 "cells": [
  {
   "cell_type": "markdown",
   "metadata": {},
   "source": [
    "## Pandas의 DataFrame\n",
    "```python\n",
    "2차원 형태의 데이터를 다루기 위한 자료형  \n",
    "열: column -> 각 데이터의 특징을 담음. (ex. 이름, 국적, 키...)\n",
    "행: row, index -> 레코드.  \n",
    "\n",
    "* Pandas는 Numpy를 기반으로 만들어졌기 때문에, Pandas를 사용하려면 Numpy가 설치되어 있어야 한다.\n",
    "```"
   ]
  },
  {
   "cell_type": "markdown",
   "metadata": {},
   "source": [
    "___\n",
    "#### pandas 함수들\n",
    "```python\n",
    "- 데이터프레임 생성\n",
    "pandas.DataFrame(리스트명) : 리스트를 데이터프레임 형태로 만듦.\n",
    "pandas.DataFrame(리스트명, column=['컬럼명1','컬럼명2',...], index=['행이름1', '행이름2',...])\n",
    "    : 데이터프레임을 생성할 때 열 이름과 행 이름을 지정함.(column 파라미터는 열 이름, index 파라미터는 행 이름.)\n",
    "\n",
    "- 데이터프레임 탐색\n",
    "변수명.columns : 데이터프레임의 컬럼명을 출력함.\n",
    "변수명.index : 데이터프레임의 행 이름을 출력함.\n",
    "변수명.dtypes : 데이터프레임의 각 열이 어떤 자료형인지 출력함.\n",
    "```\n",
    "___"
   ]
  },
  {
   "cell_type": "code",
   "execution_count": 1,
   "metadata": {},
   "outputs": [],
   "source": [
    "import pandas as pd"
   ]
  },
  {
   "cell_type": "code",
   "execution_count": 2,
   "metadata": {},
   "outputs": [
    {
     "data": {
      "text/html": [
       "<div>\n",
       "<style scoped>\n",
       "    .dataframe tbody tr th:only-of-type {\n",
       "        vertical-align: middle;\n",
       "    }\n",
       "\n",
       "    .dataframe tbody tr th {\n",
       "        vertical-align: top;\n",
       "    }\n",
       "\n",
       "    .dataframe thead th {\n",
       "        text-align: right;\n",
       "    }\n",
       "</style>\n",
       "<table border=\"1\" class=\"dataframe\">\n",
       "  <thead>\n",
       "    <tr style=\"text-align: right;\">\n",
       "      <th></th>\n",
       "      <th>name</th>\n",
       "      <th>english_score</th>\n",
       "      <th>math_score</th>\n",
       "    </tr>\n",
       "  </thead>\n",
       "  <tbody>\n",
       "    <tr>\n",
       "      <th>a</th>\n",
       "      <td>Emma</td>\n",
       "      <td>50</td>\n",
       "      <td>86</td>\n",
       "    </tr>\n",
       "    <tr>\n",
       "      <th>b</th>\n",
       "      <td>Sam</td>\n",
       "      <td>89</td>\n",
       "      <td>31</td>\n",
       "    </tr>\n",
       "    <tr>\n",
       "      <th>c</th>\n",
       "      <td>Sarah</td>\n",
       "      <td>68</td>\n",
       "      <td>91</td>\n",
       "    </tr>\n",
       "    <tr>\n",
       "      <th>d</th>\n",
       "      <td>Jane</td>\n",
       "      <td>88</td>\n",
       "      <td>75</td>\n",
       "    </tr>\n",
       "  </tbody>\n",
       "</table>\n",
       "</div>"
      ],
      "text/plain": [
       "    name  english_score  math_score\n",
       "a   Emma             50          86\n",
       "b    Sam             89          31\n",
       "c  Sarah             68          91\n",
       "d   Jane             88          75"
      ]
     },
     "execution_count": 2,
     "metadata": {},
     "output_type": "execute_result"
    }
   ],
   "source": [
    "two_dimensional_list = [['Emma', 50, 86], ['Sam', 89, 31], ['Sarah', 68, 91], ['Jane', 88, 75]]\n",
    "\n",
    "# 2차원 array 만들기\n",
    "my_df = pd.DataFrame(two_dimensional_list, columns=['name', 'english_score', 'math_score'],\n",
    "                     index=['a', 'b', 'c', 'd'])\n",
    "my_df   # column과 row에 이름을 따로 정해주지 않았으므로 0,1,2.. 이런 식으로 나옴."
   ]
  },
  {
   "cell_type": "code",
   "execution_count": null,
   "metadata": {},
   "outputs": [],
   "source": [
    "type(my_df)   # pandas.core.frame.DataFrame"
   ]
  },
  {
   "cell_type": "code",
   "execution_count": null,
   "metadata": {},
   "outputs": [
    {
     "name": "stdout",
     "output_type": "stream",
     "text": [
      "Index(['name', 'english_score', 'math_score'], dtype='object')\n",
      "Index(['a', 'b', 'c', 'd'], dtype='object')\n"
     ]
    }
   ],
   "source": [
    "# 행 이름과 열 이름 출력하기\n",
    "print(my_df.columns)   # Index(['name', 'english_score', 'math_score'], dtype='object')\n",
    "print(my_df.index)   # Index(['a', 'b', 'c', 'd'], dtype='object')"
   ]
  },
  {
   "cell_type": "code",
   "execution_count": null,
   "metadata": {},
   "outputs": [
    {
     "data": {
      "text/plain": [
       "name             object\n",
       "english_score     int64\n",
       "math_score        int64\n",
       "dtype: object"
      ]
     },
     "execution_count": 11,
     "metadata": {},
     "output_type": "execute_result"
    }
   ],
   "source": [
    "# 데이터프레임 컬럼의 자료형 보기\n",
    "my_df.dtypes"
   ]
  }
 ],
 "metadata": {
  "kernelspec": {
   "display_name": "base",
   "language": "python",
   "name": "python3"
  },
  "language_info": {
   "codemirror_mode": {
    "name": "ipython",
    "version": 3
   },
   "file_extension": ".py",
   "mimetype": "text/x-python",
   "name": "python",
   "nbconvert_exporter": "python",
   "pygments_lexer": "ipython3",
   "version": "3.12.4"
  }
 },
 "nbformat": 4,
 "nbformat_minor": 2
}
