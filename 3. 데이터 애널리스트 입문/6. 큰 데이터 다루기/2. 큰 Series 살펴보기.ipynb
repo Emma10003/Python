{
 "cells": [
  {
   "cell_type": "markdown",
   "metadata": {},
   "source": [
    "___\n",
    "#### 문법 정리\n",
    "```python\n",
    "1) 데이터프레임에서 일부 컬럼 Series로 출력\n",
    "- df['컬럼명']\n",
    "\n",
    "2) 특정 컬럼에서 중복되는 값을 제거하고 고유값만 보기\n",
    "- df['컬럼명'].unique()\n",
    "\n",
    "3) 각 고유값이 몇 번씩 등장하는지 보기\n",
    "- df['컬럼명'].value_counts()\n",
    "\n",
    "4) Series에서 describe 사용\n",
    "- df['컬럼명'].describe()\n",
    "    > 전체 데이터 개수, 고유값의 개수, 가장 상단에 있는 값, 데이터타입 등 출력.\n",
    "```\n",
    "___"
   ]
  },
  {
   "cell_type": "code",
   "execution_count": 1,
   "metadata": {},
   "outputs": [],
   "source": [
    "import pandas as pd"
   ]
  },
  {
   "cell_type": "code",
   "execution_count": 3,
   "metadata": {},
   "outputs": [],
   "source": [
    "laptops_df = pd.read_csv('../data/laptops.csv')"
   ]
  },
  {
   "cell_type": "code",
   "execution_count": 5,
   "metadata": {},
   "outputs": [
    {
     "data": {
      "text/plain": [
       "0       Dell\n",
       "1      Apple\n",
       "2      Apple\n",
       "3      Apple\n",
       "4      Apple\n",
       "       ...  \n",
       "162     Asus\n",
       "163     Asus\n",
       "164     Asus\n",
       "165     Asus\n",
       "166     Asus\n",
       "Name: brand, Length: 167, dtype: object"
      ]
     },
     "execution_count": 5,
     "metadata": {},
     "output_type": "execute_result"
    }
   ],
   "source": [
    "# 데이터프레임에서 일부 컬럼을 Series로 뽑기\n",
    "laptops_df['brand']"
   ]
  },
  {
   "cell_type": "code",
   "execution_count": 7,
   "metadata": {},
   "outputs": [
    {
     "data": {
      "text/plain": [
       "array(['Dell', 'Apple', 'Acer', 'HP', 'Lenovo', 'Alienware', 'Microsoft',\n",
       "       'Asus'], dtype=object)"
      ]
     },
     "execution_count": 7,
     "metadata": {},
     "output_type": "execute_result"
    }
   ],
   "source": [
    "# 중복 제외한 브랜드 출력\n",
    "laptops_df['brand'].unique()"
   ]
  },
  {
   "cell_type": "code",
   "execution_count": 8,
   "metadata": {},
   "outputs": [
    {
     "data": {
      "text/plain": [
       "brand\n",
       "HP           55\n",
       "Acer         35\n",
       "Dell         31\n",
       "Lenovo       18\n",
       "Asus          9\n",
       "Apple         7\n",
       "Alienware     6\n",
       "Microsoft     6\n",
       "Name: count, dtype: int64"
      ]
     },
     "execution_count": 8,
     "metadata": {},
     "output_type": "execute_result"
    }
   ],
   "source": [
    "# 각 브랜드가 몇 번씩 나오는지 출력\n",
    "laptops_df['brand'].value_counts()"
   ]
  },
  {
   "cell_type": "code",
   "execution_count": 9,
   "metadata": {},
   "outputs": [
    {
     "data": {
      "text/plain": [
       "count     167\n",
       "unique      8\n",
       "top        HP\n",
       "freq       55\n",
       "Name: brand, dtype: object"
      ]
     },
     "execution_count": 9,
     "metadata": {},
     "output_type": "execute_result"
    }
   ],
   "source": [
    "# Series에서 describe 적용\n",
    "laptops_df['brand'].describe()"
   ]
  }
 ],
 "metadata": {
  "kernelspec": {
   "display_name": "base",
   "language": "python",
   "name": "python3"
  },
  "language_info": {
   "codemirror_mode": {
    "name": "ipython",
    "version": 3
   },
   "file_extension": ".py",
   "mimetype": "text/x-python",
   "name": "python",
   "nbconvert_exporter": "python",
   "pygments_lexer": "ipython3",
   "version": "3.12.4"
  }
 },
 "nbformat": 4,
 "nbformat_minor": 2
}
