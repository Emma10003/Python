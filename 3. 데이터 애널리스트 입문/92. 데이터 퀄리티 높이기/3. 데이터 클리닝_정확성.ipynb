{
 "cells": [
  {
   "cell_type": "markdown",
   "metadata": {},
   "source": [
    "___\n",
    "#### 정확성\n",
    "```python\n",
    "우선 boxplot으로 이상치의 존재 여부 확인\n",
    "이상치 존재 시\n",
    ": 이상치 삭제\n",
    "1) 25%, 75% 지점 확인\n",
    "- 방법 1: df['컬럼명'].describe()\n",
    "- 방법 2: df['컬럼명'].quantile(0.25)\n",
    "            > 25% 지점을 출력해줌.\n",
    "            > 변수에 저장하고 사용하기 좋다.\n",
    "\n",
    "2) IQR 구하기\n",
    "- IQR은 Q3에서 Q1을 뺀 값.\n",
    "\n",
    "3) 이상치의 조건 설정하기.\n",
    "- (df['컬럼명'] < q1 - iqr*1.5) | (df['컬럼명'] > q3 + iqr*1.5)\n",
    "    > 컬럼의 데이터가 Q1-(IQR*1.5)보다 작거나, Q3+(IQR*1.5)보다 크면 이상치.\n",
    "    > Pandas Series.\n",
    "    > 해당 조건을 변수에 저장하고 인덱싱하면 이상치인 행을 출력할 수 있다.\n",
    "\n",
    "\n",
    "< 주로 사용하는 이상치 삭제 플로우 >\n",
    "q1 = df['컬럼명'].quantile(0.25)\n",
    "q3 = df['컬럼명'].quantile(0.75)\n",
    "iqr = q3 - q1\n",
    "\n",
    "# 이상치 설정\n",
    "condition = (df['컬럼명'] < q1 - iqr*1.5) | (df['컬럼명'] > q3 + iqr*1.5)\n",
    "df[condition]\n",
    "-> 해당 데이터가 잘못 입력됐다면 수정.\n",
    "-> 아예 이상한 데이터가 잘못 들어온 거면 삭제.\n",
    "\n",
    "# 삭제\n",
    "df[condition].index  # 조건에 해당하는, 즉 이상치인 행의 인덱스를 출력\n",
    "df.drop(df[condition].index, inplace=True)  # 행 삭제\n",
    "\n",
    "-> 다시 condition~df[condition] 이 코드 실행해서 제대로 된 건지 확인.\n",
    "-> boxplot 다시 그려서 이상치가 제대로 수정/삭제 되었는지 확인.\n",
    "```\n",
    "___"
   ]
  },
  {
   "cell_type": "code",
   "execution_count": 1,
   "metadata": {},
   "outputs": [],
   "source": [
    "import pandas as pd"
   ]
  },
  {
   "cell_type": "code",
   "execution_count": 2,
   "metadata": {},
   "outputs": [
    {
     "data": {
      "text/html": [
       "<div>\n",
       "<style scoped>\n",
       "    .dataframe tbody tr th:only-of-type {\n",
       "        vertical-align: middle;\n",
       "    }\n",
       "\n",
       "    .dataframe tbody tr th {\n",
       "        vertical-align: top;\n",
       "    }\n",
       "\n",
       "    .dataframe thead th {\n",
       "        text-align: right;\n",
       "    }\n",
       "</style>\n",
       "<table border=\"1\" class=\"dataframe\">\n",
       "  <thead>\n",
       "    <tr style=\"text-align: right;\">\n",
       "      <th></th>\n",
       "      <th>abv</th>\n",
       "      <th>ibu</th>\n",
       "      <th>id</th>\n",
       "      <th>name</th>\n",
       "      <th>style</th>\n",
       "      <th>brewery_id</th>\n",
       "      <th>ounces</th>\n",
       "    </tr>\n",
       "  </thead>\n",
       "  <tbody>\n",
       "    <tr>\n",
       "      <th>0</th>\n",
       "      <td>0.050</td>\n",
       "      <td>NaN</td>\n",
       "      <td>1436</td>\n",
       "      <td>Pub Beer</td>\n",
       "      <td>American Pale Lager</td>\n",
       "      <td>408</td>\n",
       "      <td>12.0</td>\n",
       "    </tr>\n",
       "    <tr>\n",
       "      <th>1</th>\n",
       "      <td>0.066</td>\n",
       "      <td>NaN</td>\n",
       "      <td>2265</td>\n",
       "      <td>Devil's Cup</td>\n",
       "      <td>American Pale Ale (APA)</td>\n",
       "      <td>177</td>\n",
       "      <td>12.0</td>\n",
       "    </tr>\n",
       "    <tr>\n",
       "      <th>2</th>\n",
       "      <td>0.071</td>\n",
       "      <td>NaN</td>\n",
       "      <td>2264</td>\n",
       "      <td>Rise of the Phoenix</td>\n",
       "      <td>American IPA</td>\n",
       "      <td>177</td>\n",
       "      <td>12.0</td>\n",
       "    </tr>\n",
       "    <tr>\n",
       "      <th>3</th>\n",
       "      <td>0.075</td>\n",
       "      <td>NaN</td>\n",
       "      <td>2262</td>\n",
       "      <td>Sex and Candy</td>\n",
       "      <td>American IPA</td>\n",
       "      <td>177</td>\n",
       "      <td>12.0</td>\n",
       "    </tr>\n",
       "    <tr>\n",
       "      <th>4</th>\n",
       "      <td>0.077</td>\n",
       "      <td>NaN</td>\n",
       "      <td>2261</td>\n",
       "      <td>Black Exodus</td>\n",
       "      <td>Oatmeal Stout</td>\n",
       "      <td>177</td>\n",
       "      <td>12.0</td>\n",
       "    </tr>\n",
       "  </tbody>\n",
       "</table>\n",
       "</div>"
      ],
      "text/plain": [
       "     abv  ibu    id                 name                    style  brewery_id  \\\n",
       "0  0.050  NaN  1436             Pub Beer      American Pale Lager         408   \n",
       "1  0.066  NaN  2265          Devil's Cup  American Pale Ale (APA)         177   \n",
       "2  0.071  NaN  2264  Rise of the Phoenix             American IPA         177   \n",
       "3  0.075  NaN  2262        Sex and Candy             American IPA         177   \n",
       "4  0.077  NaN  2261         Black Exodus            Oatmeal Stout         177   \n",
       "\n",
       "   ounces  \n",
       "0    12.0  \n",
       "1    12.0  \n",
       "2    12.0  \n",
       "3    12.0  \n",
       "4    12.0  "
      ]
     },
     "execution_count": 2,
     "metadata": {},
     "output_type": "execute_result"
    }
   ],
   "source": [
    "df = pd.read_csv('../data/beer.csv', index_col=0)\n",
    "df.head()"
   ]
  },
  {
   "cell_type": "code",
   "execution_count": 3,
   "metadata": {},
   "outputs": [
    {
     "data": {
      "text/plain": [
       "<Axes: >"
      ]
     },
     "execution_count": 3,
     "metadata": {},
     "output_type": "execute_result"
    },
    {
     "data": {
      "image/png": "[encoded data removed]",
      "text/plain": [
       "<Figure size 640x480 with 1 Axes>"
      ]
     },
     "metadata": {},
     "output_type": "display_data"
    }
   ],
   "source": [
    "# abv(알코올 도수)로 박스 플롯\n",
    "df.plot(kind='box', y='abv')"
   ]
  },
  {
   "cell_type": "markdown",
   "metadata": {},
   "source": [
    "이상치 기준 설정"
   ]
  },
  {
   "cell_type": "code",
   "execution_count": 4,
   "metadata": {},
   "outputs": [
    {
     "data": {
      "text/plain": [
       "count    2190.000000\n",
       "mean        0.060186\n",
       "std         0.117010\n",
       "min         0.032000\n",
       "25%         0.050000\n",
       "50%         0.055000\n",
       "75%         0.065000\n",
       "max         5.500000\n",
       "Name: abv, dtype: float64"
      ]
     },
     "execution_count": 4,
     "metadata": {},
     "output_type": "execute_result"
    }
   ],
   "source": [
    "# 25% 지점, 75% 지점 확인\n",
    "df['abv'].describe()"
   ]
  },
  {
   "cell_type": "code",
   "execution_count": 5,
   "metadata": {},
   "outputs": [],
   "source": [
    "q1 = df['abv'].quantile(0.25)\n",
    "q3 = df['abv'].quantile(0.75)\n",
    "iqr = q3 - q1"
   ]
  },
  {
   "cell_type": "code",
   "execution_count": 8,
   "metadata": {},
   "outputs": [],
   "source": [
    "# Q1 - (IQR*1.5) 미만이거나, Q3 + (IQR*1.5)를 초과 -> 이상치.\n",
    "condition = (df['abv'] < q1 - 1.5 * iqr) | (df['abv'] > q3 + 1.5 * iqr)  # Pandas Series"
   ]
  },
  {
   "cell_type": "code",
   "execution_count": 9,
   "metadata": {},
   "outputs": [
    {
     "data": {
      "text/html": [
       "<div>\n",
       "<style scoped>\n",
       "    .dataframe tbody tr th:only-of-type {\n",
       "        vertical-align: middle;\n",
       "    }\n",
       "\n",
       "    .dataframe tbody tr th {\n",
       "        vertical-align: top;\n",
       "    }\n",
       "\n",
       "    .dataframe thead th {\n",
       "        text-align: right;\n",
       "    }\n",
       "</style>\n",
       "<table border=\"1\" class=\"dataframe\">\n",
       "  <thead>\n",
       "    <tr style=\"text-align: right;\">\n",
       "      <th></th>\n",
       "      <th>abv</th>\n",
       "      <th>ibu</th>\n",
       "      <th>id</th>\n",
       "      <th>name</th>\n",
       "      <th>style</th>\n",
       "      <th>brewery_id</th>\n",
       "      <th>ounces</th>\n",
       "    </tr>\n",
       "  </thead>\n",
       "  <tbody>\n",
       "    <tr>\n",
       "      <th>963</th>\n",
       "      <td>0.172</td>\n",
       "      <td>NaN</td>\n",
       "      <td>3691</td>\n",
       "      <td>Chamisul Fresh</td>\n",
       "      <td>Soju</td>\n",
       "      <td>993</td>\n",
       "      <td>12.17</td>\n",
       "    </tr>\n",
       "    <tr>\n",
       "      <th>1856</th>\n",
       "      <td>0.400</td>\n",
       "      <td>NaN</td>\n",
       "      <td>3012</td>\n",
       "      <td>Grey Goose</td>\n",
       "      <td>Vodka</td>\n",
       "      <td>893</td>\n",
       "      <td>25.26</td>\n",
       "    </tr>\n",
       "    <tr>\n",
       "      <th>2250</th>\n",
       "      <td>5.500</td>\n",
       "      <td>40.0</td>\n",
       "      <td>145</td>\n",
       "      <td>Silverback Pale Ale</td>\n",
       "      <td>American Pale Ale (APA)</td>\n",
       "      <td>424</td>\n",
       "      <td>12.00</td>\n",
       "    </tr>\n",
       "  </tbody>\n",
       "</table>\n",
       "</div>"
      ],
      "text/plain": [
       "        abv   ibu    id                 name                    style  \\\n",
       "963   0.172   NaN  3691       Chamisul Fresh                     Soju   \n",
       "1856  0.400   NaN  3012           Grey Goose                    Vodka   \n",
       "2250  5.500  40.0   145  Silverback Pale Ale  American Pale Ale (APA)   \n",
       "\n",
       "      brewery_id  ounces  \n",
       "963          993   12.17  \n",
       "1856         893   25.26  \n",
       "2250         424   12.00  "
      ]
     },
     "execution_count": 9,
     "metadata": {},
     "output_type": "execute_result"
    }
   ],
   "source": [
    "df[condition]\n",
    "# 963, 1856: 소주인데 잘못 들어감. ~> 삭제\n",
    "# 2250: 맥주는 맞는데 데이터를 잘못 입력함. ~> 데이터를 수정만 해 주면 된다."
   ]
  },
  {
   "cell_type": "markdown",
   "metadata": {},
   "source": [
    "- 잘못 입력된 데이터 수정"
   ]
  },
  {
   "cell_type": "code",
   "execution_count": 10,
   "metadata": {},
   "outputs": [],
   "source": [
    "# 잘못 입력한 데이터 수정\n",
    "df.loc[2250, 'abv'] = 0.055"
   ]
  },
  {
   "cell_type": "code",
   "execution_count": 13,
   "metadata": {},
   "outputs": [
    {
     "data": {
      "text/html": [
       "<div>\n",
       "<style scoped>\n",
       "    .dataframe tbody tr th:only-of-type {\n",
       "        vertical-align: middle;\n",
       "    }\n",
       "\n",
       "    .dataframe tbody tr th {\n",
       "        vertical-align: top;\n",
       "    }\n",
       "\n",
       "    .dataframe thead th {\n",
       "        text-align: right;\n",
       "    }\n",
       "</style>\n",
       "<table border=\"1\" class=\"dataframe\">\n",
       "  <thead>\n",
       "    <tr style=\"text-align: right;\">\n",
       "      <th></th>\n",
       "      <th>abv</th>\n",
       "      <th>ibu</th>\n",
       "      <th>id</th>\n",
       "      <th>name</th>\n",
       "      <th>style</th>\n",
       "      <th>brewery_id</th>\n",
       "      <th>ounces</th>\n",
       "    </tr>\n",
       "  </thead>\n",
       "  <tbody>\n",
       "    <tr>\n",
       "      <th>963</th>\n",
       "      <td>0.172</td>\n",
       "      <td>NaN</td>\n",
       "      <td>3691</td>\n",
       "      <td>Chamisul Fresh</td>\n",
       "      <td>Soju</td>\n",
       "      <td>993</td>\n",
       "      <td>12.17</td>\n",
       "    </tr>\n",
       "    <tr>\n",
       "      <th>1856</th>\n",
       "      <td>0.400</td>\n",
       "      <td>NaN</td>\n",
       "      <td>3012</td>\n",
       "      <td>Grey Goose</td>\n",
       "      <td>Vodka</td>\n",
       "      <td>893</td>\n",
       "      <td>25.26</td>\n",
       "    </tr>\n",
       "  </tbody>\n",
       "</table>\n",
       "</div>"
      ],
      "text/plain": [
       "        abv  ibu    id            name  style  brewery_id  ounces\n",
       "963   0.172  NaN  3691  Chamisul Fresh   Soju         993   12.17\n",
       "1856  0.400  NaN  3012      Grey Goose  Vodka         893   25.26"
      ]
     },
     "execution_count": 13,
     "metadata": {},
     "output_type": "execute_result"
    }
   ],
   "source": [
    "# 수정 후 다시 확인\n",
    "condition = (df['abv'] < q1 - 1.5 * iqr) | (df['abv'] > q3 + 1.5 * iqr)\n",
    "df[condition]"
   ]
  },
  {
   "cell_type": "code",
   "execution_count": 14,
   "metadata": {},
   "outputs": [
    {
     "data": {
      "text/plain": [
       "Index([963, 1856], dtype='int64')"
      ]
     },
     "execution_count": 14,
     "metadata": {},
     "output_type": "execute_result"
    }
   ],
   "source": [
    "df[condition].index"
   ]
  },
  {
   "cell_type": "markdown",
   "metadata": {},
   "source": [
    "- 이상한 데이터 삭제"
   ]
  },
  {
   "cell_type": "code",
   "execution_count": 15,
   "metadata": {},
   "outputs": [],
   "source": [
    "# 이상한 데이터 삭제.\n",
    "df.drop(df[condition].index, inplace=True)"
   ]
  },
  {
   "cell_type": "code",
   "execution_count": 16,
   "metadata": {},
   "outputs": [
    {
     "data": {
      "text/html": [
       "<div>\n",
       "<style scoped>\n",
       "    .dataframe tbody tr th:only-of-type {\n",
       "        vertical-align: middle;\n",
       "    }\n",
       "\n",
       "    .dataframe tbody tr th {\n",
       "        vertical-align: top;\n",
       "    }\n",
       "\n",
       "    .dataframe thead th {\n",
       "        text-align: right;\n",
       "    }\n",
       "</style>\n",
       "<table border=\"1\" class=\"dataframe\">\n",
       "  <thead>\n",
       "    <tr style=\"text-align: right;\">\n",
       "      <th></th>\n",
       "      <th>abv</th>\n",
       "      <th>ibu</th>\n",
       "      <th>id</th>\n",
       "      <th>name</th>\n",
       "      <th>style</th>\n",
       "      <th>brewery_id</th>\n",
       "      <th>ounces</th>\n",
       "    </tr>\n",
       "  </thead>\n",
       "  <tbody>\n",
       "  </tbody>\n",
       "</table>\n",
       "</div>"
      ],
      "text/plain": [
       "Empty DataFrame\n",
       "Columns: [abv, ibu, id, name, style, brewery_id, ounces]\n",
       "Index: []"
      ]
     },
     "execution_count": 16,
     "metadata": {},
     "output_type": "execute_result"
    }
   ],
   "source": [
    "# 수정 후 다시 확인\n",
    "condition = (df['abv'] < q1 - 1.5 * iqr) | (df['abv'] > q3 + 1.5 * iqr)\n",
    "df[condition]"
   ]
  },
  {
   "cell_type": "code",
   "execution_count": 17,
   "metadata": {},
   "outputs": [
    {
     "data": {
      "text/plain": [
       "<Axes: >"
      ]
     },
     "execution_count": 17,
     "metadata": {},
     "output_type": "execute_result"
    },
    {
     "data": {
      "image/png": "[encoded data removed]",
      "text/plain": [
       "<Figure size 640x480 with 1 Axes>"
      ]
     },
     "metadata": {},
     "output_type": "display_data"
    }
   ],
   "source": [
    "df.plot(kind='box', y='abv')"
   ]
  }
 ],
 "metadata": {
  "kernelspec": {
   "display_name": "base",
   "language": "python",
   "name": "python3"
  },
  "language_info": {
   "codemirror_mode": {
    "name": "ipython",
    "version": 3
   },
   "file_extension": ".py",
   "mimetype": "text/x-python",
   "name": "python",
   "nbconvert_exporter": "python",
   "pygments_lexer": "ipython3",
   "version": "3.12.4"
  }
 },
 "nbformat": 4,
 "nbformat_minor": 2
}
