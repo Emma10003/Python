{
 "cells": [
  {
   "cell_type": "markdown",
   "metadata": {},
   "source": [
    "## Numpy 불린 연산"
   ]
  },
  {
   "cell_type": "markdown",
   "metadata": {},
   "source": [
    "___\n",
    "#### numpy 함수들\n",
    "```python\n",
    "numpy.where(배열명) : True인 요소의 인덱스 번호를 리턴  \n",
    " -> 이 함수를 인덱싱에 활용할 수 있다!\n",
    "```\n",
    "___"
   ]
  },
  {
   "cell_type": "code",
   "execution_count": 2,
   "metadata": {},
   "outputs": [],
   "source": [
    "import numpy as np"
   ]
  },
  {
   "cell_type": "code",
   "execution_count": 4,
   "metadata": {},
   "outputs": [],
   "source": [
    "array1 = np.array([2, 3, 5, 7, 11, 13, 17, 19, 23, 29, 31])"
   ]
  },
  {
   "cell_type": "code",
   "execution_count": null,
   "metadata": {},
   "outputs": [],
   "source": [
    "# array1의 값이 4보다 큰가?  ~>  4보다 큰 요소의 자리에는 True, 작은 자리에는 False를 반환.\n",
    "array1 > 4   # array([False, False,  True,  True,  True,  True,  True,  True,  True, True,  True])"
   ]
  },
  {
   "cell_type": "code",
   "execution_count": null,
   "metadata": {},
   "outputs": [],
   "source": [
    "# array1의 값이 짝수인가?\n",
    "array1 % 2 == 0"
   ]
  },
  {
   "cell_type": "code",
   "execution_count": null,
   "metadata": {},
   "outputs": [],
   "source": [
    "booleans = np.array([True, True, False, True, True, False, True, True, True, False, True])\n",
    "np.where(booleans)   # 배열에서 True가 담긴 인덱스 번호만 리턴."
   ]
  },
  {
   "cell_type": "code",
   "execution_count": null,
   "metadata": {},
   "outputs": [],
   "source": [
    "# array1에서 4보다 큰 값이 있는 요소의 인덱스를 받아옴.\n",
    "filter = np.where(array1 > 4)\n",
    "array1[filter]   # 인덱싱을 사용해서 filter 안의 값을 인덱스로 하는 값들을 받아옴.\n",
    "                 # 즉, 배열에서 4보다 큰 값들을 받아옴."
   ]
  },
  {
   "cell_type": "markdown",
   "metadata": {},
   "source": [
    "### 문제풀이"
   ]
  },
  {
   "cell_type": "markdown",
   "metadata": {},
   "source": [
    "```python\n",
    "성공적이지 않은 날의 매출만 골라서 보고 싶습니다. 20만 엔 이하의 매출만 담긴 numpy array를 출력해주세요.  \n",
    "반복문은 사용하면 안 됩니다!\n",
    "```"
   ]
  },
  {
   "cell_type": "code",
   "execution_count": null,
   "metadata": {},
   "outputs": [],
   "source": [
    "import numpy as np\n",
    "\n",
    "revenue_in_yen = [\n",
    "    300000, 340000, 320000, 360000,\n",
    "    440000, 140000, 180000, 340000,\n",
    "    330000, 290000, 280000, 380000,\n",
    "    170000, 140000, 230000, 390000,\n",
    "    400000, 350000, 380000, 150000,\n",
    "    110000, 240000, 380000, 380000,\n",
    "    340000, 420000, 150000, 130000,\n",
    "    360000, 320000, 250000\n",
    "]\n",
    "\n",
    "revenue_in_yen = np.array(revenue_in_yen)\n",
    "filter = np.where(revenue_in_yen <= 200000)\n",
    "bad_days_revenue = revenue_in_yen[filter]\n",
    "\n",
    "# 테스트 코드\n",
    "bad_days_revenue"
   ]
  }
 ],
 "metadata": {
  "kernelspec": {
   "display_name": "base",
   "language": "python",
   "name": "python3"
  },
  "language_info": {
   "codemirror_mode": {
    "name": "ipython",
    "version": 3
   },
   "file_extension": ".py",
   "mimetype": "text/x-python",
   "name": "python",
   "nbconvert_exporter": "python",
   "pygments_lexer": "ipython3",
   "version": "3.12.4"
  }
 },
 "nbformat": 4,
 "nbformat_minor": 2
}
