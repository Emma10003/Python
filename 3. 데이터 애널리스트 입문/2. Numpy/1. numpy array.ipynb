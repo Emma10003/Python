{
 "cells": [
  {
   "cell_type": "markdown",
   "metadata": {},
   "source": [
    "## Numpy"
   ]
  },
  {
   "cell_type": "code",
   "execution_count": null,
   "metadata": {},
   "outputs": [],
   "source": [
    "import numpy   # numpy 모듈 불러오기"
   ]
  },
  {
   "cell_type": "markdown",
   "metadata": {},
   "source": [
    "___\n",
    "#### numpy 함수들\n",
    "```python\n",
    "numpy.array([요소1, 요소2, 요소3, ...]) : numpy array(배열)이 리턴됨  \n",
    "numpy.full(n, m) : 모든 값이 같은 배열 생성 -- m을 n번 반복한 배열이 리턴됨  \n",
    "numpy.zeros(n, dtype=int) : 모든 값이 0인 배열 생성 -- 0이 n개 반복되는 배열이 리턴됨.  \n",
    "numpy.ones(n, dtype=int) : 모든 값이 1인 배열 생성 -- 1이 n개 반복되는 배열이 리턴됨.  \n",
    "numpy.random.random(n) : 랜덤한 값으로 배열 생성 -- 랜덤한 값이 n개 들어있는 배열이 리턴됨.  \n",
    "\n",
    "[연속된 값들이 담긴 numpy array 생성]\n",
    "numpy.arange(n) : <파라미터가 1개인 경우> 0부터 n-1까지의 값이 담긴 배열이 리턴됨.\n",
    "numpy.arange(n, m) : <파라미터가 2개인 경우> n부터 m-1까지의 값이 담긴 배열이 리턴됨.\n",
    "numpy.arange(n, m, s) : <파라미터가 3개인 경우> n부터 m-1까지의 값들 중 간격이 s인 값들이 담긴 배열이 리턴됨.\n",
    "\n",
    "\n",
    "배열.shape : 배열의 행과 열의 개수 출력\n",
    "배열.size : 배열에 들어있는 요소의 개수 출력\n",
    "```\n",
    "___"
   ]
  },
  {
   "cell_type": "markdown",
   "metadata": {},
   "source": [
    "### N차원 배열  \n",
    "numpy.ndarray의 ndarray: n-dimension array, 즉 n차원 배열.  "
   ]
  },
  {
   "cell_type": "code",
   "execution_count": null,
   "metadata": {},
   "outputs": [],
   "source": [
    "array1 = numpy.array([2, 3, 5, 7, 11, 13, 17, 19, 23, 29, 31])\n",
    "\n",
    "print(array1)\n",
    "print(type(array1))   # numpy.ndarray\n",
    "print(array1.shape)   # (11, )\n",
    "print(array1.size)   # 11"
   ]
  },
  {
   "cell_type": "code",
   "execution_count": null,
   "metadata": {},
   "outputs": [],
   "source": [
    "# 리스트 안에 또 리스트가 있는 array2 : 2차원 array\n",
    "array2 = numpy.array([[1, 2, 3, 4], [5, 6, 7, 8], [9, 10, 11, 12]])\n",
    "\n",
    "print(array2)   # array1과는 다르게 여러 행으로 나옴.\n",
    "print(type(array1))\n",
    "print(array2.shape)   # (3, 4): 행이 3개고 열이 4개.\n",
    "print(array2.size)   # 12"
   ]
  },
  {
   "cell_type": "markdown",
   "metadata": {},
   "source": [
    "### 모듈 별명 지어주기 (aliasing)"
   ]
  },
  {
   "cell_type": "markdown",
   "metadata": {},
   "source": [
    "```python\n",
    "import numpy as np\n",
    ": numpy 모듈을 np라는 이름으로 불러옴\n",
    "\n",
    "import matplotlib.pyplot as plt\n",
    ": matplotlib 모듈 안에 있는 pypot 모듈을 plt라는 이름으로 불러옴\n",
    "```"
   ]
  },
  {
   "cell_type": "markdown",
   "metadata": {},
   "source": []
  }
 ],
 "metadata": {
  "kernelspec": {
   "display_name": "base",
   "language": "python",
   "name": "python3"
  },
  "language_info": {
   "codemirror_mode": {
    "name": "ipython",
    "version": 3
   },
   "file_extension": ".py",
   "mimetype": "text/x-python",
   "name": "python",
   "nbconvert_exporter": "python",
   "pygments_lexer": "ipython3",
   "version": "3.12.4"
  }
 },
 "nbformat": 4,
 "nbformat_minor": 2
}
