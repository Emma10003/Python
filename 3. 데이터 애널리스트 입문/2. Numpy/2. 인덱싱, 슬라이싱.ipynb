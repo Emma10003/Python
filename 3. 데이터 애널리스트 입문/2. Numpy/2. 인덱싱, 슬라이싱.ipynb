{
 "cells": [
  {
   "cell_type": "markdown",
   "metadata": {},
   "source": [
    "## 인덱싱"
   ]
  },
  {
   "cell_type": "code",
   "execution_count": 1,
   "metadata": {},
   "outputs": [],
   "source": [
    "import numpy as np"
   ]
  },
  {
   "cell_type": "code",
   "execution_count": null,
   "metadata": {},
   "outputs": [],
   "source": [
    "array1 = np.array([2, 3, 5, 7, 11, 13, 17, 19, 23, 29, 31])"
   ]
  },
  {
   "cell_type": "code",
   "execution_count": null,
   "metadata": {},
   "outputs": [],
   "source": [
    "# 인덱싱 방법 1\n",
    "print(array1[0])   # 2\n",
    "print(array1[2])   # 5\n",
    "print(array1[-1])   # 31"
   ]
  },
  {
   "cell_type": "code",
   "execution_count": null,
   "metadata": {},
   "outputs": [],
   "source": [
    "# 인덱싱 방법 2\n",
    "    # 파이썬 인덱싱\n",
    "array1[[1, 3, 4]]   # array([3, 7, 11]) : 1번 인덱스에 있는 3, 3번 인덱스에 있는 7, 4번 인덱스에 있는 11.\n",
    "    \n",
    "    # numpy 인덱싱\n",
    "array2 = np.array([2, 1, 3])\n",
    "array1[array2]   # array([5, 3, 7]) : array2 배열에 저장된 리스트가 array1의 인덱스 역할을 함."
   ]
  },
  {
   "cell_type": "markdown",
   "metadata": {},
   "source": [
    "## 슬라이싱"
   ]
  },
  {
   "cell_type": "code",
   "execution_count": null,
   "metadata": {},
   "outputs": [],
   "source": [
    "array1[2:7]   # array([5, 7, 11, 13, 17])\n",
    "array1[:7]   # array([ 2,  3,  5,  7, 11, 13, 17])\n",
    "array1[2:]   # array1[2:7]   # array([5, 7, 11, 13, 17])\n",
    "array1[2:11:2]   # array([ 5, 11, 17, 23, 31])"
   ]
  }
 ],
 "metadata": {
  "kernelspec": {
   "display_name": "base",
   "language": "python",
   "name": "python3"
  },
  "language_info": {
   "codemirror_mode": {
    "name": "ipython",
    "version": 3
   },
   "file_extension": ".py",
   "mimetype": "text/x-python",
   "name": "python",
   "nbconvert_exporter": "python",
   "pygments_lexer": "ipython3",
   "version": "3.12.4"
  }
 },
 "nbformat": 4,
 "nbformat_minor": 2
}
