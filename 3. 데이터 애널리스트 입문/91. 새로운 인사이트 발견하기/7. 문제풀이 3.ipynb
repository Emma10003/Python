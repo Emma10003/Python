{
 "cells": [
  {
   "cell_type": "markdown",
   "metadata": {},
   "source": [
    "### 박물관이 살아 있다 II"
   ]
  },
  {
   "cell_type": "markdown",
   "metadata": {},
   "source": [
    "- '지역번호' 컬럼을 '지역명'으로 변경, 규칙에 따라 지역 넣기."
   ]
  },
  {
   "cell_type": "code",
   "execution_count": 14,
   "metadata": {},
   "outputs": [
    {
     "data": {
      "text/html": [
       "<div>\n",
       "<style scoped>\n",
       "    .dataframe tbody tr th:only-of-type {\n",
       "        vertical-align: middle;\n",
       "    }\n",
       "\n",
       "    .dataframe tbody tr th {\n",
       "        vertical-align: top;\n",
       "    }\n",
       "\n",
       "    .dataframe thead th {\n",
       "        text-align: right;\n",
       "    }\n",
       "</style>\n",
       "<table border=\"1\" class=\"dataframe\">\n",
       "  <thead>\n",
       "    <tr style=\"text-align: right;\">\n",
       "      <th></th>\n",
       "      <th>시설명</th>\n",
       "      <th>어른관람료</th>\n",
       "      <th>운영기관전화번호</th>\n",
       "      <th>분류</th>\n",
       "      <th>지역번호</th>\n",
       "    </tr>\n",
       "  </thead>\n",
       "  <tbody>\n",
       "    <tr>\n",
       "      <th>0</th>\n",
       "      <td>필암서원 유물전시관</td>\n",
       "      <td>500</td>\n",
       "      <td>061-390-7224</td>\n",
       "      <td>일반</td>\n",
       "      <td>061</td>\n",
       "    </tr>\n",
       "    <tr>\n",
       "      <th>1</th>\n",
       "      <td>원주역사박물관</td>\n",
       "      <td>0</td>\n",
       "      <td>033-737-4371</td>\n",
       "      <td>일반</td>\n",
       "      <td>033</td>\n",
       "    </tr>\n",
       "    <tr>\n",
       "      <th>2</th>\n",
       "      <td>뮤지엄산미술관</td>\n",
       "      <td>15000</td>\n",
       "      <td>033-730-9000</td>\n",
       "      <td>일반</td>\n",
       "      <td>033</td>\n",
       "    </tr>\n",
       "    <tr>\n",
       "      <th>3</th>\n",
       "      <td>오랜미래신화미술관</td>\n",
       "      <td>0</td>\n",
       "      <td>033-746-5256</td>\n",
       "      <td>일반</td>\n",
       "      <td>033</td>\n",
       "    </tr>\n",
       "    <tr>\n",
       "      <th>4</th>\n",
       "      <td>연세대학교 원주박물관</td>\n",
       "      <td>0</td>\n",
       "      <td>033-760-2731</td>\n",
       "      <td>대학</td>\n",
       "      <td>033</td>\n",
       "    </tr>\n",
       "  </tbody>\n",
       "</table>\n",
       "</div>"
      ],
      "text/plain": [
       "           시설명  어른관람료      운영기관전화번호  분류 지역번호\n",
       "0   필암서원 유물전시관    500  061-390-7224  일반  061\n",
       "1      원주역사박물관      0  033-737-4371  일반  033\n",
       "2      뮤지엄산미술관  15000  033-730-9000  일반  033\n",
       "3    오랜미래신화미술관      0  033-746-5256  일반  033\n",
       "4  연세대학교 원주박물관      0  033-760-2731  대학  033"
      ]
     },
     "execution_count": 14,
     "metadata": {},
     "output_type": "execute_result"
    }
   ],
   "source": [
    "import pandas as pd\n",
    "\n",
    "df = pd.read_csv('../data/museum_3.csv', dtype={'지역번호':str})   # 지역번호를 str타입으로 변경.\n",
    "df.head()"
   ]
  },
  {
   "cell_type": "code",
   "execution_count": 15,
   "metadata": {},
   "outputs": [],
   "source": [
    "local_name = {\n",
    "    '02': '서울시',\n",
    "    '031': '경기도',\n",
    "    '032': '경기도',\n",
    "    '033': '강원도',\n",
    "    '041': '충청도',\n",
    "    '042': '충청도',\n",
    "    '043': '충청도',\n",
    "    '044': '충청도',\n",
    "    '051': '부산시',\n",
    "    '052': '경상도',\n",
    "    '053': '경상도',\n",
    "    '054': '경상도',\n",
    "    '055': '경상도',\n",
    "    '061': '전라도',\n",
    "    '062': '전라도',\n",
    "    '063': '전라도',\n",
    "    '064': '제주도',\n",
    "    '1577': '기타',\n",
    "    '070': '기타'\n",
    "}"
   ]
  },
  {
   "cell_type": "code",
   "execution_count": 17,
   "metadata": {},
   "outputs": [
    {
     "data": {
      "text/html": [
       "<div>\n",
       "<style scoped>\n",
       "    .dataframe tbody tr th:only-of-type {\n",
       "        vertical-align: middle;\n",
       "    }\n",
       "\n",
       "    .dataframe tbody tr th {\n",
       "        vertical-align: top;\n",
       "    }\n",
       "\n",
       "    .dataframe thead th {\n",
       "        text-align: right;\n",
       "    }\n",
       "</style>\n",
       "<table border=\"1\" class=\"dataframe\">\n",
       "  <thead>\n",
       "    <tr style=\"text-align: right;\">\n",
       "      <th></th>\n",
       "      <th>시설명</th>\n",
       "      <th>어른관람료</th>\n",
       "      <th>운영기관전화번호</th>\n",
       "      <th>분류</th>\n",
       "      <th>지역명</th>\n",
       "    </tr>\n",
       "  </thead>\n",
       "  <tbody>\n",
       "    <tr>\n",
       "      <th>0</th>\n",
       "      <td>필암서원 유물전시관</td>\n",
       "      <td>500</td>\n",
       "      <td>061-390-7224</td>\n",
       "      <td>일반</td>\n",
       "      <td>전라도</td>\n",
       "    </tr>\n",
       "    <tr>\n",
       "      <th>1</th>\n",
       "      <td>원주역사박물관</td>\n",
       "      <td>0</td>\n",
       "      <td>033-737-4371</td>\n",
       "      <td>일반</td>\n",
       "      <td>강원도</td>\n",
       "    </tr>\n",
       "    <tr>\n",
       "      <th>2</th>\n",
       "      <td>뮤지엄산미술관</td>\n",
       "      <td>15000</td>\n",
       "      <td>033-730-9000</td>\n",
       "      <td>일반</td>\n",
       "      <td>강원도</td>\n",
       "    </tr>\n",
       "    <tr>\n",
       "      <th>3</th>\n",
       "      <td>오랜미래신화미술관</td>\n",
       "      <td>0</td>\n",
       "      <td>033-746-5256</td>\n",
       "      <td>일반</td>\n",
       "      <td>강원도</td>\n",
       "    </tr>\n",
       "    <tr>\n",
       "      <th>4</th>\n",
       "      <td>연세대학교 원주박물관</td>\n",
       "      <td>0</td>\n",
       "      <td>033-760-2731</td>\n",
       "      <td>대학</td>\n",
       "      <td>강원도</td>\n",
       "    </tr>\n",
       "  </tbody>\n",
       "</table>\n",
       "</div>"
      ],
      "text/plain": [
       "           시설명  어른관람료      운영기관전화번호  분류  지역명\n",
       "0   필암서원 유물전시관    500  061-390-7224  일반  전라도\n",
       "1      원주역사박물관      0  033-737-4371  일반  강원도\n",
       "2      뮤지엄산미술관  15000  033-730-9000  일반  강원도\n",
       "3    오랜미래신화미술관      0  033-746-5256  일반  강원도\n",
       "4  연세대학교 원주박물관      0  033-760-2731  대학  강원도"
      ]
     },
     "execution_count": 17,
     "metadata": {},
     "output_type": "execute_result"
    }
   ],
   "source": [
    "# 컬럼 이름 변경\n",
    "df.rename(columns={'지역번호': '지역명'}, inplace=True)\n",
    "\n",
    "# 지역명으로 데이터 변경\n",
    "df['지역명'] = df['지역명'].map(local_name)\n",
    "\n",
    "df.head()"
   ]
  }
 ],
 "metadata": {
  "kernelspec": {
   "display_name": "base",
   "language": "python",
   "name": "python3"
  },
  "language_info": {
   "codemirror_mode": {
    "name": "ipython",
    "version": 3
   },
   "file_extension": ".py",
   "mimetype": "text/x-python",
   "name": "python",
   "nbconvert_exporter": "python",
   "pygments_lexer": "ipython3",
   "version": "3.12.4"
  }
 },
 "nbformat": 4,
 "nbformat_minor": 2
}
