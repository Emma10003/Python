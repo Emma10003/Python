{
 "cells": [
  {
   "cell_type": "markdown",
   "metadata": {},
   "source": [
    "___\n",
    "#### PDF\n",
    "```python\n",
    ": Probability Density Function, 확률밀도함수\n",
    "v 데이터의 분포를 보여줌.\n",
    "v 특정 구간의 확률 = 해당 구간의 그래프 면적\n",
    "v 전체 구간의 확률은 1.\n",
    "v 적분을 활용해서 그래프 면적을 구함.\n",
    "- 특정 범위에 대해서 계산.\n",
    "- 만약 특정 값의 확률을 구한다면 그건 0 -> 선은 면적이 0이기 때문!\n",
    "```\n",
    "___"
   ]
  }
 ],
 "metadata": {
  "language_info": {
   "name": "python"
  }
 },
 "nbformat": 4,
 "nbformat_minor": 2
}
