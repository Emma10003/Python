{
 "cells": [
  {
   "cell_type": "markdown",
   "metadata": {},
   "source": [
    "___\n",
    "#### 파이 차트\n",
    "```python\n",
    "* 용도: 비율을 표현하기 위해 사용.\n",
    "1) 파이 그래프 그리기\n",
    "- df['컬럼명'].plot(kind='pie')\n",
    "```\n",
    "___"
   ]
  },
  {
   "cell_type": "code",
   "execution_count": 1,
   "metadata": {},
   "outputs": [],
   "source": [
    "%matplotlib inline\n",
    "import pandas as pd"
   ]
  },
  {
   "cell_type": "code",
   "execution_count": 2,
   "metadata": {},
   "outputs": [
    {
     "data": {
      "text/html": [
       "<div>\n",
       "<style scoped>\n",
       "    .dataframe tbody tr th:only-of-type {\n",
       "        vertical-align: middle;\n",
       "    }\n",
       "\n",
       "    .dataframe tbody tr th {\n",
       "        vertical-align: top;\n",
       "    }\n",
       "\n",
       "    .dataframe thead th {\n",
       "        text-align: right;\n",
       "    }\n",
       "</style>\n",
       "<table border=\"1\" class=\"dataframe\">\n",
       "  <thead>\n",
       "    <tr style=\"text-align: right;\">\n",
       "      <th></th>\n",
       "      <th>KBS</th>\n",
       "      <th>MBC</th>\n",
       "      <th>SBS</th>\n",
       "      <th>TV CHOSUN</th>\n",
       "      <th>JTBC</th>\n",
       "      <th>Channel A</th>\n",
       "      <th>MBN</th>\n",
       "    </tr>\n",
       "  </thead>\n",
       "  <tbody>\n",
       "    <tr>\n",
       "      <th>2011</th>\n",
       "      <td>35.951</td>\n",
       "      <td>18.374</td>\n",
       "      <td>11.173</td>\n",
       "      <td>9.102</td>\n",
       "      <td>7.380</td>\n",
       "      <td>3.771</td>\n",
       "      <td>2.809</td>\n",
       "    </tr>\n",
       "    <tr>\n",
       "      <th>2012</th>\n",
       "      <td>36.163</td>\n",
       "      <td>16.022</td>\n",
       "      <td>11.408</td>\n",
       "      <td>8.785</td>\n",
       "      <td>7.878</td>\n",
       "      <td>5.874</td>\n",
       "      <td>3.310</td>\n",
       "    </tr>\n",
       "    <tr>\n",
       "      <th>2013</th>\n",
       "      <td>31.989</td>\n",
       "      <td>16.778</td>\n",
       "      <td>9.673</td>\n",
       "      <td>9.026</td>\n",
       "      <td>7.810</td>\n",
       "      <td>5.350</td>\n",
       "      <td>3.825</td>\n",
       "    </tr>\n",
       "    <tr>\n",
       "      <th>2014</th>\n",
       "      <td>31.210</td>\n",
       "      <td>15.663</td>\n",
       "      <td>9.108</td>\n",
       "      <td>9.440</td>\n",
       "      <td>7.490</td>\n",
       "      <td>5.776</td>\n",
       "      <td>4.572</td>\n",
       "    </tr>\n",
       "    <tr>\n",
       "      <th>2015</th>\n",
       "      <td>27.777</td>\n",
       "      <td>16.573</td>\n",
       "      <td>9.099</td>\n",
       "      <td>9.940</td>\n",
       "      <td>7.267</td>\n",
       "      <td>6.678</td>\n",
       "      <td>5.520</td>\n",
       "    </tr>\n",
       "    <tr>\n",
       "      <th>2016</th>\n",
       "      <td>27.583</td>\n",
       "      <td>14.982</td>\n",
       "      <td>8.669</td>\n",
       "      <td>9.829</td>\n",
       "      <td>7.727</td>\n",
       "      <td>6.624</td>\n",
       "      <td>5.477</td>\n",
       "    </tr>\n",
       "    <tr>\n",
       "      <th>2017</th>\n",
       "      <td>26.890</td>\n",
       "      <td>12.465</td>\n",
       "      <td>8.661</td>\n",
       "      <td>8.886</td>\n",
       "      <td>9.453</td>\n",
       "      <td>6.056</td>\n",
       "      <td>5.215</td>\n",
       "    </tr>\n",
       "  </tbody>\n",
       "</table>\n",
       "</div>"
      ],
      "text/plain": [
       "         KBS     MBC     SBS  TV CHOSUN   JTBC  Channel A    MBN\n",
       "2011  35.951  18.374  11.173      9.102  7.380      3.771  2.809\n",
       "2012  36.163  16.022  11.408      8.785  7.878      5.874  3.310\n",
       "2013  31.989  16.778   9.673      9.026  7.810      5.350  3.825\n",
       "2014  31.210  15.663   9.108      9.440  7.490      5.776  4.572\n",
       "2015  27.777  16.573   9.099      9.940  7.267      6.678  5.520\n",
       "2016  27.583  14.982   8.669      9.829  7.727      6.624  5.477\n",
       "2017  26.890  12.465   8.661      8.886  9.453      6.056  5.215"
      ]
     },
     "execution_count": 2,
     "metadata": {},
     "output_type": "execute_result"
    }
   ],
   "source": [
    "df = pd.read_csv('../data/broadcast.csv', index_col=0)\n",
    "df"
   ]
  },
  {
   "cell_type": "code",
   "execution_count": 4,
   "metadata": {},
   "outputs": [
    {
     "data": {
      "text/plain": [
       "<Axes: ylabel='2017'>"
      ]
     },
     "execution_count": 4,
     "metadata": {},
     "output_type": "execute_result"
    },
    {
     "data": {
      "image/png": "[encoded data removed]",
      "text/plain": [
       "<Figure size 640x480 with 1 Axes>"
      ]
     },
     "metadata": {},
     "output_type": "display_data"
    }
   ],
   "source": [
    "# 2017년의 각 방송사 시청률\n",
    "df.loc[2017]   # Pandas Series\n",
    "df.loc[2017].plot(kind='pie')"
   ]
  }
 ],
 "metadata": {
  "kernelspec": {
   "display_name": "base",
   "language": "python",
   "name": "python3"
  },
  "language_info": {
   "codemirror_mode": {
    "name": "ipython",
    "version": 3
   },
   "file_extension": ".py",
   "mimetype": "text/x-python",
   "name": "python",
   "nbconvert_exporter": "python",
   "pygments_lexer": "ipython3",
   "version": "3.12.4"
  }
 },
 "nbformat": 4,
 "nbformat_minor": 2
}
